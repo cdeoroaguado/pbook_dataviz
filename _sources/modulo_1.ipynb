{
 "cells": [
  {
   "cell_type": "markdown",
   "metadata": {
    "id": "2iIaum8R7TfC"
   },
   "source": [
    "# **Módulo 1: Introducción a la ciencia de datos con Python**"
   ]
  },
  {
   "cell_type": "markdown",
   "metadata": {
    "id": "jqveKm6fBPrp"
   },
   "source": [
    "## **1.1 Python**\n",
    "\n",
    "### **1.1.1 Introducción a Python**\n",
    "\n",
    "Python fue creado por __Guido van Rossum__, un programador holandés, a finales de los años 80 y principios de los 90. La primera versión de Python, la 0.9.0, fue lanzada en 1991. Guido van Rossum nombró el lenguaje en honor al grupo de comedia británico Monty Python, del cual era un gran fan. \n",
    "\n",
    "__Python se creó con el objetivo de ser un lenguaje fácil de leer y escribir, con una sintaxis clara y concisa__. A lo largo de los años, ha evolucionado y ganado popularidad hasta convertirse en uno de los lenguajes de programación más utilizados en el mundo. \n",
    "\n",
    "Python es un lenguaje de programación de alto nivel y de gran utilidad para la construcción de cualquier clase de soluciones informáticas.\n",
    "\n",
    "Algunas características que tiene python:\n",
    "\n",
    "* **Legibilidad**: \n",
    "Python utiliza una sintaxis clara y sencilla, lo que facilita la lectura y comprensión del código. Utiliza indentación (espacios o tabulaciones) para delimitar bloques de código, lo que promueve un estilo de programación estructurado y legible.\n",
    "\n",
    "*   **Lenguaje interpretado**: Python es un lenguaje interpretado, diferenciándolo de otros lenguajes de programación de alto nivel como Java o C++. Al ser un lenguaje interpretado, no necesita ser compilado para ejecutar las instrucciones escritas. Por lo tanto, su ejecución no implica llevarlo a código de máquina.\n",
    "\n",
    "*   **Código abierto, multiplataforma y multiparadigma**:\n",
    "Python es un lenguaje de programación de código abierto; es decir, puede ser utilizado por cualquier persona gracias a las licencias gratuitas. Además, es multiplataforma, ya que puede ser adaptado para diferentes contextos y sistemas operativos. También, se aplica en muchos paradigmas de programación, tales como programación imperativa y la orientada a objetos. Así mismo, cuenta con una sintaxis y legibilidad que lo hacen muy sencillo y cercano al lenguaje natural.\n",
    "\n",
    "* **Tipado dinámico**:\n",
    "Python es un lenguaje de tipado dinámico. Esto quiere decir que, cuando se utiliza una variable, no es necesario describir de forma explícita el tipo de datos, ya que la variable se adecúa a la forma en que se utilice durante la escritura del programa. La variable puede tomar distintos tipos de valores durante su ejecución; por ejemplo, la variable var puede tomar cuatro tipos diferentes (`int`, `str`, `bool` y `float`), como se ve en el ejemplo siguiente:\n",
    "\n",
    "\n",
    "\n",
    "\n"
   ]
  },
  {
   "cell_type": "code",
   "execution_count": null,
   "metadata": {
    "colab": {
     "base_uri": "https://localhost:8080/"
    },
    "executionInfo": {
     "elapsed": 258,
     "status": "ok",
     "timestamp": 1721918204497,
     "user": {
      "displayName": "Carlos Mario De Oro Aguado",
      "userId": "15013802953564343948"
     },
     "user_tz": 300
    },
    "id": "1Yf2FAG6S0Li",
    "outputId": "4969d6f8-3f98-4e4d-d577-87c7aed7e2bb"
   },
   "outputs": [],
   "source": [
    "var_1 = 11; var_2 = 'Ciencia'; var_3 = True; var_4 = 4.57\n",
    "type(var_1), type(var_2), type(var_3), type(var_4)"
   ]
  },
  {
   "cell_type": "markdown",
   "metadata": {
    "id": "ttCIKJoNS0-4"
   },
   "source": [
    "* **Bibliotecas y funciones**: \n",
    "Python cuenta con una gran cantidad de bibliotecas y funciones que facilitan el trabajo de programación. Además, existe una gran comunidad que sirve de apoyo a los neófitos de Python y apoyan con información de las herramientas. Entre las bibliotecas, se destacan las utilizadas en la ciencia de datos: `Numpy`, `Pandas`, `Matplotlib` y `Scikit-learn`.\n",
    "\n",
    "* **Comunidad activa**: \n",
    "Python cuenta con una comunidad de desarrolladores grande y activa que contribuye con bibliotecas, `frameworks` y herramientas adicionales. Esto significa que encontrarás una gran cantidad de recursos y soporte disponibles.\n"
   ]
  },
  {
   "cell_type": "markdown",
   "metadata": {},
   "source": [
    "Python se utiliza en una amplia gama de aplicaciones y dominios, algunos ejemplos son:  \n",
    "\n",
    "* **Desarrollo web**: Python es ampliamente utilizado en el desarrollo web backend, con frameworks populares como Django y Flask.\n",
    "\n",
    "* **Ciencia de datos**: Python es el lenguaje preferido para el análisis de datos y la ciencia de datos debido a bibliotecas como `NumPy`, `Pandas`, `Matplotlib`, entre otras. \n",
    "\n",
    "* **Inteligencia artificial y machine learning**: Python es la elección principal para proyectos de IA y machine learning, gracias a bibliotecas como `TensorFlow` y `Scikit-learn`. \n",
    "\n",
    "* **Automatización de tareas**: Python se puede utilizar para automatizar tareas repetitivas, como procesamiento de archivos, `web scraping` y pruebas de software.\n",
    "\n",
    "* **Desarrollo de juegos**: Python se utiliza en el desarrollo de juegos simples, especialmente con bibliotecas como Pygame. "
   ]
  },
  {
   "cell_type": "markdown",
   "metadata": {
    "id": "zmnuKSQa99VF"
   },
   "source": [
    "## **1.2\tEntornos de desarrollo (Jupyter Notebook)**\n"
   ]
  },
  {
   "cell_type": "markdown",
   "metadata": {
    "id": "EXYXTdy9BezT"
   },
   "source": [
    "### **1.2.1   Descarga e instalación de Miniconda, VSCode**\n",
    "\n",
    "Para comenzar a programar en Python, primero debes descargar e instalar Miniconda en tu computadora. Sigue estos pasos: \n",
    "\n",
    "#### **1.2.1.1 Miniconda**\n",
    "\n",
    "__Miniconda__ es una distribución ligera de __Anaconda__, que es una distribución de Python y R para la computación científica, que incluye más de 250 paquetes científicos preinstalados y es compatible con Windows, macOS y Linux.\n",
    "\n",
    "Entra a la página de [miniconda](https://docs.anaconda.com/miniconda/) y escoger su instalador. Esta instalación se hizo para windows. Siga los siguientes pasos:\n",
    "\n",
    "| ![miniconda_1](_image/miniconda_1.png) | ![miniconda_2](_image/miniconda_2.png)|\n",
    "|---------------------------------------|---------------------------------------|\n",
    "| ![miniconda_3](_image/miniconda_3.png)| ![miniconda_4](_image/miniconda_4.png)|\n",
    "\n",
    "\n",
    "| ![miniconda_5](_image/miniconda_5.png) | ![miniconda_6](_image/miniconda_6.png)|\n",
    "|---------------------------------------|---------------------------------------|\n",
    "| ![miniconda_7](_image/miniconda_7.png)|                                       |\n"
   ]
  },
  {
   "cell_type": "markdown",
   "metadata": {},
   "source": [
    "Ahora verifiquemos que se ha instalado correctamente\n",
    "\n",
    "![miniconda_8](_image/miniconda_8.png) \n"
   ]
  },
  {
   "cell_type": "markdown",
   "metadata": {},
   "source": [
    "Ahora, digita en `python --version` en la consola de __Powershell Prompt__\n",
    "\n",
    "![miniconda_9](_image/miniconda_9.png) "
   ]
  },
  {
   "cell_type": "markdown",
   "metadata": {},
   "source": [
    "#### **1.2.1.2 Descarga e instalación de Visual Studio Code**\n",
    "\n",
    "__Visual Studio Code (VSCode)__ es un editor de código desarrollado por Microsoft. Con la extensión de Python, se convierte en un IDE ligero y versátil para el desarrollo de Python.\n",
    "\n",
    "Entra a la pagina de [VSCode](https://code.visualstudio.com/download/) y descargalo. Y sigue los siguientes pasos para su instalación adecuada:\n",
    "\n",
    "| ![vs_1](_image/vs_1.png) | ![vs_2](_image/vs_2.png)|\n",
    "|---------------------------------------|---------------------------------------|\n",
    "| ![vs_3](_image/vs_3.png)| ![vs_4](_image/vs_4.png)|\n",
    "\n",
    "| ![vs_5](_image/vs_5.png) | ![vs_6](_image/vs_6.png)|\n",
    "|---------------------------------------|---------------------------------------|\n",
    "| ![vs_7](_image/vs_7.png)|                                                     |"
   ]
  },
  {
   "cell_type": "markdown",
   "metadata": {},
   "source": [
    "Ahora, agreguemos las extensiones que necesitamos para el desarrollo optimo del curso\n",
    "\n",
    "| ![vs_8](_image/vs_8.png) | ![vs_9](_image/vs_9.png)|\n",
    "|---------------------------------------|---------------------------------------|\n"
   ]
  },
  {
   "cell_type": "markdown",
   "metadata": {},
   "source": [
    "Para crear un documento en jupyter notebook es importante seguir los siguientes pasos:\n",
    "\n",
    "![uso_1](_image/uso_1.png)  \n",
    "\n",
    "![uso_2](_image/uso_2.png)\n",
    "\n",
    "![uso_3](_image/uso_3.png)  \n",
    "\n",
    "![uso_4](_image/uso_4.png)\n",
    "\n",
    "![uso_5](_image/uso_5.png) \n",
    "\n",
    "![uso_6](_image/uso_6.png)\n",
    "\n",
    "![uso_7](_image/uso_7.png) "
   ]
  },
  {
   "cell_type": "markdown",
   "metadata": {
    "id": "MWXr2ms5fEiJ"
   },
   "source": [
    "### **1.2.2 Creación, activación y desactivación de ambiente virtuales**\n"
   ]
  },
  {
   "cell_type": "markdown",
   "metadata": {
    "id": "BfXoUmVyfO-i"
   },
   "source": [
    "El proceso para crear, activar y desactivar ambientes se\n",
    "deben ejecutar desde la consola __Powershell de Anaconda__. \n",
    "\n",
    "Un **ambiente virtual** es un entorno aislado que permite instalar y manejar paquetes específicos de Python sin afectar el entorno global de Python o interferir con otros proyectos. Para crear un ambiente virtual, se usa la siguiente sintaxis:\n",
    "\n",
    "Este entorno debe ser creado con la versión de python 3.9 en adelante de Python, para que no exista conflicto con la\n",
    "ejecución de algoritmos a utilizar.\n",
    "\n",
    "![amb_1](_image/amb_1.png)"
   ]
  },
  {
   "cell_type": "markdown",
   "metadata": {},
   "source": [
    "Para activar el ambiente hacemos:\n",
    "\n",
    "![amb_2](_image/amb_2.png)"
   ]
  },
  {
   "cell_type": "markdown",
   "metadata": {},
   "source": [
    "Para instalar las librerías en el ambiente podemos usar la instrucción `conda` o `pip`. \n",
    "Si prefieres usar conda (recomendado para evitar problemas de compatibilidad), puedes instalar las librerías con los siguientes comandos:\n",
    "\n",
    "![amb_3](_image/amb_3.png)"
   ]
  },
  {
   "cell_type": "markdown",
   "metadata": {},
   "source": [
    "Ya hemos venido trabajando muchas librerias para ciencia de datos, en un archivo .txt tenemos agregados muchas librerias, el cual usaremos en el transcurso del curso. En el siguiente enlace podras encontrar el [requirements](https://github.com/cdeoroaguado/pbook_dataviz/blob/main/requirements.txt). Despues de descargarla, debes ubicarla en la carpeta que creaste para el desarrollo del curso, en nuestro caso es `DataViz_2025`. __Recuerda tener activo tu ambiente__. Esto se instala de la siguiente manera:\n",
    "\n",
    "![amb_6](_image/amb_6.png)"
   ]
  },
  {
   "cell_type": "markdown",
   "metadata": {},
   "source": [
    "Para poder usar el ambiente que se creó con todas las librerías instaladas, siga los siguientes pasos:\n",
    "\n",
    "![amb_4](_image/amb_4.png)\n",
    "\n",
    "![amb_5](_image/amb_5.png)"
   ]
  },
  {
   "cell_type": "markdown",
   "metadata": {},
   "source": [
    "Despues de haber realizado todo este proceso. Tiene en forma adecuada VSCode y así podrá trabajar de manera más óptima. \n"
   ]
  },
  {
   "cell_type": "markdown",
   "metadata": {},
   "source": [
    "### **1.2.3 Introducción a Git y GitHub**\n",
    "\n",
    "#### **1.2.3.1 ¿Qué es Git?**"
   ]
  },
  {
   "cell_type": "markdown",
   "metadata": {},
   "source": [
    ":::{admonition} **Definición**\n",
    ":class: tip\n",
    "\n",
    "**Git** es un sistema de control de versiones distribuido que permite gestionar y registrar los cambios realizados en archivos de un proyecto a lo largo del tiempo. Fue creado por Linus Torvalds y se ha convertido en el estándar para el desarrollo de software y proyectos colaborativos.  \n",
    "El enlace es [https://git-scm.com/](https://git-scm.com/).\n",
    ":::\n",
    "\n",
    "```{image} _image/git.png\n",
    ":alt: git\n",
    ":align: center\n",
    ":width: 300px\n",
    "```\n"
   ]
  },
  {
   "cell_type": "markdown",
   "metadata": {},
   "source": [
    "Si usted desea desactivar cualquier entorno activado utilice la siguiente orden\n",
    "en la consola Powershell de Anaconda.  `conda deactivate `"
   ]
  },
  {
   "cell_type": "markdown",
   "metadata": {},
   "source": [
    ":::{admonition} **Ventajas principales de Git**\n",
    ":class: note\n",
    "\n",
    "- Permite llevar un **historial detallado** de versiones.\n",
    "- Facilita la **colaboración** en proyectos con múltiples personas.\n",
    "- Permite trabajar en **ramas** (branches) para desarrollar funcionalidades de forma aislada.\n",
    "- No depende de internet para el trabajo local.\n",
    ":::\n"
   ]
  },
  {
   "cell_type": "markdown",
   "metadata": {},
   "source": [
    "Daremos una guía para la instalación de **Git** usando Windows (paso a paso):  \n",
    "\n",
    "1. Instalar **Git**:  \n",
    "   🔗 [https://git-scm.com/downloads](https://git-scm.com/downloads)\n",
    "   \n",
    "2. Ahora, debes realizar lo siguiente:\n",
    "\n",
    "| ![git_1](_image/git1.png) | ![git_2](_image/git2.png)|\n",
    "|---------------------------------------|---------------------------------------|\n",
    "| ![git_3](_image/git3.png)| ![git_4](_image/git4.png)|\n",
    "\n",
    "3. A continuación, comprobemos la instalación de Git.\n",
    "\n",
    "| ![gb1](_image/gb1.png) | ![gb2](_image/gb2.png)|"
   ]
  },
  {
   "cell_type": "markdown",
   "metadata": {},
   "source": [
    "#### **1.2.3.2 ¿Qué es GitHub?**\n",
    "\n",
    ":::{admonition} **Definición**\n",
    ":class: tip\n",
    "**GitHub** es una plataforma en línea que permite alojar repositorios de Git en la nube. Es ideal para compartir proyectos, colaborar en equipo y automatizar flujos de trabajo. Este es el enlace [https://github.com](https://github.com).\n",
    ":::\n",
    "\n",
    "```{image} _image/github.png\n",
    ":alt: github\n",
    ":align: center\n",
    ":width: 300px\n",
    "```"
   ]
  },
  {
   "cell_type": "markdown",
   "metadata": {},
   "source": [
    ":::{admonition} **Funciones principales de GitHub**\n",
    ":class: note\n",
    "- Crear y administrar **repositorios** públicos o privados.\n",
    "- Gestionar cambios mediante **pull requests**.\n",
    "- Seguir errores o tareas usando **issues**.\n",
    "- Crear documentación, páginas web y wikis para los proyectos.\n",
    "- Automatizar procesos con **GitHub Actions**.\n",
    ":::"
   ]
  },
  {
   "cell_type": "markdown",
   "metadata": {},
   "source": [
    "A continuación, se presenta una guía paso a paso para la instalación de **GitHub** en Windows:\n",
    "\n",
    "1. Crear una cuenta en **GitHub**:  \n",
    "   🔗 [https://github.com](https://github.com)\n",
    "\n",
    "2. Ahora, sigue las imagenes:\n",
    "\n",
    "| ![gh1](_image/gh1.png) | ![gh2](_image/gh2.png)|\n",
    "\n",
    "Despues haces el proceso de verificación\n",
    "\n",
    "- Completa el captcha de seguridad.\n",
    "\n",
    "- GitHub puede pedirte que verifiques tu correo electrónico. Revisa tu bandeja de entrada y haz clic en el enlace de confirmación.\n",
    "\n",
    "3. Ingresas al enlace [https://github.com](https://github.com) y despues:\n",
    "\n",
    "| ![gh3](_image/gh3.png) | ![gh4](_image/gh4.png)|\n",
    "\n",
    "Al ingresar, este sería el inicio\n",
    "\n",
    "![gh5](_image/gh5.png)\n",
    "\n",
    "4. A continuación, vamos a descargar **GitHub Desktop** para Windows; para ello debes usar el enlace [https://desktop.github.com/download/](https://desktop.github.com/download/)\n",
    "\n",
    "| ![ghd1](_image/ghd1.png) | ![ghd2](_image/ghd2.png)|\n",
    "|---------------------------------------|---------------------------------------|\n",
    "| ![ghd3](_image/ghd3.png)| ![ghd4](_image/ghd4.png)|\n",
    "\n",
    "| ![ghd5](_image/ghd5.png)| ![ghd6](_image/ghd6.png)|\n",
    "|---------------------------------------|---------------------------------------|\n",
    "| ![ghd7](_image/ghd7.png)| ![ghd8](_image/ghd8.png)|"
   ]
  },
  {
   "cell_type": "markdown",
   "metadata": {},
   "source": [
    "#### **1.2.3.3 Diferencias claves entre Git y GitHub**\n",
    "\n",
    "| Git                     | GitHub                        |\n",
    "|-------------------------|-------------------------------|\n",
    "| Herramienta local       | Plataforma en la nube         |\n",
    "| Administra versiones    | Aloja y comparte repositorios |\n",
    "| No requiere internet    | Requiere conexión para sincronizar |\n",
    "| Se usa desde terminal o IDE | Se accede por navegador o API |\n",
    "\n",
    "\n",
    "¿Cómo se relacionan?\n",
    "\n",
    "- Git administra tu proyecto **localmente**, guardando versiones y cambios.\n",
    "- GitHub actúa como **repositorio remoto**, permitiendo subir (`push`) o descargar (`pull`) cambios desde y hacia otros colaboradores.\n",
    "- Juntos permiten trabajar de forma segura, organizada y colaborativa desde distintos lugares."
   ]
  },
  {
   "cell_type": "markdown",
   "metadata": {},
   "source": [
    "#### **Pasos para publicar un libro `jupyter-book` en GitHub Pases**\n",
    "\n",
    "Inicialmente vamos a crear una carpeta desde **Anaconda Powershell Promt** y despues el book:\n",
    "\n",
    "1. Coloquemos la ruta donde va a estar ubicado el book: `C:\\Users\\cdeor\\OneDrive\\Documentos\\Books_CienciaDatos`\n",
    "\n",
    "![carp1](_image/carp1.png)\n",
    "\n",
    "2. Comando para crear una carpeta `mkdir jbook_dataviz_2025`\n",
    "\n",
    "![carp2](_image/carp2.png)\n",
    "\n",
    "- Recuerda que con ls verificas si la carpeta fue creada correctamente\n",
    "\n",
    "3.\tIngresemos a la carpeta `cd jbook_dataviz_2025`\n",
    "\n",
    "![carp3](_image/carp3.png)\n",
    "\n",
    "4.\tActivemos el ambiente virtual \n",
    "\n",
    "![carp4](_image/carp4.png)\n",
    "\n",
    "5.\tInstalemos jupyter-book con la siguiente línea de código `pip install -U jupyter-book`\n",
    "\n",
    "![carp5](_image/carp5.png)\n",
    "\n",
    "6. **Jupyter Book** es una herramienta que convierte cuadernos Jupyter, Markdown y documentos técnicos en un **libro o sitio web interactivo** con estructura organizada (capítulos, secciones, índice, etc.).\n",
    "\n",
    "- Cuando aplicas la instrucción: `jupyter-book create docs`\n",
    "\n",
    "![carp6](_image/carp6.png)\n",
    "\n",
    "- Se crea en la carpeta `docs/` una plantilla básica de libro, con archivos de ejemplo `(_config.yml`, `intro.md`, etc.), lista para que empieces a editar y construir tu propio libro.\n",
    "\n",
    "7.\tEntra a la caperta de docs y abre con code el `notebook`, para que veas los archivos que tienes\n",
    "\n",
    "![carp7](_image/carp7.png)\n",
    "\n",
    "8.\tActualicemos el `requirements.txt` con `pip freeze > requirements.txt`\n",
    "\n",
    "![carp8](_image/carp8.png)\n",
    "\n",
    "- Va a tomar las librerías del ambiente virtual y las actualiza \n",
    "\n",
    "9.\tPara revisar las librerías que hay debes usar la siguiente línea `cat requirements.txt`\n",
    "\n",
    "![carp9](_image/carp9.png)\n",
    "\n",
    "10.\tNos vamos a la carpeta anterior con `cd ..` y construimos el html `jupyter-book build docs/`\n",
    "\n",
    "![carp10](_image/carp10.png)\n",
    "\n",
    "11.\tPuedes tomar el enlace que te aparece y lo pegas en el navegador de tu preferencia para que veas como va tu book\n",
    "\n",
    "![carp11](_image/carp11.png)\n",
    "\n",
    "12.\tVes la salida del libro\n",
    "\n",
    "![carp12](_image/carp12.png)\n",
    "\n",
    "13.\tVamos a publicar el libro en github, instalemos `pip install -U ghp-import`\n",
    "\n",
    "![carp13](_image/carp13.png)\n",
    "\n",
    "14.\tUsemos un bloque de comandos para inicializar el repositorio y publicar el **Jupyter Book** en **GitHub Pages**\n",
    "-  Inicializar un repositorio (`git init`).\n",
    "-  Conectarlo con un repositorio remoto en GitHub (`git remote add origin https://github.com/cdeoroaguado/pbook_davaviz.git`).\n",
    "-  Crear y cambiar a una rama principal (`git checkout -b main`).\n",
    "-  Publicar en la rama **gh-pages**: `ghp-import -n -p -f docs/_build/html`\n",
    "-\tConfigurar GitHub Pages (una sola vez)\n",
    "    En `Settings → Pages`\n",
    "    - **Source** → Deploy from a branch\n",
    "    - **Branch** → `gh-pages → /root`\n",
    "\n",
    "![carp14](_image/carp14.png)\n",
    "\n",
    "Y tu enlace es \n",
    "\n",
    "[https://cdeoroaguado.github.io/pbook_dataviz/](https://cdeoroaguado.github.io/pbook_dataviz/)\n"
   ]
  },
  {
   "cell_type": "markdown",
   "metadata": {
    "id": "bIarkRUFMF7l"
   },
   "source": [
    "## **1.3 Fundamentos de sintaxis y estructura**\n",
    "<p style='text-align: justify;'>\n",
    "El objetivo de esta sesión NO es de ningún modo aprender a utilizar el Python como una calculadora sino más bien familiarizarce con la manera en que el programa trabaja cada una de las operaciones aritméticas y funciones de uso común, además de operaciones con vectores y matrices.\n",
    "</p>"
   ]
  },
  {
   "cell_type": "markdown",
   "metadata": {
    "id": "m722FT7tC9UW"
   },
   "source": [
    "**Espacios en blanco significativos**"
   ]
  },
  {
   "cell_type": "markdown",
   "metadata": {
    "id": "uMoGg3eT-VB8"
   },
   "source": [
    "A diferencia de otros lenguajes, Python utiliza los espacios en blanco (indentaciones) para definir la estructura del código en lugar de llaves o palabras clave específicas.Entorno de desarrollo interactivo con el live code."
   ]
  },
  {
   "cell_type": "markdown",
   "metadata": {
    "id": "5Gg64Yfy1Eno"
   },
   "source": [
    "**Comentarios**"
   ]
  },
  {
   "cell_type": "markdown",
   "metadata": {
    "id": "PgPLOnsH1MeE"
   },
   "source": [
    "Los comentarios en Python se realizan usando el símbolo `#` para comentarios de una sola línea, y triple comillas dobles \"\"\" para comentarios de múltiples líneas o docstrings, los cuales son especialmente útiles para documentar el propósito de funciones y clases."
   ]
  },
  {
   "cell_type": "code",
   "execution_count": 2,
   "metadata": {
    "id": "xCGnrcTqlZqn"
   },
   "outputs": [],
   "source": [
    "# Python fue creado por Guido van Rossum, un programador holandés, en 1991."
   ]
  },
  {
   "cell_type": "markdown",
   "metadata": {
    "id": "27jOGQzQNFTR"
   },
   "source": [
    "### **1.3.1 Constantes o valores**\n",
    "\n",
    "Las constantes son elementos que se fijan en un programa y que no permiten cambios; por ejemplo, un número ($45$ o $32$), una letra (`a` o `b`), una cadena ('cuaderno' o 'borrador') o un booleano (`True`). Como se puede observar, cada una de estas constantes tiene una forma o tipo.\n",
    "\n",
    "### **1.3.2 Tipos de datos**\n",
    "\n",
    "Los tipos de datos básicos más comunes en Python son:\n",
    "\n",
    "*   **Entero**: Se representa con la palabra clave __int__; por ejemplo, $45$ o $38$.\n",
    "*   **Real o punto flotante**: Son los números que contiene un punto decimal entre dos dígitos y se representa con la palabra clave __float__, por ejemplo $0.29$, $26.82$ y $0.03$.\n",
    "*  **Complejos**: Un número complejo es de la forma $a+bi$, donde $a,b$ son números reales y se define con la palabra clave __complex__ Por ejemplo, $2+3j$.\n",
    "* **Cadenas**: Están conformados por una secuencia de caracteres encerrados entre comillas simples o dobles. Se representan por la palabra clave __str__; por ejemplo, \"Toma de todo\", \"Hola mundo\".\n",
    "* **Lógicos y booleanos**: Estos tipos de datos solo pueden tomar dos valores, `True` o `False`, donde `True` toma valor de $1$ y `False` toma el valor de $0$. Se representan por la palabra clave __bool__."
   ]
  },
  {
   "cell_type": "code",
   "execution_count": null,
   "metadata": {
    "colab": {
     "base_uri": "https://localhost:8080/"
    },
    "executionInfo": {
     "elapsed": 351,
     "status": "ok",
     "timestamp": 1721750424890,
     "user": {
      "displayName": "Carlos Mario De Oro Aguado",
      "userId": "15013802953564343948"
     },
     "user_tz": 300
    },
    "id": "_POkBpfCUKlT",
    "outputId": "3ad5304f-48d7-4e2f-91b2-919010a0740a"
   },
   "outputs": [],
   "source": [
    "type(94), type(95.6), type(2+3j), type('Hola mundo'), type(True)"
   ]
  },
  {
   "cell_type": "markdown",
   "metadata": {
    "id": "LXwJPRaCXX_E"
   },
   "source": [
    "**Variables**\n",
    "\n",
    "Las __variables__ son nombres que hacen referencia a un valor. Este valor puede cambiar a lo largo de la ejecución de un programa. Las __variables__ son espacios de la memoria principal del computador, en donde se almacenan valores de forma temporal o permanente durante la ejecución de un programa.\n",
    "\n",
    "*   __Operacción de asignación__: Para darles el valor a las variables, se realiza la operación de asignación. Esta se hace mediante el signo igual (=), escrito entre el nombre de la variable y el elemento que se le asigna. El elemento asignado puede ser un valor, otra variable previamente definida o una expresión resultante del uso de otras variables, valores u operadores. Algunos ejemplos de asignación son:"
   ]
  },
  {
   "cell_type": "code",
   "execution_count": 3,
   "metadata": {
    "id": "ABW120HzYX72"
   },
   "outputs": [],
   "source": [
    "a = 3     # asignación del valor\n",
    "b = 5     # asignación del valor\n",
    "d = a     # asignación del valor\n",
    "c = a + b # asignación del valor"
   ]
  },
  {
   "cell_type": "markdown",
   "metadata": {
    "id": "9V9j4l8QYxfP"
   },
   "source": [
    "*   __Tipo de datos de variables__: Ya que las variables toman sus valores en la medida en que son definidas a lo largo de la ejecución del programa, su tipo está determinado por el valor que adquieren cuando se realiza la asignación; por ejemplo:\n",
    "\n",
    "\n"
   ]
  },
  {
   "cell_type": "code",
   "execution_count": null,
   "metadata": {
    "colab": {
     "base_uri": "https://localhost:8080/"
    },
    "executionInfo": {
     "elapsed": 379,
     "status": "ok",
     "timestamp": 1721751815961,
     "user": {
      "displayName": "Carlos Mario De Oro Aguado",
      "userId": "15013802953564343948"
     },
     "user_tz": 300
    },
    "id": "xKuDAB7pYt74",
    "outputId": "1825e84a-c4c4-4519-9c84-916005d7b2e2"
   },
   "outputs": [],
   "source": [
    "a = 76; b = 3.68; c = 2+3j; d = True; s = 'cadena'\n",
    "type(a), type(b), type(c), type(d), type(s)"
   ]
  },
  {
   "cell_type": "markdown",
   "metadata": {
    "id": "5EOAFpyTbHhc"
   },
   "source": [
    "* __Reglas para el nombre de las variables__:\n",
    "Python es sensible a mayúsculas y minúsculas. La variable __X__ y __x__ son diferentes; es decir, si se asigna `X=3` y `x=4`, nunca se reescribe la variable __X__ (en mayúscula) con la segunda asignación.\n",
    "Los nombres de las variables no pueden empezar con caracteres especiales, excepto el guion bajo (`_`); por ejemplo, **_cuenta** es válida, pero **$cuenta** no lo es.\n",
    "Las variables no pueden iniciar con un número, sino con una letra."
   ]
  },
  {
   "cell_type": "markdown",
   "metadata": {
    "id": "QNxVl7TumEgK"
   },
   "source": [
    "### **1.3.3 Sentencias**\n",
    "\n",
    "Las __sentencias__ son las mínimas acciones escritas en un programa de Python que el __intérprete__ es capaz de ejecutar. Las asignaciones son consideradas sentencias. Un programa está compuesto de muchas sentencias para lograr su objetivo. En modo interactivo, también se ejecutan las sentencias y se muestra su resultado, siempre y cuando generen alguna salida.\n",
    "\n",
    "*   **Sentencia de entrada**: La sentencia de entrada  de datos corresponden a la función `input`. Esta sentencia se utiliza para capturar la entrada del usuario desde la consola.  Por ejemplo:"
   ]
  },
  {
   "cell_type": "code",
   "execution_count": null,
   "metadata": {
    "colab": {
     "base_uri": "https://localhost:8080/",
     "height": 53
    },
    "executionInfo": {
     "elapsed": 4077,
     "status": "ok",
     "timestamp": 1721828290091,
     "user": {
      "displayName": "Carlos Mario De Oro Aguado",
      "userId": "15013802953564343948"
     },
     "user_tz": 300
    },
    "id": "hmX7uilMm6lb",
    "outputId": "11df1f4c-9926-4633-c0bc-9e24826d885b"
   },
   "outputs": [],
   "source": [
    "# Uso de la función básica input\n",
    "input()"
   ]
  },
  {
   "cell_type": "code",
   "execution_count": 7,
   "metadata": {
    "colab": {
     "base_uri": "https://localhost:8080/"
    },
    "executionInfo": {
     "elapsed": 6059,
     "status": "ok",
     "timestamp": 1721828809555,
     "user": {
      "displayName": "Carlos Mario De Oro Aguado",
      "userId": "15013802953564343948"
     },
     "user_tz": 300
    },
    "id": "Y3UpW9uq9wtV",
    "outputId": "5a0a8eb9-9e51-4aad-cf5b-175fbdc13142"
   },
   "outputs": [],
   "source": [
    "# Uso de la función input con prompt\n",
    "x = input(\"Escriba un número real: \")"
   ]
  },
  {
   "cell_type": "markdown",
   "metadata": {
    "id": "htmUJZ7XBJBi"
   },
   "source": [
    "**Observación**: Debemos tener en cuenta que cuando digitamos un número en el `input` el tipo de dato es de `cadena`, es decir, `string`; por lo que si escribes un número debes indicarle si es entero o real. Por ejemplo:"
   ]
  },
  {
   "cell_type": "code",
   "execution_count": null,
   "metadata": {
    "colab": {
     "base_uri": "https://localhost:8080/"
    },
    "executionInfo": {
     "elapsed": 238,
     "status": "ok",
     "timestamp": 1721829384244,
     "user": {
      "displayName": "Carlos Mario De Oro Aguado",
      "userId": "15013802953564343948"
     },
     "user_tz": 300
    },
    "id": "Tym7q3sFBx37",
    "outputId": "fccb559b-803d-4dc4-8816-bf07385345bb"
   },
   "outputs": [],
   "source": [
    "# tipo de dato de x\n",
    "type(x)"
   ]
  },
  {
   "cell_type": "code",
   "execution_count": null,
   "metadata": {
    "colab": {
     "base_uri": "https://localhost:8080/"
    },
    "executionInfo": {
     "elapsed": 2166,
     "status": "ok",
     "timestamp": 1721829590290,
     "user": {
      "displayName": "Carlos Mario De Oro Aguado",
      "userId": "15013802953564343948"
     },
     "user_tz": 300
    },
    "id": "iHMIrv1zB4QK",
    "outputId": "543a0716-5bbc-4a08-be54-e27507ddb2a6"
   },
   "outputs": [],
   "source": [
    "# Conversión de una string numérico entero a un entero\n",
    "x = int(input('Escribe un número entero '))\n",
    "type(x)"
   ]
  },
  {
   "cell_type": "code",
   "execution_count": null,
   "metadata": {
    "colab": {
     "base_uri": "https://localhost:8080/"
    },
    "executionInfo": {
     "elapsed": 5148,
     "status": "ok",
     "timestamp": 1721829657299,
     "user": {
      "displayName": "Carlos Mario De Oro Aguado",
      "userId": "15013802953564343948"
     },
     "user_tz": 300
    },
    "id": "KqzWQML_Crcs",
    "outputId": "1ffdebb3-c96d-4ec2-c879-60d5260db2d5"
   },
   "outputs": [],
   "source": [
    "# Conversión de una string numérico decimal a un número decimal\n",
    "x = float(input('Escribe un número entero '))\n",
    "type(x)"
   ]
  },
  {
   "cell_type": "markdown",
   "metadata": {
    "id": "3OxOIMsJm7JV"
   },
   "source": [
    "*   **Sentencia de salida**: La sentencia de salida de datos corresponden a la función `print`. Esta sentencia se utiliza para mostrar texto y otros tipos de datos en la consola. Por ejemplo"
   ]
  },
  {
   "cell_type": "code",
   "execution_count": null,
   "metadata": {
    "colab": {
     "base_uri": "https://localhost:8080/"
    },
    "executionInfo": {
     "elapsed": 272,
     "status": "ok",
     "timestamp": 1721830023331,
     "user": {
      "displayName": "Carlos Mario De Oro Aguado",
      "userId": "15013802953564343948"
     },
     "user_tz": 300
    },
    "id": "lLrCAQBaDM0s",
    "outputId": "9bb420bf-ba38-4bb2-a904-4b29c4da159e"
   },
   "outputs": [],
   "source": [
    "# Uso del print\n",
    "print('Python')\n",
    "\n",
    "# Uso de la función básica print\n",
    "print('El número ingresado es ', x)\n",
    "\n",
    "# Uso del print con varias palabras sin separarla\n",
    "print('Introducción' 'a' 'la' 'ciencia' 'de' 'datos' 'con' 'Python')\n",
    "\n",
    "# Uso del print con varias palabras con separación\n",
    "print('Introducción','a','la','ciencia','de','datos','con','Python')"
   ]
  },
  {
   "cell_type": "code",
   "execution_count": null,
   "metadata": {
    "colab": {
     "base_uri": "https://localhost:8080/"
    },
    "executionInfo": {
     "elapsed": 6,
     "status": "ok",
     "timestamp": 1721830555930,
     "user": {
      "displayName": "Carlos Mario De Oro Aguado",
      "userId": "15013802953564343948"
     },
     "user_tz": 300
    },
    "id": "62HybWzMFXyZ",
    "outputId": "7e3ca2c4-379e-4159-9f5f-8c3277fdee3d"
   },
   "outputs": [],
   "source": [
    "# Uso del print con espacio sin salto de linea\n",
    "# end = ' ', tiene un espacio\n",
    "print('Ciencia', end = ' ')\n",
    "print('de', end = ' ')\n",
    "print('datos')"
   ]
  },
  {
   "cell_type": "code",
   "execution_count": null,
   "metadata": {
    "colab": {
     "base_uri": "https://localhost:8080/"
    },
    "executionInfo": {
     "elapsed": 237,
     "status": "ok",
     "timestamp": 1721830230542,
     "user": {
      "displayName": "Carlos Mario De Oro Aguado",
      "userId": "15013802953564343948"
     },
     "user_tz": 300
    },
    "id": "C3s5oDSgEcPA",
    "outputId": "d8a4b52f-67b1-4c9a-9663-146e86a0a15d"
   },
   "outputs": [],
   "source": [
    "# Uso del print con salto de línea\n",
    "print('Ciencia' '\\n' 'de' '\\n' 'datos')"
   ]
  },
  {
   "cell_type": "code",
   "execution_count": null,
   "metadata": {
    "colab": {
     "base_uri": "https://localhost:8080/"
    },
    "executionInfo": {
     "elapsed": 296,
     "status": "ok",
     "timestamp": 1721830565873,
     "user": {
      "displayName": "Carlos Mario De Oro Aguado",
      "userId": "15013802953564343948"
     },
     "user_tz": 300
    },
    "id": "wUZ2xw8-F-g7",
    "outputId": "15d38928-c142-492e-9db3-c0933a12aec4"
   },
   "outputs": [],
   "source": [
    "# Otra forma de salto de linea\n",
    "# end = '\\n'\n",
    "print('Ciencia', end = '\\n')\n",
    "print('de', end = '\\n')\n",
    "print('datos')"
   ]
  },
  {
   "cell_type": "code",
   "execution_count": null,
   "metadata": {
    "colab": {
     "base_uri": "https://localhost:8080/"
    },
    "executionInfo": {
     "elapsed": 218,
     "status": "ok",
     "timestamp": 1721830841314,
     "user": {
      "displayName": "Carlos Mario De Oro Aguado",
      "userId": "15013802953564343948"
     },
     "user_tz": 300
    },
    "id": "QXG_GCz7Gm_M",
    "outputId": "39fcfbb1-1cc3-4ced-b6cb-7309fdbe09d2"
   },
   "outputs": [],
   "source": [
    "# Uso de print separado por un caracter\n",
    "print('Ciencia','de','datos',sep='\\\\')"
   ]
  },
  {
   "cell_type": "markdown",
   "metadata": {
    "id": "ZBF0nm68W7dt"
   },
   "source": [
    "### **1.3.4 Operaciones aritmeticas**\n",
    "\n",
    "Los __operadores aritméticos__ en Python son fundamentales para realizar cálculos. Se aplican sobre operandos, que pueden ser tanto variables como constantes. La tabla siguiente recoge los operadores más comunes en Python.\n",
    "\n",
    "\n",
    "<div align=\"center\">\n",
    "\n",
    "|  __Operador__  |  __Descripción__   |  __Ejemplo__  |  __Resultado__  |\n",
    "|----------------|--------------------|---------------|-----------------|\n",
    "|     x + y      |       Suma         |     4 + 5     |        9        |\n",
    "|     x - y      |       Resta        |     6 - 3     |        3        |\n",
    "|     x * y      |   Multiplicación   |     3 \\* 4    |       12        |\n",
    "|     x / y      |      División      |    15 / 4     |       3.75      |\n",
    "|     x % y      |       Módulo       |    15 % 4     |        3        |\n",
    "|     x // y     | División entera    |    25 // 4    |        6        |\n",
    "|     x ** y     |   Exponenciación   |     2 ** 3    |        8        |\n",
    "\n",
    "</div>"
   ]
  },
  {
   "cell_type": "code",
   "execution_count": 1,
   "metadata": {
    "colab": {
     "base_uri": "https://localhost:8080/"
    },
    "executionInfo": {
     "elapsed": 256,
     "status": "ok",
     "timestamp": 1721836222255,
     "user": {
      "displayName": "Carlos Mario De Oro Aguado",
      "userId": "15013802953564343948"
     },
     "user_tz": 300
    },
    "id": "oXGJoemUa0ua",
    "outputId": "b991c9d8-c261-4427-a459-c26417fde994"
   },
   "outputs": [
    {
     "name": "stdout",
     "output_type": "stream",
     "text": [
      "Resultado: ((10 + 3) * 2) - (10 / 3) ** 2 % 3 // 2 = 25.0\n"
     ]
    }
   ],
   "source": [
    "# Uso de las operaciones aritmeticas\n",
    "# Definición de variables\n",
    "a = 10\n",
    "b = 3\n",
    "c = 2\n",
    "\n",
    "# Combinación de varios operadores aritméticos en una sola línea\n",
    "resultado = (a + b) * c - (((a / b) ** c )% b )// c\n",
    "\n",
    "print(f'Resultado: (({a} + {b}) * {c}) - ({a} / {b}) ** {c} % {b} // {c} = {resultado}')"
   ]
  },
  {
   "cell_type": "markdown",
   "metadata": {
    "id": "kHsYMKkcZt7r"
   },
   "source": [
    "**Observación**: La concatenación de caracteres en Python se realiza utilizando el operador `+`. Este operador permite unir dos o más cadenas de texto en una sola cadena. Es importante asegurarse de que ambos operandos sean cadenas de texto para evitar errores de tipo. Aquí tienes un ejemplo:\n"
   ]
  },
  {
   "cell_type": "code",
   "execution_count": null,
   "metadata": {
    "colab": {
     "base_uri": "https://localhost:8080/",
     "height": 36
    },
    "executionInfo": {
     "elapsed": 270,
     "status": "ok",
     "timestamp": 1721852602604,
     "user": {
      "displayName": "Carlos Mario De Oro Aguado",
      "userId": "15013802953564343948"
     },
     "user_tz": 300
    },
    "id": "iC71eMiYaXEw",
    "outputId": "ec617138-ed45-4b51-8adc-599e9771494f"
   },
   "outputs": [],
   "source": [
    "cadena1 = \"Hola, \"\n",
    "cadena2 = \"¿cómo estás?\"\n",
    "cadena1 + cadena2"
   ]
  },
  {
   "cell_type": "markdown",
   "metadata": {
    "id": "ONRJNqbicnxr"
   },
   "source": [
    "### **1.3.5 Símbolos de asignación aumentada**\n",
    "\n",
    "Los __símbolos de asignación aumentada__ en Python son una forma conveniente de modificar el valor de una variable utilizando un operador aritmético y la asignación. Estos operadores combinan una operación aritmética con la asignación, simplificando el código.\n",
    "\n",
    "Aquí están los símbolos de asignación aumentada más comunes en Python:\n",
    "\n",
    "<div align=\"center\">\n",
    "\n",
    "Operador  | Descripción\n",
    "----------|-------------\n",
    "x += y    | x = x + y\n",
    "x -= y    | x = x - y\n",
    "x *= y    | x = x * y\n",
    "x /= y    | x = x / y\n",
    "x %= y    | x = x % y\n",
    "x **= y   | x = x ** y\n",
    "x //= y   | x = x // y\n",
    "\n",
    "</div>"
   ]
  },
  {
   "cell_type": "code",
   "execution_count": null,
   "metadata": {
    "colab": {
     "base_uri": "https://localhost:8080/"
    },
    "executionInfo": {
     "elapsed": 231,
     "status": "ok",
     "timestamp": 1721837888444,
     "user": {
      "displayName": "Carlos Mario De Oro Aguado",
      "userId": "15013802953564343948"
     },
     "user_tz": 300
    },
    "id": "t-Q1Fe2YgEru",
    "outputId": "efb0d4dd-60cf-4f20-cbd7-2483da6ec666"
   },
   "outputs": [],
   "source": [
    "# uso de la asignación aumentada\n",
    "# definamos las variables\n",
    "a=3; b=2\n",
    "\n",
    "# asignación aumenta\n",
    "a += 2; b *= 2\n",
    "\n",
    "# imprimir las nuevas asignaciones\n",
    "print(f'El valor de a es {a}, el valor de b es {b}')"
   ]
  },
  {
   "cell_type": "markdown",
   "metadata": {
    "id": "zn3BE_fKLgN8"
   },
   "source": [
    "### **1.3.6 Operadores de comparación**\n",
    "\n",
    "Los operadores relacionales sirven para comparar dos expresiones y devuelven un valor booleano, que puede ser __True__ (verdadero) o __False__ (falso). Consulta la tabla siguiente para más detalles sobre estos operadores\n",
    "\n",
    "<div align=\"center\">\n",
    "\n",
    "|__Comando__|__Significado__|__Ejemplo__|__Resultado__|\n",
    "|-----------|---------------|-----------|-------------|\n",
    "| x == y    | x es igual a y| 4 == 5    | `False`      |\n",
    "| x != y    | x no es igual a y| 6 != 3 | `True`        |\n",
    "| x > y     | x es mayor que y| 7 > 4   | `True`        |\n",
    "| x < y     | x es menor que y| 9 < 8   | `False`      |\n",
    "| x >= y    | x es mayor o igual que y| 5 >= 5 | `True`        |\n",
    "| x <= y    | x es menor o igual que y| 2 <= 4 | `True`        |\n",
    "\n",
    "</div>"
   ]
  },
  {
   "cell_type": "code",
   "execution_count": null,
   "metadata": {
    "colab": {
     "base_uri": "https://localhost:8080/"
    },
    "executionInfo": {
     "elapsed": 250,
     "status": "ok",
     "timestamp": 1721852275749,
     "user": {
      "displayName": "Carlos Mario De Oro Aguado",
      "userId": "15013802953564343948"
     },
     "user_tz": 300
    },
    "id": "w8kJatkQSAhD",
    "outputId": "c304f685-77c3-4e06-b494-792465f83632"
   },
   "outputs": [],
   "source": [
    "# Uso de las operaciones de comparación\n",
    "# Definicion de variables\n",
    "a = 11; b = 7\n",
    "print('a > b:', a > b)\n",
    "print('a <= b:', a <= b)"
   ]
  },
  {
   "cell_type": "markdown",
   "metadata": {
    "id": "uTmvvp8zr3yX"
   },
   "source": [
    "### **1.3.7 Operadores lógicos**:\n",
    "\n",
    "Los __operadores lógicos__ permiten combinar subexpresiones booleanas para obtener un nuevo valor booleano. Los operadores más comunes son and, or y not, y se detallan en la siguiente tabla.\n",
    "\n",
    "<div align=\"center\">\n",
    "\n",
    "| __Comando__ | __Significado__ | __Ejemplo__ | __Resultado__ |\n",
    "|-------------|------------------|-------------|---------------|\n",
    "| and         | y                | `True` and `False` | `False`      |\n",
    "| or          | o                | `True` or `False`  | `True`        |\n",
    "| not         | No               | `not` `True`       | `False`       |\n",
    "\n",
    "</div>"
   ]
  },
  {
   "cell_type": "code",
   "execution_count": null,
   "metadata": {
    "colab": {
     "base_uri": "https://localhost:8080/"
    },
    "executionInfo": {
     "elapsed": 241,
     "status": "ok",
     "timestamp": 1721853320483,
     "user": {
      "displayName": "Carlos Mario De Oro Aguado",
      "userId": "15013802953564343948"
     },
     "user_tz": 300
    },
    "id": "g4NdIAgea916",
    "outputId": "221d2190-a66a-4fea-ed25-f260df83905f"
   },
   "outputs": [],
   "source": [
    "# Operadores lógicos\n",
    "print(a > b and b == 5)\n",
    "print(a < b or a != 12)"
   ]
  },
  {
   "cell_type": "markdown",
   "metadata": {
    "id": "eJ1RM8nYd2vn"
   },
   "source": [
    "### **1.3.8 Estructuras algorítmicas**\n",
    "\n",
    "Las __estructuras algorítmicas__ consisten en bloques formados por múltiples sentencias. Estas sentencias pueden ser simples o también pueden contener otras estructuras de bloques. Al escribir estructuras algorítmicas en Python, es crucial tener en cuenta dos aspectos importantes:\n",
    "\n",
    "1.   Cada vez que se inicia una estructura, el encabezado debe terminar con dos puntos (:).\n",
    "2.   Cada sentencia dentro de una estructura debe estar indentada en relación con el encabezado.\n",
    "\n",
    "<div align=\"center\">\n",
    "\n",
    "![Est_Alg.PNG](data:image/png;base64,iVBORw0KGgoAAAANSUhEUgAAAWUAAAE4CAYAAACDleKSAAAAAXNSR0IArs4c6QAAAARnQU1BAACxjwv8YQUAAAAJcEhZcwAADsMAAA7DAcdvqGQAAEpySURBVHhe7Z0HlBRF14Y/c06fYgIEzKCCCVFARRFzAAP+ihExB1RETCj4YVZEzGICc0BMGMEsoihmxYQZFQVzDvWfp7Zqp7a2e3ZmNtg7+z7n9Nnt6prq6vR21a3qe/9jhBBCZAaJshBCZAiJshBCZAiJshBCZAiJshBCZAiJshBCZAiJshBCZAiJshBCZAiJshBCZAiJshBCZAiJshBCZIiyFuWePXuaJZZYwnz//fcupXFz4okn2uP5+OOPXcq/x1prrWX23XdftyaEqCvKWpS7detm/vOf/5SNKB9xxBH2eLIgyi1atDC77babWysP3nzzTXPIIYeYv/76y6U0Dn755RfTt29f8/rrr7uUxsHff/9tnnjiCXPQQQeZDz74wKUKiXIjQqJcv1xxxRVmwQUXNH/88YdLaRwgxtwXDz74oEvJPv/3f/9nWrZsaevN8txzz7ktQqLciJAo1y9nnnmmWWihhcyff/7pUhoHzzzzjL0vaHU2Fs4++2y7nHHGGUWJ8rvvvms++eQTt1aeFCXKr732mn3DLbnkkmappZYyhx56qJk2bZrbWgEnrF+/fuaff/4xn332mTnuuOPMf//7X7Pyyiub888/P/WG//TTT80FF1xg2rZtay9Sx44dzR133FGt1UJX7dFHHzV77bWXadasmVljjTXM7rvvbi9WjBdlukYjRowwyy+/vP0NttnPP//c5arKd999Z6688kpb7pxzzmnWWWcdM3bsWPP777+7HBW89957Zv/997fLscceW/n/YYcdZv/efvvtLmeOV155xQwaNMieC2zDm222mT2WJN566y0retR/3XXXtXUYMGCAXY9FmXPNtdl6663NYostZgVz2LBhZubMmS5H6XD+R48ebTp06GD3zfV/++23zUorrZQqyk8++aTZYostrMC1atXK1uWrr75yW0sHswKtwY022sjMO++8ZtVVVzWXXHKJ+fbbb12OqiBSvXr1MiussIJZdNFF7X3Jw//rr7+6HMbeoyeddJK9ZquvvrqZe+65K69n//797d8777zT5c5x4IEH2uvA/XzXXXeZHXfc0Z4f6ubPO/cYv3/++eftesi5555rt3E/x/z8889m3LhxZsMNNzTzzDOPPYfnnHOO+eabb1yOiq4/x04Z3EfsmzqwznHyl8VDXo4rCe7Zu+++263l4LoNHTrU/j99+nQzcOBAe29xj3HOQmbNmmXv+e22286e6/XWW8/qw+zZs12OZHiuqHshonzttdfavCwffvihSy0/ChblSy+91Mw111xmlVVWMTfffLO56KKLTOvWrc0cc8xhXnrpJZcr15VCJHgoEbU999zTLLfccjb9yCOPdDlzPP3003YbF7t79+627E6dOpkFFljACquHGxiBX3jhhc3GG29s8/Fw0OXkt4hFiBflZZdd1gryCSecYG9gfo84hw8n8DDxAHBT0Sql/D59+lgB8C8az7PPPmvatGlTZeG3CPl8881nnnrqKZezAvZLOYg9L6rhw4fbepGfl0/I448/butNPXr06GHPH3lJYwlFmTpxs1IOx8hDtM8++5hFFlnEvjxrY6tDBPfbbz97jTm28847z55TjoN6JInyzjvvbLdzvNdcc40ZPHiwWXzxxe1LqDa22t9++82+qOeff347gIup4eijj7bXknsMkQoZOXKkrWOXLl3sdWRBoPk9fz1cJ3/9OGccK/d1eF057hjKQWy5D7n/aExQLi8rz5QpU2wd4usLiBfbQqEFXhKkUz7HizBy/TmHvFw8nEvuJeq39NJL299wj4T1ZvEg2FzDJLg2NBZiuNbrr7++eeSRR2z5PMNbbbWVbSTQEPLwUqS+PJvbbLONbdTssMMOVi+o008//eRyVqcYUaZM8rLQyi5XChJlThgnYu+993YpOdZcc017kTxelFniFgwtkfCm9SC+iP2PP/7oUnLEF/Sxxx5z/1WF/R111FFurQIvypdddplLqeCBBx6w6dyoIeTnwYzNHbfddpsV8ZpsdrQeKJfyY1544YVqDyCQv3nz5lVaTDxMPADx+dt2221t/lCUacEgyNQ9hB4LeTfddFOXUjz33HOPLSOeZUFvAjGMRdm3ZPhdyIwZM2wLlBduqZx88sn2OOOu68svv2xFEYEOYXZIu3bt3FoOXmKxgHtOOeWUgm3KiBD3PftIE51SRJn7jLK//PJLl5Ij7pV6JkyYYMvKd3+WKsqUS+MgvqYxSc8lPQV+f+utt7qU6hQjyg8//LB9abKUi0kyiYJEmTc1rd6km/Xqq6+2D4sXCi/KdOlijjnmGPs2DaFLRf7Jkye7lNJYe+217Zs0xN9U8QXkocT8QuvDt95oZXOxhwwZYtdjaKXw0KZBi5CWwamnnlqlRV0TtJrDOiLoPAS0kGKSbMqcU1qmSS80ejdcG7qWpUCrd8UVV0wUsdimzL3ByxVRScrPCDtdcVq8xYJwcW5pACSBwIUNA9hggw3s/ngZFsrBBx9clChzLfK1AosVZcwtpMWNiJrAbMDvEK00aiPK9913X1H3tOeHH36w99///vc/l1KdYkQZuM+TTD7lREGi3LVrV9slb9++fbWFli8n1XeTvShPnDjRrod4+3II3UvyF/OwPvTQQ7ZO3GSUx4WnjM0339zlqCBNlIGHlgfQ24p5cMiL+CYdJw/h8ccfb/PGYBfm/CA8+eAc7bLLLma11VazpgZEg32yeOHE1sj6q6++atdDkkTZH0eSkPiH/KqrrnIpxUE96b4mEYsy4kRrmBdK0vmjN8BLrxRRpoXIcWCOSSqbFyx/Qzif1J3f0b1HtBGeNPszcH6LEWWuVT6KFWValKQV2wrE/szv6qulnO+chVx++eX2fmQ/3Af8lgXbfBrFinJToCBRxj7I4NSYMWNSF99SK1aUuYjkLwRuYOrCg4PdCuGia0zLjJYy3fuQmkQ5bP3fe++9Ni83Z9LxsYS2cw+2c8SVVnpsow7BtIJw0xrDHs1ABTekbyljEgAvyrF9HPKJctIAqhdlejOlgChj208iFmUGpzgPW265ZeK5Y7nhhhtKsiu///779jj22GOPxHJZaM0lQUsZ+zN2dsrgxYA9NKkeDGSl9QhjEGUGj/NRrCjfdNNNNq1Yxo8fb3+X9Mx5aiPKNb0kaGxg38bkxnjTG2+8Yb7++uvKljK9xzQkytUp6A7gJqa1kU90PMWKMg8C+RGqmqBbRxeZWQwxDIoU2lJGQEhHWHxXmw8HeNBOP/10u14IDAxig6bVnq8bC9z4SYMTmEuoi28p33LLLXadQbKYJFFm5JwWapL5AjEif6lTiDifnKMkkswXmFGYe1qbAb0kvPkiNlEUC/evHwTlescUa74oVJR5acQkiTKzVkhjFlIxePNFTS1lnuEkaivKDP5xD9JACuGZQJTrsqWMbbsQrWjMFCTKiCAnLmmgD8LuTbGi/NFHH9kbHAGIp03xEDGI4TnrrLPsg89bOGTSpEl29gU3R4i/qRgMChk1apRNp9sXQiuPLnLSdJtY2BiIYZ8scX2SYH+0IkIogx4I23xLmWNGNGgBe9MKkJdpRuQNRdmfb77oCsWEc4nJgPJLhd4IZV9//fUupQJvrokH+pg6Rn6m0MUUInT54NojzEljD0migRAmpWN3RXiTzEPY4BGXQqZbFSLKQHnhc0MjgBkf3uQWijL1xRTDdYt7SvSEkqatgX8+08ZDAGEkD8+Kh3uNaZSk10aUGVRl4DdsmHCcNDDomTDrKY1iRJlxFq4dppFyFuaC+0rMMebk0aWlO8Y0mYsvvtjeQOGsh2JFGXj4ucn9HGLe+FwA3uzYrP1NwYNEF5npRwgAdaCVSquNGQtpLWWEk6ltdON79+5t05hHG8NcaY4HwaHLRfks/fr1sy8DtgPdMgSccmh5sTDVj798psvfCy+80Ob1MGDGzcRULcqk1cs607soJxyMY9CQNKYTMZULkwY3I7NXSA9FGQ4//HD7kDMli/PCnFZs1pSfNH+7UBAMbOzsk6lxXBdak9SL6xiLMvgWIOYcTEIcK2LBw0k3u1To3fi50gcccIAdEKVselqIdfhQ0wqmfrzcGAfw19HPDuEeThos8jNWEEZeLPyGwd2kgbdCRRlzG2Vuv/32dmod13uZZZYxp512mk0PRRm4xxmAZhvzfGk4sH/uH9LTpjjSi6AXyaAa9eYeYNaMt+EzfY/tvlXMhzI8b1wvnp3aiDKD+tx/lMU1p+XOOeZ+5brHLWWeDZ4p5lHzvQH7wPTIc8P9ldSzgHBKXLG9icZEUQYs3si04BBLWpRcTKYqhWaNd955x05vC9/IHrrvaQNHtJgRSuxSlI/QMpc37gpj12UeKftHQDE30Arj4Ytb8lxwPnagFYqI8jDwm3w2Lh5WykLU/D74ICDs7vJhB8eYb4kH/agDx8exUQ/mc5KGCYT8sfnhuuuuqzxOXky85LDVkTfpwxe6yrRYEBREc5NNNkk0aRQLvSAGJzkP1J0ZGXwQwIsgnoLo4cXAA8lDz2/4n+OpLbS+ECjuO3+cCPX999/vclSFngnnkHzUBdMKH1Hkm0nAC4/BZ8qn7thhmeESw0yQuAeRBC/wXXfd1daBhfMH2Lq5lkmDaLQeESieAerNvci9nc9ExksLE0X4/HAcvgcGtND9PcVx+alq/C5pLjbPT9K9mQTCzAvcl419HLj28UwiXjaUm7b4D1Zi+J6B42Ocoy7u7axS/KiCEEKIekOiLIQQGUKiLIQQGUKiLIQQGSKzosycTSGEaGpkVpSTps4JIUS5k1lRLubLOiGEKBdkUxZCiAwhURap8OEOX4SV4rZRCFEaEmWRCp9R88k5nycLIRoGDfTVIy+++KLp3LlzFcdCjQn8F+BnIAz9UxcQpYLP3uvi02shyg2Jcj2CAyScwDRWUcbHBT436qr+OM3Bd4F3KoNTHCFEVSTK9Qje0fAmVkq0jXIE72F+kSgLkUxZ2ZSJBIznMkLP89DT/abrTQSOJMfr+KjFaxgev3AJihcxXHAmxbTDvvrMM89U7gMvXHjEwiVj6Onrvffesx6+cEWItyxcGuJljXW8ceFeM8mBPR748MqFJzGEHM90SfnweocLTfwlDxgwwO4Dd4z4kk4KtgnUDwEkOgT+ffFSh4vE2A0k3ryoJ3X0f6lzmrtI3E7iQpE8uEfFdzO/SYrQEiNRFiKZshFlBBZxxcUkvp9xsI37QFxkInKxU3NcHSJSCCuRkHH/iKtQute4D4ydsiN8uHCkfMrEz653EI5/Zx+OCXFFpFhwk+j9zPo0ltiWittN/DUT0oo4ZzgzxxcuZeN3NwRBxQ8tbhKxy1IPXgz4FKbesanB+xbGFaX3Kc1veGHFkcXx2xzW04fqwhdvDC5OcRGJG01efMRNxA80LyuOJSmcVYhEWYhkykaU8XHMg06Eipikli9O5mk1esf1HkLaIHC0JEMQZVqDOPEO8U7qY8fzgK/pmswX+IX1oY7iFwECze9DEGWct3t/tR5a59Qj9PuMQJMfu3Yc1QWmT5/u/kuG0DtpogxJkaLx34soxyH/YyTKQiRTNjZlnIljgsDpOQKZTwhxLI8o4BSeFm68YKpo166dy10BopwUzZooD5TFSyEGR/A1iTKOxmlNExw0rgemEMp+/PHHXe4KUU6Kmo0Dc/KGYXKY5UBaIREykqhJlD3MYybQAS8YTCW0nnfaaSe3NRnKlSgLUZ2yGujD5kvIHELQ0DqkDMLjIHAhRDlBFBBxYovFC+kNJcqYDBBloijH9SCNsksV5dtuu82mxcdfKIWIMuYQehAcJz0P8rNIlIUojbISZUAAibVG1x/x4uHHbkyIIg8hq0ini40NOGmZNm2ay11BKaJMpOmaRJm4hfweUU2qB0sY+qYUUS6VfKJMbwQbPteJMD0MMlJPWs3Yqn3YozQoV6IsRHXKxqacBjZjhIw4Zx4f+hzxKPQT4lJEGdGvaZ4ysQwR7qToykkUI8rYfElLqnch5BNlZmqwLSleIHHZ1FIWojTKRpT5ei7tc2BmGmDnDCHaL8JMtOAYbM4xpYjyjTfeaPfx8ssvu5TqMIuBljxT4eLIxkzji8PdFyPKlM0sDUSf1mwIL4o44nZMPlFmWiBmHgZGQ4hEzP6SIl2HSJSFSKZsRJlZF4z6My3s2GOPtdPiWJguhgDQlQ/BpOBnTjC1DJEm/x577GHTmNscUooof/3113YbNtcTTzzRlk94/LgcBvmwIZOX1jX5mArXsWNHK9YhxYgyMMeYaXxsY5obNnZ+z5xieg/Mu04jnyi/9tpr1i8Gc8Ipk/O33nrrmXXWWceW3bt3b5ezAsxJzKVmOiF/KZdrRdh41g888ECXU4imTVnZlJn2Rbea8PoM1PG3b9++1ezDHkwXhEbv0aOHnSOMCPJxBgIXw5QzWoEx2Hz5OCSeWufBLMEHFcz02HDDDe0LYNSoUW5rDmaPDBo0qLLu3bt3t+ukh3A8CFwMLwXqkXSsDPThn7pbt272OPkw5dRTT7Ut6Xwwf5oymQWSBMeGoGJb3nTTTe3c8L///tvu6+yzz3a5KuA8U1ba0r9/f5dTiKZNWYmyEEI0diTKQgiRITIrynwGLYQQTY2yGegTQohyQKIshBAZIrOijFtKIYRoamigTwghMoREWQghMkRmRZmPEsS/y/fff2+dN5XqZU4IUTwa6BOp+MgqfPZdV/DFH18S4n+5UGdQQjQlJMr1yJNPPmmjhORz3ZllcOSEKBN+qi7ALzTnA7/LLHiToyUuhMghUa5HcABfkz/lLEOLNinMVbEQ5srH+8N3B4FVH3jgAbP++uvb85Pka0SIpooG+uoRHAo1ZlGuK7BJjx492rpXDZk9e7aNII6DJCFEBWUlynhIw7k6LilplfG3a9euNshoHJQUSMNVJj6HCV5KxGc8liVFYsYL2oQJE+w+iE6ND2S64rT2wtD+eE7DGxuBUJs1a2b9KXfp0sWuIz78veiii1zuHBMnTjSbbbaZdRGKn2JMB3hbi9liiy3M2LFjrZ9ljpV94PYTl5mx72UP9dtrr72sAHKchMzCW13s5xmXomE9OXf8TYtMjdtPAtDiAW/BBRe0kcCpB+5MCwVXppgxhBAVlI0o0xrFkT2+fG+++WYbNBShGzhwoC0rdj+JS8zWrVtbQR45cqTtQt9xxx2mffv21v8wA1EhiCXuO/FvjIN3HOrzgQvi36pVq8rWML6RCeHPgn9hbKcnnHBCZRoL4fhDWEeI8f2MoFF3XGsidLHvZPwp4wqUFw7hpqgH5bMfwvvHPkOee+65yjri93j8+PH2N7gIjcWQIK5hPfGJzG+T/CnjJB8/0byUhg8fbu3F1113nRV+6j116lSXMz+dO3e2oi6EqKBsbMr4E0ZAzjvvPJeSg/BPMTizxyl+HHofGyot4HhwC1FGhOJW43777Wf3mxSuvxDzBdPOaL3S+o6nntGiRoRDWKd++HEOOfLII209cD7vIWbeoosualvSmApikkI5hdQUODXJsT9QP+pTE6+//rotv6YIKEI0JcpGlGkh0iImEgbRN9KczgNCjBjQkiUkfrwQyqguolnjuL0mUSZkFL9HoOJ6eNEqNZo15hbSwqCxxVCTKHsIW0WEcF4I1IOeRp8+fdzWZLhe9EpoKQshcpSNKANRrLFrEqYIMcGeS4stFmgfzTrfUheiXEw063xLqaJcn9GsgVY+kV44z/Qill56aWu+wJSSL3Aqpg/s1RwL4aqEEDkyK8oMpJUKHyVgpx08eHClsIUhmGjVkUZcOfKmLSGliDJx9moSZT7M4PcETU2qA0tIVkT53XfftQOGCPGsWbNcagVECcf+ngahrig3X0BZIZoqmRXlupoSh12VwT8G9Dx0nWnNMWgXi14a9dVSRvCoRzxdLI1iRBm7M2nMDS6FfKJMcFpayEn2+rZt26a2lDfffHMzxxxzFHy8QjQ1ykaUiT6dNIUMmJURzzSgFYk4XHnllS4lR9IAWCmiPG7cOCtczzzzjEupDtPymHnBgFwcrh+YiRFSjChTNlPrGOhDYEOYXVJTsNJ8oswMFAYo4wFOzBkcz5577ulSKuBFiL2fHhDTBoUQyWRWlImMXAx8nLDAAgtYmzJh6/fdd1/bhWYwD2FBPEOY6cAcZbYxt5Z5vPwGWyezMh599FGXs4JSRPm7776z25gixjQ2yme+cyyGX3zxhS2fVjWzMMjHYCMtfIQspBhRBsqmDLb5aN2cH156lB+bHkLyiTJT/zgupuZRJueP/3Ek1aFDhyotZQQZGz1lYe5g7jNf+BFZm79cI0xNQogyG+hjxgJzbZmmxocY/OVhR5iSwHTx9NNPm0MOOcT06NHDfjgydOjQKtPKPNifY6EGBqqGDBliZs6c6VKqQp3OOOMMK1Y77rij/diC+dAxfNKM3Rsxpu7UiXXSQ7BB33fffW4tB1P5qAeDnTHMjrjhhhvshxqIPtMBr7/++rxmFWBAlDL5SCQJjp0WM/Wl7Pvvv986HGJf4UuVVjnl5FvilrwQTZWyEmUhhGjsZFaU6Y4LIURTo2wG+oQQohyQKAshRIaQKAshRIbQQJ8QQmQIibIQQmQIibIQQmQI2ZSFECJDSJSFECJDSJSFECJDyKYshBAZQqIshBAZQqIshBAZIrOiXGq0DCGEaMxooE8IITKERFkIITJEZkWZEENCCNHU0ECfEEJkiLISZWLREfr+0ksvtfH3auKHH34w3bt3LzjcPUFS995779R4fEIIUVvKSpRPP/10GzGZhcCjNUH0aJ//hRdecKnpEFKfvCussIJLEUKIuqWsBvpOPfXUSpEl+nRN+Lwsb731lktNx+dda621XIoQQtQtZSXKhPMfNmyYFedCeO+998xee+1lbr/9dpeSn4ceesjsv//+5vXXX3cpQghRt5SVKAshRGOnrGzKQgjR2JEoCyFEhpAoCyFEhpBNWQghMoREWQghMoREWQghMkRmRfnhhx92/wkhRNNBA33/InfddZe54oorCvLT0Rjg45qLLrrI/Pzzzy7l3+Oqq64yjz/+uFsTovEgUf4XWX/99c2SSy5p/v77b5fSuNl6663tZ+izZs1yKf8eiy++uDnppJPcmhDFM3v2bPPqq6+aTz/91KU0DLIp/4tIlOuPchTlM844w6y00kpurfGAA6/99tvPrWUf3C/ssccelb5uWNZYYw0zefJkl6N+kSj/i0iU649yFOXjjjvOrLLKKm6t8bD88subfv36ubVs89VXX5lFFlnEtG7d2tx555027bnnnjMrr7yyvbc/+OADm1aflJUo//bbb1YQOLE4J0oSuz///NP89NNPbs3Y/8nP7/744w+Xmsyvv/5qvvnmG/Pll1+mlg+k46sZv8t0gX788Ue3pSqhKFM2+Smf40gD+/P3339fmZffJeGPk+WXX36p/N8vaceKPZhyv/76a/Pdd9+l2rt9PcJzkU+Uyc+5KPRcFwNl+evOsUE+Uaau1NnX5ffff3dbag8+vTlOzgtlcx3S4Nr5vJzLpHpw3vz122677cyKK65Yue7/xvvg+Px5ALZzLdkPf9kOPp9fD/Flp0GZ4XHG15PzwO9ZllhiCev4i3uLdf83hP0ljUVw/ORNOo/kD+9/1nkuuHeTngvqyPFz3ak7+0xi/Pjx7r+qLLTQQtZfexr8buDAgfbeqg2ZFeV8wpTEvffeawVuzjnntMLA31VXXbXaib/77rvtmxAGDx5s5p577sr8a665ZrWbxcPFmGeeecwcc8xh8+NbebnllnNbc0yZMsU+OGwnL+XPO++85sYbb3Q5cnhRvu6668wCCyxg/TvzG/Lfd999LldVtthii8qyWRZccEFzww03uK05hg8fbvfNQr39/365/vrrXc4KuPnXWWcde+P5sqlbz549XY6q7L777pX+pTl37du3N0OGDEkUZW7STTfd1LRs2bIyP8f47LPPuhyl89FHH9my/HXn2EaMGGG7zEmizIPZrl27yvz8pQEwceJEl6N0aEWx37Bs7pE33njD5chx3nnn2evi83IuF1tsMXPNNde4HBWMGTOm8vr56+LX/d+xY8e63BXQ/eZ+4t7nWlAHf634iyDBE088YX//yiuv2PWQLl262DKSXhQM6M4333xVjpNrEAaLwJ85ZbP4PH7d1zsEd7gdOnRwazl4Hnkurr32WpeSo1OnTvY+hH333deW689Rnz59bLrn1ltvrXwuqQ8awMLzWigtWrSw+0mClxD7pezevXu71NIoi4E+bkou8pFHHmm++OIL+6bEveYyyyxjll566Spv2XHjxtkTt8MOO5g2bdqYadOmmY8//ticf/75Nv2AAw5wOXNss802dtuJJ55oPvzwQ1s+N+Daa69tBcBDi4MLTVeNB5QWJ6LBzUD94ggniLK/sbnReYPzgHCzcSPGPp5XX3112319+umnK1spRx99tL0Zpk+f7nJVwMP49ttvV1nohvHwEG0lbklww6277rpm6tSptlwWXKBS9oABA1yuCnbaaSdb50GDBtlzxzHyP2ksoSjzcuU68BAjwrRkEI0NN9zQPkRJD1uhcMwLL7ywWWqppWyQAl824kY9YlGmXrzE1ltvPSuUrM+YMcPssssu9nzTiioV7jeOkd7CJ598Yq89A0SdO3e290T4sn///ffteT3zzDPtNed+4r69+OKL7bUJoU7++m2++eZW9MNrykKvLIRzQPnMPkFYiZbz2muv2Xt30qRJLpex2zlPL7/8skvJ4a9PLMrnnnuu/Q2tdo6DunMdEEfOo4fj8fXjevTq1atKnVlCeFHSKIrhvPHsXH311S4lB88PL/qNNtrI1omGDMf4zjvv2Hvdwz2IGONjne1cd54tWvA0PAqFBgt2/SQQZerAsuOOO7rU0igLUaarypuRExPCzcJNGbYEvCgjLDEbbLCBWW211dxaBYglNzgtm7ibF+8PQkEK4QaIo6FwU/HAcmOH8Pamjvvss49LMfaGJ+3NN990KRXQ8kOUsHnVBHYyBori/QH1TurGIgT8zsMNjxAedthhVY6flvYmm2xi6xieg5EjR9oXDy+SEEw6HTt2rFXAAOrA/hghD+GccF5jUWZ/vJQwFYRQF+6hnXfe2aUUD70yXppxNx5xpi74+fbQW6PevMxi4t+HcA+wj5pAlCmfe46XXtJ1hWJFGSFFIBHBpHqm9W4RvqOOOsqtJVOqKHNvcf/X9EJNei45bp5tpqXWBPZ8zlXc+AnhpcoLsLZ258yK8jHHHOP+y8/9999vT9aoUaNsqzdceBsiIMTs83hRTgr/hFC3atXKrVVAl4r8SUKWDx506nbBBRdYMebl0LdvX7e1Am++SHpoqAfmBEDweMB4YcTHyIL4UMc02zUPC+WRJ0kIYujWYt6gFU7LfNlll3VbjDn55JNtqzLJ9JBkU6almPbCoOVC/lJvYsrt1q2bW6tKbFOm5ca+EJSkc0j0dIS1FGglUzYBEJLKZp+h4HMvITSM6P/vf/8zzz//vNuSH+pYyOwLL8o1RYQvVpRpmJC/2FkIiGZNsy9KFWWeqyR7cxr0jHguafFyfjgeGg754Pog3sx9bwga/UAfJ5QTm2+pjShzQ5C/UBA0xImbBcFggAOzB12fPffc0+WqIJ8ot23b1ppXgO20tsJjSlqSRJnBj2233dZuzxcglm7d4YcfbgWX7j2tMswWPCiYgDwHHXSQLStp7maSKPOwJdkKgRcp+W+66SaXUhyM6nN+k4hFma42+8q3lCrKjz32WGJ54RK3wjnfpHH92U59MQEQnDcN7s+4J5eEF2XEJx/FirJvLRYLz/Khhx7q1pIpVZTTnp+YO+64wzZymjVrZsdlMFPSWOJ4zj77bJerOryAyIOdOF8vpi5p9KKMAZ+TVujbu1hRXnTRRW3+pAGPmAcffNCKJ4IWjyRjV0XQQvLdVAiObymznYc2tNkVAnZjbjwerkcffdSlVofuPDZlXgS07EIQvXBA04vyu+++61JyJIkyDzflJnHJJZfY/LzISoFzlGZyiEWZlwj7ovVf13hzE8dTCty72Jf9tCvuoySYO1tMS7muRZnGBfmLnV1Qny3lQkSZcR9sygzWh8LKPczxpJkvsL/z/CPihQh/XZFZUWZwrRCwJdG9ju2HaRQrynw2TP40UQsvsp+RkAR1LLSljI2UfYY2aFqvPCQMZhUCZTIDAxtq0uyMEMwH7O+zzz5zKTl4mHiheJilQF5mjMQww4JtoSjTIqHeSeaf7bff3pqXSqVHjx72hRG/AOnO8jCF9wTXiRcPPYG6bvEwy4EXBGMShZC2f+zPnCsGkJPgBRTfn0kUKsoM6pIvfinS48K0EovyU089ZfOn2YeTxliABtZuu+3m1pJhbIFrFj8LPKc8U7URZerMcxDjz1NSS/nJJ5+09WFMpVAwRWGqYvC7NmRWlIuBkWBOLrMw/KwC7LC0ADFvhBetWFEGbiouPm9OHkA/d5JBwOOPP96uAwJG2bSc2CfpjK4zoo5NioGpEG4qBipuvvlm+yD4uZ/YYbmJwsELhI6HhGMlj98nx8vgQzx4hWhSFx5ktlFf/rIf/oaDMnSlyXvllVdW2ufIw8AF9QvNF4AQMqOE3yEwnBP252eShKKMXZ960wqiTOpNfqZ+kfeII45wOYsHsxRlMP7AcVE2+/At9vhFjW2QdK6Drwsg6ozWF9IbSuOyyy6zZWOr5Fx7qBfTNf15ZZ8cM/n8/G6fjp2e6540Awi4l5nhQUva/466x/UuVJTBXxvuNe6Jzz//3PaOeFnGogw0DnixIZL+OMlDq5NZB0n2XcxCPD8MEnOciDfnJXwuMQ9QZ+5B7g8WhLF58+b22amNKPveLo0O9k8duXdpnZMezwB64IEHbPquu+5q7xP/7DDLxT+nMRwTv2GhXrWhLESZE02riRPCW5XuDgsigYCErctSRJnfM9DGzeHL9wKEXdTDQ4b5gny+DuSn20dLIKmlzHQhP7eVvL5cupYx1Jltcfn8BgH1+Bkj5GVb0nLaaae53BU3FDc/+cPjo9vGNKNYlCnf14P8LNjM6QaSHooyvPTSS5V18XVmnTnQXLtS4bdcs7Bs/mKiwBSQ1HtCqML8vj6MAXBv1IazzjqrWtn8zzUOp2ixH85dmI+FNOqddk4QYMqPr3/8si9GlLknfZ0pi7KZWkprOEmUESju5fA4/e8wryTVnecn6byEUeQRVu4zyqE8Fl4MDEz7l0BMoaKMGFNeWF/K5tsB6hW2lBm0pQ6k85ffxAuiHROKMmJeG8pClIELwwg7wtC/f397wbmg8VuNm4pBn6TpO/w+bXYC+ZnbyowB7H+IVdI0HMrH7Sh1wAucn1nA3FXm/oZg5ySNC8q0PT5m4YH1k/uT4E1Nd5O8CCuCF9v4eHg5xnxLLJzUgbKYXUGLjAebc0pZSeeErjbizPxkbJK02GndUHbSQ8J5oaWKXY9rxPmojSB7uL7U9fLLL7fmGlp6lEv58TF6OF9MS6PuzI7hQYzn+pYC++W8YC6i9U6rj9Yh5yWG80VrDWHgXuFv2rkLoSwEnhcP9yGtSfYZQu+Fsrh2NcF1Zw4zXW96HjwDwPng3k26RvyGe2L06NG2xU8viR5hvuuJ+YqXBPcXJkHuGe7lENb5Ko5GDMLHPUOZST1B4PnhHBYC15zPpjnXmGGoL3CewueHlxBp+Za084o5aOjQobbetaHRD/QJIUQ5IVEWQogMIVEWQogMUTY2ZSGEKAckykIIkSEkykIIkSFkUxZCiAwhURZCiAwhURZCiAyRWVG+7bbb3H9CVIWvvvg0nS/yhCg3NNDXBOGT8VNOOaVauKnGgnf8hEvIuoDP5fEdgiOezTbbzP7lM18+JxaioZEoN0EI64Oo4f+hMYJvAbyy1TbsDuDvA0c4uFbFyxnRYTbeeGN7fhB/CbNoaDIrykle0kTd4L22TZgwwaU0XfAgRsSV2IkMMR85R5wrIRoSDfQ1EHiQws0kLTIcouOHGWfYaS0xvHDRUiN8Db/BK1zsZQ7wWnfhhRfa/9kHwQHwH0v04Nh7GCFxcMlIJG8EB8fjrOPRjL9JzsvxOIaDfyJs47aQiNd07WOXjsRv8y4Q8TpGqxP3iDiyT3PMj0c0Ip0Qth1TBC4VcUOJp7cQfPVSNzyj4eULT3Os53NNiQcxPJ8RPgkn/fihpl6F8swzz9hzhDdAIRoSiXIDgHtDHnAchBPVmIXoEvhrTQpuSVghtiHIBGtEXAiNTxm4qQwh2gU+nBEdfMV26dLFxvZDQOmWh+4U8S2NE3XyURZ/WQ+XEFwUtm/f3pZF+biKxGk+6zglD+natastE/+8iCvhhBBE8hKaKXbryDrHznFSf14iuCLFiTvlIIoeImHH9SQP4pwEfnYpFzE++OCDrV9ljpWFeHqFQCRxyojDYwlR30iU6xn8/eIAnnh7oa9cRAnftbH/XHzlIjrYNsOwQfjRJdQ/IZdCEGUECsfkod9eolGTjs/bGPwxs60mmzLx+BDJOKw6fqJpjbMPjxflfv36VTEF+KAC2IBD6CkgevjXDY+TFjh+mmuy5XJ/pIkyv8feHJ5b/BdTD6JghPsLoXWNL2Qc/iPo+N8VoqHRQF89gzDQEqQrj+P1mqAliognOUY///zzbWsvNGMgykTNiM0JCCkihL00hvBEbMvXNcfWyr7SYqvRgsbs4PGiHDsjpxzS46grTGkj2nepA2n5RDkNwjDxwvMhw0J8/Dm/YBJKE28h6hOJcgNAdARMCTzsRCPGzkr0haQIBR07drSizNSseKG1TRlhYEZEGdNGHGGFFwB5k0SZGG9sy9dSJqKFr29SXQjDEwq2F+U4KgO9AdJjUcbEQSu5VGoSZc45pgvODyGWvFmEEEdJkSOYJkg0CqLL8NLC5EKrOrZvC1HfSJQbEFqmhLpBlBEIhAL7cggDagQlJd5b2hK2RksR5UceecRuSwtlD9hxyYPdN6kOLGFMu2JFmTRs1KWST5QxjXBu/XxjpgAiur6lnNQLiUGMMWHE8e+EqG9kU/6XIGYZ82EJqhl2k4nEzIBcbI5IoxRR9uaLfC1lBhRpVaZFVo4pVpSZUcJMkVJJE2Vs9bTizz33XJeSY+DAgakt5SRoYTNTRYiGRKJcz2AzpUWZZJ8k4GRsD/ZTsZj+lUQsKKWIMkEr2ZYU7TmEGQgM6IXmEk8crLVYUWb2BvUeM2aMS8lBgNW4/Jh8osz+CF4bwkuQ2SCIcthSJuAqof1jXn31VTsWENrNhWgIJMr1DB/B0GWm9cbg0ZtvvmmXm266yYrHGmusUW26GC06tjGFDsEgP9GOaV3GQlqKKEOHDh3sC4HI1ZR/7bXX2rm/4SAYNlZs4Qz4Ma0Peyt5+UQbm3A4XaxYUSZyMXOe2YY559Zbb7V2bGaXIJzY3PORJsrAVEK2My+b+nI+OVZMQ3FLuWfPnrYO1IUI6IgxUxAxXVBGXXw1KEQxyKbcQCAyCAO2Thb+HzVqlNtaHVrMzFAgL6KO8PKRB7bREEQMEYpFmeldDBjymyQQJoTU12f++ee3g3o+9LqHVjw2WrZTD/62bNmy2heXW2yxReKsEWaKkL7//vu7lKr480LZ1IO82IBrokWLFuaEE05wa1Xho5nVV1+9skyOE/8WvEQYwIvryNxljolj8+cCwS/UhCREXSJRbkAQTlqiLPwft5Bj2E5eBDSez1wXUD4izz5qmv7FduqBUNVU72LBxEPZYSu9tlBHxJcyC6kveTg2fy7q43wLUQgSZSGEyBCZFWUNsAghmiIa6BNCiAwhURZCiAyRWVGOp1AJIURTQAN9QgiRISTKQgiRISTKQgiRITTQJxodfKKOI6dCnSUJ0ZiQKDdB+NKNGHqTJ092KY0LYhfir4JPresCnBURuYUQVoTp6ty5s7n66qurfbouREMgUW6C4FsCUYs9qTUmCNVEVJPagt8LH5wWPyE4jSIeIedn2223rfHzcyHqGtmUmyCTJk2yolNTjL6mAK1kwmzFfjdwnco5ImaiEA2JRLmBwDXlRhttZF140jLbe++9zcSJE1M9keElDpeWeDXjN9hP33nnHbc1x6BBgyrdebIPut54WiP+Ha42Q8477zyz++67W+f6CA55WCdAKn+TImvjYvPKK6+0LkYJdIr3tQsuuKCapzVCO3mPdGPHjrX7wPsbHtrw35wE5gGisdAy5TiJfL3rrruaKVOmuBwV4H7T14+/fILPXwK4poEXO+rTqlUr2+vaZJNNzD333OO21gy/5xzli2MoRH0gUW4A+vfvbx9whIRoybjsJM7dUkstZQYMGOBy5cB3MX5/sXFec8015qqrrrIO2ikjFjj8KSPCiE6bNm2sYNHtxjk9YhT6Du7evbsNv09EDcriL+vhEjJr1iyzyiqr2HLwy4wI4tISN6JbbrllFU9q3p8yAovLUV46O+20k1liiSWss3jEPQRR32WXXexxEnsQAcXhfNu2ba2vZhzde6ZOnVqtnvh4TvOn3KVLF1tHfEYPHz7chp0i3h4vFV5cNcHLolevXvZFQaw/IRoS2ZTrGR5wRDMWPKDrHPPoo49acUsS67XWWsuKVgiijNjEYYtorVLOFVdc4VJyPPHEE3ZbTS1HAqMShXv27NkupYK33nrL7vPSSy91KTlR3mqrrVxKBRMmTLDptK5DCGpK2dhwY9Ja1iHcH2mi/MILL1SLqk2PxPuzTrITk4b433zzzaZ58+b2pcZ5EqKhkSjXM/jp5QFHxF588UWXmg4tTVqWSf58aTFTDlFFPGmRRwjhhBiWGqNv+vTpdl8EH02C/dLy93hRDlvmkBZ5hDiE9BZK9c2cT5TTIHBqHHnE89RTT9l6+oUAt0L8G0iUGwCiXrRr184+7HTnMRvQEo5bc4BNmMgX2ELjhRBFlBHGzCslHNT9999vt+UTZabLYeOlvkl1odVJS9pTrCiTRtilUqlJlGnNY9JZfvnl7TFgEmGfaaKMo/2ffvrJzJw507z77ruVIaUUDko0NJkVZcLglxs84NiTGVhDIBBfBrZCsK9iphg/fnzqEg6ylSLKvqWMOKfhzQ6EgkqqAwvdfU8pooytt1TyiXKfPn2smYLBx5deesnMmDHDmid8SzkepEyCwK0Iuvx6i4ZGA33/ErSSsb8yYBXaOHfeeWc726LQ0EiliPJDDz1kt+Wbp0yLEQHbY489XEp+ihVlWtu0ZEslTZQxh1DvpPiHmCTSWspJ0KOJbfVC1DcS5XoGsUyaBwtMNYtF+emnn7atPL5ai6GMWFBKEWUCiLLt0EMPdSnJ9O3b15Ydtog9cYDVYkWZskkfMWKES8lxyy23VCs/Jp8oU+64ceNcSgXMoiA4KsFUw5by6aefnjgjg54Ax37YYYe5FCEahsyKcr45qI0JBvcYuMNXA9O+EBwWxADx6NGjR7XBLuYTs43uMy0+8g8dOtS2oAmXH1KKKANRsBF/bNuUjykBezZ2VQ9T4tq3b2/LOeSQQ+zMBPISmZo05g97ihVlhJFpdWzjt8OGDbNT4nr37m3TxowZ43Imk898wefXDK6eddZZtr684JjpQas/Nl8guuyPOeRMRbzxxhvtzBDKZxrd559/7nIK0TBooK+BQGSYN7viiivaUP6dOnUyZ599tttaHaaFIdh8rEELb7311rMt7vhjEz4qYRYDA1UhhPZHaPhNEthZsRcz/xlTAgOR2LoR4hBa8bRm2c78Y+qDmMYfeCBk7C/uERDun/TTTjvNpVQF50LY0Smb88LcbGZ+1ASmn5EjR7q1qjCwitmBc83x8RJhnjStZT5qievIFDqOiWOjDhwrxxP2YIRoKCTKQgiRISTKQgiRITTQJ4QQGUKiLIQQGSKzoowTHyGEaGrIpiyEEBlCoiyEEBkis6KMtzQhhGhqaKBPCCEyhERZCCEyhERZCCEyhAb6hBAiQ0iUhRAiQ0iUhRAiQ8imLIQQGUKiLIQQGUKiLIQQGUI2ZSGEyBASZSGEyBAS5Qbm3HPPNbfddptby8/XX39tjjrqKDN79myXkp8nnnjC5v/tt99cihCisZFZUb7jjjvcf+XDkUceaUPcE2m5EGEm8CeRqpdaainzww8/uNR05p9/fpu/Z8+eLkUI0djQQF8DQoRlwtmzXHHFFS41HZ93zjnnNN9++61LTcfnJ3q0EKJxIlFuQN58800byv6AAw4wv/zyi0tNh9Z0x44dbYj/f/75x6Wmc/TRR5suXbqY5557zqUIIRobmRXliRMnuv+EEKLpoIE+IYTIEBJlIYTIEBJlIYTIEBroE0KIDCFRFkKIDCFRFkKIDCGbshBCZAiJsqjGn3/+aV555RUzY8YMlyKEaCgkyqIaN998s/1ce80113QpQoiGQjbleuDnn3+2olaIf4ssgie7eeaZxzpEqg+uvPJKe37OPPNMlyKE8EiU64HPPvvMik5j9nT31Vdfmd9//92t1R2zZs0yc801l0RZiBQkyvXAyy+/3KhbyvUFTpWWXnpps++++5oWLVpIlIVIILOivPfee7v/CgNfxa1atTKLLLKI9Vncrl07c9BBB9kWXxKjRo0yq622mvU/PN9885m2bduaq666ym3Nsf/++5tu3brZ/3Egzz5o6S2//PJm+PDhNt2D2FBO69atrSgjPKyvs8469m+HDh1czhy//vqr/d2yyy5rXXQuvvjiZuONNzaffvqpy1EB+95kk03s/8cff7xp06aNrQe/GzZsWKIXuT/++MMMGDDAHucCCyxg67Tyyivb/CEzZ8609WNZa621rGc6/sfrXBrnnHOO6dSpk1liiSXM3HPPbZZZZhnTp0+fVAf7tLpXX311u+AbmvwSZSGqUxYDfYccckhly5RW6uTJk+3/W221lbnoootcrhynn366FeL+/fubSZMmmRdeeMEKEGVceumlLlcFPXr0sOn4KN56663NjTfeaEaPHm022GADK0bvvfeey2nMDTfcYC688EJz7LHH2t/stttudj1cQujKI+4IJb9lxsODDz5oB9hID917UhZldu/e3Wy22WY2P3Xp2rWrFfOpU6e6nBUQrQQ3nji+5zjvvPNOe15OOOEE62T/oYcecjmN+emnn6rVE7HdcccdXY6q8IJo1qyZOfnkk83DDz9snnrqKfv/HHPMYa9FEn477ktBoixEMmUhymuvvbZtwcb8+OOP1VqQuARF3AYPHuxScvTt29eKRYgX5Tj/tGnTbPqhhx7qUnIgrmxDvPOB6NFSjx3YI9aIKS19jxflgQMHupQKPv/8c5tOazsEEaTspDqk9R5COJ9posxUubjOnGda8tQlLv+ee+6xLzAE3CNRFiKZsjBfIKaIwSmnnGKmTJlivvvuO7elOuRF8Omyx8vYsWNtOW+88YbLnRPlOE4e66TjtD7mpZdestvy2ZQ/+eQT28KlNZtUF0I6YfbweFGOBY9WLunetOFZbrnlzIYbbujWiiefKIcwqPn666+bBx54wJovqMsHH3zgthp7Lml185IIkSgLkUzZDPTRpW7evLkVBRbsso899li1GQS9e/euzJO21FaUMYew7eqrr3Yp1cHs4feXttRGlEnjWEslnyhjVrnvvvtMy5YtzcILL2zzYovmRcB+p0+fXpmPaXWrrrqqPd5wWXLJJa29m/+///57m18IUUai7Pnyyy+tGNI6QyBYwsEn4uQx8FUopYgyrXW25Wspv/XWWzYPA2aFUKwoY7/ddddd3Vrx5BPlbbfd1g5Ixvb3M844w9bFt5SxNTPfOWkhHz0F/udjFSFEBWUnyh5snAxY8fAz+OdBOBCDWGTTqE1LmcG1NJh1QR4G9AqhWFHeYost7MyMUsknyszkiGeewDXXXGPr4kX577//th/SJC1MjRs6dKj9n8+6hRAVlMVAH4L10UcfubUcF198sRUJP+IPH374oW3lrbLKKi4lBwKHrTekFFHGps229u3bu5RkmBlCi/aSSy5xKTmoZ0ixonzttdfa9E033dSl5ODFxEyMfOQTZcqNBxw5/8zqYJs3X+RDNmUhkmn0oow4YnulG8w84O23394uTBtDIIgcHbfE/EAc83xpUZIfUUOsMW+ElCLKMGTIECu41Gm77baz+2Dubyi21OvEE0+05TB/F7MA+fgNaRMmTHA5ixflv/76y5pG2EarlEE/6sp+SKvpa8N8okwdOd+Uyf/Ma2a2CLMrKDt+sSUhURYimbJoKcOLL75ou8N87IGA8YHFvffem/hRBSCqdLeZw4toIqKICh9chDCdi5Zs/FEE66SzjyQwTzDQyEctlM9+mFfMdLcQ6ocNmvpiA6b+lMsAWAjzikkP5y4D9SX9rrvucilVeeedd2zLGPHcc889rV8LptHVBFPpxo8f79aqwuApx8I0POp7/fXX2+MF6lLIwB0teV6OQoiqlK1NWQghGiMSZSGEyBASZSGEyBBlY1MWQohyQKIshBAZQqIshBAZIrOijDc3IYRoamigTwghMoREWVSDD2PwAvf222+7FCFEQ5FZUW7MQUcbO95vRn1FsxZCpKOBvnqAGHSIWmMNnMrn5/jLiP1plAqfYnM+khY8+QkhckiU6wGicSA4SYFYGxOE06oLcGaPf+swBuDll19u/+LmVAiRQ6JcD3h/yo21pVzXrLvuumaFFVZwa0KIfJTNQB9uLxdbbDEz77zzWif2iDohoWi1JkFEax8eHxee5D/ppJPc1hy9evUy7dq1s//j7W2RRRaxLjkXWmihaiH4N998c1uO9ytMHtbDJQbXm507d7ZBTimXKNuET3r++eddjgr222+/yogpeMFjH74e/fr1S/SGhze3nXbaqfI4qRPnKAzICkRrCevYpk0b+5eYe2kcdthhNgo39eV8t27d2nTq1KmaFztAlClTCFEzZSHK3tcw7ivxV8yCqBHlOsml5bHHHmujZ+BkHtEmP5E0SBs2bJjLVYH3p4wvZFxVUi4O4rfaaisrRkSu9rCN+dWXXXaZ/c0xxxxj18MlBN/IiCT1fPbZZ62jeOID4uOZ9NB84I8R39H8z75YEF3EmdBLIZSNk31Ee+TIkWbq1Kn2OAmVRXy8J5980uWsEO+4nvg7TvOnzAuiRYsWNowT9aXe1113na1HUggqfC/jNpQ64BKU38X+qYUQFZSFKCNqvjUbE7cgmeqFuCGcMbQ44/BMXpTxHxzy/vvv2/R99tnHpeRAfNh20003uZRkunbtagOP0loO+eabb6woM0Dm8aIc1/uLL76w6bEY4r+Z9EceecSl5MgX7duTz8k9ghrXGagjL7ZPP/3UpVRAPVhosfNyo1dACxtx936YhRAVlIVNedCgQfahR8TGjh1rhSoNIpHQ9fct6nC59dZbbTm1jWZNTEC25bMpI1zk6datW2JdevbsWato1rxcMIuUSj5RDiHUFsJ/wQUXmO7du9u6xKG57r77bjNp0iS3VhEAAKf+5CUwgRAiR9kM9J133nm2FYZNmYedkEpEwYgjhmB7Znu+pbai7Af6iMiRBvvw+0tbaiPKpPXu3dutFU9NLWXOLSYObMm0+HfffXdbX/brA6fWBNdojTXWcGtCCCgbUfbQ9R83bpwVCgSCJQxPtMcee5iVVlrJrdVMKaL82muv2W35WsoIF3lOO+00l5KfYkWZgT1a26WST5SxeXN9br/9dpdSAWGnqEshMfoAO3Pz5s3dmhACysKmTJDQJIiRx0cQYSw4BvSwbcYx8NIoRZSJucc2BhLToAWPsDVr1iw1jmBIsaLMTBHKJoR/EjXtM58osz8ihcf46OFhS5lBxL///tut5SCNgKsEXxVC5CgLUebhJkBozODBg81yyy1n3nrrLZdi7JQtZgksu+yy1YSJdWY0hJQiyuyDbRtttJFLSeaBBx6w+ahnzLRp09x/FRQryrRiSWeaWnic/H/44Yebxx9/3KUkU5MoH3HEEW6tAs4/s1HYFk5D7Nu3rx3Qi881g6rk1Rd9QlSl0YsyLU7mIyMITPXiIwUWxJiH/pRTTqnWUmMgjW108ek++/zYo7GNhpQiynDppZda8fd14iWw+OKLV3l5UC++bKMctrVs2dLm5TfMYiCCtadYUUYEmX7GNsqix8A0NmZ7UK/aiDJ14XxTpq8v85A//vhju7+wpcxUvbAO5KenQtpxxx2X2IoWoilTNjblGTNm2NkTp556qjnqqKOs2L366qvVWmgeuvXPPPOMnblBa+6WW26xLerYFIJ9mDm9f/75p0upgHXS2Z4EYoPZhFkJiA8DkeSPzQnUDzHD/nzwwQfb+k+YMMHMnDnT5aiAuvH7P/74w6VUQH1JD+dLhyDizNVm1snAgQPN/fffX9CUOHoM4YBnCMfOvOqTTz7ZzsXmPPp6UZd4mhvzrUkfMWKEPdf8pSeQZnYSoilTdgN9QgjRmJEoCyFEhiiLgT4hhCgXJMpCCJEhJMpCCJEhZFMWQogMIVEWQogMIVEWQogMkVlRTnJOL4QQ5Y4G+oQQIkNIlIUQIkNkVpSTwhgJIUS5o4E+IYTIEBJlIYTIEBJlIYTIEBroE0KIDCFRFkKIDCFRFkKIDCGbshBCZIiyE2Vi2b3++utuLT/E0XvuuefMt99+61Ly880339jYdHG8PiGEqCvKSpTvu+8+GzWZ36YFNA0hiCcRlueff/6ChHn11Vc3yyyzjOnVq5dLEUKIuqWsbMpEgiZ0Pcv+++/vUtPxeVkmT57sUtPxeZs3b+5ShBCibikrUcYUgWguvvji5osvvnCp6Zx99tk2/3rrrVctLH4SnTp1svkHDx7sUoQQom4pK1GGn376yfzwww9urWa++uor89dff7m1/JBv5syZbk0IIeqezIpynz593H9CCNF0KKuBPiGEaOxIlIUQIkNkVpT33Xdf958QQjQdym6gTwghGjMSZSGEyBASZSGEyBAa6BNCiAwhURbVeOKJJ0yLFi3M7rvv7lKEEA2FRLke+OOPP8yhhx5qnnrqKZfSuBg2bFjl5+q1Zfz48aZjx45mwIABLiUHvkq22WYbtyaEANmU64HPPvvMitqYMWNcSuPjpptuKtgFaj5Gjx5tz8XCCy/sUnLsueeecu4kRIREuR547733rBBdccUVLqXpgigvtthi1j3q0Ucf7VIrkCgLUZ2yEeVJkyaZ7bbbzrRq1cosuuii5uCDDzYvvfSS+e2331yOqrz//vvWvSf+kTGV9OvXz0ybNs1tzXHOOeeYk08+2f7PPrbffnsrMN26dTPvvvuuTffcdttttpyePXtaUd54443t+qBBg+zfgw46yOXMgZOjCRMmmM6dO5t5553X+my+/PLLzS+//OJyVHDxxRebE0880f7/wgsv2H2Qv2vXrubtt9+26TE48Z86darZb7/97HFSJ+zEr776qstRAb6kqZ+v4yGHHGL/v+GGG1yO6rzzzjvmrLPOMu3atTMLLbSQrf/DDz9s9xmCKLdp08acccYZZo455jDfffed2yJRFiKJsrApI2IIzgYbbGCuvvpqc8EFF5j27dvbLjNCHTN27FgrEAjVueeeay666CKz8sor2zIY5Arp0aOHTUekFllkEdO9e3ezySabWGf6iPPvv//uchor1Mstt5xZaqml7G9oIbIeLiG8MKgz4ko9r7vuOnPYYYfZcrHDhgK322672TKPPfZYK4Lsi7osuOCCZq655rJRUUIQ+5NOOskeJ478d911V3teEME555yziuB++eWX1epJmTvuuKPLUZV99tnHzD333KZZs2amf//+ZujQofZ/6se1CEGUsU3/+OOPdjt2ZI9EWYjqlIUor7322qZt27ZuLceMGTOqueV88803rSghav/8849LrWhV7rDDDqZ169YupQIvyuwjLGvKlCk2nRZgDPtgW03mi1NOOcWK30cffeRSKvDmj+OPP96l5ER5jTXWqFIPnxcBDrnqqqsqewDhcfI/tuIwLQl6HGmi/Morr5gPP/ywShnUab755rMvgdmzZ7vUnCgDfqjZzksAJMpCVKcsRJmuM+IWt3KTOO6446x4JDm1pwWNYCN0Hi/KcUt01qxZNn3LLbd0KTkwL7Bt1KhRLqU6lEedadEnsdVWW9lWtMeLMi+aEN8CpfUegnivssoq1cwJhZJPlNPgBUVdpk+f7lKqijIiTm+D1j5IlIWoTmZF+fHHH3f/1czXX39dGRVk2WWXNRtuuKFthSbF3UPc6P4TbSResI9SxhtvvOFy50Q5bP0B66QniTK2bLblaykj/LwA6PYn1QWTwzrrrONy50QZp/whOPUnPRZl0vhNqdQkyswwwWkULxXy8qJjnywffPCBy1VVlAFTB+YabPoSZSGqUzYDfUC3/Pzzz7cPO+JAV5mBrbC7v+2221rhphWbtoQCXIoo+5by9ddf71Kqg/CTp3fv3ol1YBk3bpzLXZooU3ap5BPl008/3drrKZ9gtbxg6Hn4ljKmDU8syuSjF3TCCSfYXotEWYiqlJUoh/Dw82ECIhFGtmYGAwNx8eyGNEoR5ZdfftluyzdPmVkImC9o4RdCsaJMq3/NNdd0a8WTT5QZwDziiCPcWg4GTKlLvpYyIMYMlBJNXKIsRFUyK8pMLyuUW2+9NTEunx+MC6eA0Zqmq530JRlf4sXllCLKH3/8sd3G9Ll80FpkFgPmjpjvv//e/VdBsaI8ZMgQmz58+HCXkuP555+3dcxHPlGmXHokIZy3Dh062G1h2UmiTJ15MbZs2VKiLEREox/owwywxBJL2AEkWsFPPvmkXfgiDYFYccUVrQiEXHPNNXYbU88Y3CM/09GYI8zUsZBSRBkwkyC41IkByGuvvdZOewvLoV7ejn3ggQeaiRMn2rrwG9ImT57schYvyvQUeCmwDRv7hRdeaE0NzN8mjRdCPvKJ8vrrr2/NFyNGjLD1ZZobrf5evXrZstMG+kKY+01eibIQVWn0ouzBVLD88svbFhgizcO+1157pc4+wA6KuDCgRnec3x5++OHm559/djkqIIDrCiusUOWjB2Cd9LQAr4gvwuPL5y8CHn9wQv1Gjhxp60u9qT/T+xDQEHxpsD8GNUOoL+nxy8Rz11132bKpA+cUR0Oh2Kex0UYbmQMOOMCtVYVWMdMHl1xySVtfZokwGwWoS9hSvvPOO1PNKLyQwhkmQogyEmUhhCgHynagTwghGiMSZSGEyBASZSGEyBCyKQshRIaQKAshRIaQKAshRIaQTVkIITKERFkIITKERFkIITJEZkVZoeeFEE0RDfQJIUSGkCgLIUSGyKwoH3PMMe4/IYRoOmigTwghMoREWQghMoRsykIIkSEkykIIkSEkykIIkSEyK8rjxo1z/wkhRNNBA31CCJEhJMpCCJEhMivKU6ZMcf8JIUTTQQN9QgiRITIryiNGjHD/CSFE00E2ZSGEyBASZSGEyBASZSGEyBASZSGEyBASZSGEyBASZSGEyBASZSGEyBASZSGEyBASZSGEyAzG/D83n77r3w+BWAAAAABJRU5ErkJggg==)\n",
    "\n",
    "</div>"
   ]
  },
  {
   "cell_type": "markdown",
   "metadata": {
    "id": "tdilipiz787V"
   },
   "source": [
    "#### **1.3.8.1 Sentencias condicionales**\n",
    "\n",
    "Las __sentencias condicionales__ son estructuras de programación que permiten ejecutar cierto bloque de código si se cumple una condición especificada. En las sentencias condicionales, siempre habrá una condición después de la palabra clave.\n",
    "\n",
    "\n",
    "\n",
    "*   **Sentencia if-else simple**: Las sentencias __if-else__ en programación permiten tomar decisiones dentro de un algoritmo. La estructura básica es la siguiente:"
   ]
  },
  {
   "cell_type": "markdown",
   "metadata": {},
   "source": [
    "```python\n",
    "if condición:\n",
    "    bloque de código a ejecutar si la condición es verdadera\n",
    "else:\n",
    "    bloque de código a ejecutar si la condición es falsa\n",
    "```"
   ]
  },
  {
   "cell_type": "markdown",
   "metadata": {
    "id": "KFV1BZTdAD6D"
   },
   "source": [
    "El flujo de control funciona así: primero, se evalúa la condición. Si la condición es verdadera (`True`), se ejecuta el bloque de código dentro del `if`. Si la condición es falsa (`False`), se ejecuta el bloque de código dentro del else. Por ejemplo:"
   ]
  },
  {
   "cell_type": "code",
   "execution_count": null,
   "metadata": {
    "colab": {
     "base_uri": "https://localhost:8080/"
    },
    "executionInfo": {
     "elapsed": 6562,
     "status": "ok",
     "timestamp": 1721913676845,
     "user": {
      "displayName": "Carlos Mario De Oro Aguado",
      "userId": "15013802953564343948"
     },
     "user_tz": 300
    },
    "id": "kcusMQnYADRw",
    "outputId": "6094e8c1-ade6-4dad-89d9-a6e439f81dcc"
   },
   "outputs": [],
   "source": [
    "# Definición de la variable\n",
    "edad = 25 \n",
    "\n",
    "# sentencia if-else\n",
    "if edad >= 18:\n",
    "    print(\"Eres mayor de edad\")\n",
    "else:\n",
    "    print(\"Eres menor de edad\")"
   ]
  },
  {
   "cell_type": "markdown",
   "metadata": {
    "id": "XoekiaCqAfZt"
   },
   "source": [
    "*   **Sentencia if-else anidada**: Las sentencias __if-else anidadas__ permiten manejar múltiples condiciones en un algoritmo, ejecutando diferentes bloques de código según diversas situaciones. La estructura básica de una sentencia `if-else` anidada es la siguiente:"
   ]
  },
  {
   "cell_type": "markdown",
   "metadata": {},
   "source": [
    "```python\n",
    "if condición1:\n",
    "     bloque de código a ejecutar si condición1 es verdadera\n",
    "    if condición1_1:\n",
    "        bloque de código a ejecutar si condición1_1 es verdadera\n",
    "    else:\n",
    "        bloque de código a ejecutar si condición1_1 es falsa\n",
    "else:\n",
    "    if condición2:\n",
    "        bloque de código a ejecutar si condición2 es verdadera\n",
    "    else:\n",
    "        bloque de código a ejecutar si condición2 es falsa\n",
    "```\n"
   ]
  },
  {
   "cell_type": "markdown",
   "metadata": {
    "id": "JbaHFBSZBM1x"
   },
   "source": [
    "Cada `if` o `else` dentro de otro `if` o `else` se denomina __anidado__. Esta estructura permite evaluar múltiples condiciones de manera secuencial. Por ejemplo"
   ]
  },
  {
   "cell_type": "code",
   "execution_count": null,
   "metadata": {
    "colab": {
     "base_uri": "https://localhost:8080/"
    },
    "executionInfo": {
     "elapsed": 5787,
     "status": "ok",
     "timestamp": 1721913739260,
     "user": {
      "displayName": "Carlos Mario De Oro Aguado",
      "userId": "15013802953564343948"
     },
     "user_tz": 300
    },
    "id": "JX0ZHyUABLXG",
    "outputId": "c7ebb27f-7ec4-467c-9547-60494545ec83"
   },
   "outputs": [],
   "source": [
    "# definición de la variable\n",
    "nota = float(input('Escriba la nota que obtuvo en el examen '))\n",
    "\n",
    "# sentencia if-else anidada\n",
    "if nota >= 90:\n",
    "    print(\"Excelente\")\n",
    "else:\n",
    "    if nota >= 80:\n",
    "        print(\"Muy bien\")\n",
    "    else:\n",
    "        if nota >= 70:\n",
    "            print(\"Bien\")\n",
    "        else:\n",
    "            print(\"Necesita mejorar\")"
   ]
  },
  {
   "cell_type": "markdown",
   "metadata": {
    "id": "95IyvHqsBtTY"
   },
   "source": [
    "*   **Sentencia if-elif anidada**\n",
    "\n",
    "La sentencia __if-elif__ en programación es una forma abreviada de manejar múltiples condiciones consecutivas sin necesidad de anidar múltiples `else-if`. La palabra clave __elif__ (abreviatura de `else if`) permite evaluar una nueva condición si la condición anterior es falsa, simplificando la estructura del código y mejorando su legibilidad. La estructura básica de una sentencia `if-elif` es la siguiente:\n",
    "\n",
    "```python\n",
    "if condición1:\n",
    "    bloque de código a ejecutar si condición1 es verdadera\n",
    "elif condición2:\n",
    "    bloque de código a ejecutar si condición2 es verdadera\n",
    "elif condición3:\n",
    "    bloque de código a ejecutar si condición3 es verdadera\n",
    "else:\n",
    "    bloque de código a ejecutar si ninguna de las condiciones anteriores es verdadera\n",
    "```"
   ]
  },
  {
   "cell_type": "markdown",
   "metadata": {
    "id": "tULLvPhGC2Ra"
   },
   "source": [
    "Cada `elif` es evaluado solo si las condiciones anteriores son falsas. Si una condición `elif` es verdadera, su bloque de código correspondiente se ejecuta y las demás condiciones no se evalúan. Por ejemplo"
   ]
  },
  {
   "cell_type": "code",
   "execution_count": null,
   "metadata": {
    "id": "CCQZTbAnC8A3"
   },
   "outputs": [],
   "source": [
    "# definición de la variable\n",
    "nota = float(input('Escriba la nota que obtuvo en el examen '))\n",
    "\n",
    "# sentencia elif anidada\n",
    "if nota >= 90:\n",
    "    print(\"Excelente\")\n",
    "elif nota >= 80:\n",
    "    print(\"Muy bien\")\n",
    "elif nota >= 70:\n",
    "    print(\"Bien\")\n",
    "else:\n",
    "    print(\"Necesita mejorar\")"
   ]
  },
  {
   "cell_type": "markdown",
   "metadata": {
    "id": "Rc6kpZqoD9as"
   },
   "source": [
    "#### **1.3.8.2 Sentencias repetitivas**\n",
    "\n",
    "Las __sentencias repetitivas__, también conocidas como __bucles__ o __ciclos__, son estructuras de programación que permiten ejecutar repetidamente un bloque de código mientras se cumple una condición específica o durante un número determinado de iteraciones. Estas sentencias son esenciales para automatizar tareas repetitivas y para procesar secuencias de datos de manera eficiente. Los tipos más comunes de sentencias repetitivas incluyen:\n",
    "\n",
    "*  **Bucle For**: El bucle `for` es una estructura de control de flujo que permite iterar sobre una secuencia de elementos (como una lista, tupla, cadena, conjunto o rango) y ejecutar un bloque de código para cada elemento de la secuencia. Este tipo de bucle es muy útil cuando se sabe de antemano cuántas veces se debe repetir el bloque de código, o cuando se quiere realizar una operación en cada elemento de una colección. La estructura básica de un bucle for en Python es:\n",
    "\n",
    "```python\n",
    "for elemento in secuencia:\n",
    "    bloque de código a ejecutar para cada elemento\n",
    "```"
   ]
  },
  {
   "cell_type": "markdown",
   "metadata": {
    "id": "P9T2UD_QGAqJ"
   },
   "source": [
    "Aquí, elemento es una variable que toma el valor de cada elemento en la secuencia durante cada iteración del bucle. El bloque de código dentro del bucle se ejecuta una vez por cada elemento en la secuencia. Por ejemplo"
   ]
  },
  {
   "cell_type": "code",
   "execution_count": null,
   "metadata": {
    "id": "6-b2SiBXLnaZ"
   },
   "outputs": [],
   "source": [
    "# Definicion de variable\n",
    "palabra = \"hola\"\n",
    "\n",
    "# Iterar sobre una cadena\n",
    "for letra in palabra:\n",
    "    print(letra)"
   ]
  },
  {
   "cell_type": "code",
   "execution_count": null,
   "metadata": {
    "id": "J4wUyimNLunO"
   },
   "outputs": [],
   "source": [
    "# Iterar sobre un rango de números\n",
    "for i in range(5):\n",
    "    print(i)"
   ]
  },
  {
   "cell_type": "code",
   "execution_count": null,
   "metadata": {
    "id": "yUdQrbiYGFdu"
   },
   "outputs": [],
   "source": [
    "# Definicion de variable\n",
    "frutas = [\"manzana\", \"banana\", \"cereza\"]\n",
    "\n",
    "# Iterar sobre una lista\n",
    "for fruta in frutas:\n",
    "    print(fruta)"
   ]
  },
  {
   "cell_type": "markdown",
   "metadata": {
    "id": "4FNGTLWqMNvv"
   },
   "source": [
    "Dentro de un bucle `for`, se pueden usar las declaraciones __break__ y __continue__ para controlar el flujo del bucle:\n",
    "\n",
    "*   **break**: Termina el bucle prematuramente, es decir, sale del bucle cuando se cumple una condición específica.\n",
    "*   **continue**: Salta a la siguiente iteración del bucle, omitiendo el resto del bloque de código para la iteración actual."
   ]
  },
  {
   "cell_type": "code",
   "execution_count": null,
   "metadata": {
    "id": "OdKHiuh9MEKm"
   },
   "outputs": [],
   "source": [
    "# definición de variables\n",
    "numeros = [1, 2, 3, 4, 5]\n",
    "\n",
    "# uso del break\n",
    "for numero in numeros:\n",
    "    if numero == 3:\n",
    "        break  # Sale del bucle cuando numero es 3\n",
    "    print(numero)\n",
    "\n",
    "# uso del continue\n",
    "for numero in numeros:\n",
    "    if numero % 2 == 0:\n",
    "        continue  # Salta a la siguiente iteración cuando numero es par\n",
    "    print(numero)"
   ]
  },
  {
   "cell_type": "markdown",
   "metadata": {
    "id": "wdq1a2XvVOnP"
   },
   "source": [
    "*   __Bucle While__: El bucle __while__ son estructuras de control de flujo que permiten ejecutar repetidamente un bloque de código mientras se cumpla una condición específica. La estructura básica de un bucle while es la siguiente:\n",
    "\n",
    "```python\n",
    "while condición:\n",
    "    bloque de código a ejecutar mientras la condición sea verdadera\n",
    "```"
   ]
  },
  {
   "cell_type": "markdown",
   "metadata": {
    "id": "yJ_8OVVsVo3m"
   },
   "source": [
    "El flujo de control funciona de la siguiente manera: primero, se evalúa la condición. Si la condición es verdadera (`True`), se ejecuta el bloque de código dentro del `while`. Después de ejecutar el bloque de código, se vuelve a evaluar la condición. Este proceso se repite hasta que la condición se vuelve falsa (`False`). Por ejemplo en Python:"
   ]
  },
  {
   "cell_type": "code",
   "execution_count": null,
   "metadata": {
    "colab": {
     "base_uri": "https://localhost:8080/"
    },
    "executionInfo": {
     "elapsed": 419,
     "status": "ok",
     "timestamp": 1721918573241,
     "user": {
      "displayName": "Carlos Mario De Oro Aguado",
      "userId": "15013802953564343948"
     },
     "user_tz": 300
    },
    "id": "KbT-QzBdV09G",
    "outputId": "d7402fcf-de2f-4472-f2b9-a6b68a9b9b64"
   },
   "outputs": [],
   "source": [
    "# definición de variable\n",
    "i = 0\n",
    "\n",
    "# iteración con el bucle while\n",
    "while i < 5:\n",
    "    print(i)\n",
    "    i += 1"
   ]
  },
  {
   "cell_type": "markdown",
   "metadata": {
    "id": "mYnkvDuPWH9d"
   },
   "source": [
    "Tambíen, dentro de un bucle `while`, se pueden usar las declaraciones `break` y `continue` para controlar el flujo del bucle. Por ejemplo"
   ]
  },
  {
   "cell_type": "code",
   "execution_count": null,
   "metadata": {
    "id": "oV-wERYGWWVt"
   },
   "outputs": [],
   "source": [
    "# definición de variable\n",
    "i = 0\n",
    "\n",
    "# uso del break\n",
    "while i < 10:\n",
    "    if i == 5:\n",
    "        break  # Sale del bucle cuando i es 5\n",
    "    print(i)\n",
    "    i += 1\n",
    "\n",
    "i = 0\n",
    "\n",
    "# uso del continue\n",
    "while i < 10:\n",
    "    i += 1\n",
    "    if i % 2 == 0:\n",
    "        continue  # Salta a la siguiente iteración cuando i es par\n",
    "    print(i)"
   ]
  },
  {
   "cell_type": "markdown",
   "metadata": {
    "id": "E8yg6nNjpPrz"
   },
   "source": [
    "### **1.3.9 Funciones en python**\n",
    "\n",
    "Las funciones en Python son bloques de código diseñados para realizar tareas específicas y se pueden reutilizar en diferentes partes del programa. Definir y usar funciones te permite organizar tu código de manera más efectiva y reducir la redundancia."
   ]
  },
  {
   "cell_type": "markdown",
   "metadata": {
    "id": "x0cMB-UAtwp2"
   },
   "source": [
    "1.   **Definición de una función**: Una __función__ se define utilizando la palabra clave `def`, seguida del nombre de la función y un paréntesis que puede contener parámetros. Dentro del bloque de código de la función, se especifican las instrucciones que se ejecutarán cuando se llame a la función.\n",
    "\n",
    "```python\n",
    "def nombre_de_la_funcion(nombre):\n",
    "    \"\"\"Esta función recibe un nombre (input) y muestra un saludo (output).\"\"\"\n",
    "    cuerpo\n",
    "    return respuesta\n",
    "```\n",
    "\n",
    "Por ejemplo"
   ]
  },
  {
   "cell_type": "code",
   "execution_count": null,
   "metadata": {
    "id": "TZHfl_Q6uChh"
   },
   "outputs": [],
   "source": [
    "def saludar(nombre):\n",
    "    \"\"\"Esta función recibe un nombre (input) y muestra un saludo (output).\"\"\"\n",
    "    saludo = f\"Hola, {nombre}!\"\n",
    "    return saludo"
   ]
  },
  {
   "cell_type": "markdown",
   "metadata": {
    "id": "j_GrftEJztSP"
   },
   "source": [
    "**Observación**: Las variables creadas dentro de una función son variables locales (son válidas dentro de la función donde se usan)."
   ]
  },
  {
   "cell_type": "markdown",
   "metadata": {
    "id": "dfaBlsWttpFj"
   },
   "source": [
    "2.   **Llamada a la función**: Para ejecutar el código dentro de una función, se llama a la función por su nombre y se pasan los argumentos necesarios, si los hay."
   ]
  },
  {
   "cell_type": "code",
   "execution_count": null,
   "metadata": {
    "colab": {
     "base_uri": "https://localhost:8080/"
    },
    "executionInfo": {
     "elapsed": 273,
     "status": "ok",
     "timestamp": 1721925031755,
     "user": {
      "displayName": "Carlos Mario De Oro Aguado",
      "userId": "15013802953564343948"
     },
     "user_tz": 300
    },
    "id": "ZM7Phx_1un86",
    "outputId": "8f8726e1-2091-4a7f-af5e-f56812c67f4e"
   },
   "outputs": [],
   "source": [
    "mensaje = saludar(\"Ana\")\n",
    "print(mensaje)  # Salida: Hola, Ana!"
   ]
  },
  {
   "cell_type": "markdown",
   "metadata": {
    "id": "Vzr2-0yBvFqF"
   },
   "source": [
    "3.   **Funciones con parámetros por defecto**: Las funciones pueden tener parámetros con valores predeterminados. Si el usuario no proporciona un argumento para ese parámetro, se utilizará el valor predeterminado."
   ]
  },
  {
   "cell_type": "code",
   "execution_count": null,
   "metadata": {
    "colab": {
     "base_uri": "https://localhost:8080/"
    },
    "executionInfo": {
     "elapsed": 269,
     "status": "ok",
     "timestamp": 1721925251393,
     "user": {
      "displayName": "Carlos Mario De Oro Aguado",
      "userId": "15013802953564343948"
     },
     "user_tz": 300
    },
    "id": "OSXFg9FVvFEE",
    "outputId": "a6adcad1-6b28-4c62-b921-60c612625223"
   },
   "outputs": [],
   "source": [
    "def saludar(nombre=\"Invitado\"):\n",
    "    \"\"\"Esta función recibe un nombre y muestra un saludo.\n",
    "     Si no se proporciona un nombre, usa 'Invitado'.\"\"\"\n",
    "    saludo = f\"Hola, {nombre}!\"\n",
    "    return saludo\n",
    "\n",
    "# Llamada a la función sin argumentos\n",
    "mensaje1 = saludar()\n",
    "print(mensaje1)  # Output: Hola, Invitado!\n",
    "\n",
    "# Llamada a la función con un argumento\n",
    "mensaje2 = saludar(\"Carlos\")\n",
    "print(mensaje2)  # Output: Hola, Carlos!"
   ]
  },
  {
   "cell_type": "markdown",
   "metadata": {
    "id": "jftb9BSZvopI"
   },
   "source": [
    "4.   **Funciones con múltiples parámetros**: Una función puede aceptar múltiples parámetros y realizar operaciones con ellos."
   ]
  },
  {
   "cell_type": "code",
   "execution_count": null,
   "metadata": {
    "id": "YwtsicF0xVkx"
   },
   "outputs": [],
   "source": [
    "def suma(a, b):\n",
    "    \"\"\"Esta función suma dos números y devuelve el resultado.\"\"\"\n",
    "    resultado = a + b\n",
    "    return resultado\n",
    "\n",
    "# Llamada a la función\n",
    "resultado_suma = suma(10, 5)\n",
    "\n",
    "print(resultado_suma)  # Output: 15000"
   ]
  },
  {
   "cell_type": "markdown",
   "metadata": {
    "id": "I5khHxsyxdVc"
   },
   "source": [
    "5.   **Funciones Anónimas (Lambdas)**: En Python, las funciones pequeñas y sin nombre se pueden crear usando la palabra clave `lambda`. Estas funciones son útiles para operaciones simples."
   ]
  },
  {
   "cell_type": "code",
   "execution_count": null,
   "metadata": {
    "colab": {
     "base_uri": "https://localhost:8080/"
    },
    "executionInfo": {
     "elapsed": 273,
     "status": "ok",
     "timestamp": 1721925800512,
     "user": {
      "displayName": "Carlos Mario De Oro Aguado",
      "userId": "15013802953564343948"
     },
     "user_tz": 300
    },
    "id": "RTMXUjL8xlVI",
    "outputId": "111a50a6-bc9c-4f82-8b3b-a7b1419b8015"
   },
   "outputs": [],
   "source": [
    "# Definición de una función lambda\n",
    "suma = lambda x, y: x + y\n",
    "\n",
    "# Llamada a la función lambda\n",
    "resultado = suma(3, 7)\n",
    "print(resultado)  # Output: 10"
   ]
  },
  {
   "cell_type": "markdown",
   "metadata": {
    "id": "3PoSVUMdxsaR"
   },
   "source": [
    "6. **Funciones Recursivas**: Una función recursiva es aquella que se llama a sí misma para resolver un problema. Es importante definir una condición de parada para evitar una recursión infinita."
   ]
  },
  {
   "cell_type": "code",
   "execution_count": null,
   "metadata": {
    "id": "aqw_GjoxxxvH"
   },
   "outputs": [],
   "source": [
    "def factorial(n):\n",
    "    \"\"\"Esta función calcula el factorial de un número de manera recursiva.\"\"\"\n",
    "    if n == 0:\n",
    "        return 1\n",
    "    else:\n",
    "        return n * factorial(n - 1)\n",
    "\n",
    "# Llamada a la función\n",
    "resultado_factorial = factorial(5)\n",
    "print(resultado_factorial)  # Output: 120"
   ]
  },
  {
   "cell_type": "markdown",
   "metadata": {
    "id": "ObOsFvQKx2nr"
   },
   "source": [
    "7.  **Funciones Internas**: Python incluye una serie de funciones integradas que facilitan tareas comunes. Estas funciones están disponibles por defecto y no requieren importación adicional. Algunas de estas funciones internas son `len()`, `max()`, `min()`, etc., se llaman directamente con su nombre y los argumentos necesarios entre paréntesis. Estas funciones están disponibles globalmente en Python y no pertenecen a un objeto específico. Aquí puedes encontrar más funciones internas de python. Aquí tienes un enlace a la documentación oficial de Python sobre funciones integradas [built-in functions](https://docs.python.org/3/library/functions.html)."
   ]
  },
  {
   "cell_type": "markdown",
   "metadata": {
    "id": "0rsZhqOf3q0g"
   },
   "source": [
    "## **1.4 Uso de estructuras de datos básicas (vectores, listas, matrices, diccionarios)**"
   ]
  },
  {
   "cell_type": "markdown",
   "metadata": {
    "id": "phYOg3Dv8_2K"
   },
   "source": [
    "### **1.4.1 Vectores**\n",
    "\n",
    "Un __vector__ es una secuencia ordenada de elementos, que pueden ser números, caracteres o cualquier otro tipo de dato. En Python, los vectores se pueden implementar utilizando listas.\n",
    "\n",
    "Las características de un vector son:\n",
    "\n",
    "*   **Ordenados**: Los elementos tienen un orden definido.\n",
    "*   **Indexados**: Cada elemento tiene una posición (índice) en el vector\n",
    "\n",
    "Algunas operaciones comunes:\n",
    "\n",
    "*  __Acceso a elementos por índice__:"
   ]
  },
  {
   "cell_type": "code",
   "execution_count": null,
   "metadata": {
    "id": "Ez6HUnLfpFTV"
   },
   "outputs": [],
   "source": [
    "# Crear un vector\n",
    "vector = [10, 20, 30, 40, 50]\n",
    "\n",
    "# Acceder al primer elemento (índice 0)\n",
    "print(vector[0])  # Output: 10\n",
    "\n",
    "# Acceder al tercer elemento (índice 2)\n",
    "print(vector[2])  # Output: 30"
   ]
  },
  {
   "cell_type": "markdown",
   "metadata": {
    "id": "T0V0JroykHQY"
   },
   "source": [
    "*   __Modificación de elementos__:"
   ]
  },
  {
   "cell_type": "code",
   "execution_count": null,
   "metadata": {
    "id": "hFVt40dskO20"
   },
   "outputs": [],
   "source": [
    "# Crear un vector\n",
    "vector = [10, 20, 30, 40, 50]\n",
    "\n",
    "# Modificar el segundo elemento (índice 1)\n",
    "vector[1] = 25\n",
    "print(vector)  # Output: [10, 25, 30, 40, 50]"
   ]
  },
  {
   "cell_type": "markdown",
   "metadata": {
    "id": "y89HbpIpkYE-"
   },
   "source": [
    "*   **Suma, resta, multiplicación y división de vectores**:\n",
    "En programación científica, estas operaciones a menudo se realizan utilizando bibliotecas como `NumPy` para una mayor eficiencia y facilidad. Por ejemplo:"
   ]
  },
  {
   "cell_type": "code",
   "execution_count": null,
   "metadata": {
    "id": "-HpbVHmzkrSH"
   },
   "outputs": [],
   "source": [
    "# importar biblioteca\n",
    "import numpy as np\n",
    "\n",
    "# Crear dos vectores (arrays de NumPy)\n",
    "vector1 = np.array([1, 2, 3])\n",
    "vector2 = np.array([4, 5, 6])\n",
    "\n",
    "# Suma de vectores\n",
    "suma = vector1 + vector2\n",
    "print(\"Suma:\", suma)  # Output: [5 7 9]\n",
    "\n",
    "# Resta de vectores\n",
    "resta = vector1 - vector2\n",
    "print(\"Resta:\", resta)  # Output: [-3 -3 -3]\n",
    "\n",
    "# Multiplicación de vectores\n",
    "multiplicacion = vector1 * vector2\n",
    "print(\"Multiplicación:\", multiplicacion)  # Output: [ 4 10 18]\n",
    "\n",
    "# División de vectores\n",
    "division = vector1 / vector2\n",
    "print(\"División:\", division)  # Output: [0.25 0.4  0.5 ]"
   ]
  },
  {
   "cell_type": "markdown",
   "metadata": {
    "id": "OYK7Pu62lN7i"
   },
   "source": [
    "*   **Agregar elementos a un vector**:"
   ]
  },
  {
   "cell_type": "code",
   "execution_count": null,
   "metadata": {
    "id": "0Zz55lB8lMq3"
   },
   "outputs": [],
   "source": [
    "# Crear un vector\n",
    "vector = [10, 20, 30]\n",
    "\n",
    "# Agregar un nuevo elemento al final del vector\n",
    "vector.append(40)\n",
    "print(vector)  # Output: [10, 20, 30, 40]"
   ]
  },
  {
   "cell_type": "markdown",
   "metadata": {
    "id": "86TS-zNRlyO2"
   },
   "source": [
    "### **1.4.2 Listas**\n",
    "\n",
    "Las __listas__ en Python son estructuras de datos que pueden almacenar una colección ordenada de elementos, los cuales pueden ser de diferentes tipos. Las listas son dinámicas, lo que significa que pueden crecer o reducirse según sea necesario.\n",
    "\n",
    "Las características de una lista son:\n",
    "* **Mutables**: Los elementos pueden ser modificados después de la creación de la lista.\n",
    "* **Heterogéneas**: Pueden contener diferentes tipos de datos.\n",
    "* **Anidadas**: Pueden contener otras listas como elementos.\n",
    "\n",
    "Algunas operaciones comunes son:"
   ]
  },
  {
   "cell_type": "markdown",
   "metadata": {
    "id": "dAGRvSqfsML1"
   },
   "source": [
    "* **Añadir elementos**:"
   ]
  },
  {
   "cell_type": "code",
   "execution_count": null,
   "metadata": {
    "id": "ocCnD-mTrvV4"
   },
   "outputs": [],
   "source": [
    "# crear lista\n",
    "lista = [1, 2, 3]\n",
    "\n",
    "# append(): Añade un solo elemento al final de la lista\n",
    "lista.append(4)\n",
    "print(lista)  # Output: [1, 2, 3, 4]\n",
    "\n",
    "# extend(): Añade múltiples elementos al final de la lista\n",
    "lista.extend([4, 5, 6])\n",
    "print(lista)  # Output: [1, 2, 3, 4, 5, 6]"
   ]
  },
  {
   "cell_type": "markdown",
   "metadata": {
    "id": "B_bz2xUtuI9R"
   },
   "source": [
    "* **Eliminar elementos**:\n",
    "\n"
   ]
  },
  {
   "cell_type": "code",
   "execution_count": null,
   "metadata": {
    "colab": {
     "base_uri": "https://localhost:8080/"
    },
    "executionInfo": {
     "elapsed": 6,
     "status": "ok",
     "timestamp": 1722009078697,
     "user": {
      "displayName": "Carlos Mario De Oro Aguado",
      "userId": "15013802953564343948"
     },
     "user_tz": 300
    },
    "id": "g53z3c5Fu1Mg",
    "outputId": "3a3b4c63-8259-4bab-b76f-72e9f5440718"
   },
   "outputs": [],
   "source": [
    "# crear lista\n",
    "lista = [1, 2, 3, 4]\n",
    "\n",
    "# remove(): Elimina la primera aparición de un valor en la lista.\n",
    "lista.remove(2)\n",
    "print(lista)  # Output: [1, 3, 4]\n",
    "\n",
    "# pop(): Elimina y devuelve el elemento en el índice especificado (por defecto, el último)\n",
    "elemento = lista.pop()\n",
    "print(elemento)  # Output: 4\n",
    "print(lista)  # Output: [1, 2, 3]\n",
    "\n",
    "elemento = lista.pop(1)\n",
    "print(elemento)  # Output: 2\n",
    "print(lista)  # Output: [1, 3]"
   ]
  },
  {
   "cell_type": "markdown",
   "metadata": {
    "id": "SXKvUZKDwDPe"
   },
   "source": [
    "*   **Ordenar elementos**:\n",
    "\n",
    "\n"
   ]
  },
  {
   "cell_type": "code",
   "execution_count": null,
   "metadata": {
    "id": "sR8rciXYwPiS"
   },
   "outputs": [],
   "source": [
    "# crear lista\n",
    "lista = [4, 2, 3, 1]\n",
    "\n",
    "# sort(): Ordena los elementos de la lista en su lugar.\n",
    "lista.sort()\n",
    "print(lista)  # Output: [1, 2, 3, 4]\n",
    "\n",
    "# sorted(): Devuelve una nueva lista ordenada sin modificar la original.\n",
    "lista_ordenada = sorted(lista)\n",
    "print(lista_ordenada)  # Output: [1, 2, 3, 4]"
   ]
  },
  {
   "cell_type": "markdown",
   "metadata": {
    "id": "5X9yhN8bwpzU"
   },
   "source": [
    "*   **Acceder a elementos por índice:**\n"
   ]
  },
  {
   "cell_type": "code",
   "execution_count": null,
   "metadata": {
    "id": "DiNoilVxw6Gc"
   },
   "outputs": [],
   "source": [
    "# crear lista\n",
    "lista = ['a', 'b', 'c', 'd']\n",
    "\n",
    "print(lista[0])"
   ]
  },
  {
   "cell_type": "markdown",
   "metadata": {
    "id": "ctfAVatWyiOI"
   },
   "source": [
    "* **Modificar elementos**:"
   ]
  },
  {
   "cell_type": "code",
   "execution_count": null,
   "metadata": {
    "id": "rDIcq7EWypMx"
   },
   "outputs": [],
   "source": [
    "# crear lista\n",
    "lista = [10, 20, 30, 40]\n",
    "\n",
    "lista[1] = 25\n",
    "print(lista)  # Output: [10, 25, 30, 40]"
   ]
  },
  {
   "cell_type": "markdown",
   "metadata": {
    "id": "B6LosZFf4JqR"
   },
   "source": [
    "### **1.4.3 Matrices**\n",
    "\n",
    "Las __matrices__ son arreglos rectangulares de elementos, es decir,\n",
    "\n",
    "$$\n",
    "A = \\left(\\begin{matrix}\n",
    "a_{11} & a_{12} & ⋯ & a_{1n}\\\\\n",
    "a_{21} & a_{22} & ⋯ & a_{2n}\\\\\n",
    "\\vdots & \\vdots & \\ddots & \\vdots\\\\\n",
    "a_{m1} & a_{m2} & ⋯ & a_{mn}\\\\\n",
    "\\end{matrix}\n",
    "\\right)_{m \\times n}\n",
    "$$\n",
    "\n",
    "donde $m$ es el número de filas y $n$ es el número de columnas\n",
    "\n",
    "En Python, las matrices pueden ser implementadas usando listas de listas o utilizando bibliotecas como __NumPy__, que proporciona una funcionalidad más eficiente para el manejo de matrices.\n",
    "\n"
   ]
  },
  {
   "cell_type": "markdown",
   "metadata": {},
   "source": [
    "Las matrices poseen varias características que las hacen útiles para muchas aplicaciones, especialmente en matemáticas, ciencia de datos, y programación científica:\n",
    "\n",
    "* Dimensionalidad: Las matrices son bidimensionales, organizadas en filas y columnas. Además, se pueden extender a más dimensiones, formando tensores en contextos más avanzados.\n",
    "\n",
    "* Homogeneidad: Los elementos de una matriz deben ser del mismo tipo (e.g., todos enteros, todos flotantes).\n",
    "\n",
    "* Indexación: Los elementos de una matriz se acceden utilizando un par de índices: uno para la fila y otro para la columna.\n",
    "\n",
    "* Mutabilidad: Las matrices pueden ser modificadas después de su creación, permitiendo la actualización de elementos individuales o la reasignación de filas y columnas completas.\n",
    "\n",
    "* Operaciones Matemáticas: Las matrices admiten una variedad de operaciones matemáticas, tales como suma, resta, multiplicación (tanto elemento a elemento como producto matricial), y transposición. Estas operaciones son esenciales para cálculos algebraicos lineales y análisis numérico.\n",
    "\n",
    "Transposición: La transposición de una matriz implica intercambiar sus filas por columnas, y es una operación comúnmente utilizada en diversas aplicaciones matemáticas y científicas.\n",
    "\n",
    "* Determinante y Rango: Para matrices cuadradas (mismo número de filas y columnas), se pueden calcular propiedades como el determinante y el rango, que tienen importantes aplicaciones en álgebra lineal."
   ]
  },
  {
   "cell_type": "code",
   "execution_count": null,
   "metadata": {},
   "outputs": [],
   "source": [
    "import numpy as np\n",
    "\n",
    "# Creacion de matriz\n",
    "matriz = np.array([\n",
    "    [1, 2, 3],\n",
    "    [4, 5, 6],\n",
    "    [7, 8, 9]\n",
    "])\n",
    "\n",
    "matriz"
   ]
  },
  {
   "cell_type": "markdown",
   "metadata": {},
   "source": [
    "* __Acceso a elementos por filas y columnas:__"
   ]
  },
  {
   "cell_type": "code",
   "execution_count": null,
   "metadata": {},
   "outputs": [],
   "source": [
    "# Acceder al elemento en la primera fila, segunda columna\n",
    "matriz[0][1]\n",
    "\n",
    "# Acceder al elemento en la tercera fila, primera columna\n",
    "matriz[2][0]\n",
    "\n",
    "# Acceder a la segunda columna\n",
    "matriz[:, 1]\n",
    "\n",
    "# Acceder a la segunda fila\n",
    "fila = matriz[1]"
   ]
  },
  {
   "cell_type": "markdown",
   "metadata": {},
   "source": [
    "Realizacemos algunas operaciones con matrices"
   ]
  },
  {
   "cell_type": "code",
   "execution_count": null,
   "metadata": {},
   "outputs": [],
   "source": [
    "# Crear dos matrices\n",
    "matriz1 = np.array([\n",
    "    [1, 2, 3],\n",
    "    [4, 5, 6],\n",
    "    [7, 8, 9]\n",
    "])\n",
    "\n",
    "matriz2 = np.array([\n",
    "    [9, 8, 7],\n",
    "    [6, 5, 4],\n",
    "    [3, 2, 1]\n",
    "])\n",
    "\n",
    "# Suma de matrices (deben tener las mismas dimensiones)\n",
    "suma = matriz1 + matriz2\n",
    "print(\"Suma:\\n\", suma)\n",
    "\n",
    "# Resta de matrices (deben tener las mismas dimensiones)\n",
    "resta = matriz1 - matriz2\n",
    "print(\"Resta:\\n\", resta)\n",
    "\n",
    "\n",
    "# Multiplicación de elmento a elemento de matrices (deben tener las mismas dimensiones)\n",
    "multiplicacion = matriz1 * matriz2\n",
    "print(\"Multiplicación elemento por elemento:\\n\", multiplicacion)\n",
    "\n",
    "# Multiplicación de matrices (producto matricial)\n",
    "\n",
    "# El número de columnas de la matriz izquierda debe ser igual\n",
    "# al número de filas de la matriz derecha\n",
    "producto_matricial = np.dot(matriz1, matriz2)\n",
    "print(\"Producto matricial:\\n\", producto_matricial)\n",
    "\n",
    "# Transponer la matriz\n",
    "transpuesta = matriz.T\n",
    "print(\"Transposición:\\n\", transpuesta)\n",
    "\n",
    "# Crear una matriz identidad de 3x3\n",
    "identidad = np.eye(3)\n",
    "print(\"Matriz identidad:\\n\", identidad)\n",
    "\n",
    "# Calcular el determinante\n",
    "np.linalg.det(matriz1)"
   ]
  },
  {
   "cell_type": "markdown",
   "metadata": {},
   "source": [
    "### **1.4.4 Diccionarios**\n",
    "\n",
    "Los __diccionarios__ son una estructura de datos que almacena pares de clave-valor. Cada clave es única y se utiliza para acceder a su valor asociado. Los diccionarios son útiles cuando se necesita un mapeo entre elementos, como por ejemplo, asociar nombres con números de teléfono.\n",
    "\n",
    "Las características de los diccionarios son:\n",
    "\n",
    "* __Clave-Valor__: Cada elemento en un diccionario es un par clave-valor. Las claves deben ser únicas y de un tipo de datos inmutable (como cadenas, números o tuplas), mientras que los valores pueden ser de cualquier tipo de datos, incluso listas o otros diccionarios.\n",
    "\n",
    "* __Acceso Rápido__: Los diccionarios permiten un acceso rápido a los valores mediante sus claves, lo que los hace muy eficientes para búsquedas y actualizaciones.\n",
    "\n",
    "* __No Ordenado__: A partir de Python 3.7, mantienen el orden de inserción, pero esto no es algo en lo que debas confiar en versiones anteriores.\n",
    "\n",
    "* __Mutable__: Los diccionarios pueden ser modificados después de su creación, permitiendo agregar, eliminar o cambiar pares clave-valor.\n",
    "\n",
    "* __Flexible__: Los valores en un diccionario pueden ser de cualquier tipo de datos, y los diccionarios pueden incluso anidarse dentro de otros diccionarios.:\n",
    "\n",
    "Algunos ejemplos de diccionarios:\n",
    "\n",
    "* __Creación de un diccionarios__:\n"
   ]
  },
  {
   "cell_type": "code",
   "execution_count": null,
   "metadata": {},
   "outputs": [],
   "source": [
    "# Crear un diccionario vacío\n",
    "mi_diccionario = {}\n",
    "\n",
    "# Crear un diccionario con algunos pares clave-valor\n",
    "estudiante = {\n",
    "    \"nombre\": \"Juan\",\n",
    "    \"edad\": 21,\n",
    "    \"carrera\": \"Ingeniería\"\n",
    "}\n",
    "\n",
    "print(estudiante)"
   ]
  },
  {
   "cell_type": "markdown",
   "metadata": {},
   "source": [
    "* __Acceso a un valor__:"
   ]
  },
  {
   "cell_type": "code",
   "execution_count": null,
   "metadata": {},
   "outputs": [],
   "source": [
    "# Acceder al valor asociado con la clave \"nombre\"\n",
    "nombre = estudiante[\"nombre\"]\n",
    "print(nombre)  \n"
   ]
  },
  {
   "cell_type": "markdown",
   "metadata": {},
   "source": [
    "* __Modificar un valor__:"
   ]
  },
  {
   "cell_type": "code",
   "execution_count": null,
   "metadata": {},
   "outputs": [],
   "source": [
    "# Cambiar el valor asociado con la clave \"edad\"\n",
    "estudiante[\"edad\"] = 22\n",
    "print(estudiante)"
   ]
  },
  {
   "cell_type": "markdown",
   "metadata": {},
   "source": [
    "* __Agregar un nuevo par clave-valor__:"
   ]
  },
  {
   "cell_type": "code",
   "execution_count": null,
   "metadata": {},
   "outputs": [],
   "source": [
    "# Agregar una nueva clave \"promedio\" con su valor\n",
    "estudiante[\"promedio\"] = 4.5\n",
    "print(estudiante)"
   ]
  },
  {
   "cell_type": "markdown",
   "metadata": {},
   "source": [
    "* __Eliminar un par clave-valor__:"
   ]
  },
  {
   "cell_type": "code",
   "execution_count": null,
   "metadata": {},
   "outputs": [],
   "source": [
    "# Eliminar la clave \"carrera\" y su valor asociado\n",
    "del estudiante[\"carrera\"]\n",
    "print(estudiante)"
   ]
  },
  {
   "cell_type": "markdown",
   "metadata": {},
   "source": [
    "* __Recorrer un diccionario__:"
   ]
  },
  {
   "cell_type": "code",
   "execution_count": null,
   "metadata": {},
   "outputs": [],
   "source": [
    "# Recorrer las claves y valores de un diccionario\n",
    "for clave, valor in estudiante.items():\n",
    "    print(f\"{clave}: {valor}\")"
   ]
  },
  {
   "cell_type": "markdown",
   "metadata": {},
   "source": [
    "* __Comprobar si una clave existe__:"
   ]
  },
  {
   "cell_type": "code",
   "execution_count": null,
   "metadata": {},
   "outputs": [],
   "source": [
    "if \"nombre\" in estudiante:\n",
    "    print(\"El nombre del estudiante es:\", estudiante[\"nombre\"])\n"
   ]
  },
  {
   "cell_type": "markdown",
   "metadata": {},
   "source": [
    "* __Diccionarios anidados__:"
   ]
  },
  {
   "cell_type": "code",
   "execution_count": null,
   "metadata": {},
   "outputs": [],
   "source": [
    "# Crear un diccionario anidado\n",
    "clases = {\n",
    "    \"Matemáticas\": {\n",
    "        \"Profesor\": \"Sr. Pérez\",\n",
    "        \"Horario\": \"8:00 - 10:00\"\n",
    "    },\n",
    "    \"Historia\": {\n",
    "        \"Profesor\": \"Sra. García\",\n",
    "        \"Horario\": \"10:00 - 12:00\"\n",
    "    }\n",
    "}\n",
    "\n",
    "# Acceder a datos en un diccionario anidado\n",
    "print(clases[\"Matemáticas\"][\"Profesor\"])  "
   ]
  },
  {
   "cell_type": "markdown",
   "metadata": {},
   "source": [
    "Los diccionarios son una estructura fundamental en Python, especialmente útil para organizar y acceder a datos de manera eficiente."
   ]
  },
  {
   "cell_type": "markdown",
   "metadata": {
    "id": "R25zu8Yx37oz"
   },
   "source": [
    "## **1.5 Introducción a la manipulación de datos: Creación, manipulación y análisis de datos tabulares**\n",
    "\n",
    "La manipulación de datos es una habilidad fundamental en el análisis de datos. Los datos tabulares se organizan en un formato de filas y columnas, similar a una hoja de cálculo, lo que permite un acceso ordenado y eficiente a la información. Este formato es especialmente útil para realizar análisis estadísticos, crear visualizaciones, y construir modelos predictivos.\n",
    "\n",
    "Los __datos tabulares__ se refieren a la disposición de la información en una tabla, donde:\n",
    "\n",
    "*  __Filas__: Cada fila (o registro) representa una observación individual o una instancia de un conjunto de datos. Por ejemplo, en un conjunto de datos sobre clientes, cada fila podría representar a un cliente único, incluyendo toda la información relevante de ese cliente.\n",
    "\n",
    "*  __Columnas__: Cada columna (o variable) contiene una característica específica de las observaciones. Siguiendo el ejemplo anterior, las columnas podrían incluir variables como el nombre del cliente, la edad, la ciudad de residencia, o el monto de compra. Las columnas son homogéneas, es decir, todas las entradas en una columna deben ser del mismo tipo de datos (números, texto, fechas, etc.).\n",
    "\n",
    "Este formato tabular facilita operaciones como la búsqueda de valores específicos, el filtrado de datos basados en condiciones, la agregación de resultados, y la combinación de diferentes conjuntos de datos.\n",
    "\n",
    "`Pandas` es una herramienta de manipulación de datos de alto nivel desarrollada por Wes McKinney. En su inicio es construido sobre `Numpy` y ahora compatible con Arrow y **permite el análisis de datos** que cuenta con las estructuras de datos que necesitamos para limpiar los datos en bruto y que sean aptos para el análisis (por ejemplo, tablas). Como `Pandas` permite realizar tareas importantes, como alinear datos para su comparación, fusionar conjuntos de datos, gestión de datos perdidos, etc., se ha convertido en una librería muy importante para procesar datos a alto nivel en Python (es decir, estadísticas ). `Pandas` fue diseñada originalmente para gestionar datos financieros, y como alternativo al uso de hojas de cálculo (es decir, Microsoft Excel). Las dos principales estructuras de datos que ofrece `Pandas` son:\n",
    "\n",
    "* __Series__: Una `Series` es un arreglo unidimensional similar a un array de `Numpy` o a una lista en Python, pero con etiquetas de eje (llamadas índices). Es ideal para trabajar con datos univariados.\n",
    "\n",
    "* __DataFrame__: Un `DataFrame` es una estructura de datos bidimensional, como una tabla en una hoja de cálculo, que permite el almacenamiento y manipulación de datos tabulares. Es la estructura de datos más utilizada en Pandas y soporta operaciones de filtrado, agregación, pivote, fusión, y mucho más.\n",
    "\n",
    "`Pandas` proporciona herramientas que permiten:\n",
    "\n",
    "* leer y escribir datos en diferentes formatos: CSV, JSON, Excel, bases SQL, parquet y HDF5 entre otros.\n",
    "* seleccionar y filtrar de manera sencilla tablas de datos en función de posición, valor o etiquetas.\n",
    "* fusionar y unir datos\n",
    "* transformar datos aplicando funciones tanto en global como por ventanas\n",
    "* manipulación de series temporales\n",
    "* hacer gráficas\n",
    "\n",
    "Pandas es extremadamente poderoso debido a su capacidad para manejar grandes volúmenes de datos, realizar cálculos complejos y trabajar con diferentes tipos de datos, todo de manera eficiente.\n",
    "\n",
    "En este link podrás encontrar todas las funciones que necesitas para trabajar ETL de los datos usando [Pandas](https://pandas.pydata.org/docs/index.html). \n",
    "\n",
    "### **1.5.1 Creación de datos tabulares**\n",
    "\n",
    "Los datos tabulares pueden ser creados de varias maneras dependiendo de la fuente de datos y el propósito del análisis. Aquí exploramos la creación manual:\n",
    "\n",
    "1.  Creamos primero una lista de listas o diccionario:"
   ]
  },
  {
   "cell_type": "code",
   "execution_count": null,
   "metadata": {},
   "outputs": [],
   "source": [
    "# Crear un diccionario\n",
    "data={\n",
    "    \"Nombre\":[\"María\",\"Ana\", \"Pedro\", \"Juan\", \"Carlos\", \"Sara\"], # Lista de nombres se plantea con corchetes\n",
    "    \"Edad\":[21,22,19,26,22,19], # Lista de edades se plantea con corchetes\n",
    "    \"Género\":[\"F\",\"F\",\"M\",\"M\",\"M\",\"F\"] # Lista de género se plantea con corchetes\n",
    "}\n",
    "\n",
    "# Imprimir data\n",
    "print(data) "
   ]
  },
  {
   "cell_type": "markdown",
   "metadata": {},
   "source": [
    "2. Importemos el módulo __pandas__:"
   ]
  },
  {
   "cell_type": "code",
   "execution_count": 3,
   "metadata": {},
   "outputs": [],
   "source": [
    "# Libreria \n",
    "import pandas as pd"
   ]
  },
  {
   "cell_type": "markdown",
   "metadata": {},
   "source": [
    "3. Convertimos el diccionario en un __DataFrame__: "
   ]
  },
  {
   "cell_type": "code",
   "execution_count": null,
   "metadata": {},
   "outputs": [],
   "source": [
    "# DataFrame es una función que está dentro del módulo pandas\n",
    "df=pd.DataFrame(data) \n",
    "df"
   ]
  },
  {
   "cell_type": "markdown",
   "metadata": {},
   "source": [
    "### **1.5.2 Manipulación de datos** \n",
    "\n",
    "Una vez que los datos tabulares están disponibles en un DataFrame, Pandas ofrece una variedad de herramientas para manipularlos de forma efectiva. Esto incluye la capacidad de:\n",
    "\n",
    "* __Seleccionar y Filtrar__: Acceder a subconjuntos de los datos basados en condiciones específicas.\n",
    "* __Ordenar__: Organizar los datos en función de los valores de una o más columnas.\n",
    "* __Agregar y Transformar__: Crear nuevas columnas, modificar las existentes o realizar operaciones matemáticas en los datos.\n",
    "* __Combinar__: Fusionar, concatenar y unir diferentes DataFrames para enriquecer los datos."
   ]
  },
  {
   "cell_type": "markdown",
   "metadata": {},
   "source": [
    "Estas son algunas propiedades generales:"
   ]
  },
  {
   "cell_type": "markdown",
   "metadata": {},
   "source": [
    "* El método `df.info()` en Pandas es una herramienta útil para obtener un resumen conciso de la estructura de un DataFrame. Este método proporciona información clave sobre el DataFrame, incluyendo el número de filas y columnas, el nombre de cada columna, el número de valores no nulos en cada columna, el tipo de datos de cada columna y la cantidad de memoria utilizada por el DataFrame."
   ]
  },
  {
   "cell_type": "code",
   "execution_count": null,
   "metadata": {},
   "outputs": [],
   "source": [
    "# Obtener información sobre la estructura del DataFrame\n",
    "df.info()"
   ]
  },
  {
   "cell_type": "markdown",
   "metadata": {},
   "source": [
    "__Observación__:\n",
    "\n",
    "* __object:__ significa que la variable es categórica o cualitativa\n",
    "\n",
    "* __int64:__ significa que la variable es numérica o cuantitativa (números enteros). El número es el tamaño en bits que ocupa de memoria.\n",
    "\n",
    "* __float64:__ significa que la variable es numérica o cuantitativa (números decimales). El número es el tamaño en bits que ocupa de memoria."
   ]
  },
  {
   "cell_type": "markdown",
   "metadata": {},
   "source": [
    "El atributo `df.shape` en Pandas es una propiedad que proporciona las dimensiones del DataFrame df. Específicamente, devuelve una tupla que indica el número de filas y columnas que contiene el DataFrame."
   ]
  },
  {
   "cell_type": "code",
   "execution_count": null,
   "metadata": {},
   "outputs": [],
   "source": [
    "# Obtener las dimensiones del DataFrame\n",
    "df.shape"
   ]
  },
  {
   "cell_type": "markdown",
   "metadata": {},
   "source": [
    "* El método `df.head()` en Pandas se utiliza para ver las primeras filas de un DataFrame. Por defecto, `head()` muestra las primeras 5 filas, pero puedes especificar cuántas filas deseas ver pasando un número como argumento."
   ]
  },
  {
   "cell_type": "code",
   "execution_count": null,
   "metadata": {},
   "outputs": [],
   "source": [
    "# Mostrar las 5 primeras filas del DataFrame\n",
    "df.head()\n",
    "\n",
    "# Mostrar las 2 primeras filas del DataFrame\n",
    "df.head(n=2)"
   ]
  },
  {
   "cell_type": "markdown",
   "metadata": {},
   "source": [
    "* El método `df.tail()` en Pandas se utiliza para ver las últimas filas de un DataFrame. Por defecto, `tail()` muestra las últimas 5 filas, pero también puedes especificar cuántas filas deseas ver pasando un número como argumento."
   ]
  },
  {
   "cell_type": "code",
   "execution_count": null,
   "metadata": {},
   "outputs": [],
   "source": [
    "# Mostrar las 5 ultimas filas de DataFrame\n",
    "df.tail()\n",
    "\n",
    "# Mostrar las 3 ultimas filas de DataFrame\n",
    "df.tail(n=3)"
   ]
  },
  {
   "cell_type": "markdown",
   "metadata": {},
   "source": [
    "* El atributo `df.columns` en Pandas se utiliza para acceder a los nombres de las columnas de un DataFrame. Este atributo devuelve un objeto de tipo Index que contiene los nombres de todas las columnas del DataFrame."
   ]
  },
  {
   "cell_type": "code",
   "execution_count": null,
   "metadata": {},
   "outputs": [],
   "source": [
    "df.columns"
   ]
  },
  {
   "cell_type": "markdown",
   "metadata": {},
   "source": [
    "**Observación**: \n",
    "\n",
    "Puedes utilizar `df.columns` para acceder o modificar los nombres de las columnas. Por ejemplo, si quieres cambiar el nombre de una columna, puedes hacerlo asignando un nuevo valor a `df.columns`.\n"
   ]
  },
  {
   "cell_type": "code",
   "execution_count": null,
   "metadata": {},
   "outputs": [],
   "source": [
    "# Renombrar las columnas del DataFrame\n",
    "df.columns = ['Nombre_Cliente', 'Edad_Cliente', 'Genero_Cliente']"
   ]
  },
  {
   "cell_type": "markdown",
   "metadata": {},
   "source": [
    "El atributo `df.index` en Pandas se utiliza para acceder al índice (o las etiquetas de las filas) de un DataFrame. Este índice es una estructura que identifica cada fila de manera única, y puede ser numérico, alfanumérico, o incluso basado en fechas, dependiendo de cómo se construyó el DataFrame"
   ]
  },
  {
   "cell_type": "code",
   "execution_count": null,
   "metadata": {},
   "outputs": [],
   "source": [
    "# Obtener el índice del DataFrame\n",
    "df.index"
   ]
  },
  {
   "cell_type": "markdown",
   "metadata": {},
   "source": [
    "**Observación**: \n",
    "\n",
    "Puedes utilizar `df.index` para acceder o modificar los nombres de las filas. Por ejemplo, si quieres cambiar el nombre de una columna, puedes hacerlo asignando un nuevo valor a `df.index`"
   ]
  },
  {
   "cell_type": "code",
   "execution_count": null,
   "metadata": {},
   "outputs": [],
   "source": [
    "df.index=[\"a\",\"b\",\"c\",\"d\",\"e\",\"f\"]\n",
    "df"
   ]
  },
  {
   "cell_type": "markdown",
   "metadata": {},
   "source": [
    "* El método `df.sort_values()` en Pandas se utiliza para ordenar un DataFrame en función de los valores de una o más columnas. Por ejemplo:"
   ]
  },
  {
   "cell_type": "code",
   "execution_count": null,
   "metadata": {},
   "outputs": [],
   "source": [
    "# Ordenar el DataFrame df por la columna 'Edad' en orden descendente\n",
    "df.sort_values('Edad', ascending=False, inplace=True)"
   ]
  },
  {
   "cell_type": "markdown",
   "metadata": {},
   "source": [
    "**Observación**:\n",
    "\n",
    "Algunos de los parámetros del ejemplo anterior de la función `sort_values` son:"
   ]
  },
  {
   "cell_type": "markdown",
   "metadata": {},
   "source": [
    "* `Edad`: Especifica la columna en función de la cual deseas ordenar los datos. En este caso, se está ordenando por la columna `Edad`.\n",
    "\n",
    "* `ascending=False`: Indica que la ordenación debe hacerse en orden descendente. Si quisieras ordenar en orden ascendente, usarías `ascending=True` (que es el valor por defecto).\n",
    "\n",
    "* `inplace=True`: Al establecer `inplace=True`, el DataFrame original df se modifica directamente y se ordena. Si se omitiera o se estableciera como False, el método devolvería un nuevo DataFrame ordenado, dejando el DataFrame original sin cambios."
   ]
  },
  {
   "cell_type": "markdown",
   "metadata": {},
   "source": [
    "El atributo `df.iloc` en Pandas se utiliza para acceder a un DataFrame mediante índices enteros (basados en la posición). Este método es útil cuando necesitas seleccionar filas y columnas de un DataFrame basándote en su posición, en lugar de los nombres de las etiquetas. Por ejemplo:"
   ]
  },
  {
   "cell_type": "code",
   "execution_count": null,
   "metadata": {},
   "outputs": [],
   "source": [
    "# Seleccionar la primera fila (índice 0)\n",
    "df.iloc[0]\n",
    "\n",
    "# Seleccionar las primeras tres filas\n",
    "df.iloc[0:3]\n",
    "\n",
    "# Seleccionar el valor en la primera fila y segunda columna\n",
    "df.iloc[0, 1]\n",
    "\n",
    "# Seleccionar las primeras dos filas y las primeras tres columnas\n",
    "df.iloc[0:2, 0:3]\n",
    "\n",
    "# Seleccionar todos los valores de la segunda columna\n",
    "df.iloc[:, 1]\n",
    "\n",
    "# Seleccionar las últimas dos filas de todas las columnas\n",
    "df.iloc[-2:]\n",
    "\n",
    "# Seleccionar las columnas por su nombre \n",
    "df[\"Nombre\"]\n",
    "\n",
    "# Otra forma de seleccionar las columnas por su nombre \n",
    "df.Nombre\n",
    "\n",
    "# Seleccionar el valor en la primera fila como un DataFrame\n",
    "df.iloc[[0],:]\n",
    "\n",
    "# Seleccionar las filas 1 y 3 como un DataFrame\n",
    "df.iloc[[0,2],:]\n",
    "\n",
    "# Seleccionar las columnas 1 y 3 como un DataFrame\n",
    "df.iloc[:,[0,2]] "
   ]
  },
  {
   "cell_type": "markdown",
   "metadata": {},
   "source": [
    "Este método es clave para acceder y manipular datos en un DataFrame utilizando posiciones, especialmente cuando los índices o nombres de columnas no son intuitivos o cuando estás realizando operaciones sobre DataFrames grandes y complejos."
   ]
  },
  {
   "cell_type": "markdown",
   "metadata": {},
   "source": [
    "* El método `df.loc` en Pandas se utiliza para acceder a un DataFrame por etiquetas de filas y columnas, a diferencia de `iloc`, que usa posiciones numéricas. `loc` permite una variedad de operaciones para seleccionar y filtrar datos basados en las etiquetas de los índices y columnas. Por ejemplo:"
   ]
  },
  {
   "cell_type": "code",
   "execution_count": null,
   "metadata": {},
   "outputs": [],
   "source": [
    "# Seleccionar la fila con la etiqueta 'b'\n",
    "df.loc['b']\n",
    "\n",
    "# Seleccionar las filas con etiquetas de 'a' a 'c' (inclusive)\n",
    "df.loc['a':'c']\n",
    "\n",
    "# Seleccionar el valor en la fila con etiqueta 'b' y columna 'Edad'\n",
    "df.loc['b', 'Edad']\n",
    "\n",
    "# Seleccionar las filas 'a' a 'c' y las columnas 'Nombre' y 'Edad'\n",
    "df.loc['a':'c', ['Nombre', 'Edad']]\n",
    "\n",
    "# Seleccionar todas las filas y solo la columna 'Ciudad'\n",
    "df.loc[:,'Género']\n",
    "\n",
    "# Seleccionar todas las filas donde 'Edad' es mayor que 25\n",
    "df.loc[df['Edad'] > 25]"
   ]
  },
  {
   "cell_type": "markdown",
   "metadata": {},
   "source": [
    "### **Ejercicio**\n",
    "\n",
    "1. Se recolectaron datos de 8 estudiantes universitarios y se resumieron en la siguiente tabla:\n",
    "\n",
    "<div align=\"center\">\n",
    "\n",
    "|MASA| ESTATURA| GENERO| ESTRATO |FUMA|\n",
    "|----|---------|--------|--------|----|\n",
    "|71 |183| HOMBRE |2| NO|\n",
    "|45| 168 |HOMBRE| 1 |NO|\n",
    "|50| 164 |HOMBRE| 1 |NO|\n",
    "|60| 164 |MUJER |3 |SI|\n",
    "|61| 167 |HOMBRE| 3| SI|\n",
    "|84| 182 |HOMBRE| 3| NO|\n",
    "|55| 168 |MUJER |3 |NO|\n",
    "|60| 170 |HOMBRE| 3 |SI|\n",
    "\n",
    "</div>\n",
    "\n",
    "1. Crear un data frame y llamarlo __df__.\n",
    "2. Realizar un análisis descriptivo básico de todas las variables.\n",
    "3. Extraer un subconjunto de datos con los primeros 4 estudiantes y llamarlo __subc1__.\n",
    "4. Extraer las variables categóricas y guardarlas en un subconjunto llamado __subc2__\n",
    "5. Extraer las variables numéricas y guardarlas en un subconjunto llamado __subc3__"
   ]
  }
 ],
 "metadata": {
  "colab": {
   "provenance": []
  },
  "kernelspec": {
   "display_name": "ml_venv",
   "language": "python",
   "name": "python3"
  },
  "language_info": {
   "codemirror_mode": {
    "name": "ipython",
    "version": 3
   },
   "file_extension": ".py",
   "mimetype": "text/x-python",
   "name": "python",
   "nbconvert_exporter": "python",
   "pygments_lexer": "ipython3",
   "version": "3.9.19"
  }
 },
 "nbformat": 4,
 "nbformat_minor": 0
}
