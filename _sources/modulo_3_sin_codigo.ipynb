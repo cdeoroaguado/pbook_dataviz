{
 "cells": [
  {
   "cell_type": "markdown",
   "metadata": {},
   "source": [
    "# **Módulo 3: Visualización de datos interactivos**"
   ]
  },
  {
   "cell_type": "markdown",
   "metadata": {},
   "source": [
    "## **Tratamiento de datos faltantes y atípicos**"
   ]
  },
  {
   "cell_type": "markdown",
   "metadata": {},
   "source": [
    "Este conjunto de datos contiene información relacionada con los **empleos de profesionales de datos**, recopilada durante varios años. Cada fila representa un empleo único y proporciona detalles sobre el puesto, nivel de experiencia, modalidad de trabajo, ubicación del empleado, y otros factores relevantes para el contexto laboral y el salario recibido. Este conjunto de datos es útil para analizar tendencias en el mercado laboral de la ciencia de datos, permitiendo comparaciones entre diferentes tipos de empleos, niveles de experiencia, y ubicaciones geográficas.\n",
    "\n",
    "**Descripción de las columnas**\n",
    "\n",
    "| **Columna**               | **Descripción**                                                                                   | **Tipo de dato** |\n",
    "|---------------------------|---------------------------------------------------------------------------------------------------|------------------|\n",
    "| **Working_Year**           | Año en que se obtuvieron los datos sobre el empleo. Esto puede ser útil para observar tendencias a lo largo del tiempo. | Float            |\n",
    "| **Designation**            | Título del puesto del profesional de datos. Ejemplos comunes incluyen \"Data Scientist\", \"Data Engineer\", etc. | Cadena           |\n",
    "| **Experience**             | Nivel de experiencia del empleado en el puesto, categorizado como \"Medio\", \"Senior\", etc. Esto ayuda a segmentar los trabajos según la experiencia necesaria. | Cadena           |\n",
    "| **Employment_Status**      | Tipo de contrato laboral bajo el cual se emplea a la persona. Puede ser a tiempo completo (\"FT\"), medio tiempo (\"PT\"), entre otros. Es un indicador de la estabilidad y dedicación del empleo. | Cadena           |\n",
    "| **Employee_Location**      | País donde se encuentra ubicado el empleado. Esto puede influir en el salario y las condiciones laborales, dada la variación entre mercados internacionales. | Cadena           |\n",
    "| **Company_Size**           | Tamaño de la empresa en la que trabaja el profesional de datos. Las empresas se clasifican en \"S\" (Pequeña), \"M\" (Mediana), o \"L\" (Grande), y esto puede influir en las oportunidades de crecimiento, ambiente de trabajo, y remuneración. | Cadena           |\n",
    "| **Remote_Working_Ratio**   | Porcentaje de tiempo que el empleado trabaja de manera remota. Un valor del 100% indicaría que el empleo es completamente remoto, mientras que un valor del 0% indicaría un empleo presencial. | Entero           |\n",
    "| **Salary_USD**             | Salario anual del empleado expresado en dólares estadounidenses (USD). Este valor es útil para hacer comparaciones salariales entre empleos de diferentes ubicaciones y niveles de experiencia. | Float            |\n"
   ]
  },
  {
   "cell_type": "code",
   "execution_count": null,
   "metadata": {},
   "outputs": [],
   "source": [
    "import pandas as pd\n",
    "import numpy as np\n",
    "\n",
    "# Cargar el archivo CSV proporcionado\n",
    "file_path = # TU CODIGO\n",
    "df =  # TU CODIGO"
   ]
  },
  {
   "cell_type": "code",
   "execution_count": null,
   "metadata": {},
   "outputs": [],
   "source": [
    "# Informacion del dataset\n",
    " # TU CODIGO"
   ]
  },
  {
   "cell_type": "code",
   "execution_count": null,
   "metadata": {},
   "outputs": [],
   "source": [
    "# Copia del dataset\n",
    "df_va = df.copy()\n",
    "\n",
    "# Revisar los datos faltantes en el conjunto de datos\n",
    "missing_values =  # TU CODIGO\n",
    "\n",
    "# Calcular el porcentaje de valores faltantes\n",
    "missing_percentage =  # TU CODIGO\n",
    "\n",
    "# Crear un DataFrame con el análisis de datos faltantes\n",
    "missing_data = pd.DataFrame({\n",
    "    'Valores Faltantes': missing_values,\n",
    "    'Porcentaje Faltante (%)': missing_percentage\n",
    "})\n",
    "\n",
    "missing_data\n"
   ]
  },
  {
   "cell_type": "markdown",
   "metadata": {},
   "source": [
    "#### **Eliminación de datos faltantes** "
   ]
  },
  {
   "cell_type": "code",
   "execution_count": null,
   "metadata": {},
   "outputs": [],
   "source": [
    "# Coloquemos un umbral\n",
    "umbral =  # TU CODIGO\n",
    "\n",
    "# Selecciona columnas con valores faltantes <= umbral\n",
    "cols_to_drop = df_va .columns[ # TU CODIGO]\n",
    "\n",
    "# Elimina filas con valores faltantes en las columnas seleccionadas\n",
    "df_va.dropna(subset=cols_to_drop, inplace=True)"
   ]
  },
  {
   "cell_type": "code",
   "execution_count": null,
   "metadata": {},
   "outputs": [],
   "source": [
    "# informacion del dataset ajustado\n",
    " # TU CODIGO"
   ]
  },
  {
   "cell_type": "code",
   "execution_count": null,
   "metadata": {},
   "outputs": [],
   "source": [
    "# Revisar los datos faltantes en el conjunto de datos\n",
    "missing_values = df_va.isnull().sum()\n",
    "\n",
    "# Calcular el porcentaje de valores faltantes\n",
    "missing_percentage = (df_va.isnull().mean() * 100).round(2)\n",
    "\n",
    "# Crear un DataFrame con el análisis de datos faltantes\n",
    "missing_data = pd.DataFrame({\n",
    "    'Valores Faltantes': missing_values,\n",
    "    'Porcentaje Faltante (%)': missing_percentage\n",
    "})\n",
    "\n",
    "missing_data"
   ]
  },
  {
   "cell_type": "markdown",
   "metadata": {},
   "source": [
    "Otra forma para eliminar los datos faltantes es:"
   ]
  },
  {
   "cell_type": "code",
   "execution_count": null,
   "metadata": {},
   "outputs": [],
   "source": [
    "# copia del dataset\n",
    "df_2 = df.copy()\n",
    "\n",
    "# eliminar las filas con Nans\n",
    "df_2_new =  # TU CODIGO"
   ]
  },
  {
   "cell_type": "code",
   "execution_count": 280,
   "metadata": {},
   "outputs": [
    {
     "data": {
      "text/html": [
       "<div>\n",
       "<style scoped>\n",
       "    .dataframe tbody tr th:only-of-type {\n",
       "        vertical-align: middle;\n",
       "    }\n",
       "\n",
       "    .dataframe tbody tr th {\n",
       "        vertical-align: top;\n",
       "    }\n",
       "\n",
       "    .dataframe thead th {\n",
       "        text-align: right;\n",
       "    }\n",
       "</style>\n",
       "<table border=\"1\" class=\"dataframe\">\n",
       "  <thead>\n",
       "    <tr style=\"text-align: right;\">\n",
       "      <th></th>\n",
       "      <th>Valores Faltantes</th>\n",
       "      <th>Porcentaje Faltante (%)</th>\n",
       "    </tr>\n",
       "  </thead>\n",
       "  <tbody>\n",
       "    <tr>\n",
       "      <th>Working_Year</th>\n",
       "      <td>0</td>\n",
       "      <td>0.0</td>\n",
       "    </tr>\n",
       "    <tr>\n",
       "      <th>Designation</th>\n",
       "      <td>0</td>\n",
       "      <td>0.0</td>\n",
       "    </tr>\n",
       "    <tr>\n",
       "      <th>Experience</th>\n",
       "      <td>0</td>\n",
       "      <td>0.0</td>\n",
       "    </tr>\n",
       "    <tr>\n",
       "      <th>Employment_Status</th>\n",
       "      <td>0</td>\n",
       "      <td>0.0</td>\n",
       "    </tr>\n",
       "    <tr>\n",
       "      <th>Employee_Location</th>\n",
       "      <td>0</td>\n",
       "      <td>0.0</td>\n",
       "    </tr>\n",
       "    <tr>\n",
       "      <th>Company_Size</th>\n",
       "      <td>0</td>\n",
       "      <td>0.0</td>\n",
       "    </tr>\n",
       "    <tr>\n",
       "      <th>Remote_Working_Ratio</th>\n",
       "      <td>0</td>\n",
       "      <td>0.0</td>\n",
       "    </tr>\n",
       "    <tr>\n",
       "      <th>Salary_USD</th>\n",
       "      <td>0</td>\n",
       "      <td>0.0</td>\n",
       "    </tr>\n",
       "  </tbody>\n",
       "</table>\n",
       "</div>"
      ],
      "text/plain": [
       "                      Valores Faltantes  Porcentaje Faltante (%)\n",
       "Working_Year                          0                      0.0\n",
       "Designation                           0                      0.0\n",
       "Experience                            0                      0.0\n",
       "Employment_Status                     0                      0.0\n",
       "Employee_Location                     0                      0.0\n",
       "Company_Size                          0                      0.0\n",
       "Remote_Working_Ratio                  0                      0.0\n",
       "Salary_USD                            0                      0.0"
      ]
     },
     "execution_count": 280,
     "metadata": {},
     "output_type": "execute_result"
    }
   ],
   "source": [
    "# Revisar los datos faltantes en el conjunto de datos\n",
    "missing_values = df_2_new.isnull().sum()\n",
    "\n",
    "# Calcular el porcentaje de valores faltantes\n",
    "missing_percentage = (df_2_new.isnull().mean() * 100).round(2)\n",
    "\n",
    "# Crear un DataFrame con el análisis de datos faltantes\n",
    "missing_data = pd.DataFrame({\n",
    "    'Valores Faltantes': missing_values,\n",
    "    'Porcentaje Faltante (%)': missing_percentage\n",
    "})\n",
    "\n",
    "missing_data"
   ]
  },
  {
   "cell_type": "markdown",
   "metadata": {},
   "source": [
    "#### **Imputación de datos faltantes**\n",
    "\n",
    "##### **Datos categóricos**"
   ]
  },
  {
   "cell_type": "markdown",
   "metadata": {},
   "source": [
    "1. Usando la **moda**:"
   ]
  },
  {
   "cell_type": "code",
   "execution_count": null,
   "metadata": {},
   "outputs": [],
   "source": [
    "# Copia del dataset\n",
    "df_3 = df.copy()\n",
    "\n",
    "# Iterar sobre cada columna del DataFrame\n",
    "for col in  # TU CODIGO:\n",
    "    # Comprobar si la columna es de tipo objeto (categórica)\n",
    "    if  # TU CODIGO:\n",
    "        # Imputar los valores faltantes con la moda (categoría más frecuente)\n",
    "        df_3[col].fillna( # TU CODIGO, inplace=True)"
   ]
  },
  {
   "cell_type": "markdown",
   "metadata": {},
   "source": [
    "2. Usando **Asignación aleatoria**:"
   ]
  },
  {
   "cell_type": "code",
   "execution_count": null,
   "metadata": {},
   "outputs": [],
   "source": [
    "# Copia del dataset\n",
    "df_4 = df.copy()\n",
    "\n",
    "# Iterar sobre cada columna de df_4\n",
    "for col in df_4.columns:\n",
    "    # Comprobar si la columna es de tipo objeto (categórica)\n",
    "    if df_4[col].dtypes == 'object':\n",
    "        # Obtener las categorías no faltantes de la columna\n",
    "        categorias_no_nan =  # TU CODIGO\n",
    "        # Reemplazar valores faltantes con una categoría seleccionada aleatoriamente\n",
    "        df_4[col] = df_4[col].apply(lambda x: np.random.choice(categorias_no_nan) if pd.isna(x) else x)\n"
   ]
  },
  {
   "cell_type": "markdown",
   "metadata": {},
   "source": [
    "##### **Datos numéricos**"
   ]
  },
  {
   "cell_type": "markdown",
   "metadata": {},
   "source": [
    "1. Usando **la media o el promedio**"
   ]
  },
  {
   "cell_type": "code",
   "execution_count": null,
   "metadata": {},
   "outputs": [],
   "source": [
    "# Copia del dataset\n",
    "df_6 = df.copy()\n",
    "\n",
    "# Imputar los valores perdidos con imputación de medias\n",
    "df_6.fillna( # TU CODIGO, inplace=True)"
   ]
  },
  {
   "cell_type": "markdown",
   "metadata": {},
   "source": [
    "2. Usando **la mediana**"
   ]
  },
  {
   "cell_type": "code",
   "execution_count": null,
   "metadata": {},
   "outputs": [],
   "source": [
    "# Copia del dataset\n",
    "df_7 = df.copy()\n",
    "\n",
    "# Imputar los valores perdidos con imputación de medias\n",
    "df_7.fillna( # TU CODIGO, inplace=True)"
   ]
  },
  {
   "cell_type": "markdown",
   "metadata": {},
   "source": [
    "Otra manera adecuada de imputar valores ausentes es mediante la clase `SimpleImputer` de `scikit-learn`\n"
   ]
  },
  {
   "cell_type": "code",
   "execution_count": null,
   "metadata": {},
   "outputs": [],
   "source": [
    "# Libreria\n",
    "from sklearn.impute import SimpleImputer\n",
    "\n",
    "# Copia del dataset\n",
    "df_8 = df.copy()\n",
    "\n",
    "# Crear la instancia para imputar con la media\n",
    "imputer =  # TU CODIGO\n",
    "\n",
    "# Imputar los valores faltantes\n",
    "df_8[['Working_Year','Salary_USD']] = imputer.fit_transform(df_8[['Working_Year','Salary_USD']])"
   ]
  },
  {
   "cell_type": "code",
   "execution_count": null,
   "metadata": {},
   "outputs": [],
   "source": [
    "df_8.info()"
   ]
  },
  {
   "cell_type": "markdown",
   "metadata": {},
   "source": [
    "### **Tratamiento de datos atípicos** "
   ]
  },
  {
   "cell_type": "markdown",
   "metadata": {},
   "source": [
    "Vamos a crear un gráfico de caja para comprobar si nuestro conjunto de datos contiene valores atípicos. Vamos a utilizar el conjunto de datos `gym.csv`, que contiene información sobre los clientes de un determinado gimnasio."
   ]
  },
  {
   "cell_type": "code",
   "execution_count": 288,
   "metadata": {},
   "outputs": [],
   "source": [
    "import warnings\n",
    "warnings.filterwarnings('ignore')\n",
    "\n",
    "import pandas as pd\n",
    "import numpy as np\n",
    "import plotly.express as px"
   ]
  },
  {
   "cell_type": "markdown",
   "metadata": {},
   "source": [
    "Guarda el archivo `gym.csv` en un DataFrame llamado `gym`, e imprime las cinco primeras filas del mismo para ver cómo son los datos"
   ]
  },
  {
   "cell_type": "code",
   "execution_count": null,
   "metadata": {},
   "outputs": [],
   "source": [
    "gym =  # TU CODIGO\n",
    "gym.head()"
   ]
  },
  {
   "cell_type": "markdown",
   "metadata": {},
   "source": [
    "Como puede ver, nuestros datos tienen tres columnas: `age`, `weight`, `sex`. La columna sexo consta de tres valores discretos que corresponden a tres clases discretas: `0 es hombre`, `1 es mujer` y `2 es otro`.\n",
    "\n",
    "Cree un gráfico de caja con el eje $x$ como columna de sexo y el eje $y$ como peso:"
   ]
  },
  {
   "cell_type": "code",
   "execution_count": 290,
   "metadata": {},
   "outputs": [],
   "source": [
    "# Importar plotly\n",
    "import plotly.express as px\n",
    "import plotly.graph_objects as go\n",
    "import plotly.io as pio\n",
    "\n",
    "# Configurar el renderizador para notebook o Jupyter Book\n",
    "pio.renderers.default = 'notebook'"
   ]
  },
  {
   "cell_type": "code",
   "execution_count": null,
   "metadata": {},
   "outputs": [],
   "source": [
    "fig =  # TU CODIGO\n",
    "fig.show()"
   ]
  },
  {
   "cell_type": "markdown",
   "metadata": {},
   "source": [
    "#### **Detección de valores atípicos**"
   ]
  },
  {
   "cell_type": "code",
   "execution_count": null,
   "metadata": {},
   "outputs": [
    {
     "name": "stdout",
     "output_type": "stream",
     "text": [
      "Valores atípicos detectados por el método de Z-score: [790]\n"
     ]
    }
   ],
   "source": [
    "# Lista para almacenar los valores atípicos detectados\n",
    "outliers = []\n",
    "\n",
    "# Función para detectar valores atípicos usando la puntuación Z (Z-score)\n",
    "def detect_outliers_zscore(data):\n",
    "    thres = 3  # Umbral de Z-score para considerar un valor como atípico\n",
    "    mean = np.mean(data)  # Calcular la media del conjunto de datos\n",
    "    std = np.std(data)  # Calcular la desviación estándar del conjunto de datos\n",
    "    \n",
    "    # Iterar a través de los valores del conjunto de datos\n",
    "    for x in data:\n",
    "        z_score =  # TU CODIGO # Calcular la puntuación Z de cada valor\n",
    "        # Si el valor absoluto del Z-score es mayor que el umbral, es un valor atípico\n",
    "        if np.abs(z_score) > thres:\n",
    "            outliers.append(x)  # Añadir el valor atípico a la lista de outliers\n",
    "    return outliers  # Retornar la lista de valores atípicos\n",
    "\n",
    "# Aplicar la función a la columna 'weight' del DataFrame gym\n",
    "sample_outliers = detect_outliers_zscore(gym.weight)\n",
    "\n",
    "# Imprimir los valores atípicos detectados usando el método de Z-score en español\n",
    "print(\"Valores atípicos detectados por el método de Z-score:\", sample_outliers)\n"
   ]
  },
  {
   "cell_type": "markdown",
   "metadata": {},
   "source": [
    "##### **Detección de valores atípicos mediante el rango intercuantil (IQR)**\n",
    "\n",
    "Valores fuera de 1.5 veces el rango intercuartil son atípicos."
   ]
  },
  {
   "cell_type": "code",
   "execution_count": null,
   "metadata": {},
   "outputs": [],
   "source": [
    "# Lista para almacenar los valores atípicos detectados\n",
    "outliers = []\n",
    "\n",
    "# Función para detectar valores atípicos utilizando el rango intercuartil (IQR)\n",
    "def detect_outliers_iqr(data):\n",
    "    data = sorted(data)  # Ordenar los datos de menor a mayor\n",
    "    q1 = np.percentile(data, 25)  # Calcular el primer cuartil (Q1)\n",
    "    q3 = np.percentile(data, 75)  # Calcular el tercer cuartil (Q3)\n",
    "    IQR = q3 - q1  # Calcular el rango intercuartil (IQR)\n",
    "    \n",
    "    # Definir los límites inferior y superior para identificar atípicos\n",
    "    lwr_bound =  # TU CODIGO  # Límite inferior\n",
    "    upr_bound =  # TU CODIGO  # Límite superior\n",
    "    \n",
    "    # Iterar a través de los datos para detectar valores fuera de los límites\n",
    "    for x in data:\n",
    "        if x < lwr_bound or x > upr_bound:  # Si el valor está fuera de los límites, es un valor atípico\n",
    "            outliers.append(x)  # Añadir el valor atípico a la lista\n",
    "    return outliers  # Retornar la lista de valores atípicos\n",
    "\n",
    "# Aplicar la función a la columna 'weight' del DataFrame gym\n",
    "sample_outliers = detect_outliers_iqr(gym.weight)\n",
    "\n",
    "# Imprimir los valores atípicos detectados utilizando el método del rango intercuartil (IQR)\n",
    "print(\"Valores atípicos detectados por el método del IQR:\", sample_outliers)\n"
   ]
  },
  {
   "cell_type": "markdown",
   "metadata": {},
   "source": [
    "#### **Tratamiento**\n",
    "\n",
    "##### **Eliminación de datos atípicos**\n",
    "\n",
    "Eliminaremos el dato que contiene el valor atípico del conjunto de datos utilizado previamente y, a continuación, visualizaremos el nuevo conjunto de datos mediante un gráfico de caja actualizado."
   ]
  },
  {
   "cell_type": "code",
   "execution_count": null,
   "metadata": {},
   "outputs": [],
   "source": [
    "# Cargamos la data\n",
    "gym = pd.read_csv('_data/dataviz/gym.csv')\n",
    "gym.head()"
   ]
  },
  {
   "cell_type": "code",
   "execution_count": null,
   "metadata": {},
   "outputs": [],
   "source": [
    "gym.info()"
   ]
  },
  {
   "cell_type": "markdown",
   "metadata": {},
   "source": [
    "Modificar el DataFrame del gimnasio para que solo esté formado por los casos *en los que el peso sea inferior a 104* e imprimir las cinco primeras filas:"
   ]
  },
  {
   "cell_type": "code",
   "execution_count": null,
   "metadata": {},
   "outputs": [],
   "source": [
    "gym_clean =  # TU CODIGO\n",
    "gym_clean.head()"
   ]
  },
  {
   "cell_type": "code",
   "execution_count": null,
   "metadata": {},
   "outputs": [],
   "source": [
    "gym_clean.info()"
   ]
  },
  {
   "cell_type": "markdown",
   "metadata": {},
   "source": [
    "Vamos a crear un boxplot para ver el aspecto de los datos"
   ]
  },
  {
   "cell_type": "code",
   "execution_count": null,
   "metadata": {},
   "outputs": [],
   "source": [
    "# Crear el diagrama de violín\n",
    "fig = # TU CODIGO\n",
    "\n",
    "# Configurar fondo blanco y rejilla gris\n",
    "fig.update_layout(\n",
    "    paper_bgcolor='white',  # Fondo del gráfico\n",
    "    plot_bgcolor='white',   # Fondo de la parte de trazado\n",
    "    # xaxis=dict(showgrid=True, gridcolor='lightgrey'),  # Rejilla gris en el eje x\n",
    "    yaxis=dict(showgrid=True, gridcolor='lightgrey')   # Rejilla gris en el eje y\n",
    ")\n",
    "\n",
    "# Actualizar el color de la caja a rojo y agregar línea del promedio más gruesa\n",
    "fig.update_traces(\n",
    "    box=dict(line_color='red'),     # Color de la caja (rojo)\n",
    "    meanline_visible=True,          # Mostrar línea del promedio\n",
    "    meanline=dict(color='darkgreen', width=3)  # Línea del promedio más gruesa y en rojo\n",
    ")\n",
    "\n",
    "# Mostrar el gráfico\n",
    "fig.show()\n"
   ]
  },
  {
   "cell_type": "markdown",
   "metadata": {},
   "source": [
    "Otra forma de eliminar los datos atípicos es:"
   ]
  },
  {
   "cell_type": "code",
   "execution_count": null,
   "metadata": {},
   "outputs": [],
   "source": [
    "gym.info()"
   ]
  },
  {
   "cell_type": "code",
   "execution_count": null,
   "metadata": {},
   "outputs": [],
   "source": [
    "# Función para eliminar outliers usando el rango intercuartílico (IQR)\n",
    "def remove_outliers_iqr(df):\n",
    "    Q1 = # TU CODIGO\n",
    "    Q3 = # TU CODIGO\n",
    "    IQR = # TU CODIGO\n",
    "    # Filtrar outliers\n",
    "    df_filtered = df[~((df < (Q1 - 1.5 * IQR)) | (df > (Q3 + 1.5 * IQR))).any(axis=1)]\n",
    "    return df_filtered\n",
    "\n",
    "# Se aplica la función de filtro de outliers sin incluir la variable objetivo\n",
    "gym_cleaned = remove_outliers_iqr(gym.drop(columns=['sex']))\n",
    "\n",
    "# Se vuelve a añadir la variable objetivo\n",
    "gym_cleaned['sex'] = gym['sex'].loc[gym_cleaned.index]\n",
    "\n",
    "print(\"Forma de datos originales: \", gym.shape)\n",
    "print(\"Forma de datos sin outliers: \",gym_cleaned.shape)"
   ]
  },
  {
   "cell_type": "markdown",
   "metadata": {},
   "source": [
    "##### **Imputación de datos atípicos**\n",
    "\n",
    "Veamos un diagrama de cajas y bigotes"
   ]
  },
  {
   "cell_type": "code",
   "execution_count": null,
   "metadata": {},
   "outputs": [],
   "source": [
    "# , Diagrama de cajas y bigotes del weight \n",
    "fig = # TU CODIGO\n",
    "\n",
    "# Configurar fondo blanco y rejilla gris\n",
    "fig.update_layout(\n",
    "    paper_bgcolor='white',  # Fondo del gráfico\n",
    "    plot_bgcolor='white',   # Fondo de la parte de trazado\n",
    "    # xaxis=dict(showgrid=True, gridcolor='lightgrey'),  # Rejilla gris en el eje x\n",
    "    yaxis=dict(showgrid=True, gridcolor='lightgrey')   # Rejilla gris en el eje y\n",
    ")\n",
    "\n",
    "fig.show()"
   ]
  },
  {
   "cell_type": "markdown",
   "metadata": {},
   "source": [
    "Al eliminar el dato atpico pudimos ver que los datos no tienen comportamiento normal, por lo que el valor medio es sensible a valores atípicos, se aconseja sustituirlos por la mediana."
   ]
  },
  {
   "cell_type": "code",
   "execution_count": null,
   "metadata": {},
   "outputs": [],
   "source": [
    "# Calcular la mediana de la columna 'weight'\n",
    "mediana_weight = gym['weight'].median()\n",
    "\n",
    "# Encontrar y reemplazar los valores atípicos\n",
    "Q1 = # TU CODIGO\n",
    "Q3 = # TU CODIGO\n",
    "IQR = # TU CODIGO\n",
    "limite_inferior = Q1 - 1.5 * IQR\n",
    "limite_superior = Q3 + 1.5 * IQR\n",
    "\n",
    "# Copia de datos\n",
    "gym_cleaned_2 = gym.copy()\n",
    "\n",
    "# Reemplazar los valores atípicos con la mediana\n",
    "gym_cleaned_2['weight'] = gym['weight'].apply(lambda x: mediana_weight if x < limite_inferior or x > limite_superior else x)\n"
   ]
  },
  {
   "cell_type": "markdown",
   "metadata": {},
   "source": [
    "Veamos el diagrama de cajas y bigotes de weight según el sexo"
   ]
  },
  {
   "cell_type": "code",
   "execution_count": null,
   "metadata": {},
   "outputs": [],
   "source": [
    "fig2 = # TU CODIGO\n",
    "\n",
    "# Configurar fondo blanco y rejilla gris\n",
    "fig2.update_layout(\n",
    "    paper_bgcolor='white',  # Fondo del gráfico\n",
    "    plot_bgcolor='white',   # Fondo de la parte de trazado\n",
    "    # xaxis=dict(showgrid=True, gridcolor='lightgrey'),  # Rejilla gris en el eje x\n",
    "    yaxis=dict(showgrid=True, gridcolor='lightgrey')   # Rejilla gris en el eje y\n",
    ")\n",
    "\n",
    "fig2.show()"
   ]
  },
  {
   "cell_type": "markdown",
   "metadata": {},
   "source": [
    "## **Visualización interactiva**"
   ]
  },
  {
   "cell_type": "markdown",
   "metadata": {},
   "source": [
    "### **Aspecto claves de las visualizaciones interactivas**\n",
    "\n",
    "El aspecto clave de las visualizaciones de datos interactivas es su capacidad de responder y adaptarse a las entradas del usuario en tiempo real o en intervalos muy cortos. A continuación, se exploran algunas de las principales entradas humanas, cómo se integran en las visualizaciones y el impacto que tienen en la comprensión de los datos:"
   ]
  },
  {
   "cell_type": "markdown",
   "metadata": {},
   "source": [
    "### **Preparación de nuestro dataset**\n",
    "\n",
    "Descargaremos y prepararemos nuestro conjunto de datos utilizando las bibliotecas de Python `pandas` y `numpy`. Al final de este ejercicio, tendremos un `DataFrame` listo para la creación de nuestras visualizaciones de datos interactivas. Utilizaremos dos archivos de datos: `co2.csv`, que contiene información sobre las emisiones de dióxido de carbono por persona, año y país, y `gapminder.csv`, que registra el PIB por año y país."
   ]
  },
  {
   "cell_type": "markdown",
   "metadata": {},
   "source": [
    "1. Importar las bibliotecas necesarias:"
   ]
  },
  {
   "cell_type": "code",
   "execution_count": 304,
   "metadata": {},
   "outputs": [],
   "source": [
    "import pandas as pd\n",
    "import numpy as np"
   ]
  },
  {
   "cell_type": "markdown",
   "metadata": {},
   "source": [
    "2. Utilizaremos el path único para cargar los archivos de datos directamente en DataFrames:"
   ]
  },
  {
   "cell_type": "code",
   "execution_count": null,
   "metadata": {},
   "outputs": [],
   "source": [
    "url_co2 = 'C:/Users/cdeor/OneDrive/Documentos/MachineLearningDipSerfinanzas/jbook_ml202430/docs/_data/dataviz/co2.csv'\n",
    "co2 = pd.read_csv(url_co2)\n",
    "co2.head()"
   ]
  },
  {
   "cell_type": "code",
   "execution_count": null,
   "metadata": {},
   "outputs": [],
   "source": [
    "url_gm = 'C:/Users/cdeor/OneDrive/Documentos/MachineLearningDipSerfinanzas/jbook_ml202430/docs/_data/dataviz/gapminder.csv'\n",
    "gm = pd.read_csv(url_gm)\n",
    "gm.head()"
   ]
  },
  {
   "cell_type": "markdown",
   "metadata": {},
   "source": [
    "3. Creamos un nuevo `DataFrame` `df_gm` que contenga solo las columnas *Country* y *region*, y eliminamos duplicados:"
   ]
  },
  {
   "cell_type": "code",
   "execution_count": null,
   "metadata": {},
   "outputs": [
    {
     "data": {
      "text/html": [
       "<div>\n",
       "<style scoped>\n",
       "    .dataframe tbody tr th:only-of-type {\n",
       "        vertical-align: middle;\n",
       "    }\n",
       "\n",
       "    .dataframe tbody tr th {\n",
       "        vertical-align: top;\n",
       "    }\n",
       "\n",
       "    .dataframe thead th {\n",
       "        text-align: right;\n",
       "    }\n",
       "</style>\n",
       "<table border=\"1\" class=\"dataframe\">\n",
       "  <thead>\n",
       "    <tr style=\"text-align: right;\">\n",
       "      <th></th>\n",
       "      <th>Country</th>\n",
       "      <th>region</th>\n",
       "    </tr>\n",
       "  </thead>\n",
       "  <tbody>\n",
       "    <tr>\n",
       "      <th>0</th>\n",
       "      <td>Afghanistan</td>\n",
       "      <td>South Asia</td>\n",
       "    </tr>\n",
       "    <tr>\n",
       "      <th>50</th>\n",
       "      <td>Albania</td>\n",
       "      <td>Europe &amp; Central Asia</td>\n",
       "    </tr>\n",
       "    <tr>\n",
       "      <th>100</th>\n",
       "      <td>Algeria</td>\n",
       "      <td>Middle East &amp; North Africa</td>\n",
       "    </tr>\n",
       "    <tr>\n",
       "      <th>150</th>\n",
       "      <td>Angola</td>\n",
       "      <td>Sub-Saharan Africa</td>\n",
       "    </tr>\n",
       "    <tr>\n",
       "      <th>200</th>\n",
       "      <td>Antigua and Barbuda</td>\n",
       "      <td>America</td>\n",
       "    </tr>\n",
       "  </tbody>\n",
       "</table>\n",
       "</div>"
      ],
      "text/plain": [
       "                 Country                      region\n",
       "0            Afghanistan                  South Asia\n",
       "50               Albania       Europe & Central Asia\n",
       "100              Algeria  Middle East & North Africa\n",
       "150               Angola          Sub-Saharan Africa\n",
       "200  Antigua and Barbuda                     America"
      ]
     },
     "execution_count": 307,
     "metadata": {},
     "output_type": "execute_result"
    }
   ],
   "source": [
    "df_gm = # TU CODIGO\n",
    "df_gm.head()"
   ]
  },
  {
   "cell_type": "markdown",
   "metadata": {},
   "source": [
    "4. Utilice `.merge()` para combinar el DataFrame `co2` con el DataFrame `df_gm`. "
   ]
  },
  {
   "cell_type": "code",
   "execution_count": null,
   "metadata": {},
   "outputs": [
    {
     "data": {
      "text/html": [
       "<div>\n",
       "<style scoped>\n",
       "    .dataframe tbody tr th:only-of-type {\n",
       "        vertical-align: middle;\n",
       "    }\n",
       "\n",
       "    .dataframe tbody tr th {\n",
       "        vertical-align: top;\n",
       "    }\n",
       "\n",
       "    .dataframe thead th {\n",
       "        text-align: right;\n",
       "    }\n",
       "</style>\n",
       "<table border=\"1\" class=\"dataframe\">\n",
       "  <thead>\n",
       "    <tr style=\"text-align: right;\">\n",
       "      <th></th>\n",
       "      <th>country</th>\n",
       "      <th>1800</th>\n",
       "      <th>1801</th>\n",
       "      <th>1802</th>\n",
       "      <th>1803</th>\n",
       "      <th>1804</th>\n",
       "      <th>1805</th>\n",
       "      <th>1806</th>\n",
       "      <th>1807</th>\n",
       "      <th>1808</th>\n",
       "      <th>...</th>\n",
       "      <th>2006</th>\n",
       "      <th>2007</th>\n",
       "      <th>2008</th>\n",
       "      <th>2009</th>\n",
       "      <th>2010</th>\n",
       "      <th>2011</th>\n",
       "      <th>2012</th>\n",
       "      <th>2013</th>\n",
       "      <th>2014</th>\n",
       "      <th>region</th>\n",
       "    </tr>\n",
       "  </thead>\n",
       "  <tbody>\n",
       "    <tr>\n",
       "      <th>0</th>\n",
       "      <td>Afghanistan</td>\n",
       "      <td>NaN</td>\n",
       "      <td>NaN</td>\n",
       "      <td>NaN</td>\n",
       "      <td>NaN</td>\n",
       "      <td>NaN</td>\n",
       "      <td>NaN</td>\n",
       "      <td>NaN</td>\n",
       "      <td>NaN</td>\n",
       "      <td>NaN</td>\n",
       "      <td>...</td>\n",
       "      <td>0.0637</td>\n",
       "      <td>0.0854</td>\n",
       "      <td>0.154</td>\n",
       "      <td>0.242</td>\n",
       "      <td>0.294</td>\n",
       "      <td>0.412</td>\n",
       "      <td>0.35</td>\n",
       "      <td>0.316</td>\n",
       "      <td>0.299</td>\n",
       "      <td>South Asia</td>\n",
       "    </tr>\n",
       "    <tr>\n",
       "      <th>1</th>\n",
       "      <td>Albania</td>\n",
       "      <td>NaN</td>\n",
       "      <td>NaN</td>\n",
       "      <td>NaN</td>\n",
       "      <td>NaN</td>\n",
       "      <td>NaN</td>\n",
       "      <td>NaN</td>\n",
       "      <td>NaN</td>\n",
       "      <td>NaN</td>\n",
       "      <td>NaN</td>\n",
       "      <td>...</td>\n",
       "      <td>1.2800</td>\n",
       "      <td>1.3000</td>\n",
       "      <td>1.460</td>\n",
       "      <td>1.480</td>\n",
       "      <td>1.560</td>\n",
       "      <td>1.790</td>\n",
       "      <td>1.68</td>\n",
       "      <td>1.730</td>\n",
       "      <td>1.960</td>\n",
       "      <td>Europe &amp; Central Asia</td>\n",
       "    </tr>\n",
       "    <tr>\n",
       "      <th>2</th>\n",
       "      <td>Algeria</td>\n",
       "      <td>NaN</td>\n",
       "      <td>NaN</td>\n",
       "      <td>NaN</td>\n",
       "      <td>NaN</td>\n",
       "      <td>NaN</td>\n",
       "      <td>NaN</td>\n",
       "      <td>NaN</td>\n",
       "      <td>NaN</td>\n",
       "      <td>NaN</td>\n",
       "      <td>...</td>\n",
       "      <td>2.9900</td>\n",
       "      <td>3.1900</td>\n",
       "      <td>3.160</td>\n",
       "      <td>3.420</td>\n",
       "      <td>3.300</td>\n",
       "      <td>3.290</td>\n",
       "      <td>3.46</td>\n",
       "      <td>3.510</td>\n",
       "      <td>3.720</td>\n",
       "      <td>Middle East &amp; North Africa</td>\n",
       "    </tr>\n",
       "    <tr>\n",
       "      <th>3</th>\n",
       "      <td>Angola</td>\n",
       "      <td>NaN</td>\n",
       "      <td>NaN</td>\n",
       "      <td>NaN</td>\n",
       "      <td>NaN</td>\n",
       "      <td>NaN</td>\n",
       "      <td>NaN</td>\n",
       "      <td>NaN</td>\n",
       "      <td>NaN</td>\n",
       "      <td>NaN</td>\n",
       "      <td>...</td>\n",
       "      <td>1.1000</td>\n",
       "      <td>1.2000</td>\n",
       "      <td>1.180</td>\n",
       "      <td>1.230</td>\n",
       "      <td>1.240</td>\n",
       "      <td>1.250</td>\n",
       "      <td>1.33</td>\n",
       "      <td>1.250</td>\n",
       "      <td>1.290</td>\n",
       "      <td>Sub-Saharan Africa</td>\n",
       "    </tr>\n",
       "    <tr>\n",
       "      <th>4</th>\n",
       "      <td>Antigua and Barbuda</td>\n",
       "      <td>NaN</td>\n",
       "      <td>NaN</td>\n",
       "      <td>NaN</td>\n",
       "      <td>NaN</td>\n",
       "      <td>NaN</td>\n",
       "      <td>NaN</td>\n",
       "      <td>NaN</td>\n",
       "      <td>NaN</td>\n",
       "      <td>NaN</td>\n",
       "      <td>...</td>\n",
       "      <td>4.9100</td>\n",
       "      <td>5.1400</td>\n",
       "      <td>5.190</td>\n",
       "      <td>5.450</td>\n",
       "      <td>5.540</td>\n",
       "      <td>5.360</td>\n",
       "      <td>5.42</td>\n",
       "      <td>5.360</td>\n",
       "      <td>5.380</td>\n",
       "      <td>America</td>\n",
       "    </tr>\n",
       "  </tbody>\n",
       "</table>\n",
       "<p>5 rows × 217 columns</p>\n",
       "</div>"
      ],
      "text/plain": [
       "               country  1800  1801  1802  1803  1804  1805  1806  1807  1808  \\\n",
       "0          Afghanistan   NaN   NaN   NaN   NaN   NaN   NaN   NaN   NaN   NaN   \n",
       "1              Albania   NaN   NaN   NaN   NaN   NaN   NaN   NaN   NaN   NaN   \n",
       "2              Algeria   NaN   NaN   NaN   NaN   NaN   NaN   NaN   NaN   NaN   \n",
       "3               Angola   NaN   NaN   NaN   NaN   NaN   NaN   NaN   NaN   NaN   \n",
       "4  Antigua and Barbuda   NaN   NaN   NaN   NaN   NaN   NaN   NaN   NaN   NaN   \n",
       "\n",
       "   ...    2006    2007   2008   2009   2010   2011  2012   2013   2014  \\\n",
       "0  ...  0.0637  0.0854  0.154  0.242  0.294  0.412  0.35  0.316  0.299   \n",
       "1  ...  1.2800  1.3000  1.460  1.480  1.560  1.790  1.68  1.730  1.960   \n",
       "2  ...  2.9900  3.1900  3.160  3.420  3.300  3.290  3.46  3.510  3.720   \n",
       "3  ...  1.1000  1.2000  1.180  1.230  1.240  1.250  1.33  1.250  1.290   \n",
       "4  ...  4.9100  5.1400  5.190  5.450  5.540  5.360  5.42  5.360  5.380   \n",
       "\n",
       "                       region  \n",
       "0                  South Asia  \n",
       "1       Europe & Central Asia  \n",
       "2  Middle East & North Africa  \n",
       "3          Sub-Saharan Africa  \n",
       "4                     America  \n",
       "\n",
       "[5 rows x 217 columns]"
      ]
     },
     "execution_count": 308,
     "metadata": {},
     "output_type": "execute_result"
    }
   ],
   "source": [
    "# Fusionamos el DataFrame 'co2' con el DataFrame 'df_gm' utilizando 'country' y 'Country' como claves\n",
    "# La fusión es interna ('inner join') para mantener solo las filas comunes a ambos DataFrames\n",
    "df_w_regions = pd.merge(..., ..., left_on='country', right_on='Country', how='inner')\n",
    "\n",
    "# Eliminamos la columna duplicada 'Country' ya que 'country' contiene la misma información\n",
    "df_w_regions = df_w_regions.drop('Country', axis='columns')\n",
    "\n",
    "# Mostramos las primeras 5 filas del DataFrame resultante para verificar la fusión\n",
    "df_w_regions.head()"
   ]
  },
  {
   "cell_type": "markdown",
   "metadata": {},
   "source": [
    "5. A continuación, aplicaremos la función `.melt()` al DataFrame y almacenaremos el resultado en un nuevo DataFrame llamado `new_co2`. "
   ]
  },
  {
   "cell_type": "code",
   "execution_count": null,
   "metadata": {},
   "outputs": [],
   "source": [
    "# Aplicamos la función pd.melt() al DataFrame 'df_w_regions'\n",
    "# 'id_vars' indica las columnas que queremos mantener como identificadoras (en este caso, 'country' y 'region')\n",
    "# El resto de las columnas (años) se transforman en una sola columna 'variable' con sus respectivos valores en otra columna 'value'\n",
    "new_co2 = pd.melt(..., id_vars=...)\n",
    "\n",
    "# Renombramos las columnas del DataFrame resultante para mayor claridad\n",
    "# 'variable' ahora se llamará 'year' para representar los años, y 'value' se renombra a 'co2' para las emisiones de CO2\n",
    "new_co2.columns = ['country', 'region', 'year', 'co2']\n",
    "\n",
    "# muestra las 5 primeras\n",
    "new_co2.tail(5)"
   ]
  },
  {
   "cell_type": "markdown",
   "metadata": {},
   "source": [
    "6. Estableceremos un límite inferior de 1964 en la columna *year* del DataFrame `new_co2`, filtrando los datos para mantener únicamente los años posteriores a 1963, y convertiremos los valores de esta columna al tipo `int64` utilizando `.astype('int64')`. El resultado se almacenará en un nuevo DataFrame llamado `df_co2`, que luego se ordenará por las columnas `['country', 'year']` utilizando `.sort_values()` para garantizar que los datos estén organizados por país y año de manera coherente y lista para análisis posteriores."
   ]
  },
  {
   "cell_type": "code",
   "execution_count": null,
   "metadata": {},
   "outputs": [],
   "source": [
    "# Filtramos el DataFrame 'new_co2' para mantener solo los registros donde el valor de 'year' es mayor a 1963\n",
    "# Convertimos los valores de la columna 'year' al tipo int64 para asegurar que los años sean tratados como enteros\n",
    "# Luego, ordenamos el DataFrame resultante por las columnas 'country' y 'year'\n",
    "df_co2 = new_co2[new_co2['year'].astype('int64') > 1963].sort_values(by=['country', 'year'])\n",
    "\n",
    "# Convertimos nuevamente la columna 'year' al tipo int64 para asegurarnos de que los valores tengan el formato adecuado\n",
    "df_co2['year'] = # TU CODIGO\n",
    "\n",
    "# Mostramos las primeras 5 filas del DataFrame 'df_co2' para verificar que todo se ha realizado correctamente\n",
    "df_co2.head()\n"
   ]
  },
  {
   "cell_type": "markdown",
   "metadata": {},
   "source": [
    "7. Creamos un nuevo DataFrame `df_gdp` que contenga las columnas *country*, *year* y *gdp* del DataFrame `gm`:"
   ]
  },
  {
   "cell_type": "code",
   "execution_count": null,
   "metadata": {},
   "outputs": [],
   "source": [
    "# Seleccionamos las columnas 'Country', 'Year' y 'gdp' del DataFrame 'gm'\n",
    "# Estas columnas contienen la información del país, año y PIB (gdp)\n",
    "df_gdp = gm[['Country', 'Year', 'gdp']]\n",
    "\n",
    "# Renombramos las columnas para mantener consistencia en el formato\n",
    "# Cambiamos 'Country' a 'country' y 'Year' a 'year' para alinearlas con el formato del DataFrame 'df_co2'\n",
    "df_gdp.columns = # TU CODIGO\n",
    "\n",
    "# Mostramos las primeras 5 filas del DataFrame 'df_gdp' para verificar que los nombres de columnas y los datos son correctos\n",
    "df_gdp.head()\n"
   ]
  },
  {
   "cell_type": "markdown",
   "metadata": {},
   "source": [
    "8. Identificamos las columnas con valores faltantes en ambos DataFrames:"
   ]
  },
  {
   "cell_type": "code",
   "execution_count": null,
   "metadata": {},
   "outputs": [],
   "source": [
    "# TU CODIGO"
   ]
  },
  {
   "cell_type": "code",
   "execution_count": null,
   "metadata": {},
   "outputs": [],
   "source": [
    "df_gdp.isna().sum()"
   ]
  },
  {
   "cell_type": "markdown",
   "metadata": {},
   "source": [
    "9. Fusionamos los DataFrames `df_co2` y `df_gdp` en las columnas *country* y *year*, y eliminamos los valores faltantes:"
   ]
  },
  {
   "cell_type": "code",
   "execution_count": null,
   "metadata": {},
   "outputs": [],
   "source": [
    "# Combinamos los DataFrames 'df_co2' y 'df_gdp' utilizando un 'merge' en las columnas 'country' y 'year'\n",
    "# Se utiliza 'how=left' para hacer un left join, lo que asegura que se mantengan todos los registros de 'df_co2'\n",
    "# y solo se añadan los datos de 'gdp' donde haya coincidencias en país y año\n",
    "data = pd.merge(df_co2, df_gdp, on=['country', 'year'], how='left')\n",
    "\n",
    "# Eliminamos las filas que contienen valores NaN en cualquier columna utilizando 'dropna()'\n",
    "# Esto es necesario para asegurarnos de que trabajamos solo con datos completos\n",
    "data = # TU CODIGO\n",
    "\n",
    "# Mostramos las primeras 5 filas del DataFrame 'data' para verificar que la combinación y la limpieza se realizaron correctamente\n",
    "data.head()\n"
   ]
  },
  {
   "cell_type": "markdown",
   "metadata": {},
   "source": [
    "10. Por último, comprobemos la correlación entre las emisiones de dióxido de carbono y el PIB para asegurarnos de que estamos analizando datos que merecen ser visualizados. Crea un array numpy con las columnas `co2` y `gdp`:"
   ]
  },
  {
   "cell_type": "code",
   "execution_count": null,
   "metadata": {},
   "outputs": [
    {
     "data": {
      "text/plain": [
       "array([[1.        , 0.78219731],\n",
       "       [0.78219731, 1.        ]])"
      ]
     },
     "execution_count": 315,
     "metadata": {},
     "output_type": "execute_result"
    }
   ],
   "source": [
    "# Convertimos la columna 'co2' del DataFrame 'data' en un array de NumPy\n",
    "# Esto facilita la manipulación y el cálculo de correlaciones entre los valores\n",
    "np_co2 = np.array(data['co2'])\n",
    "\n",
    "# Convertimos la columna 'gdp' del DataFrame 'data' en un array de NumPy\n",
    "# Este paso es similar al anterior para preparar los datos para el análisis\n",
    "np_gdp = np.array(data['gdp'])\n",
    "\n",
    "# Calculamos el coeficiente de correlación entre los arrays 'np_co2' y 'np_gdp'\n",
    "# Utilizamos la función 'corrcoef()' de NumPy, que devuelve una matriz de correlación\n",
    "# El valor en la posición [0, 1] o [1, 0] será el coeficiente de correlación entre 'co2' y 'gdp'\n",
    "# TU CODIGO\n"
   ]
  },
  {
   "cell_type": "markdown",
   "metadata": {},
   "source": [
    "El resultado muestra una correlación significativa (0.78) entre las emisiones de CO2 y el PIB, lo que indica que estos datos son adecuados para un análisis más profundo y visualización interactiva."
   ]
  },
  {
   "cell_type": "markdown",
   "metadata": {},
   "source": [
    "### **Creación del gráfico estático con visualización interactiva**"
   ]
  },
  {
   "cell_type": "code",
   "execution_count": 316,
   "metadata": {},
   "outputs": [],
   "source": [
    "# Importamos la función 'curdoc' que maneja el documento gráfico actual en Bokeh\n",
    "from bokeh.io import curdoc, output_notebook\n",
    "\n",
    "# Importamos las herramientas y métodos de Bokeh para crear interactividad\n",
    "from bokeh.models import HoverTool, ColumnDataSource, CategoricalColorMapper, Slider, CustomJS\n",
    "\n",
    "# Importamos la paleta de colores 'Spectral6' que usaremos para colorear las regiones\n",
    "from bokeh.palettes import Spectral6\n",
    "\n",
    "# Importamos 'widgetbox' para agrupar herramientas, y 'row' para organizar objetos visuales en filas\n",
    "from bokeh.layouts import row, column\n",
    "\n",
    "# Importamos la clase 'Figure' para crear gráficos en Bokeh\n",
    "from bokeh.plotting import figure, show, output_notebook, output_file\n",
    "\n",
    "# Importamos 'interact' para permitir la interactividad en el Jupyter notebook\n",
    "from ipywidgets import interact"
   ]
  },
  {
   "cell_type": "markdown",
   "metadata": {},
   "source": [
    "3. Ejecutamos la función `output_notebook()` para cargar BokehJS, lo que permite que las visualizaciones se muestren dentro del Jupyter notebook."
   ]
  },
  {
   "cell_type": "code",
   "execution_count": 317,
   "metadata": {},
   "outputs": [
    {
     "data": {
      "text/html": [
       "    <style>\n",
       "        .bk-notebook-logo {\n",
       "            display: block;\n",
       "            width: 20px;\n",
       "            height: 20px;\n",
       "            background-image: url(data:image/png;base64,iVBORw0KGgoAAAANSUhEUgAAABQAAAAUCAYAAACNiR0NAAAABHNCSVQICAgIfAhkiAAAAAlwSFlzAAALEgAACxIB0t1+/AAAABx0RVh0U29mdHdhcmUAQWRvYmUgRmlyZXdvcmtzIENTNui8sowAAAOkSURBVDiNjZRtaJVlGMd/1/08zzln5zjP1LWcU9N0NkN8m2CYjpgQYQXqSs0I84OLIC0hkEKoPtiH3gmKoiJDU7QpLgoLjLIQCpEsNJ1vqUOdO7ppbuec5+V+rj4ctwzd8IIbbi6u+8f1539dt3A78eXC7QizUF7gyV1fD1Yqg4JWz84yffhm0qkFqBogB9rM8tZdtwVsPUhWhGcFJngGeWrPzHm5oaMmkfEg1usvLFyc8jLRqDOMru7AyC8saQr7GG7f5fvDeH7Ej8CM66nIF+8yngt6HWaKh7k49Soy9nXurCi1o3qUbS3zWfrYeQDTB/Qj6kX6Ybhw4B+bOYoLKCC9H3Nu/leUTZ1JdRWkkn2ldcCamzrcf47KKXdAJllSlxAOkRgyHsGC/zRday5Qld9DyoM4/q/rUoy/CXh3jzOu3bHUVZeU+DEn8FInkPBFlu3+nW3Nw0mk6vCDiWg8CeJaxEwuHS3+z5RgY+YBR6V1Z1nxSOfoaPa4LASWxxdNp+VWTk7+4vzaou8v8PN+xo+KY2xsw6une2frhw05CTYOmQvsEhjhWjn0bmXPjpE1+kplmmkP3suftwTubK9Vq22qKmrBhpY4jvd5afdRA3wGjFAgcnTK2s4hY0/GPNIb0nErGMCRxWOOX64Z8RAC4oCXdklmEvcL8o0BfkNK4lUg9HTl+oPlQxdNo3Mg4Nv175e/1LDGzZen30MEjRUtmXSfiTVu1kK8W4txyV6BMKlbgk3lMwYCiusNy9fVfvvwMxv8Ynl6vxoByANLTWplvuj/nF9m2+PDtt1eiHPBr1oIfhCChQMBw6Aw0UulqTKZdfVvfG7VcfIqLG9bcldL/+pdWTLxLUy8Qq38heUIjh4XlzZxzQm19lLFlr8vdQ97rjZVOLf8nclzckbcD4wxXMidpX30sFd37Fv/GtwwhzhxGVAprjbg0gCAEeIgwCZyTV2Z1REEW8O4py0wsjeloKoMr6iCY6dP92H6Vw/oTyICIthibxjm/DfN9lVz8IqtqKYLUXfoKVMVQVVJOElGjrnnUt9T9wbgp8AyYKaGlqingHZU/uG2NTZSVqwHQTWkx9hxjkpWDaCg6Ckj5qebgBVbT3V3NNXMSiWSDdGV3hrtzla7J+duwPOToIg42ChPQOQjspnSlp1V+Gjdged7+8UN5CRAV7a5EdFNwCjEaBR27b3W890TE7g24NAP/mMDXRWrGoFPQI9ls/MWO2dWFAar/xcOIImbbpA3zgAAAABJRU5ErkJggg==);\n",
       "        }\n",
       "    </style>\n",
       "    <div>\n",
       "        <a href=\"https://bokeh.org\" target=\"_blank\" class=\"bk-notebook-logo\"></a>\n",
       "        <span id=\"ea8f37a8-a373-485c-a40d-39394c0cd89b\">Loading BokehJS ...</span>\n",
       "    </div>\n"
      ]
     },
     "metadata": {},
     "output_type": "display_data"
    },
    {
     "data": {
      "application/javascript": "'use strict';\n(function(root) {\n  function now() {\n    return new Date();\n  }\n\n  const force = true;\n\n  if (typeof root._bokeh_onload_callbacks === \"undefined\" || force === true) {\n    root._bokeh_onload_callbacks = [];\n    root._bokeh_is_loading = undefined;\n  }\n\nconst JS_MIME_TYPE = 'application/javascript';\n  const HTML_MIME_TYPE = 'text/html';\n  const EXEC_MIME_TYPE = 'application/vnd.bokehjs_exec.v0+json';\n  const CLASS_NAME = 'output_bokeh rendered_html';\n\n  /**\n   * Render data to the DOM node\n   */\n  function render(props, node) {\n    const script = document.createElement(\"script\");\n    node.appendChild(script);\n  }\n\n  /**\n   * Handle when an output is cleared or removed\n   */\n  function handleClearOutput(event, handle) {\n    function drop(id) {\n      const view = Bokeh.index.get_by_id(id)\n      if (view != null) {\n        view.model.document.clear()\n        Bokeh.index.delete(view)\n      }\n    }\n\n    const cell = handle.cell;\n\n    const id = cell.output_area._bokeh_element_id;\n    const server_id = cell.output_area._bokeh_server_id;\n\n    // Clean up Bokeh references\n    if (id != null) {\n      drop(id)\n    }\n\n    if (server_id !== undefined) {\n      // Clean up Bokeh references\n      const cmd_clean = \"from bokeh.io.state import curstate; print(curstate().uuid_to_server['\" + server_id + \"'].get_sessions()[0].document.roots[0]._id)\";\n      cell.notebook.kernel.execute(cmd_clean, {\n        iopub: {\n          output: function(msg) {\n            const id = msg.content.text.trim()\n            drop(id)\n          }\n        }\n      });\n      // Destroy server and session\n      const cmd_destroy = \"import bokeh.io.notebook as ion; ion.destroy_server('\" + server_id + \"')\";\n      cell.notebook.kernel.execute(cmd_destroy);\n    }\n  }\n\n  /**\n   * Handle when a new output is added\n   */\n  function handleAddOutput(event, handle) {\n    const output_area = handle.output_area;\n    const output = handle.output;\n\n    // limit handleAddOutput to display_data with EXEC_MIME_TYPE content only\n    if ((output.output_type != \"display_data\") || (!Object.prototype.hasOwnProperty.call(output.data, EXEC_MIME_TYPE))) {\n      return\n    }\n\n    const toinsert = output_area.element.find(\".\" + CLASS_NAME.split(' ')[0]);\n\n    if (output.metadata[EXEC_MIME_TYPE][\"id\"] !== undefined) {\n      toinsert[toinsert.length - 1].firstChild.textContent = output.data[JS_MIME_TYPE];\n      // store reference to embed id on output_area\n      output_area._bokeh_element_id = output.metadata[EXEC_MIME_TYPE][\"id\"];\n    }\n    if (output.metadata[EXEC_MIME_TYPE][\"server_id\"] !== undefined) {\n      const bk_div = document.createElement(\"div\");\n      bk_div.innerHTML = output.data[HTML_MIME_TYPE];\n      const script_attrs = bk_div.children[0].attributes;\n      for (let i = 0; i < script_attrs.length; i++) {\n        toinsert[toinsert.length - 1].firstChild.setAttribute(script_attrs[i].name, script_attrs[i].value);\n        toinsert[toinsert.length - 1].firstChild.textContent = bk_div.children[0].textContent\n      }\n      // store reference to server id on output_area\n      output_area._bokeh_server_id = output.metadata[EXEC_MIME_TYPE][\"server_id\"];\n    }\n  }\n\n  function register_renderer(events, OutputArea) {\n\n    function append_mime(data, metadata, element) {\n      // create a DOM node to render to\n      const toinsert = this.create_output_subarea(\n        metadata,\n        CLASS_NAME,\n        EXEC_MIME_TYPE\n      );\n      this.keyboard_manager.register_events(toinsert);\n      // Render to node\n      const props = {data: data, metadata: metadata[EXEC_MIME_TYPE]};\n      render(props, toinsert[toinsert.length - 1]);\n      element.append(toinsert);\n      return toinsert\n    }\n\n    /* Handle when an output is cleared or removed */\n    events.on('clear_output.CodeCell', handleClearOutput);\n    events.on('delete.Cell', handleClearOutput);\n\n    /* Handle when a new output is added */\n    events.on('output_added.OutputArea', handleAddOutput);\n\n    /**\n     * Register the mime type and append_mime function with output_area\n     */\n    OutputArea.prototype.register_mime_type(EXEC_MIME_TYPE, append_mime, {\n      /* Is output safe? */\n      safe: true,\n      /* Index of renderer in `output_area.display_order` */\n      index: 0\n    });\n  }\n\n  // register the mime type if in Jupyter Notebook environment and previously unregistered\n  if (root.Jupyter !== undefined) {\n    const events = require('base/js/events');\n    const OutputArea = require('notebook/js/outputarea').OutputArea;\n\n    if (OutputArea.prototype.mime_types().indexOf(EXEC_MIME_TYPE) == -1) {\n      register_renderer(events, OutputArea);\n    }\n  }\n  if (typeof (root._bokeh_timeout) === \"undefined\" || force === true) {\n    root._bokeh_timeout = Date.now() + 5000;\n    root._bokeh_failed_load = false;\n  }\n\n  const NB_LOAD_WARNING = {'data': {'text/html':\n     \"<div style='background-color: #fdd'>\\n\"+\n     \"<p>\\n\"+\n     \"BokehJS does not appear to have successfully loaded. If loading BokehJS from CDN, this \\n\"+\n     \"may be due to a slow or bad network connection. Possible fixes:\\n\"+\n     \"</p>\\n\"+\n     \"<ul>\\n\"+\n     \"<li>re-rerun `output_notebook()` to attempt to load from CDN again, or</li>\\n\"+\n     \"<li>use INLINE resources instead, as so:</li>\\n\"+\n     \"</ul>\\n\"+\n     \"<code>\\n\"+\n     \"from bokeh.resources import INLINE\\n\"+\n     \"output_notebook(resources=INLINE)\\n\"+\n     \"</code>\\n\"+\n     \"</div>\"}};\n\n  function display_loaded(error = null) {\n    const el = document.getElementById(\"ea8f37a8-a373-485c-a40d-39394c0cd89b\");\n    if (el != null) {\n      const html = (() => {\n        if (typeof root.Bokeh === \"undefined\") {\n          if (error == null) {\n            return \"BokehJS is loading ...\";\n          } else {\n            return \"BokehJS failed to load.\";\n          }\n        } else {\n          const prefix = `BokehJS ${root.Bokeh.version}`;\n          if (error == null) {\n            return `${prefix} successfully loaded.`;\n          } else {\n            return `${prefix} <b>encountered errors</b> while loading and may not function as expected.`;\n          }\n        }\n      })();\n      el.innerHTML = html;\n\n      if (error != null) {\n        const wrapper = document.createElement(\"div\");\n        wrapper.style.overflow = \"auto\";\n        wrapper.style.height = \"5em\";\n        wrapper.style.resize = \"vertical\";\n        const content = document.createElement(\"div\");\n        content.style.fontFamily = \"monospace\";\n        content.style.whiteSpace = \"pre-wrap\";\n        content.style.backgroundColor = \"rgb(255, 221, 221)\";\n        content.textContent = error.stack ?? error.toString();\n        wrapper.append(content);\n        el.append(wrapper);\n      }\n    } else if (Date.now() < root._bokeh_timeout) {\n      setTimeout(() => display_loaded(error), 100);\n    }\n  }\n\n  function run_callbacks() {\n    try {\n      root._bokeh_onload_callbacks.forEach(function(callback) {\n        if (callback != null)\n          callback();\n      });\n    } finally {\n      delete root._bokeh_onload_callbacks\n    }\n    console.debug(\"Bokeh: all callbacks have finished\");\n  }\n\n  function load_libs(css_urls, js_urls, callback) {\n    if (css_urls == null) css_urls = [];\n    if (js_urls == null) js_urls = [];\n\n    root._bokeh_onload_callbacks.push(callback);\n    if (root._bokeh_is_loading > 0) {\n      console.debug(\"Bokeh: BokehJS is being loaded, scheduling callback at\", now());\n      return null;\n    }\n    if (js_urls == null || js_urls.length === 0) {\n      run_callbacks();\n      return null;\n    }\n    console.debug(\"Bokeh: BokehJS not loaded, scheduling load and callback at\", now());\n    root._bokeh_is_loading = css_urls.length + js_urls.length;\n\n    function on_load() {\n      root._bokeh_is_loading--;\n      if (root._bokeh_is_loading === 0) {\n        console.debug(\"Bokeh: all BokehJS libraries/stylesheets loaded\");\n        run_callbacks()\n      }\n    }\n\n    function on_error(url) {\n      console.error(\"failed to load \" + url);\n    }\n\n    for (let i = 0; i < css_urls.length; i++) {\n      const url = css_urls[i];\n      const element = document.createElement(\"link\");\n      element.onload = on_load;\n      element.onerror = on_error.bind(null, url);\n      element.rel = \"stylesheet\";\n      element.type = \"text/css\";\n      element.href = url;\n      console.debug(\"Bokeh: injecting link tag for BokehJS stylesheet: \", url);\n      document.body.appendChild(element);\n    }\n\n    for (let i = 0; i < js_urls.length; i++) {\n      const url = js_urls[i];\n      const element = document.createElement('script');\n      element.onload = on_load;\n      element.onerror = on_error.bind(null, url);\n      element.async = false;\n      element.src = url;\n      console.debug(\"Bokeh: injecting script tag for BokehJS library: \", url);\n      document.head.appendChild(element);\n    }\n  };\n\n  function inject_raw_css(css) {\n    const element = document.createElement(\"style\");\n    element.appendChild(document.createTextNode(css));\n    document.body.appendChild(element);\n  }\n\n  const js_urls = [\"https://cdn.bokeh.org/bokeh/release/bokeh-3.4.3.min.js\", \"https://cdn.bokeh.org/bokeh/release/bokeh-gl-3.4.3.min.js\", \"https://cdn.bokeh.org/bokeh/release/bokeh-widgets-3.4.3.min.js\", \"https://cdn.bokeh.org/bokeh/release/bokeh-tables-3.4.3.min.js\", \"https://cdn.bokeh.org/bokeh/release/bokeh-mathjax-3.4.3.min.js\"];\n  const css_urls = [];\n\n  const inline_js = [    function(Bokeh) {\n      Bokeh.set_log_level(\"info\");\n    },\nfunction(Bokeh) {\n    }\n  ];\n\n  function run_inline_js() {\n    if (root.Bokeh !== undefined || force === true) {\n      try {\n            for (let i = 0; i < inline_js.length; i++) {\n      inline_js[i].call(root, root.Bokeh);\n    }\n\n      } catch (error) {display_loaded(error);throw error;\n      }if (force === true) {\n        display_loaded();\n      }} else if (Date.now() < root._bokeh_timeout) {\n      setTimeout(run_inline_js, 100);\n    } else if (!root._bokeh_failed_load) {\n      console.log(\"Bokeh: BokehJS failed to load within specified timeout.\");\n      root._bokeh_failed_load = true;\n    } else if (force !== true) {\n      const cell = $(document.getElementById(\"ea8f37a8-a373-485c-a40d-39394c0cd89b\")).parents('.cell').data().cell;\n      cell.output_area.append_execute_result(NB_LOAD_WARNING)\n    }\n  }\n\n  if (root._bokeh_is_loading === 0) {\n    console.debug(\"Bokeh: BokehJS loaded, going straight to plotting\");\n    run_inline_js();\n  } else {\n    load_libs(css_urls, js_urls, function() {\n      console.debug(\"Bokeh: BokehJS plotting callback run at\", now());\n      run_inline_js();\n    });\n  }\n}(window));",
      "application/vnd.bokehjs_load.v0+json": ""
     },
     "metadata": {},
     "output_type": "display_data"
    }
   ],
   "source": [
    "# Carga BokehJS en el entorno del notebook\n",
    "output_notebook()"
   ]
  },
  {
   "cell_type": "markdown",
   "metadata": {},
   "source": [
    "4. Vamos a codificar los puntos de datos (países) por color, dependiendo de la región a la que pertenezcan. Primero, crearemos una lista única de regiones a partir del DataFrame `data`, y luego utilizaremos `CategoricalColorMapper` para asignar un color a cada región."
   ]
  },
  {
   "cell_type": "code",
   "execution_count": null,
   "metadata": {},
   "outputs": [],
   "source": [
    "# Creamos una lista de regiones únicas a partir de la columna 'region' del DataFrame 'data'\n",
    "regions_list = # TU CODIGO\n",
    "\n",
    "# Usamos 'CategoricalColorMapper' para asignar un color de la paleta 'Spectral6' a cada región\n",
    "color_mapper = CategoricalColorMapper(factors=regions_list, palette=Spectral6)"
   ]
  },
  {
   "cell_type": "markdown",
   "metadata": {},
   "source": [
    "5. Utilizaremos la función `ColumnDataSource` para construir un diccionario que contendrá las variables utilizadas en la gráfica, al que llamaremos **source_init**. Además, crearemos otro diccionario llamado **source_last**, que nos permitirá actualizar la gráfica de manera dinámica a medida que se visualicen los datos por año. Este enfoque nos ayudará a gestionar eficientemente los datos y actualizar la visualización de manera interactiva."
   ]
  },
  {
   "cell_type": "code",
   "execution_count": 319,
   "metadata": {},
   "outputs": [],
   "source": [
    "source_init = ColumnDataSource(data={'x': data.gdp[data.year == min(data.year)],\n",
    "                                     'y': data.co2[data.year == min(data.year)],\n",
    "                                     'country': data.country[data.year == min(data.year)],\n",
    "                                     'region': data.region[data.year == min(data.year)],\n",
    "                                     'year': data.year[data.year == min(data.year)]})"
   ]
  },
  {
   "cell_type": "code",
   "execution_count": 320,
   "metadata": {},
   "outputs": [],
   "source": [
    "source_last = ColumnDataSource(data={'x': data.gdp, 'y': data.co2, 'year': data.year})"
   ]
  },
  {
   "cell_type": "markdown",
   "metadata": {},
   "source": [
    "6. Creamos una figura inicial vacía con las siguientes configuraciones:\n",
    "\n",
    "* Establecemos el título como `Emisiones de CO2 versus PIB en 1964`.\n",
    "* Definimos el rango del eje `x` desde `xmin` hasta `xmax`.\n",
    "* Configuramos el rango del eje `y` desde `ymin` hasta `ymax`.\n",
    "* Ajustamos el tipo de escala del eje `y` a logarítmica para reflejar mejor la distribución de los datos."
   ]
  },
  {
   "cell_type": "code",
   "execution_count": 321,
   "metadata": {},
   "outputs": [],
   "source": [
    "plot = figure(title='CO2 Emissions vs GDP in 1964', y_axis_type='log')"
   ]
  },
  {
   "cell_type": "markdown",
   "metadata": {},
   "source": [
    "7. Añadimos glifos circulares a la gráfica:"
   ]
  },
  {
   "cell_type": "code",
   "execution_count": null,
   "metadata": {},
   "outputs": [],
   "source": [
    "plot.scatter(x=..., y=..., \n",
    "            fill_alpha=0.8, \n",
    "            source=source_init, \n",
    "            legend_label='region', \n",
    "            color=dict(field='region', transform=color_mapper),\n",
    "            size=7)"
   ]
  },
  {
   "cell_type": "markdown",
   "metadata": {},
   "source": [
    "7. Establezca la ubicación de la leyenda en la esquina inferior derecha del gráfico, y agregue títulos a los ejes"
   ]
  },
  {
   "cell_type": "code",
   "execution_count": 323,
   "metadata": {},
   "outputs": [],
   "source": [
    "plot.legend.location = 'bottom_right'\n",
    "plot.xaxis.axis_label = 'Income Per Person'\n",
    "plot.yaxis.axis_label = 'CO2 Emissions (tons per person)'"
   ]
  },
  {
   "cell_type": "code",
   "execution_count": null,
   "metadata": {},
   "outputs": [],
   "source": [
    "show(plot)"
   ]
  },
  {
   "cell_type": "markdown",
   "metadata": {},
   "source": [
    "### **Añadiendo la herramienta Hover**"
   ]
  },
  {
   "cell_type": "code",
   "execution_count": null,
   "metadata": {},
   "outputs": [],
   "source": [
    "hover = HoverTool(tooltips=# TU CODIGO)\n",
    "plot.add_tools(hover)"
   ]
  },
  {
   "cell_type": "code",
   "execution_count": null,
   "metadata": {},
   "outputs": [],
   "source": [
    "show(plot)"
   ]
  },
  {
   "cell_type": "markdown",
   "metadata": {},
   "source": [
    "### **Añadiendo un slicer al gráfico estático**\n",
    "\n",
    "1. Nombramos el archivo **HTML** de salida como **co2_emissions**"
   ]
  },
  {
   "cell_type": "code",
   "execution_count": 327,
   "metadata": {},
   "outputs": [],
   "source": [
    "output_file('iframe_figures/co2_emissions.html')"
   ]
  },
  {
   "cell_type": "markdown",
   "metadata": {},
   "source": [
    "2. Creamos la función `callback` usando `CustomJS` de la libreria bokeh la cual permitira actualizar nuestra figura. Usamos algunas pocas ordenes en lenguaje `JavaScript`. En este caso `cb_obj.value` contiene el modelo que `activa el callback`"
   ]
  },
  {
   "cell_type": "code",
   "execution_count": null,
   "metadata": {},
   "outputs": [],
   "source": [
    "callback = CustomJS(\n",
    "    args=dict(source_last=source_last, source_init=source_init), \n",
    "    code=\"\"\"\n",
    "    // Acceso a los datos del source inicial (el que se muestra en la gráfica)\n",
    "    var data_init = source_init.data;\n",
    "\n",
    "    // Capturar el valor del widget (ej: año seleccionado)\n",
    "    var yr = cb_obj.value;\n",
    "\n",
    "    // Obtener todos los años del source completo\n",
    "    var year = source_last.data['year'];\n",
    "\n",
    "    // Crear arrays vacíos para los nuevos valores\n",
    "    var x_new = [];\n",
    "    var y_new = [];\n",
    "\n",
    "    // Recorrer todos los años del dataset completo\n",
    "    for(var i = 0; i < year.length; i++) {\n",
    "        // Si el año coincide con el seleccionado, guardar los datos\n",
    "        if(year[i] == yr) {\n",
    "            x_new.push(source_last.data['x'][i]);\n",
    "            y_new.push(source_last.data['y'][i]);\n",
    "        }\n",
    "    }\n",
    "\n",
    "    // Actualizar la fuente inicial con los valores filtrados\n",
    "    data_init['x'] = x_new;\n",
    "    data_init['y'] = y_new;\n",
    "\n",
    "    // Notificar a Bokeh que los datos cambiaron → refrescar gráfica\n",
    "    source_init.change.emit();\n",
    "    \"\"\"\n",
    ")\n"
   ]
  },
  {
   "cell_type": "markdown",
   "metadata": {},
   "source": [
    "Construimos el `slider` que utilizaremos para actualizar las figuras, y realizamos el llamado de la función `callback` que recibirá como input cada año que proviene del slider. La siguiente figura podrá ser visualizada desde su editor `VS Code`. Para visualizarla en su JBook deberá actualizar el html desde su navegador, para que la función `show()` pueda activarse y mostrarse en su página."
   ]
  },
  {
   "cell_type": "code",
   "execution_count": null,
   "metadata": {},
   "outputs": [],
   "source": [
    "slider = Slider(start=min(data.year), end=max(data.year), step=1, value=min(data.year), title='Year')\n",
    "# TU CODIGO\n",
    "layout = column(slider, plot)"
   ]
  },
  {
   "cell_type": "code",
   "execution_count": null,
   "metadata": {},
   "outputs": [],
   "source": [
    "show(layout)"
   ]
  },
  {
   "cell_type": "markdown",
   "metadata": {},
   "source": [
    "## **Visualización de datos a través de capas**\n",
    "\n",
    "Presentaremos `Altair`, una potente biblioteca de Python diseñada específicamente para la creación de gráficos interactivos. En esta sesión, demostraremos cómo utilizar Altair para generar visualizaciones interactivas en datos estratificados según diferentes variables categóricas. Para ilustrar sus capacidades, emplearemos un conjunto de datos real y crearemos gráficos de dispersión y de barras, destacando las principales características de los datos. Además, añadiremos una amplia gama de elementos interactivos para mejorar la experiencia visual y permitir una exploración dinámica de los datos."
   ]
  },
  {
   "cell_type": "markdown",
   "metadata": {},
   "source": [
    "### **Funcionalidad Hover y Tooltip**"
   ]
  },
  {
   "cell_type": "markdown",
   "metadata": {},
   "source": [
    "1. Importa el módulo `altair` como `alt`. Antes debe instalar altair usando `pip install altair vega_datasets`. "
   ]
  },
  {
   "cell_type": "code",
   "execution_count": 331,
   "metadata": {},
   "outputs": [],
   "source": [
    "import altair as alt"
   ]
  },
  {
   "cell_type": "markdown",
   "metadata": {},
   "source": [
    "2. Cargar el conjunto de datos `hpi` y leer desde el conjunto de datos usando pandas:"
   ]
  },
  {
   "cell_type": "code",
   "execution_count": null,
   "metadata": {},
   "outputs": [],
   "source": [
    "import pandas as pd\n",
    "\n",
    "filename = # TU CODIGO\n",
    "hpi_df = pd.read_csv(filename, sep='\\t')"
   ]
  },
  {
   "cell_type": "code",
   "execution_count": null,
   "metadata": {},
   "outputs": [],
   "source": [
    "hpi_df.head()"
   ]
  },
  {
   "cell_type": "markdown",
   "metadata": {},
   "source": [
    "3. Proporcione el DataFrame seleccionado, en este caso `hpi_df`, a la función `alt.Chart` de Altair. Utilice la función `mark_circle()` para representar los puntos de datos en el gráfico de dispersión con círculos rellenos. Emplee la función `encode()` para asignar las variables correspondientes a los ejes $x$ e $y$. Aunque también utilizamos el parámetro `color` dentro de `encode()` para diferenciar los puntos de datos por la variable región mediante un código de colores, este paso es opcional."
   ]
  },
  {
   "cell_type": "code",
   "execution_count": null,
   "metadata": {},
   "outputs": [],
   "source": [
    "alt.Chart(hpi_df).mark_circle().encode(\n",
    "    x = '# TU CODIGO',  # Asigna la variable cuantitativa 'Wellbeing (0-10)' al eje x.\n",
    "    y = '# TU CODIGO',  # Asigna la variable cuantitativa 'Happy Planet Index' al eje y.\n",
    "    color = '# TU CODIGO',  # Colorea los puntos de datos según la variable categórica 'Region'.\n",
    "    tooltip = ['Country', 'Region', 'Wellbeing (0-10)', 'Happy Planet Index', 'Life Expectancy (years)']  # Muestra información adicional al pasar el cursor sobre los puntos.\n",
    ")"
   ]
  },
  {
   "cell_type": "markdown",
   "metadata": {},
   "source": [
    "4. En el gráfico anterior, observará que las características especificadas en el parámetro `tooltip` de la función `encode()` se muestran cuando el cursor se coloca sobre cualquier punto de datos. Sin embargo, la funcionalidad de zoom se ha perdido. ¿Cómo recuperarla? Es muy sencillo: ¡simplemente añada la función `interactive()`!. Incorpore `interactive()` para habilitar nuevamente la función de zoom en el gráfico, como se muestra a continuación:"
   ]
  },
  {
   "cell_type": "code",
   "execution_count": null,
   "metadata": {},
   "outputs": [],
   "source": [
    "alt.Chart(hpi_df).mark_circle().encode(\n",
    "    x = 'Wellbeing (0-10):Q',  # Asigna la variable cuantitativa 'Wellbeing (0-10)' al eje x.\n",
    "    y = 'Happy Planet Index:Q',  # Asigna la variable cuantitativa 'Happy Planet Index' al eje y.\n",
    "    color = 'Region:N',  # Colorea los puntos según la variable categórica 'Region'.\n",
    "    tooltip = ['Country', 'Region', 'Wellbeing (0-10)', 'Happy Planet Index', 'Life Expectancy (years)']  # Muestra un tooltip con información adicional al pasar el cursor.\n",
    ").# TU CODIGO  # Habilita la interactividad, incluyendo la capacidad de hacer zoom.\n"
   ]
  },
  {
   "cell_type": "markdown",
   "metadata": {},
   "source": [
    "5. Añade `alt_value` como `lightgray` para que todos los puntos fuera de la selección sean grises."
   ]
  },
  {
   "cell_type": "code",
   "execution_count": null,
   "metadata": {},
   "outputs": [],
   "source": [
    "selected_area = alt.selection_interval()\n",
    "alt.Chart(hpi_df).mark_circle().encode(\n",
    "    x = 'Wellbeing (0-10):Q',\n",
    "    y = 'Happy Planet Index:Q',\n",
    "    color = alt.condition(selected_area, 'Region:N', alt.value('lightgray'))\n",
    ").# TU CODIGO"
   ]
  },
  {
   "cell_type": "markdown",
   "metadata": {},
   "source": [
    "### **Selección a través de múltiples parcelas**\n",
    "\n",
    "La función de selección se vuelve mucho más poderosa cuando se aplica a múltiples gráficos de manera conjunta. Tomemos como ejemplo dos gráficos de dispersión:\n",
    "\n",
    "* `wellbeing` vs `happy planet index`\n",
    "* `life expectancy` vs `happy planet index`"
   ]
  },
  {
   "cell_type": "markdown",
   "metadata": {},
   "source": [
    "1. Gráfico de dispersión de manera vertical"
   ]
  },
  {
   "cell_type": "code",
   "execution_count": null,
   "metadata": {},
   "outputs": [],
   "source": [
    "chart = alt.Chart(hpi_df).mark_circle().encode(  \n",
    "    y='Happy Planet Index',  # Asigna 'Happy Planet Index' al eje y y codifica el color por 'Region'.\n",
    "    color='Region:N'  # Colorea los puntos de datos según la variable categórica 'Region'.\n",
    ")\n",
    "chart1 = chart.encode(x = '# TU CODIGO')  # Define el eje x como 'Wellbeing (0-10)' para el primer gráfico.\n",
    "chart2 = chart.encode(x = '# TU CODIGO')  # Define el eje x como 'Life Expectancy (years)' para el segundo gráfico.\n",
    "alt.vconcat(chart1, chart2)  # Combina ambos gráficos verticalmente."
   ]
  },
  {
   "cell_type": "markdown",
   "metadata": {},
   "source": [
    "2. Gráfico de dispersión de manera horizontal"
   ]
  },
  {
   "cell_type": "code",
   "execution_count": null,
   "metadata": {},
   "outputs": [],
   "source": [
    "# Selección por hover y tooltip en múltiples gráficos\n",
    "selected_area = alt.selection_interval()  # Define una selección de intervalo para la interacción.\n",
    "chart = alt.Chart(hpi_df).mark_circle().encode(\n",
    "    y = 'Happy Planet Index',  # Asigna 'Happy Planet Index' al eje y.\n",
    "    color = alt.condition(selected_area, 'Region', alt.value('lightgray'))  # Colorea los puntos según la selección; los puntos no seleccionados se muestran en gris.\n",
    ").add_selection(\n",
    "    selected_area  # Añade la selección al gráfico.\n",
    ")\n",
    "chart1 = chart.encode(x = 'Wellbeing (0-10)')  # Primer gráfico con 'Wellbeing (0-10)' en el eje x.\n",
    "chart2 = chart.encode(x = 'Life Expectancy (years)')  # Segundo gráfico con 'Life Expectancy (years)' en el eje x.\n",
    "chart1 | chart2  # Combina los gráficos en un diseño horizontal."
   ]
  },
  {
   "cell_type": "markdown",
   "metadata": {},
   "source": [
    "### **Selección de los valores de una variable categórica**\n",
    "\n",
    " Ahora, crearemos un gráfico interactivo que permitirá visualizar los puntos de datos correspondientes a una región específica. Utilizaremos la función `selection_single()` para seleccionar un conjunto determinado de puntos de datos. Al analizar el código, notará que los parámetros de esta función son bastante intuitivos. Para obtener más detalles o aclaraciones sobre su funcionamiento, puede consultar la documentación oficial en: [Altair Selection Single](https://altair-viz.github.io/user_guide/generated/api/altair.selection_single.html.\n",
    " )."
   ]
  },
  {
   "cell_type": "markdown",
   "metadata": {},
   "source": [
    "Cree una variable `input_dropdown` utilizando la función `binding_select()` y configure el parámetro `options` con la lista de regiones disponibles en nuestro conjunto de datos. A continuación, utilice la función `selection_single()` para permitir la selección de un conjunto específico de puntos de datos. Almacene la condición de selección en una variable llamada `color`, la cual determinará bajo qué condiciones se resaltarán los puntos seleccionados en el gráfico."
   ]
  },
  {
   "cell_type": "code",
   "execution_count": null,
   "metadata": {},
   "outputs": [],
   "source": [
    "input_dropdown = # TU CODIGO  # Crea un menú desplegable con las regiones únicas del DataFrame.\n",
    "selected_points = alt.selection_single(fields = ['Region'], bind = input_dropdown, name = 'Select')  # Define una selección simple vinculada al menú desplegable por la variable 'Region'.\n",
    "color = alt.condition(selected_points,  # Establece la condición para el color basado en la selección.\n",
    "                      alt.Color('Region:N'),  # Si está seleccionada, se usa el color de 'Region'.\n",
    "                      alt.value('lightgray'))  # Si no está seleccionada, los puntos se muestran en gris.\n",
    "alt.Chart(hpi_df).mark_circle().encode(\n",
    "    x = 'Wellbeing (0-10):Q',  # Asigna 'Wellbeing (0-10)' al eje x.\n",
    "    y = 'Happy Planet Index:Q',  # Asigna 'Happy Planet Index' al eje y.\n",
    "    color = color,  # Aplica la condición de color basada en la selección.\n",
    "    tooltip = 'Region:N'  # Muestra la región en el tooltip al pasar el cursor sobre un punto.\n",
    ").add_selection(\n",
    "    selected_points  # Añade la selección al gráfico.\n",
    ")"
   ]
  },
  {
   "cell_type": "markdown",
   "metadata": {},
   "source": [
    "En el siguiente código se crea un gráfico de barras interactivo utilizando Altair, donde se muestra el promedio del `Happy Planet Index` por región. Se implementa una selección interactiva que permite resaltar las barras correspondientes a cada región al seleccionar desde la leyenda. Además, se agregan barras de error que representan el intervalo de confianza (CI) para cada promedio, con las barras de error mostradas en color negro. Ambos gráficos, las barras y las barras de error, se combinan y permiten la interactividad, como hacer zoom o resaltar regiones específicas."
   ]
  },
  {
   "cell_type": "code",
   "execution_count": null,
   "metadata": {},
   "outputs": [],
   "source": [
    "# Definir selección para interactividad\n",
    "highlight = # TU CODIGO\n",
    "\n",
    "# Gráfico de barras con el promedio del Happy Planet Index y la selección interactiva\n",
    "bar_chart = alt.Chart(hpi_df).mark_bar().encode(\n",
    "    x='Region:N',\n",
    "    y='mean(Happy Planet Index):Q',\n",
    "    color=alt.condition(highlight, 'Region:N', alt.value('lightgray'))  # Colorea las barras seleccionadas\n",
    ").add_selection(\n",
    "    highlight  # Añadir selección interactiva\n",
    ").properties(width=400)  # Ajusta el ancho del gráfico\n",
    "\n",
    "# Añadir barras de error con intervalo de confianza (ci) en color negro\n",
    "error_bars = alt.Chart(hpi_df).mark_errorbar(extent='ci', color='black').encode(\n",
    "    x='Region:N',\n",
    "    y=alt.Y('mean(Happy Planet Index):Q')\n",
    ").properties(width=400)  # Ajusta el ancho de las barras de error\n",
    "\n",
    "# Combinar ambos gráficos\n",
    "(bar_chart + error_bars).interactive()\n"
   ]
  },
  {
   "cell_type": "markdown",
   "metadata": {},
   "source": [
    "### **Función de zoom en un mapa de calor estático**\n",
    "\n",
    "A continuación, añadiremos la función de zoom al mapa de calor de las correlaciones."
   ]
  },
  {
   "cell_type": "code",
   "execution_count": 341,
   "metadata": {},
   "outputs": [
    {
     "data": {
      "text/html": [
       "\n",
       "<style>\n",
       "  #altair-viz-714b0855de5e4a7385c0eedd862c1dd6.vega-embed {\n",
       "    width: 100%;\n",
       "    display: flex;\n",
       "  }\n",
       "\n",
       "  #altair-viz-714b0855de5e4a7385c0eedd862c1dd6.vega-embed details,\n",
       "  #altair-viz-714b0855de5e4a7385c0eedd862c1dd6.vega-embed details summary {\n",
       "    position: relative;\n",
       "  }\n",
       "</style>\n",
       "<div id=\"altair-viz-714b0855de5e4a7385c0eedd862c1dd6\"></div>\n",
       "<script type=\"text/javascript\">\n",
       "  var VEGA_DEBUG = (typeof VEGA_DEBUG == \"undefined\") ? {} : VEGA_DEBUG;\n",
       "  (function(spec, embedOpt){\n",
       "    let outputDiv = document.currentScript.previousElementSibling;\n",
       "    if (outputDiv.id !== \"altair-viz-714b0855de5e4a7385c0eedd862c1dd6\") {\n",
       "      outputDiv = document.getElementById(\"altair-viz-714b0855de5e4a7385c0eedd862c1dd6\");\n",
       "    }\n",
       "    const paths = {\n",
       "      \"vega\": \"https://cdn.jsdelivr.net/npm/vega@5?noext\",\n",
       "      \"vega-lib\": \"https://cdn.jsdelivr.net/npm/vega-lib?noext\",\n",
       "      \"vega-lite\": \"https://cdn.jsdelivr.net/npm/vega-lite@5.20.1?noext\",\n",
       "      \"vega-embed\": \"https://cdn.jsdelivr.net/npm/vega-embed@6?noext\",\n",
       "    };\n",
       "\n",
       "    function maybeLoadScript(lib, version) {\n",
       "      var key = `${lib.replace(\"-\", \"\")}_version`;\n",
       "      return (VEGA_DEBUG[key] == version) ?\n",
       "        Promise.resolve(paths[lib]) :\n",
       "        new Promise(function(resolve, reject) {\n",
       "          var s = document.createElement('script');\n",
       "          document.getElementsByTagName(\"head\")[0].appendChild(s);\n",
       "          s.async = true;\n",
       "          s.onload = () => {\n",
       "            VEGA_DEBUG[key] = version;\n",
       "            return resolve(paths[lib]);\n",
       "          };\n",
       "          s.onerror = () => reject(`Error loading script: ${paths[lib]}`);\n",
       "          s.src = paths[lib];\n",
       "        });\n",
       "    }\n",
       "\n",
       "    function showError(err) {\n",
       "      outputDiv.innerHTML = `<div class=\"error\" style=\"color:red;\">${err}</div>`;\n",
       "      throw err;\n",
       "    }\n",
       "\n",
       "    function displayChart(vegaEmbed) {\n",
       "      vegaEmbed(outputDiv, spec, embedOpt)\n",
       "        .catch(err => showError(`Javascript Error: ${err.message}<br>This usually means there's a typo in your chart specification. See the javascript console for the full traceback.`));\n",
       "    }\n",
       "\n",
       "    if(typeof define === \"function\" && define.amd) {\n",
       "      requirejs.config({paths});\n",
       "      require([\"vega-embed\"], displayChart, err => showError(`Error loading script: ${err.message}`));\n",
       "    } else {\n",
       "      maybeLoadScript(\"vega\", \"5\")\n",
       "        .then(() => maybeLoadScript(\"vega-lite\", \"5.20.1\"))\n",
       "        .then(() => maybeLoadScript(\"vega-embed\", \"6\"))\n",
       "        .catch(showError)\n",
       "        .then(() => displayChart(vegaEmbed));\n",
       "    }\n",
       "  })({\"config\": {\"view\": {\"continuousWidth\": 300, \"continuousHeight\": 300}}, \"data\": {\"name\": \"data-e1c068cb61c6a12593f95144d0d2b6ed\"}, \"mark\": {\"type\": \"rect\"}, \"encoding\": {\"color\": {\"aggregate\": \"count\", \"legend\": {\"title\": \"Total Countries\"}, \"scale\": {\"scheme\": \"greenblue\"}, \"type\": \"quantitative\"}, \"x\": {\"bin\": true, \"field\": \"Happy Planet Index\", \"type\": \"quantitative\"}, \"y\": {\"bin\": true, \"field\": \"Wellbeing (0-10)\", \"type\": \"quantitative\"}}, \"params\": [{\"name\": \"param_27\", \"select\": {\"type\": \"interval\", \"encodings\": [\"x\", \"y\"]}, \"bind\": \"scales\"}], \"$schema\": \"https://vega.github.io/schema/vega-lite/v5.20.1.json\", \"datasets\": {\"data-e1c068cb61c6a12593f95144d0d2b6ed\": [{\"HPI Rank\": 1, \"Country\": \"Costa Rica\", \"Region\": \"Americas\", \"Life Expectancy (years)\": 79.1, \"Wellbeing (0-10)\": 7.3, \"Inequality of outcomes\": \"15%\", \"Ecological Footprint (gha/capita)\": 2.8, \"Happy Planet Index\": 44.7}, {\"HPI Rank\": 2, \"Country\": \"Mexico\", \"Region\": \"Americas\", \"Life Expectancy (years)\": 76.4, \"Wellbeing (0-10)\": 7.3, \"Inequality of outcomes\": \"19%\", \"Ecological Footprint (gha/capita)\": 2.9, \"Happy Planet Index\": 40.7}, {\"HPI Rank\": 3, \"Country\": \"Colombia\", \"Region\": \"Americas\", \"Life Expectancy (years)\": 73.7, \"Wellbeing (0-10)\": 6.4, \"Inequality of outcomes\": \"24%\", \"Ecological Footprint (gha/capita)\": 1.9, \"Happy Planet Index\": 40.7}, {\"HPI Rank\": 4, \"Country\": \"Vanuatu\", \"Region\": \"Asia Pacific\", \"Life Expectancy (years)\": 71.3, \"Wellbeing (0-10)\": 6.5, \"Inequality of outcomes\": \"22%\", \"Ecological Footprint (gha/capita)\": 1.9, \"Happy Planet Index\": 40.6}, {\"HPI Rank\": 5, \"Country\": \"Vietnam\", \"Region\": \"Asia Pacific\", \"Life Expectancy (years)\": 75.5, \"Wellbeing (0-10)\": 5.5, \"Inequality of outcomes\": \"19%\", \"Ecological Footprint (gha/capita)\": 1.7, \"Happy Planet Index\": 40.3}, {\"HPI Rank\": 6, \"Country\": \"Panama\", \"Region\": \"Americas\", \"Life Expectancy (years)\": 77.2, \"Wellbeing (0-10)\": 6.9, \"Inequality of outcomes\": \"19%\", \"Ecological Footprint (gha/capita)\": 2.8, \"Happy Planet Index\": 39.5}, {\"HPI Rank\": 7, \"Country\": \"Nicaragua\", \"Region\": \"Americas\", \"Life Expectancy (years)\": 74.3, \"Wellbeing (0-10)\": 5.4, \"Inequality of outcomes\": \"25%\", \"Ecological Footprint (gha/capita)\": 1.4, \"Happy Planet Index\": 38.7}, {\"HPI Rank\": 8, \"Country\": \"Bangladesh\", \"Region\": \"Asia Pacific\", \"Life Expectancy (years)\": 70.8, \"Wellbeing (0-10)\": 4.7, \"Inequality of outcomes\": \"27%\", \"Ecological Footprint (gha/capita)\": 0.7, \"Happy Planet Index\": 38.4}, {\"HPI Rank\": 9, \"Country\": \"Thailand\", \"Region\": \"Asia Pacific\", \"Life Expectancy (years)\": 74.1, \"Wellbeing (0-10)\": 6.3, \"Inequality of outcomes\": \"15%\", \"Ecological Footprint (gha/capita)\": 2.7, \"Happy Planet Index\": 37.3}, {\"HPI Rank\": 10, \"Country\": \"Ecuador\", \"Region\": \"Americas\", \"Life Expectancy (years)\": 75.4, \"Wellbeing (0-10)\": 6.0, \"Inequality of outcomes\": \"22%\", \"Ecological Footprint (gha/capita)\": 2.2, \"Happy Planet Index\": 37.0}, {\"HPI Rank\": 11, \"Country\": \"Jamaica\", \"Region\": \"Americas\", \"Life Expectancy (years)\": 75.3, \"Wellbeing (0-10)\": 5.6, \"Inequality of outcomes\": \"21%\", \"Ecological Footprint (gha/capita)\": 1.9, \"Happy Planet Index\": 36.9}, {\"HPI Rank\": 12, \"Country\": \"Norway\", \"Region\": \"Europe\", \"Life Expectancy (years)\": 81.3, \"Wellbeing (0-10)\": 7.7, \"Inequality of outcomes\": \"7%\", \"Ecological Footprint (gha/capita)\": 5.0, \"Happy Planet Index\": 36.8}, {\"HPI Rank\": 13, \"Country\": \"Albania\", \"Region\": \"Post-communist\", \"Life Expectancy (years)\": 77.3, \"Wellbeing (0-10)\": 5.5, \"Inequality of outcomes\": \"17%\", \"Ecological Footprint (gha/capita)\": 2.2, \"Happy Planet Index\": 36.8}, {\"HPI Rank\": 14, \"Country\": \"Uruguay\", \"Region\": \"Americas\", \"Life Expectancy (years)\": 76.9, \"Wellbeing (0-10)\": 6.4, \"Inequality of outcomes\": \"18%\", \"Ecological Footprint (gha/capita)\": 2.9, \"Happy Planet Index\": 36.1}, {\"HPI Rank\": 15, \"Country\": \"Spain\", \"Region\": \"Europe\", \"Life Expectancy (years)\": 82.2, \"Wellbeing (0-10)\": 6.3, \"Inequality of outcomes\": \"10%\", \"Ecological Footprint (gha/capita)\": 3.7, \"Happy Planet Index\": 36.0}, {\"HPI Rank\": 16, \"Country\": \"Indonesia\", \"Region\": \"Asia Pacific\", \"Life Expectancy (years)\": 68.5, \"Wellbeing (0-10)\": 5.4, \"Inequality of outcomes\": \"21%\", \"Ecological Footprint (gha/capita)\": 1.6, \"Happy Planet Index\": 35.7}, {\"HPI Rank\": 17, \"Country\": \"El Salvador\", \"Region\": \"Americas\", \"Life Expectancy (years)\": 72.5, \"Wellbeing (0-10)\": 5.9, \"Inequality of outcomes\": \"22%\", \"Ecological Footprint (gha/capita)\": 2.1, \"Happy Planet Index\": 35.6}, {\"HPI Rank\": 18, \"Country\": \"Netherlands\", \"Region\": \"Europe\", \"Life Expectancy (years)\": 81.2, \"Wellbeing (0-10)\": 7.5, \"Inequality of outcomes\": \"4%\", \"Ecological Footprint (gha/capita)\": 5.3, \"Happy Planet Index\": 35.3}, {\"HPI Rank\": 19, \"Country\": \"Argentina\", \"Region\": \"Americas\", \"Life Expectancy (years)\": 75.9, \"Wellbeing (0-10)\": 6.5, \"Inequality of outcomes\": \"16%\", \"Ecological Footprint (gha/capita)\": 3.1, \"Happy Planet Index\": 35.2}, {\"HPI Rank\": 20, \"Country\": \"Philippines\", \"Region\": \"Asia Pacific\", \"Life Expectancy (years)\": 67.9, \"Wellbeing (0-10)\": 5.0, \"Inequality of outcomes\": \"26%\", \"Ecological Footprint (gha/capita)\": 1.1, \"Happy Planet Index\": 35.0}, {\"HPI Rank\": 21, \"Country\": \"Peru\", \"Region\": \"Americas\", \"Life Expectancy (years)\": 74.1, \"Wellbeing (0-10)\": 5.8, \"Inequality of outcomes\": \"21%\", \"Ecological Footprint (gha/capita)\": 2.3, \"Happy Planet Index\": 34.6}, {\"HPI Rank\": 22, \"Country\": \"Palestine\", \"Region\": \"Middle East and North Africa\", \"Life Expectancy (years)\": 72.6, \"Wellbeing (0-10)\": 4.6, \"Inequality of outcomes\": \"24%\", \"Ecological Footprint (gha/capita)\": 1.2, \"Happy Planet Index\": 34.5}, {\"HPI Rank\": 23, \"Country\": \"Brazil\", \"Region\": \"Americas\", \"Life Expectancy (years)\": 73.9, \"Wellbeing (0-10)\": 6.9, \"Inequality of outcomes\": \"22%\", \"Ecological Footprint (gha/capita)\": 3.1, \"Happy Planet Index\": 34.3}, {\"HPI Rank\": 24, \"Country\": \"Switzerland\", \"Region\": \"Europe\", \"Life Expectancy (years)\": 82.6, \"Wellbeing (0-10)\": 7.8, \"Inequality of outcomes\": \"6%\", \"Ecological Footprint (gha/capita)\": 5.8, \"Happy Planet Index\": 34.3}, {\"HPI Rank\": 25, \"Country\": \"Tajikistan\", \"Region\": \"Post-communist\", \"Life Expectancy (years)\": 69.0, \"Wellbeing (0-10)\": 4.5, \"Inequality of outcomes\": \"26%\", \"Ecological Footprint (gha/capita)\": 0.9, \"Happy Planet Index\": 34.2}, {\"HPI Rank\": 26, \"Country\": \"Guatemala\", \"Region\": \"Americas\", \"Life Expectancy (years)\": 71.4, \"Wellbeing (0-10)\": 5.9, \"Inequality of outcomes\": \"27%\", \"Ecological Footprint (gha/capita)\": 1.9, \"Happy Planet Index\": 34.2}, {\"HPI Rank\": 27, \"Country\": \"Belize\", \"Region\": \"Americas\", \"Life Expectancy (years)\": 69.8, \"Wellbeing (0-10)\": 6.1, \"Inequality of outcomes\": \"18%\", \"Ecological Footprint (gha/capita)\": 2.5, \"Happy Planet Index\": 33.8}, {\"HPI Rank\": 28, \"Country\": \"Sri Lanka\", \"Region\": \"Asia Pacific\", \"Life Expectancy (years)\": 74.6, \"Wellbeing (0-10)\": 4.2, \"Inequality of outcomes\": \"17%\", \"Ecological Footprint (gha/capita)\": 1.3, \"Happy Planet Index\": 33.8}, {\"HPI Rank\": 29, \"Country\": \"Venezuela\", \"Region\": \"Americas\", \"Life Expectancy (years)\": 73.9, \"Wellbeing (0-10)\": 7.1, \"Inequality of outcomes\": \"19%\", \"Ecological Footprint (gha/capita)\": 3.6, \"Happy Planet Index\": 33.6}, {\"HPI Rank\": 30, \"Country\": \"Algeria\", \"Region\": \"Middle East and North Africa\", \"Life Expectancy (years)\": 74.3, \"Wellbeing (0-10)\": 5.6, \"Inequality of outcomes\": \"24%\", \"Ecological Footprint (gha/capita)\": 2.1, \"Happy Planet Index\": 33.3}, {\"HPI Rank\": 31, \"Country\": \"Kyrgyzstan\", \"Region\": \"Post-communist\", \"Life Expectancy (years)\": 69.7, \"Wellbeing (0-10)\": 5.2, \"Inequality of outcomes\": \"18%\", \"Ecological Footprint (gha/capita)\": 1.9, \"Happy Planet Index\": 33.1}, {\"HPI Rank\": 32, \"Country\": \"Denmark\", \"Region\": \"Europe\", \"Life Expectancy (years)\": 79.8, \"Wellbeing (0-10)\": 7.5, \"Inequality of outcomes\": \"7%\", \"Ecological Footprint (gha/capita)\": 5.5, \"Happy Planet Index\": 32.7}, {\"HPI Rank\": 33, \"Country\": \"Morocco\", \"Region\": \"Middle East and North Africa\", \"Life Expectancy (years)\": 73.4, \"Wellbeing (0-10)\": 5.0, \"Inequality of outcomes\": \"25%\", \"Ecological Footprint (gha/capita)\": 1.7, \"Happy Planet Index\": 32.7}, {\"HPI Rank\": 34, \"Country\": \"United Kingdom\", \"Region\": \"Europe\", \"Life Expectancy (years)\": 80.4, \"Wellbeing (0-10)\": 6.9, \"Inequality of outcomes\": \"9%\", \"Ecological Footprint (gha/capita)\": 4.9, \"Happy Planet Index\": 31.9}, {\"HPI Rank\": 35, \"Country\": \"Chile\", \"Region\": \"Americas\", \"Life Expectancy (years)\": 81.1, \"Wellbeing (0-10)\": 6.6, \"Inequality of outcomes\": \"14%\", \"Ecological Footprint (gha/capita)\": 4.4, \"Happy Planet Index\": 31.7}, {\"HPI Rank\": 36, \"Country\": \"Pakistan\", \"Region\": \"Asia Pacific\", \"Life Expectancy (years)\": 65.7, \"Wellbeing (0-10)\": 5.1, \"Inequality of outcomes\": \"40%\", \"Ecological Footprint (gha/capita)\": 0.8, \"Happy Planet Index\": 31.5}, {\"HPI Rank\": 37, \"Country\": \"Finland\", \"Region\": \"Europe\", \"Life Expectancy (years)\": 80.4, \"Wellbeing (0-10)\": 7.4, \"Inequality of outcomes\": \"6%\", \"Ecological Footprint (gha/capita)\": 5.9, \"Happy Planet Index\": 31.3}, {\"HPI Rank\": 38, \"Country\": \"New Zealand\", \"Region\": \"Asia Pacific\", \"Life Expectancy (years)\": 81.4, \"Wellbeing (0-10)\": 7.2, \"Inequality of outcomes\": \"8%\", \"Ecological Footprint (gha/capita)\": 5.6, \"Happy Planet Index\": 31.3}, {\"HPI Rank\": 39, \"Country\": \"Iceland\", \"Region\": \"Europe\", \"Life Expectancy (years)\": 82.2, \"Wellbeing (0-10)\": 7.6, \"Inequality of outcomes\": \"5%\", \"Ecological Footprint (gha/capita)\": 6.4, \"Happy Planet Index\": 31.1}, {\"HPI Rank\": 40, \"Country\": \"Georgia\", \"Region\": \"Post-communist\", \"Life Expectancy (years)\": 74.6, \"Wellbeing (0-10)\": 4.3, \"Inequality of outcomes\": \"20%\", \"Ecological Footprint (gha/capita)\": 1.6, \"Happy Planet Index\": 31.1}, {\"HPI Rank\": 41, \"Country\": \"Cyprus\", \"Region\": \"Europe\", \"Life Expectancy (years)\": 79.8, \"Wellbeing (0-10)\": 6.2, \"Inequality of outcomes\": \"12%\", \"Ecological Footprint (gha/capita)\": 4.2, \"Happy Planet Index\": 30.7}, {\"HPI Rank\": 42, \"Country\": \"Nepal\", \"Region\": \"Asia Pacific\", \"Life Expectancy (years)\": 68.8, \"Wellbeing (0-10)\": 4.2, \"Inequality of outcomes\": \"27%\", \"Ecological Footprint (gha/capita)\": 1.0, \"Happy Planet Index\": 30.5}, {\"HPI Rank\": 43, \"Country\": \"Austria\", \"Region\": \"Europe\", \"Life Expectancy (years)\": 81.0, \"Wellbeing (0-10)\": 7.4, \"Inequality of outcomes\": \"7%\", \"Ecological Footprint (gha/capita)\": 6.1, \"Happy Planet Index\": 30.5}, {\"HPI Rank\": 44, \"Country\": \"France\", \"Region\": \"Europe\", \"Life Expectancy (years)\": 81.8, \"Wellbeing (0-10)\": 6.6, \"Inequality of outcomes\": \"9%\", \"Ecological Footprint (gha/capita)\": 5.1, \"Happy Planet Index\": 30.4}, {\"HPI Rank\": 45, \"Country\": \"Dominican Republic\", \"Region\": \"Americas\", \"Life Expectancy (years)\": 73.1, \"Wellbeing (0-10)\": 4.8, \"Inequality of outcomes\": \"30%\", \"Ecological Footprint (gha/capita)\": 1.5, \"Happy Planet Index\": 30.3}, {\"HPI Rank\": 46, \"Country\": \"Malaysia\", \"Region\": \"Asia Pacific\", \"Life Expectancy (years)\": 74.4, \"Wellbeing (0-10)\": 5.9, \"Inequality of outcomes\": \"10%\", \"Ecological Footprint (gha/capita)\": 3.7, \"Happy Planet Index\": 30.3}, {\"HPI Rank\": 47, \"Country\": \"Croatia\", \"Region\": \"Post-communist\", \"Life Expectancy (years)\": 77.0, \"Wellbeing (0-10)\": 6.0, \"Inequality of outcomes\": \"12%\", \"Ecological Footprint (gha/capita)\": 3.9, \"Happy Planet Index\": 30.2}, {\"HPI Rank\": 48, \"Country\": \"Ireland\", \"Region\": \"Europe\", \"Life Expectancy (years)\": 80.5, \"Wellbeing (0-10)\": 7.0, \"Inequality of outcomes\": \"8%\", \"Ecological Footprint (gha/capita)\": 5.6, \"Happy Planet Index\": 30.0}, {\"HPI Rank\": 49, \"Country\": \"Germany\", \"Region\": \"Europe\", \"Life Expectancy (years)\": 80.6, \"Wellbeing (0-10)\": 6.7, \"Inequality of outcomes\": \"8%\", \"Ecological Footprint (gha/capita)\": 5.3, \"Happy Planet Index\": 29.8}, {\"HPI Rank\": 50, \"Country\": \"India\", \"Region\": \"Asia Pacific\", \"Life Expectancy (years)\": 67.3, \"Wellbeing (0-10)\": 4.6, \"Inequality of outcomes\": \"31%\", \"Ecological Footprint (gha/capita)\": 1.2, \"Happy Planet Index\": 29.2}, {\"HPI Rank\": 51, \"Country\": \"Uzbekistan\", \"Region\": \"Post-communist\", \"Life Expectancy (years)\": 68.2, \"Wellbeing (0-10)\": 6.0, \"Inequality of outcomes\": \"30%\", \"Ecological Footprint (gha/capita)\": 2.3, \"Happy Planet Index\": 29.1}, {\"HPI Rank\": 52, \"Country\": \"Serbia\", \"Region\": \"Post-communist\", \"Life Expectancy (years)\": 74.5, \"Wellbeing (0-10)\": 5.2, \"Inequality of outcomes\": \"19%\", \"Ecological Footprint (gha/capita)\": 2.7, \"Happy Planet Index\": 29.0}, {\"HPI Rank\": 53, \"Country\": \"Malta\", \"Region\": \"Europe\", \"Life Expectancy (years)\": 80.2, \"Wellbeing (0-10)\": 6.0, \"Inequality of outcomes\": \"13%\", \"Ecological Footprint (gha/capita)\": 4.4, \"Happy Planet Index\": 29.0}, {\"HPI Rank\": 54, \"Country\": \"Israel\", \"Region\": \"Middle East and North Africa\", \"Life Expectancy (years)\": 81.9, \"Wellbeing (0-10)\": 7.1, \"Inequality of outcomes\": \"8%\", \"Ecological Footprint (gha/capita)\": 6.2, \"Happy Planet Index\": 28.8}, {\"HPI Rank\": 55, \"Country\": \"Romania\", \"Region\": \"Post-communist\", \"Life Expectancy (years)\": 74.3, \"Wellbeing (0-10)\": 5.2, \"Inequality of outcomes\": \"19%\", \"Ecological Footprint (gha/capita)\": 2.7, \"Happy Planet Index\": 28.8}, {\"HPI Rank\": 56, \"Country\": \"Bhutan\", \"Region\": \"Asia Pacific\", \"Life Expectancy (years)\": 68.7, \"Wellbeing (0-10)\": 5.6, \"Inequality of outcomes\": \"27%\", \"Ecological Footprint (gha/capita)\": 2.3, \"Happy Planet Index\": 28.6}, {\"HPI Rank\": 57, \"Country\": \"Haiti\", \"Region\": \"Americas\", \"Life Expectancy (years)\": 62.1, \"Wellbeing (0-10)\": 4.4, \"Inequality of outcomes\": \"37%\", \"Ecological Footprint (gha/capita)\": 0.6, \"Happy Planet Index\": 28.6}, {\"HPI Rank\": 58, \"Country\": \"Japan\", \"Region\": \"Asia Pacific\", \"Life Expectancy (years)\": 83.2, \"Wellbeing (0-10)\": 6.0, \"Inequality of outcomes\": \"9%\", \"Ecological Footprint (gha/capita)\": 5.0, \"Happy Planet Index\": 28.3}, {\"HPI Rank\": 59, \"Country\": \"Slovakia\", \"Region\": \"Post-communist\", \"Life Expectancy (years)\": 75.9, \"Wellbeing (0-10)\": 5.9, \"Inequality of outcomes\": \"13%\", \"Ecological Footprint (gha/capita)\": 4.1, \"Happy Planet Index\": 28.2}, {\"HPI Rank\": 60, \"Country\": \"Italy\", \"Region\": \"Europe\", \"Life Expectancy (years)\": 82.7, \"Wellbeing (0-10)\": 5.8, \"Inequality of outcomes\": \"12%\", \"Ecological Footprint (gha/capita)\": 4.6, \"Happy Planet Index\": 28.1}, {\"HPI Rank\": 61, \"Country\": \"Sweden\", \"Region\": \"Europe\", \"Life Expectancy (years)\": 81.8, \"Wellbeing (0-10)\": 7.6, \"Inequality of outcomes\": \"6%\", \"Ecological Footprint (gha/capita)\": 7.3, \"Happy Planet Index\": 28.0}, {\"HPI Rank\": 62, \"Country\": \"Poland\", \"Region\": \"Post-communist\", \"Life Expectancy (years)\": 76.9, \"Wellbeing (0-10)\": 5.9, \"Inequality of outcomes\": \"11%\", \"Ecological Footprint (gha/capita)\": 4.4, \"Happy Planet Index\": 27.5}, {\"HPI Rank\": 63, \"Country\": \"Mauritius\", \"Region\": \"Sub Saharan Africa\", \"Life Expectancy (years)\": 74.0, \"Wellbeing (0-10)\": 5.5, \"Inequality of outcomes\": \"17%\", \"Ecological Footprint (gha/capita)\": 3.5, \"Happy Planet Index\": 27.4}, {\"HPI Rank\": 64, \"Country\": \"Czech Republic\", \"Region\": \"Post-communist\", \"Life Expectancy (years)\": 78.2, \"Wellbeing (0-10)\": 6.3, \"Inequality of outcomes\": \"9%\", \"Ecological Footprint (gha/capita)\": 5.2, \"Happy Planet Index\": 27.3}, {\"HPI Rank\": 65, \"Country\": \"Honduras\", \"Region\": \"Americas\", \"Life Expectancy (years)\": 72.8, \"Wellbeing (0-10)\": 4.6, \"Inequality of outcomes\": \"31%\", \"Ecological Footprint (gha/capita)\": 1.7, \"Happy Planet Index\": 27.2}, {\"HPI Rank\": 66, \"Country\": \"Ethiopia\", \"Region\": \"Sub Saharan Africa\", \"Life Expectancy (years)\": 62.8, \"Wellbeing (0-10)\": 4.6, \"Inequality of outcomes\": \"36%\", \"Ecological Footprint (gha/capita)\": 1.0, \"Happy Planet Index\": 26.7}, {\"HPI Rank\": 67, \"Country\": \"Iraq\", \"Region\": \"Middle East and North Africa\", \"Life Expectancy (years)\": 69.0, \"Wellbeing (0-10)\": 4.7, \"Inequality of outcomes\": \"27%\", \"Ecological Footprint (gha/capita)\": 1.9, \"Happy Planet Index\": 26.5}, {\"HPI Rank\": 68, \"Country\": \"Turkey\", \"Region\": \"Middle East and North Africa\", \"Life Expectancy (years)\": 74.7, \"Wellbeing (0-10)\": 5.3, \"Inequality of outcomes\": \"19%\", \"Ecological Footprint (gha/capita)\": 3.3, \"Happy Planet Index\": 26.4}, {\"HPI Rank\": 69, \"Country\": \"Hungary\", \"Region\": \"Post-communist\", \"Life Expectancy (years)\": 74.9, \"Wellbeing (0-10)\": 4.7, \"Inequality of outcomes\": \"15%\", \"Ecological Footprint (gha/capita)\": 2.9, \"Happy Planet Index\": 26.4}, {\"HPI Rank\": 70, \"Country\": \"Ukraine\", \"Region\": \"Post-communist\", \"Life Expectancy (years)\": 70.3, \"Wellbeing (0-10)\": 5.0, \"Inequality of outcomes\": \"17%\", \"Ecological Footprint (gha/capita)\": 2.8, \"Happy Planet Index\": 26.4}, {\"HPI Rank\": 71, \"Country\": \"Tunisia\", \"Region\": \"Middle East and North Africa\", \"Life Expectancy (years)\": 74.6, \"Wellbeing (0-10)\": 4.5, \"Inequality of outcomes\": \"22%\", \"Ecological Footprint (gha/capita)\": 2.3, \"Happy Planet Index\": 26.2}, {\"HPI Rank\": 72, \"Country\": \"China\", \"Region\": \"Asia Pacific\", \"Life Expectancy (years)\": 75.4, \"Wellbeing (0-10)\": 5.1, \"Inequality of outcomes\": \"17%\", \"Ecological Footprint (gha/capita)\": 3.4, \"Happy Planet Index\": 25.7}, {\"HPI Rank\": 73, \"Country\": \"Armenia\", \"Region\": \"Post-communist\", \"Life Expectancy (years)\": 74.4, \"Wellbeing (0-10)\": 4.3, \"Inequality of outcomes\": \"22%\", \"Ecological Footprint (gha/capita)\": 2.2, \"Happy Planet Index\": 25.7}, {\"HPI Rank\": 74, \"Country\": \"Cambodia\", \"Region\": \"Asia Pacific\", \"Life Expectancy (years)\": 67.5, \"Wellbeing (0-10)\": 3.9, \"Inequality of outcomes\": \"28%\", \"Ecological Footprint (gha/capita)\": 1.2, \"Happy Planet Index\": 25.6}, {\"HPI Rank\": 75, \"Country\": \"Suriname\", \"Region\": \"Americas\", \"Life Expectancy (years)\": 70.8, \"Wellbeing (0-10)\": 6.3, \"Inequality of outcomes\": \"19%\", \"Ecological Footprint (gha/capita)\": 4.3, \"Happy Planet Index\": 25.4}, {\"HPI Rank\": 76, \"Country\": \"Bosnia and Herzegovina\", \"Region\": \"Post-communist\", \"Life Expectancy (years)\": 76.2, \"Wellbeing (0-10)\": 4.8, \"Inequality of outcomes\": \"19%\", \"Ecological Footprint (gha/capita)\": 3.1, \"Happy Planet Index\": 25.3}, {\"HPI Rank\": 77, \"Country\": \"Zambia\", \"Region\": \"Sub Saharan Africa\", \"Life Expectancy (years)\": 58.4, \"Wellbeing (0-10)\": 5.0, \"Inequality of outcomes\": \"41%\", \"Ecological Footprint (gha/capita)\": 1.0, \"Happy Planet Index\": 25.2}, {\"HPI Rank\": 78, \"Country\": \"Montenegro\", \"Region\": \"Post-communist\", \"Life Expectancy (years)\": 75.8, \"Wellbeing (0-10)\": 5.2, \"Inequality of outcomes\": \"16%\", \"Ecological Footprint (gha/capita)\": 3.8, \"Happy Planet Index\": 25.1}, {\"HPI Rank\": 79, \"Country\": \"Portugal\", \"Region\": \"Europe\", \"Life Expectancy (years)\": 80.3, \"Wellbeing (0-10)\": 5.0, \"Inequality of outcomes\": \"16%\", \"Ecological Footprint (gha/capita)\": 3.9, \"Happy Planet Index\": 24.8}, {\"HPI Rank\": 80, \"Country\": \"South Korea\", \"Region\": \"Asia Pacific\", \"Life Expectancy (years)\": 81.3, \"Wellbeing (0-10)\": 6.0, \"Inequality of outcomes\": \"11%\", \"Ecological Footprint (gha/capita)\": 5.7, \"Happy Planet Index\": 24.8}, {\"HPI Rank\": 81, \"Country\": \"Myanmar\", \"Region\": \"Asia Pacific\", \"Life Expectancy (years)\": 65.5, \"Wellbeing (0-10)\": 4.4, \"Inequality of outcomes\": \"32%\", \"Ecological Footprint (gha/capita)\": 1.4, \"Happy Planet Index\": 24.7}, {\"HPI Rank\": 82, \"Country\": \"Slovenia\", \"Region\": \"Post-communist\", \"Life Expectancy (years)\": 80.0, \"Wellbeing (0-10)\": 6.1, \"Inequality of outcomes\": \"10%\", \"Ecological Footprint (gha/capita)\": 5.8, \"Happy Planet Index\": 24.6}, {\"HPI Rank\": 83, \"Country\": \"Kenya\", \"Region\": \"Sub Saharan Africa\", \"Life Expectancy (years)\": 60.3, \"Wellbeing (0-10)\": 4.5, \"Inequality of outcomes\": \"38%\", \"Ecological Footprint (gha/capita)\": 1.0, \"Happy Planet Index\": 24.2}, {\"HPI Rank\": 84, \"Country\": \"Iran\", \"Region\": \"Middle East and North Africa\", \"Life Expectancy (years)\": 74.8, \"Wellbeing (0-10)\": 4.6, \"Inequality of outcomes\": \"23%\", \"Ecological Footprint (gha/capita)\": 2.8, \"Happy Planet Index\": 24.0}, {\"HPI Rank\": 85, \"Country\": \"Canada\", \"Region\": \"Americas\", \"Life Expectancy (years)\": 81.7, \"Wellbeing (0-10)\": 7.4, \"Inequality of outcomes\": \"9%\", \"Ecological Footprint (gha/capita)\": 8.2, \"Happy Planet Index\": 23.9}, {\"HPI Rank\": 86, \"Country\": \"Egypt\", \"Region\": \"Middle East and North Africa\", \"Life Expectancy (years)\": 70.7, \"Wellbeing (0-10)\": 4.2, \"Inequality of outcomes\": \"23%\", \"Ecological Footprint (gha/capita)\": 2.2, \"Happy Planet Index\": 23.8}, {\"HPI Rank\": 87, \"Country\": \"Belgium\", \"Region\": \"Europe\", \"Life Expectancy (years)\": 80.4, \"Wellbeing (0-10)\": 6.9, \"Inequality of outcomes\": \"9%\", \"Ecological Footprint (gha/capita)\": 7.4, \"Happy Planet Index\": 23.7}, {\"HPI Rank\": 88, \"Country\": \"Mozambique\", \"Region\": \"Sub Saharan Africa\", \"Life Expectancy (years)\": 54.3, \"Wellbeing (0-10)\": 5.0, \"Inequality of outcomes\": \"43%\", \"Ecological Footprint (gha/capita)\": 0.9, \"Happy Planet Index\": 23.7}, {\"HPI Rank\": 89, \"Country\": \"Greece\", \"Region\": \"Europe\", \"Life Expectancy (years)\": 80.5, \"Wellbeing (0-10)\": 5.1, \"Inequality of outcomes\": \"16%\", \"Ecological Footprint (gha/capita)\": 4.4, \"Happy Planet Index\": 23.6}, {\"HPI Rank\": 90, \"Country\": \"Macedonia\", \"Region\": \"Post-communist\", \"Life Expectancy (years)\": 75.1, \"Wellbeing (0-10)\": 4.6, \"Inequality of outcomes\": \"18%\", \"Ecological Footprint (gha/capita)\": 3.3, \"Happy Planet Index\": 23.4}, {\"HPI Rank\": 91, \"Country\": \"Paraguay\", \"Region\": \"Americas\", \"Life Expectancy (years)\": 72.6, \"Wellbeing (0-10)\": 5.8, \"Inequality of outcomes\": \"22%\", \"Ecological Footprint (gha/capita)\": 4.2, \"Happy Planet Index\": 23.3}, {\"HPI Rank\": 92, \"Country\": \"Bolivia\", \"Region\": \"Americas\", \"Life Expectancy (years)\": 67.5, \"Wellbeing (0-10)\": 6.0, \"Inequality of outcomes\": \"35%\", \"Ecological Footprint (gha/capita)\": 3.0, \"Happy Planet Index\": 23.3}, {\"HPI Rank\": 93, \"Country\": \"Comoros\", \"Region\": \"Sub Saharan Africa\", \"Life Expectancy (years)\": 62.6, \"Wellbeing (0-10)\": 4.0, \"Inequality of outcomes\": \"36%\", \"Ecological Footprint (gha/capita)\": 1.0, \"Happy Planet Index\": 23.1}, {\"HPI Rank\": 94, \"Country\": \"Yemen\", \"Region\": \"Middle East and North Africa\", \"Life Expectancy (years)\": 63.3, \"Wellbeing (0-10)\": 4.1, \"Inequality of outcomes\": \"39%\", \"Ecological Footprint (gha/capita)\": 1.0, \"Happy Planet Index\": 22.8}, {\"HPI Rank\": 95, \"Country\": \"Nigeria\", \"Region\": \"Sub Saharan Africa\", \"Life Expectancy (years)\": 52.1, \"Wellbeing (0-10)\": 5.5, \"Inequality of outcomes\": \"44%\", \"Ecological Footprint (gha/capita)\": 1.2, \"Happy Planet Index\": 22.2}, {\"HPI Rank\": 96, \"Country\": \"Liberia\", \"Region\": \"Sub Saharan Africa\", \"Life Expectancy (years)\": 60.2, \"Wellbeing (0-10)\": 4.4, \"Inequality of outcomes\": \"38%\", \"Ecological Footprint (gha/capita)\": 1.2, \"Happy Planet Index\": 22.2}, {\"HPI Rank\": 97, \"Country\": \"Tanzania\", \"Region\": \"Sub Saharan Africa\", \"Life Expectancy (years)\": 63.5, \"Wellbeing (0-10)\": 4.0, \"Inequality of outcomes\": \"33%\", \"Ecological Footprint (gha/capita)\": 1.3, \"Happy Planet Index\": 22.1}, {\"HPI Rank\": 98, \"Country\": \"Malawi\", \"Region\": \"Sub Saharan Africa\", \"Life Expectancy (years)\": 60.1, \"Wellbeing (0-10)\": 4.3, \"Inequality of outcomes\": \"45%\", \"Ecological Footprint (gha/capita)\": 0.8, \"Happy Planet Index\": 22.1}, {\"HPI Rank\": 99, \"Country\": \"Zimbabwe\", \"Region\": \"Sub Saharan Africa\", \"Life Expectancy (years)\": 53.7, \"Wellbeing (0-10)\": 5.0, \"Inequality of outcomes\": \"37%\", \"Ecological Footprint (gha/capita)\": 1.4, \"Happy Planet Index\": 22.1}, {\"HPI Rank\": 100, \"Country\": \"Lebanon\", \"Region\": \"Middle East and North Africa\", \"Life Expectancy (years)\": 78.8, \"Wellbeing (0-10)\": 4.6, \"Inequality of outcomes\": \"19%\", \"Ecological Footprint (gha/capita)\": 3.8, \"Happy Planet Index\": 21.9}, {\"HPI Rank\": 101, \"Country\": \"Senegal\", \"Region\": \"Sub Saharan Africa\", \"Life Expectancy (years)\": 65.4, \"Wellbeing (0-10)\": 3.7, \"Inequality of outcomes\": \"33%\", \"Ecological Footprint (gha/capita)\": 1.2, \"Happy Planet Index\": 21.9}, {\"HPI Rank\": 102, \"Country\": \"Belarus\", \"Region\": \"Post-communist\", \"Life Expectancy (years)\": 70.9, \"Wellbeing (0-10)\": 5.7, \"Inequality of outcomes\": \"13%\", \"Ecological Footprint (gha/capita)\": 5.1, \"Happy Planet Index\": 21.7}, {\"HPI Rank\": 103, \"Country\": \"Namibia\", \"Region\": \"Sub Saharan Africa\", \"Life Expectancy (years)\": 64.0, \"Wellbeing (0-10)\": 4.7, \"Inequality of outcomes\": \"26%\", \"Ecological Footprint (gha/capita)\": 2.5, \"Happy Planet Index\": 21.6}, {\"HPI Rank\": 104, \"Country\": \"Ghana\", \"Region\": \"Sub Saharan Africa\", \"Life Expectancy (years)\": 61.0, \"Wellbeing (0-10)\": 5.1, \"Inequality of outcomes\": \"38%\", \"Ecological Footprint (gha/capita)\": 2.0, \"Happy Planet Index\": 21.4}, {\"HPI Rank\": 105, \"Country\": \"Australia\", \"Region\": \"Asia Pacific\", \"Life Expectancy (years)\": 82.1, \"Wellbeing (0-10)\": 7.2, \"Inequality of outcomes\": \"8%\", \"Ecological Footprint (gha/capita)\": 9.3, \"Happy Planet Index\": 21.2}, {\"HPI Rank\": 106, \"Country\": \"Oman\", \"Region\": \"Middle East and North Africa\", \"Life Expectancy (years)\": 76.3, \"Wellbeing (0-10)\": 6.9, \"Inequality of outcomes\": \"13%\", \"Ecological Footprint (gha/capita)\": 7.5, \"Happy Planet Index\": 21.1}, {\"HPI Rank\": 107, \"Country\": \"Lithuania\", \"Region\": \"Post-communist\", \"Life Expectancy (years)\": 72.8, \"Wellbeing (0-10)\": 5.8, \"Inequality of outcomes\": \"11%\", \"Ecological Footprint (gha/capita)\": 5.8, \"Happy Planet Index\": 21.0}, {\"HPI Rank\": 108, \"Country\": \"United States of America\", \"Region\": \"Americas\", \"Life Expectancy (years)\": 78.8, \"Wellbeing (0-10)\": 7.0, \"Inequality of outcomes\": \"13%\", \"Ecological Footprint (gha/capita)\": 8.2, \"Happy Planet Index\": 20.7}, {\"HPI Rank\": 109, \"Country\": \"Bulgaria\", \"Region\": \"Post-communist\", \"Life Expectancy (years)\": 73.9, \"Wellbeing (0-10)\": 4.2, \"Inequality of outcomes\": \"19%\", \"Ecological Footprint (gha/capita)\": 3.3, \"Happy Planet Index\": 20.4}, {\"HPI Rank\": 110, \"Country\": \"Afghanistan\", \"Region\": \"Middle East and North Africa\", \"Life Expectancy (years)\": 59.7, \"Wellbeing (0-10)\": 3.8, \"Inequality of outcomes\": \"43%\", \"Ecological Footprint (gha/capita)\": 0.8, \"Happy Planet Index\": 20.2}, {\"HPI Rank\": 111, \"Country\": \"Rwanda\", \"Region\": \"Sub Saharan Africa\", \"Life Expectancy (years)\": 63.1, \"Wellbeing (0-10)\": 3.3, \"Inequality of outcomes\": \"37%\", \"Ecological Footprint (gha/capita)\": 0.9, \"Happy Planet Index\": 19.6}, {\"HPI Rank\": 112, \"Country\": \"Uganda\", \"Region\": \"Sub Saharan Africa\", \"Life Expectancy (years)\": 57.1, \"Wellbeing (0-10)\": 4.3, \"Inequality of outcomes\": \"41%\", \"Ecological Footprint (gha/capita)\": 1.2, \"Happy Planet Index\": 19.4}, {\"HPI Rank\": 113, \"Country\": \"Syria\", \"Region\": \"Middle East and North Africa\", \"Life Expectancy (years)\": 70.4, \"Wellbeing (0-10)\": 3.2, \"Inequality of outcomes\": \"30%\", \"Ecological Footprint (gha/capita)\": 1.5, \"Happy Planet Index\": 19.1}, {\"HPI Rank\": 114, \"Country\": \"Kazakhstan\", \"Region\": \"Post-communist\", \"Life Expectancy (years)\": 68.6, \"Wellbeing (0-10)\": 5.8, \"Inequality of outcomes\": \"18%\", \"Ecological Footprint (gha/capita)\": 5.6, \"Happy Planet Index\": 19.1}, {\"HPI Rank\": 115, \"Country\": \"Republic of Congo\", \"Region\": \"Sub Saharan Africa\", \"Life Expectancy (years)\": 61.0, \"Wellbeing (0-10)\": 3.9, \"Inequality of outcomes\": \"40%\", \"Ecological Footprint (gha/capita)\": 1.3, \"Happy Planet Index\": 18.8}, {\"HPI Rank\": 116, \"Country\": \"Russia\", \"Region\": \"Post-communist\", \"Life Expectancy (years)\": 69.5, \"Wellbeing (0-10)\": 5.6, \"Inequality of outcomes\": \"16%\", \"Ecological Footprint (gha/capita)\": 5.7, \"Happy Planet Index\": 18.7}, {\"HPI Rank\": 117, \"Country\": \"Mauritania\", \"Region\": \"Sub Saharan Africa\", \"Life Expectancy (years)\": 62.6, \"Wellbeing (0-10)\": 4.7, \"Inequality of outcomes\": \"37%\", \"Ecological Footprint (gha/capita)\": 2.5, \"Happy Planet Index\": 18.0}, {\"HPI Rank\": 118, \"Country\": \"Estonia\", \"Region\": \"Post-communist\", \"Life Expectancy (years)\": 76.2, \"Wellbeing (0-10)\": 5.4, \"Inequality of outcomes\": \"12%\", \"Ecological Footprint (gha/capita)\": 6.9, \"Happy Planet Index\": 17.9}, {\"HPI Rank\": 119, \"Country\": \"Burkina Faso\", \"Region\": \"Sub Saharan Africa\", \"Life Expectancy (years)\": 58.0, \"Wellbeing (0-10)\": 4.0, \"Inequality of outcomes\": \"43%\", \"Ecological Footprint (gha/capita)\": 1.2, \"Happy Planet Index\": 17.9}, {\"HPI Rank\": 120, \"Country\": \"Gabon\", \"Region\": \"Sub Saharan Africa\", \"Life Expectancy (years)\": 63.3, \"Wellbeing (0-10)\": 4.0, \"Inequality of outcomes\": \"36%\", \"Ecological Footprint (gha/capita)\": 2.0, \"Happy Planet Index\": 17.5}, {\"HPI Rank\": 121, \"Country\": \"Latvia\", \"Region\": \"Post-communist\", \"Life Expectancy (years)\": 73.6, \"Wellbeing (0-10)\": 5.1, \"Inequality of outcomes\": \"14%\", \"Ecological Footprint (gha/capita)\": 6.3, \"Happy Planet Index\": 17.1}, {\"HPI Rank\": 122, \"Country\": \"Niger\", \"Region\": \"Sub Saharan Africa\", \"Life Expectancy (years)\": 60.0, \"Wellbeing (0-10)\": 3.8, \"Inequality of outcomes\": \"40%\", \"Ecological Footprint (gha/capita)\": 1.6, \"Happy Planet Index\": 16.8}, {\"HPI Rank\": 123, \"Country\": \"Hong Kong\", \"Region\": \"Asia Pacific\", \"Life Expectancy (years)\": 83.6, \"Wellbeing (0-10)\": 5.5, \"Inequality of outcomes\": \"10%\", \"Ecological Footprint (gha/capita)\": 8.8, \"Happy Planet Index\": 16.8}, {\"HPI Rank\": 124, \"Country\": \"Cameroon\", \"Region\": \"Sub Saharan Africa\", \"Life Expectancy (years)\": 54.6, \"Wellbeing (0-10)\": 4.2, \"Inequality of outcomes\": \"47%\", \"Ecological Footprint (gha/capita)\": 1.2, \"Happy Planet Index\": 16.7}, {\"HPI Rank\": 125, \"Country\": \"Lesotho\", \"Region\": \"Sub Saharan Africa\", \"Life Expectancy (years)\": 48.9, \"Wellbeing (0-10)\": 4.9, \"Inequality of outcomes\": \"42%\", \"Ecological Footprint (gha/capita)\": 1.7, \"Happy Planet Index\": 16.7}, {\"HPI Rank\": 126, \"Country\": \"Botswana\", \"Region\": \"Sub Saharan Africa\", \"Life Expectancy (years)\": 64.2, \"Wellbeing (0-10)\": 4.8, \"Inequality of outcomes\": \"28%\", \"Ecological Footprint (gha/capita)\": 3.8, \"Happy Planet Index\": 16.6}, {\"HPI Rank\": 127, \"Country\": \"Djibouti\", \"Region\": \"Sub Saharan Africa\", \"Life Expectancy (years)\": 61.3, \"Wellbeing (0-10)\": 4.4, \"Inequality of outcomes\": \"42%\", \"Ecological Footprint (gha/capita)\": 2.2, \"Happy Planet Index\": 16.4}, {\"HPI Rank\": 128, \"Country\": \"South Africa\", \"Region\": \"Sub Saharan Africa\", \"Life Expectancy (years)\": 56.3, \"Wellbeing (0-10)\": 5.1, \"Inequality of outcomes\": \"33%\", \"Ecological Footprint (gha/capita)\": 3.3, \"Happy Planet Index\": 15.9}, {\"HPI Rank\": 129, \"Country\": \"Guinea\", \"Region\": \"Sub Saharan Africa\", \"Life Expectancy (years)\": 57.7, \"Wellbeing (0-10)\": 3.7, \"Inequality of outcomes\": \"42%\", \"Ecological Footprint (gha/capita)\": 1.4, \"Happy Planet Index\": 15.9}, {\"HPI Rank\": 130, \"Country\": \"Trinidad and Tobago\", \"Region\": \"Americas\", \"Life Expectancy (years)\": 70.1, \"Wellbeing (0-10)\": 6.4, \"Inequality of outcomes\": \"21%\", \"Ecological Footprint (gha/capita)\": 7.9, \"Happy Planet Index\": 15.7}, {\"HPI Rank\": 131, \"Country\": \"Burundi\", \"Region\": \"Sub Saharan Africa\", \"Life Expectancy (years)\": 55.8, \"Wellbeing (0-10)\": 3.4, \"Inequality of outcomes\": \"48%\", \"Ecological Footprint (gha/capita)\": 0.8, \"Happy Planet Index\": 15.6}, {\"HPI Rank\": 132, \"Country\": \"Swaziland\", \"Region\": \"Sub Saharan Africa\", \"Life Expectancy (years)\": 48.9, \"Wellbeing (0-10)\": 4.9, \"Inequality of outcomes\": \"41%\", \"Ecological Footprint (gha/capita)\": 2.0, \"Happy Planet Index\": 15.5}, {\"HPI Rank\": 133, \"Country\": \"Sierra Leone\", \"Region\": \"Sub Saharan Africa\", \"Life Expectancy (years)\": 49.8, \"Wellbeing (0-10)\": 4.5, \"Inequality of outcomes\": \"50%\", \"Ecological Footprint (gha/capita)\": 1.2, \"Happy Planet Index\": 15.3}, {\"HPI Rank\": 134, \"Country\": \"Turkmenistan\", \"Region\": \"Post-communist\", \"Life Expectancy (years)\": 65.3, \"Wellbeing (0-10)\": 5.5, \"Inequality of outcomes\": \"31%\", \"Ecological Footprint (gha/capita)\": 5.5, \"Happy Planet Index\": 14.6}, {\"HPI Rank\": 135, \"Country\": \"Cote d'Ivoire\", \"Region\": \"Sub Saharan Africa\", \"Life Expectancy (years)\": 50.8, \"Wellbeing (0-10)\": 3.8, \"Inequality of outcomes\": \"45%\", \"Ecological Footprint (gha/capita)\": 1.3, \"Happy Planet Index\": 14.4}, {\"HPI Rank\": 136, \"Country\": \"Mongolia\", \"Region\": \"Asia Pacific\", \"Life Expectancy (years)\": 68.6, \"Wellbeing (0-10)\": 4.9, \"Inequality of outcomes\": \"22%\", \"Ecological Footprint (gha/capita)\": 6.1, \"Happy Planet Index\": 14.3}, {\"HPI Rank\": 137, \"Country\": \"Benin\", \"Region\": \"Sub Saharan Africa\", \"Life Expectancy (years)\": 59.2, \"Wellbeing (0-10)\": 3.2, \"Inequality of outcomes\": \"44%\", \"Ecological Footprint (gha/capita)\": 1.4, \"Happy Planet Index\": 13.4}, {\"HPI Rank\": 138, \"Country\": \"Togo\", \"Region\": \"Sub Saharan Africa\", \"Life Expectancy (years)\": 58.6, \"Wellbeing (0-10)\": 2.9, \"Inequality of outcomes\": \"43%\", \"Ecological Footprint (gha/capita)\": 1.1, \"Happy Planet Index\": 13.2}, {\"HPI Rank\": 139, \"Country\": \"Luxembourg\", \"Region\": \"Europe\", \"Life Expectancy (years)\": 81.1, \"Wellbeing (0-10)\": 7.0, \"Inequality of outcomes\": \"7%\", \"Ecological Footprint (gha/capita)\": 15.8, \"Happy Planet Index\": 13.2}, {\"HPI Rank\": 140, \"Country\": \"Chad\", \"Region\": \"Sub Saharan Africa\", \"Life Expectancy (years)\": 50.8, \"Wellbeing (0-10)\": 4.0, \"Inequality of outcomes\": \"51%\", \"Ecological Footprint (gha/capita)\": 1.5, \"Happy Planet Index\": 12.8}]}}, {\"mode\": \"vega-lite\"});\n",
       "</script>"
      ],
      "text/plain": [
       "alt.Chart(...)"
      ]
     },
     "execution_count": 341,
     "metadata": {},
     "output_type": "execute_result"
    }
   ],
   "source": [
    "alt.Chart(hpi_df).mark_rect().encode(\n",
    "    alt.X('Happy Planet Index:Q', bin=True),  # Eje X con 'Happy Planet Index', agrupado en intervalos (binning)\n",
    "    alt.Y('Wellbeing (0-10):Q', bin=True),  # Eje Y con 'Wellbeing', también agrupado en intervalos\n",
    "    alt.Color('count()', scale=alt.Scale(scheme='greenblue'), legend=alt.Legend(title='Total Countries'))  # Colorea los rectángulos según el recuento de países, con un esquema de color verde-azul\n",
    ").interactive()  # Habilita la interactividad (zoom y desplazamiento)"
   ]
  },
  {
   "cell_type": "markdown",
   "metadata": {},
   "source": [
    "### **Dinámica de un gráfico de barras y un mapa de calor**\n",
    "\n",
    "Vamos a vincular dinámicamente un gráfico de barras con un mapa de calor. Imagina un escenario en el que, al hacer clic en una barra del gráfico, el mapa de calor se actualiza automáticamente para mostrar los datos correspondientes a la región seleccionada. Por ejemplo, podrías hacer clic en una barra que representa una región y, a partir de eso, el mapa de calor de `Life Expectancy` frente a `Wellbeing` se ajustaría para mostrar únicamente los datos de los países de esa región específica. Esto permite una exploración más detallada y enfocada en los datos."
   ]
  },
  {
   "cell_type": "markdown",
   "metadata": {},
   "source": [
    "1. Seleccione la región mediante el método de `selection` y crea el `heatmap`"
   ]
  },
  {
   "cell_type": "code",
   "execution_count": 342,
   "metadata": {},
   "outputs": [],
   "source": [
    "selected_region = alt.selection(type=\"single\", encodings=['x'])  # Definir una selección interactiva en el eje x (región)\n",
    "\n",
    "heatmap = alt.Chart(hpi_df).mark_rect().encode(\n",
    "    alt.X('Wellbeing (0-10):Q', bin=True),  # Eje X con 'Wellbeing' agrupado en intervalos (binned)\n",
    "    alt.Y('Life Expectancy (years):Q', bin=True),  # Eje Y con 'Life Expectancy' también agrupado en intervalos\n",
    "    alt.Color('count()', scale=alt.Scale(scheme='greenblue'), legend=alt.Legend(title='Total Countries'))  # Colorear según el recuento de países, usando un esquema de color verde-azul\n",
    ").properties(\n",
    "    width=350  # Ajustar el ancho del gráfico a 350 píxeles\n",
    ")"
   ]
  },
  {
   "cell_type": "markdown",
   "metadata": {},
   "source": [
    "2. Colocar los círculos en un mapa de calor"
   ]
  },
  {
   "cell_type": "code",
   "execution_count": 343,
   "metadata": {},
   "outputs": [],
   "source": [
    "circles = heatmap.mark_point().encode(\n",
    "    alt.ColorValue('grey'),  # Los puntos (círculos) tendrán color gris\n",
    "    alt.Size('count()', legend=alt.Legend(title='Records in Selection'))  # El tamaño de los puntos representa el número de registros en la selección\n",
    ").transform_filter(\n",
    "    selected_region  # Filtra los puntos en función de la región seleccionada en el gráfico de barras\n",
    ")"
   ]
  },
  {
   "cell_type": "markdown",
   "metadata": {},
   "source": [
    "3. Utilice la función `heatmap+circles | bars` para vincular dinámicamente el gráfico de barras y el mapa de calor"
   ]
  },
  {
   "cell_type": "code",
   "execution_count": null,
   "metadata": {},
   "outputs": [],
   "source": [
    "bars = alt.Chart(hpi_df).mark_bar().encode(\n",
    "    x='Region:N',  # Eje X con las regiones (categórico)\n",
    "    y='count()',  # Eje Y con el recuento de países por región\n",
    "    color=alt.condition(selected_region, alt.ColorValue(\"steelblue\"), alt.ColorValue(\"grey\"))  # Colorea las barras en azul para la región seleccionada y en gris para las no seleccionadas\n",
    ").properties(\n",
    "    width=350  # Ajusta el ancho del gráfico de barras\n",
    ").add_selection(selected_region)  # Añade la selección interactiva en las barras\n",
    "\n",
    "# Combina el heatmap con los círculos, seguido por el gráfico de barras en un diseño horizontal\n",
    "heatmap + circles | bars\n"
   ]
  },
  {
   "cell_type": "markdown",
   "metadata": {},
   "source": [
    "## **Visualización interactiva de mapas con datos geográficos**"
   ]
  },
  {
   "cell_type": "markdown",
   "metadata": {},
   "source": [
    "### **Creación de un mapa coroplético**"
   ]
  },
  {
   "cell_type": "code",
   "execution_count": 345,
   "metadata": {},
   "outputs": [],
   "source": [
    "import pandas as pd\n",
    "import numpy as np\n",
    "\n",
    "# Cargar el archivo CSV proporcionado\n",
    "file_path = 'C:/Users/cdeor/OneDrive/Documentos/MachineLearningDipSerfinanzas/jbook_ml202430/docs/_data/dataviz/share-of-individuals-using-the-internet.csv'\n",
    "df_owd = pd.read_csv(file_path)"
   ]
  },
  {
   "cell_type": "code",
   "execution_count": null,
   "metadata": {},
   "outputs": [],
   "source": [
    "# TU CODIGO"
   ]
  },
  {
   "cell_type": "markdown",
   "metadata": {},
   "source": [
    "2. Filtraremos los datos por el año 2016.\n"
   ]
  },
  {
   "cell_type": "code",
   "execution_count": null,
   "metadata": {},
   "outputs": [],
   "source": [
    "df_owd_2016 = # TU CODIGO\n",
    "df_owd_2016.head()"
   ]
  },
  {
   "cell_type": "markdown",
   "metadata": {},
   "source": [
    "3. En los siguientes pasos, utilizaremos el módulo **`express`** de **`Plotly`** (debido a su simplicidad) y la función **`choropleth`** para crear un mapa coroplético interactivo. A continuación, se describen los parámetros clave que pasaremos a esta función:"
   ]
  },
  {
   "cell_type": "code",
   "execution_count": null,
   "metadata": {},
   "outputs": [
    {
     "data": {
      "text/html": [
       "<div>                            <div id=\"558ea4f5-82bf-4bcb-9e7f-b564cb1815aa\" class=\"plotly-graph-div\" style=\"height:525px; width:100%;\"></div>            <script type=\"text/javascript\">                require([\"plotly\"], function(Plotly) {                    window.PLOTLYENV=window.PLOTLYENV || {};                                    if (document.getElementById(\"558ea4f5-82bf-4bcb-9e7f-b564cb1815aa\")) {                    Plotly.newPlot(                        \"558ea4f5-82bf-4bcb-9e7f-b564cb1815aa\",                        [{\"coloraxis\":\"coloraxis\",\"geo\":\"geo\",\"hovertemplate\":\"\\u003cb\\u003e%{hovertext}\\u003c\\u002fb\\u003e\\u003cbr\\u003e\\u003cbr\\u003eCode=%{location}\\u003cbr\\u003eIndividuals using the Internet (% of population)=%{z}\\u003cextra\\u003e\\u003c\\u002fextra\\u003e\",\"hovertext\":[\"Afghanistan\",\"Albania\",\"Algeria\",\"Andorra\",\"Angola\",\"Antigua and Barbuda\",\"Arab World\",\"Argentina\",\"Armenia\",\"Aruba\",\"Australia\",\"Austria\",\"Azerbaijan\",\"Bahamas\",\"Bahrain\",\"Bangladesh\",\"Barbados\",\"Belarus\",\"Belgium\",\"Belize\",\"Benin\",\"Bermuda\",\"Bhutan\",\"Bolivia\",\"Bosnia and Herzegovina\",\"Botswana\",\"Brazil\",\"Brunei\",\"Bulgaria\",\"Burkina Faso\",\"Burundi\",\"Cambodia\",\"Cameroon\",\"Canada\",\"Cape Verde\",\"Caribbean small states\",\"Cayman Islands\",\"Central African Republic\",\"Central Europe and the Baltics\",\"Chad\",\"Chile\",\"China\",\"Colombia\",\"Comoros\",\"Congo\",\"Costa Rica\",\"Cote d'Ivoire\",\"Croatia\",\"Cuba\",\"Curacao\",\"Cyprus\",\"Czech Republic\",\"Democratic Republic of Congo\",\"Denmark\",\"Djibouti\",\"Dominica\",\"Dominican Republic\",\"Early-demographic dividend\",\"East Asia & Pacific\",\"East Asia & Pacific (IDA & IBRD)\",\"East Asia & Pacific (excluding high income)\",\"Ecuador\",\"Egypt\",\"El Salvador\",\"Equatorial Guinea\",\"Eritrea\",\"Estonia\",\"Ethiopia\",\"Euro area\",\"Europe & Central Asia\",\"Europe & Central Asia (IDA & IBRD)\",\"Europe & Central Asia (excluding high income)\",\"European Union\",\"Faeroe Islands\",\"Fiji\",\"Finland\",\"Fragile and conflict affected situations\",\"France\",\"French Polynesia\",\"Gabon\",\"Gambia\",\"Georgia\",\"Germany\",\"Ghana\",\"Gibraltar\",\"Greece\",\"Greenland\",\"Grenada\",\"Guam\",\"Guatemala\",\"Guinea\",\"Guinea-Bissau\",\"Guyana\",\"Haiti\",\"Heavily indebted poor countries (HIPC)\",\"High income\",\"Honduras\",\"Hong Kong\",\"Hungary\",\"IBRD only\",\"IDA & IBRD total\",\"IDA blend\",\"IDA only\",\"IDA total\",\"Iceland\",\"India\",\"Indonesia\",\"Iran\",\"Iraq\",\"Ireland\",\"Israel\",\"Italy\",\"Jamaica\",\"Japan\",\"Jordan\",\"Kazakhstan\",\"Kenya\",\"Kiribati\",\"Kuwait\",\"Kyrgyzstan\",\"Laos\",\"Late-demographic dividend\",\"Latin America & Caribbean\",\"Latin America & Caribbean (IDA & IBRD)\",\"Latin America & Caribbean (excluding high income)\",\"Latvia\",\"Least developed countries: UN classification\",\"Lebanon\",\"Lesotho\",\"Liberia\",\"Libya\",\"Liechtenstein\",\"Lithuania\",\"Low & middle income\",\"Low income\",\"Lower middle income\",\"Luxembourg\",\"Macao\",\"Macedonia\",\"Madagascar\",\"Malawi\",\"Malaysia\",\"Maldives\",\"Mali\",\"Malta\",\"Marshall Islands\",\"Mauritania\",\"Mauritius\",\"Mexico\",\"Micronesia (country)\",\"Middle East & North Africa\",\"Middle East & North Africa (IDA & IBRD)\",\"Middle East & North Africa (excluding high income)\",\"Middle income\",\"Moldova\",\"Monaco\",\"Mongolia\",\"Montenegro\",\"Morocco\",\"Mozambique\",\"Myanmar\",\"Namibia\",\"Nepal\",\"Netherlands\",\"New Zealand\",\"Nicaragua\",\"Niger\",\"Nigeria\",\"North America\",\"Norway\",\"OECD members\",\"Oman\",\"Other small states\",\"Pacific island small states\",\"Pakistan\",\"Palestine\",\"Panama\",\"Papua New Guinea\",\"Paraguay\",\"Peru\",\"Philippines\",\"Poland\",\"Portugal\",\"Post-demographic dividend\",\"Pre-demographic dividend\",\"Puerto Rico\",\"Qatar\",\"Romania\",\"Russia\",\"Rwanda\",\"Saint Kitts and Nevis\",\"Saint Lucia\",\"Saint Vincent and the Grenadines\",\"Samoa\",\"Sao Tome and Principe\",\"Saudi Arabia\",\"Senegal\",\"Serbia\",\"Seychelles\",\"Sierra Leone\",\"Singapore\",\"Slovakia\",\"Slovenia\",\"Small states\",\"Solomon Islands\",\"Somalia\",\"South Africa\",\"South Asia\",\"South Asia (IDA & IBRD)\",\"South Korea\",\"South Sudan\",\"Spain\",\"Sri Lanka\",\"Sub-Saharan Africa\",\"Sub-Saharan Africa (IDA & IBRD)\",\"Sub-Saharan Africa (excluding high income)\",\"Sudan\",\"Suriname\",\"Swaziland\",\"Sweden\",\"Switzerland\",\"Syrian Arab Republic\",\"Tajikistan\",\"Tanzania\",\"Thailand\",\"Timor\",\"Togo\",\"Tonga\",\"Trinidad and Tobago\",\"Tunisia\",\"Turkey\",\"Turkmenistan\",\"Tuvalu\",\"Uganda\",\"Ukraine\",\"United Arab Emirates\",\"United Kingdom\",\"United States\",\"United States Virgin Islands\",\"Upper middle income\",\"Uruguay\",\"Uzbekistan\",\"Vanuatu\",\"Venezuela\",\"Vietnam\",\"World\",\"Yemen\",\"Zambia\",\"Zimbabwe\"],\"locations\":[\"AFG\",\"ALB\",\"DZA\",\"AND\",\"AGO\",\"ATG\",null,\"ARG\",\"ARM\",\"ABW\",\"AUS\",\"AUT\",\"AZE\",\"BHS\",\"BHR\",\"BGD\",\"BRB\",\"BLR\",\"BEL\",\"BLZ\",\"BEN\",\"BMU\",\"BTN\",\"BOL\",\"BIH\",\"BWA\",\"BRA\",\"BRN\",\"BGR\",\"BFA\",\"BDI\",\"KHM\",\"CMR\",\"CAN\",\"CPV\",null,\"CYM\",\"CAF\",null,\"TCD\",\"CHL\",\"CHN\",\"COL\",\"COM\",\"COG\",\"CRI\",\"CIV\",\"HRV\",\"CUB\",\"CUW\",\"CYP\",\"CZE\",\"COD\",\"DNK\",\"DJI\",\"DMA\",\"DOM\",null,null,null,null,\"ECU\",\"EGY\",\"SLV\",\"GNQ\",\"ERI\",\"EST\",\"ETH\",null,null,null,null,null,\"FRO\",\"FJI\",\"FIN\",null,\"FRA\",\"PYF\",\"GAB\",\"GMB\",\"GEO\",\"DEU\",\"GHA\",\"GIB\",\"GRC\",\"GRL\",\"GRD\",\"GUM\",\"GTM\",\"GIN\",\"GNB\",\"GUY\",\"HTI\",null,null,\"HND\",\"HKG\",\"HUN\",null,null,null,null,null,\"ISL\",\"IND\",\"IDN\",\"IRN\",\"IRQ\",\"IRL\",\"ISR\",\"ITA\",\"JAM\",\"JPN\",\"JOR\",\"KAZ\",\"KEN\",\"KIR\",\"KWT\",\"KGZ\",\"LAO\",null,null,null,null,\"LVA\",null,\"LBN\",\"LSO\",\"LBR\",\"LBY\",\"LIE\",\"LTU\",null,null,null,\"LUX\",\"MAC\",\"MKD\",\"MDG\",\"MWI\",\"MYS\",\"MDV\",\"MLI\",\"MLT\",\"MHL\",\"MRT\",\"MUS\",\"MEX\",\"FSM\",null,null,null,null,\"MDA\",\"MCO\",\"MNG\",\"MNE\",\"MAR\",\"MOZ\",\"MMR\",\"NAM\",\"NPL\",\"NLD\",\"NZL\",\"NIC\",\"NER\",\"NGA\",null,\"NOR\",null,\"OMN\",null,null,\"PAK\",\"PSE\",\"PAN\",\"PNG\",\"PRY\",\"PER\",\"PHL\",\"POL\",\"PRT\",null,null,\"PRI\",\"QAT\",\"ROU\",\"RUS\",\"RWA\",\"KNA\",\"LCA\",\"VCT\",\"WSM\",\"STP\",\"SAU\",\"SEN\",\"SRB\",\"SYC\",\"SLE\",\"SGP\",\"SVK\",\"SVN\",null,\"SLB\",\"SOM\",\"ZAF\",null,null,\"KOR\",\"SSD\",\"ESP\",\"LKA\",null,null,null,\"SDN\",\"SUR\",\"SWZ\",\"SWE\",\"CHE\",null,\"TJK\",\"TZA\",\"THA\",\"TLS\",\"TGO\",\"TON\",\"TTO\",\"TUN\",\"TUR\",\"TKM\",\"TUV\",\"UGA\",\"UKR\",\"ARE\",\"GBR\",\"USA\",\"VIR\",null,\"URY\",\"UZB\",\"VUT\",\"VEN\",\"VNM\",\"OWID_WRL\",\"YEM\",\"ZMB\",\"ZWE\"],\"name\":\"\",\"z\":[10.5957264186601,66.363444701023,42.9455268800332,97.9306371220021,13.0,73.0,42.6899446475061,70.9689808206024,64.3460297653742,93.542453865048,88.2386580521762,84.3233312921004,78.2,80.0,97.9999807024146,18.2469380029449,79.5493978888735,71.1130457603832,86.5165,44.57574032,11.994047908223,98.0,41.7726445321672,39.6975146032685,60.26,39.36299738,60.8725400681261,90.0,59.825547661014,13.96,5.17362677652886,32.3984517141849,25.0,91.16,50.3228178676892,53.5582024875428,79.0,4.0,71.3504111076453,5.0,83.56,53.2,58.1364935728703,7.938322770803,8.121949323466,66.028712851114,41.21,72.6973060458944,42.98,61.855510740634,75.9003601905124,76.4812013779572,6.20997406030119,96.9677852516645,13.1349151074,67.03,63.87,33.6269640084423,52.9499969954877,48.4267745852469,48.4267745852469,54.0629247288864,41.2480670885772,28.997073045597,23.779999971074,1.177118720157,87.2373320920335,15.3669238595896,79.3593948986586,72.941770027028,63.459594101046,62.4431550261505,80.1329362880489,95.1086816720257,46.5069783122217,87.7036499599455,18.1122945516213,79.27,68.440419493378,48.0522737506185,18.5,59.26,89.6471005903368,34.66600065,94.4444715818151,69.0879154723892,68.500873675421,55.8564078225865,77.009999893206,34.5093260915602,9.8,3.761413832337,35.66,12.2326016070408,16.0811923807541,81.6558676597029,30.0,87.477846264841,79.2594013161699,45.9635971053882,39.2301328422377,22.189285541667,17.4416919936533,19.0154451540382,98.2400162999185,29.5471628858754,25.45,53.2267726333568,21.23,85.0111321151019,79.6531241815281,61.3242527666303,44.3668563671334,93.1827212821617,62.3021925670712,74.5877264735738,16.6,13.7,78.36738376,34.5,21.87,56.6239069881053,57.4039870744804,57.5699054735836,55.3280145470315,79.8420977843089,15.6463248108015,76.11,27.36,7.31910641139578,20.27215956269,98.0939038921672,74.3766455618662,38.635026809408,13.5966179806928,29.8555655168725,98.1366986657616,81.6429854646415,72.1568144676058,4.713662899498,11.47,78.7883099275229,59.0925899654109,11.1121864890589,77.2893948185413,29.7877793626081,18.0,52.1913259356523,59.5404459967255,33.352162552269,48.3315062336771,42.8704415472246,43.1049810139874,41.7656739441088,70.9999991066624,95.2081779700534,22.2657705007562,69.8816468416779,58.271236420398,17.5212390868424,25.07330424,31.0333459383454,19.688763836629,90.4109589041096,88.470186347099,24.5718339595365,4.32275803028068,25.67,77.6970673303378,97.2982036675068,78.6833493661164,76.85,45.7299346232056,30.6072134708858,15.5145577897414,61.17838482746,54.0,9.60153846153846,53.4,45.4617406869459,55.5,73.3007,70.423567088723,80.8956419867703,17.1134249269799,68.64,94.2911181549896,59.5039512852713,73.091434617897,20.0,76.8176749076294,46.7290780591803,55.5746194230166,29.4117301129981,28.0,74.88,25.6647680413953,67.0568413716938,56.5147081470678,11.77318438,84.45,80.4759,75.4985042610791,46.2681756845194,11.000902271205,1.88,54.0,26.4777357008626,26.4777357008626,92.8430256796075,6.6797280510287,80.5613329432179,32.0510027436177,19.8507023234738,19.8507023234738,19.8473582909389,28.0,45.4,28.5735227827685,89.6509476102355,89.1346877351392,31.869627268866,20.470000000055,13.0,47.5049656215909,25.24624959,11.31,39.95,73.296941218486,49.6,58.3477340145685,17.990324461341,46.0091515110578,21.87617046,53.0,90.6000073180483,94.7758006318882,76.176736982841,59.60831579895,55.2661929975714,66.4,46.7912869407806,24.0,60.0,46.5,45.7936844622977,24.5792083636211,25.5065788475702,23.11998904],\"type\":\"choropleth\"}],                        {\"template\":{\"data\":{\"histogram2dcontour\":[{\"type\":\"histogram2dcontour\",\"colorbar\":{\"outlinewidth\":0,\"ticks\":\"\"},\"colorscale\":[[0.0,\"#0d0887\"],[0.1111111111111111,\"#46039f\"],[0.2222222222222222,\"#7201a8\"],[0.3333333333333333,\"#9c179e\"],[0.4444444444444444,\"#bd3786\"],[0.5555555555555556,\"#d8576b\"],[0.6666666666666666,\"#ed7953\"],[0.7777777777777778,\"#fb9f3a\"],[0.8888888888888888,\"#fdca26\"],[1.0,\"#f0f921\"]]}],\"choropleth\":[{\"type\":\"choropleth\",\"colorbar\":{\"outlinewidth\":0,\"ticks\":\"\"}}],\"histogram2d\":[{\"type\":\"histogram2d\",\"colorbar\":{\"outlinewidth\":0,\"ticks\":\"\"},\"colorscale\":[[0.0,\"#0d0887\"],[0.1111111111111111,\"#46039f\"],[0.2222222222222222,\"#7201a8\"],[0.3333333333333333,\"#9c179e\"],[0.4444444444444444,\"#bd3786\"],[0.5555555555555556,\"#d8576b\"],[0.6666666666666666,\"#ed7953\"],[0.7777777777777778,\"#fb9f3a\"],[0.8888888888888888,\"#fdca26\"],[1.0,\"#f0f921\"]]}],\"heatmap\":[{\"type\":\"heatmap\",\"colorbar\":{\"outlinewidth\":0,\"ticks\":\"\"},\"colorscale\":[[0.0,\"#0d0887\"],[0.1111111111111111,\"#46039f\"],[0.2222222222222222,\"#7201a8\"],[0.3333333333333333,\"#9c179e\"],[0.4444444444444444,\"#bd3786\"],[0.5555555555555556,\"#d8576b\"],[0.6666666666666666,\"#ed7953\"],[0.7777777777777778,\"#fb9f3a\"],[0.8888888888888888,\"#fdca26\"],[1.0,\"#f0f921\"]]}],\"heatmapgl\":[{\"type\":\"heatmapgl\",\"colorbar\":{\"outlinewidth\":0,\"ticks\":\"\"},\"colorscale\":[[0.0,\"#0d0887\"],[0.1111111111111111,\"#46039f\"],[0.2222222222222222,\"#7201a8\"],[0.3333333333333333,\"#9c179e\"],[0.4444444444444444,\"#bd3786\"],[0.5555555555555556,\"#d8576b\"],[0.6666666666666666,\"#ed7953\"],[0.7777777777777778,\"#fb9f3a\"],[0.8888888888888888,\"#fdca26\"],[1.0,\"#f0f921\"]]}],\"contourcarpet\":[{\"type\":\"contourcarpet\",\"colorbar\":{\"outlinewidth\":0,\"ticks\":\"\"}}],\"contour\":[{\"type\":\"contour\",\"colorbar\":{\"outlinewidth\":0,\"ticks\":\"\"},\"colorscale\":[[0.0,\"#0d0887\"],[0.1111111111111111,\"#46039f\"],[0.2222222222222222,\"#7201a8\"],[0.3333333333333333,\"#9c179e\"],[0.4444444444444444,\"#bd3786\"],[0.5555555555555556,\"#d8576b\"],[0.6666666666666666,\"#ed7953\"],[0.7777777777777778,\"#fb9f3a\"],[0.8888888888888888,\"#fdca26\"],[1.0,\"#f0f921\"]]}],\"surface\":[{\"type\":\"surface\",\"colorbar\":{\"outlinewidth\":0,\"ticks\":\"\"},\"colorscale\":[[0.0,\"#0d0887\"],[0.1111111111111111,\"#46039f\"],[0.2222222222222222,\"#7201a8\"],[0.3333333333333333,\"#9c179e\"],[0.4444444444444444,\"#bd3786\"],[0.5555555555555556,\"#d8576b\"],[0.6666666666666666,\"#ed7953\"],[0.7777777777777778,\"#fb9f3a\"],[0.8888888888888888,\"#fdca26\"],[1.0,\"#f0f921\"]]}],\"mesh3d\":[{\"type\":\"mesh3d\",\"colorbar\":{\"outlinewidth\":0,\"ticks\":\"\"}}],\"scatter\":[{\"fillpattern\":{\"fillmode\":\"overlay\",\"size\":10,\"solidity\":0.2},\"type\":\"scatter\"}],\"parcoords\":[{\"type\":\"parcoords\",\"line\":{\"colorbar\":{\"outlinewidth\":0,\"ticks\":\"\"}}}],\"scatterpolargl\":[{\"type\":\"scatterpolargl\",\"marker\":{\"colorbar\":{\"outlinewidth\":0,\"ticks\":\"\"}}}],\"bar\":[{\"error_x\":{\"color\":\"#2a3f5f\"},\"error_y\":{\"color\":\"#2a3f5f\"},\"marker\":{\"line\":{\"color\":\"#E5ECF6\",\"width\":0.5},\"pattern\":{\"fillmode\":\"overlay\",\"size\":10,\"solidity\":0.2}},\"type\":\"bar\"}],\"scattergeo\":[{\"type\":\"scattergeo\",\"marker\":{\"colorbar\":{\"outlinewidth\":0,\"ticks\":\"\"}}}],\"scatterpolar\":[{\"type\":\"scatterpolar\",\"marker\":{\"colorbar\":{\"outlinewidth\":0,\"ticks\":\"\"}}}],\"histogram\":[{\"marker\":{\"pattern\":{\"fillmode\":\"overlay\",\"size\":10,\"solidity\":0.2}},\"type\":\"histogram\"}],\"scattergl\":[{\"type\":\"scattergl\",\"marker\":{\"colorbar\":{\"outlinewidth\":0,\"ticks\":\"\"}}}],\"scatter3d\":[{\"type\":\"scatter3d\",\"line\":{\"colorbar\":{\"outlinewidth\":0,\"ticks\":\"\"}},\"marker\":{\"colorbar\":{\"outlinewidth\":0,\"ticks\":\"\"}}}],\"scattermapbox\":[{\"type\":\"scattermapbox\",\"marker\":{\"colorbar\":{\"outlinewidth\":0,\"ticks\":\"\"}}}],\"scatterternary\":[{\"type\":\"scatterternary\",\"marker\":{\"colorbar\":{\"outlinewidth\":0,\"ticks\":\"\"}}}],\"scattercarpet\":[{\"type\":\"scattercarpet\",\"marker\":{\"colorbar\":{\"outlinewidth\":0,\"ticks\":\"\"}}}],\"carpet\":[{\"aaxis\":{\"endlinecolor\":\"#2a3f5f\",\"gridcolor\":\"white\",\"linecolor\":\"white\",\"minorgridcolor\":\"white\",\"startlinecolor\":\"#2a3f5f\"},\"baxis\":{\"endlinecolor\":\"#2a3f5f\",\"gridcolor\":\"white\",\"linecolor\":\"white\",\"minorgridcolor\":\"white\",\"startlinecolor\":\"#2a3f5f\"},\"type\":\"carpet\"}],\"table\":[{\"cells\":{\"fill\":{\"color\":\"#EBF0F8\"},\"line\":{\"color\":\"white\"}},\"header\":{\"fill\":{\"color\":\"#C8D4E3\"},\"line\":{\"color\":\"white\"}},\"type\":\"table\"}],\"barpolar\":[{\"marker\":{\"line\":{\"color\":\"#E5ECF6\",\"width\":0.5},\"pattern\":{\"fillmode\":\"overlay\",\"size\":10,\"solidity\":0.2}},\"type\":\"barpolar\"}],\"pie\":[{\"automargin\":true,\"type\":\"pie\"}]},\"layout\":{\"autotypenumbers\":\"strict\",\"colorway\":[\"#636efa\",\"#EF553B\",\"#00cc96\",\"#ab63fa\",\"#FFA15A\",\"#19d3f3\",\"#FF6692\",\"#B6E880\",\"#FF97FF\",\"#FECB52\"],\"font\":{\"color\":\"#2a3f5f\"},\"hovermode\":\"closest\",\"hoverlabel\":{\"align\":\"left\"},\"paper_bgcolor\":\"white\",\"plot_bgcolor\":\"#E5ECF6\",\"polar\":{\"bgcolor\":\"#E5ECF6\",\"angularaxis\":{\"gridcolor\":\"white\",\"linecolor\":\"white\",\"ticks\":\"\"},\"radialaxis\":{\"gridcolor\":\"white\",\"linecolor\":\"white\",\"ticks\":\"\"}},\"ternary\":{\"bgcolor\":\"#E5ECF6\",\"aaxis\":{\"gridcolor\":\"white\",\"linecolor\":\"white\",\"ticks\":\"\"},\"baxis\":{\"gridcolor\":\"white\",\"linecolor\":\"white\",\"ticks\":\"\"},\"caxis\":{\"gridcolor\":\"white\",\"linecolor\":\"white\",\"ticks\":\"\"}},\"coloraxis\":{\"colorbar\":{\"outlinewidth\":0,\"ticks\":\"\"}},\"colorscale\":{\"sequential\":[[0.0,\"#0d0887\"],[0.1111111111111111,\"#46039f\"],[0.2222222222222222,\"#7201a8\"],[0.3333333333333333,\"#9c179e\"],[0.4444444444444444,\"#bd3786\"],[0.5555555555555556,\"#d8576b\"],[0.6666666666666666,\"#ed7953\"],[0.7777777777777778,\"#fb9f3a\"],[0.8888888888888888,\"#fdca26\"],[1.0,\"#f0f921\"]],\"sequentialminus\":[[0.0,\"#0d0887\"],[0.1111111111111111,\"#46039f\"],[0.2222222222222222,\"#7201a8\"],[0.3333333333333333,\"#9c179e\"],[0.4444444444444444,\"#bd3786\"],[0.5555555555555556,\"#d8576b\"],[0.6666666666666666,\"#ed7953\"],[0.7777777777777778,\"#fb9f3a\"],[0.8888888888888888,\"#fdca26\"],[1.0,\"#f0f921\"]],\"diverging\":[[0,\"#8e0152\"],[0.1,\"#c51b7d\"],[0.2,\"#de77ae\"],[0.3,\"#f1b6da\"],[0.4,\"#fde0ef\"],[0.5,\"#f7f7f7\"],[0.6,\"#e6f5d0\"],[0.7,\"#b8e186\"],[0.8,\"#7fbc41\"],[0.9,\"#4d9221\"],[1,\"#276419\"]]},\"xaxis\":{\"gridcolor\":\"white\",\"linecolor\":\"white\",\"ticks\":\"\",\"title\":{\"standoff\":15},\"zerolinecolor\":\"white\",\"automargin\":true,\"zerolinewidth\":2},\"yaxis\":{\"gridcolor\":\"white\",\"linecolor\":\"white\",\"ticks\":\"\",\"title\":{\"standoff\":15},\"zerolinecolor\":\"white\",\"automargin\":true,\"zerolinewidth\":2},\"scene\":{\"xaxis\":{\"backgroundcolor\":\"#E5ECF6\",\"gridcolor\":\"white\",\"linecolor\":\"white\",\"showbackground\":true,\"ticks\":\"\",\"zerolinecolor\":\"white\",\"gridwidth\":2},\"yaxis\":{\"backgroundcolor\":\"#E5ECF6\",\"gridcolor\":\"white\",\"linecolor\":\"white\",\"showbackground\":true,\"ticks\":\"\",\"zerolinecolor\":\"white\",\"gridwidth\":2},\"zaxis\":{\"backgroundcolor\":\"#E5ECF6\",\"gridcolor\":\"white\",\"linecolor\":\"white\",\"showbackground\":true,\"ticks\":\"\",\"zerolinecolor\":\"white\",\"gridwidth\":2}},\"shapedefaults\":{\"line\":{\"color\":\"#2a3f5f\"}},\"annotationdefaults\":{\"arrowcolor\":\"#2a3f5f\",\"arrowhead\":0,\"arrowwidth\":1},\"geo\":{\"bgcolor\":\"white\",\"landcolor\":\"#E5ECF6\",\"subunitcolor\":\"white\",\"showland\":true,\"showlakes\":true,\"lakecolor\":\"white\"},\"title\":{\"x\":0.05},\"mapbox\":{\"style\":\"light\"}}},\"geo\":{\"domain\":{\"x\":[0.0,1.0],\"y\":[0.0,1.0]},\"center\":{}},\"coloraxis\":{\"colorbar\":{\"title\":{\"text\":\"Individuals using the Internet (% of population)\"}},\"colorscale\":[[0.0,\"#0d0887\"],[0.1111111111111111,\"#46039f\"],[0.2222222222222222,\"#7201a8\"],[0.3333333333333333,\"#9c179e\"],[0.4444444444444444,\"#bd3786\"],[0.5555555555555556,\"#d8576b\"],[0.6666666666666666,\"#ed7953\"],[0.7777777777777778,\"#fb9f3a\"],[0.8888888888888888,\"#fdca26\"],[1.0,\"#f0f921\"]]},\"legend\":{\"tracegroupgap\":0},\"margin\":{\"t\":60},\"title\":{\"text\":\"Internet usage across the world (% population)\"}},                        {\"responsive\": true}                    ).then(function(){\n",
       "                            \n",
       "var gd = document.getElementById('558ea4f5-82bf-4bcb-9e7f-b564cb1815aa');\n",
       "var x = new MutationObserver(function (mutations, observer) {{\n",
       "        var display = window.getComputedStyle(gd).display;\n",
       "        if (!display || display === 'none') {{\n",
       "            console.log([gd, 'removed!']);\n",
       "            Plotly.purge(gd);\n",
       "            observer.disconnect();\n",
       "        }}\n",
       "}});\n",
       "\n",
       "// Listen for the removal of the full notebook cells\n",
       "var notebookContainer = gd.closest('#notebook-container');\n",
       "if (notebookContainer) {{\n",
       "    x.observe(notebookContainer, {childList: true});\n",
       "}}\n",
       "\n",
       "// Listen for the clearing of the current output cell\n",
       "var outputEl = gd.closest('.output');\n",
       "if (outputEl) {{\n",
       "    x.observe(outputEl, {childList: true});\n",
       "}}\n",
       "\n",
       "                        })                };                });            </script>        </div>"
      ]
     },
     "metadata": {},
     "output_type": "display_data"
    }
   ],
   "source": [
    "import plotly.express as px  # Importa Plotly Express para generar gráficos interactivos de forma sencilla\n",
    "from IPython.display import IFrame, display, HTML  # Importa funciones para visualizar gráficos en Jupyter Notebooks\n",
    "import chart_studio.plotly as py  # Importa Chart Studio para subir gráficos a la plataforma de Plotly (opcional)\n",
    "\n",
    "config = {'showLink': False, 'displayModeBar': False}  # Configuración para desactivar enlaces y barra de herramientas\n",
    "\n",
    "# Crear el mapa coroplético usando el DataFrame filtrado para 2016\n",
    "fig = px.choropleth(\n",
    "    ...,  # DataFrame con los datos del uso de Internet en 2016\n",
    "    locations=\"Code\",  # Columna con los códigos de país ISO 3166\n",
    "    color=\"Individuals using the Internet (% of population)\",  # Columna para colorear el mapa según el porcentaje de usuarios de Internet\n",
    "    hover_name=\"Country\",  # Columna para mostrar el nombre del país al pasar el cursor\n",
    "    color_continuous_scale=px.colors.sequential.Plasma  # Esquema de color continuo 'Plasma'\n",
    ")\n",
    "\n",
    "# Actualizar el título del gráfico\n",
    "fig.update_layout(title_text='Internet usage across the world (% population)')\n",
    "\n",
    "# Mostrar el gráfico\n",
    "fig.show()  # Visualiza el gráfico de forma interactiva\n"
   ]
  },
  {
   "cell_type": "markdown",
   "metadata": {},
   "source": [
    "###  **Ajuste de un mapa coroplético mundial**\n",
    "\n",
    "Supongamos que solo nos interesa visualizar el uso de internet en el continente de **Sudamérica**. Para lograr esto, podemos utilizar el parámetro **`geo_scope`** en la función **`update_layout()`** para hacer un *zoom* en esa región geográfica.\n",
    "\n",
    "El siguiente código muestra cómo hacerlo de manera rápida y sencilla:"
   ]
  },
  {
   "cell_type": "code",
   "execution_count": null,
   "metadata": {},
   "outputs": [],
   "source": [
    "fig = px.choropleth(\n",
    "    ...,  # DataFrame con los datos de uso de Internet en 2016\n",
    "    locations=\"Code\",  # Columna con los códigos ISO 3166 de los países\n",
    "    color=\"Individuals using the Internet (% of population)\",  # Columna para colorear el mapa según el porcentaje de usuarios de Internet\n",
    "    hover_name=\"Country\",  # Columna para mostrar el nombre del país al pasar el cursor\n",
    "    color_continuous_scale=px.colors.sequential.Plasma  # Esquema de color continuo 'Plasma'\n",
    ")\n",
    "\n",
    "fig.update_layout(\n",
    "    # Añadir un título para el gráfico\n",
    "    title_text='Uso de Internet en todo Sur América (% de población) - 2016',\n",
    "    geo_scope='....'  # Limitar el alcance del mapa a Sudamérica (opciones: north america, africa, asia, etc.)\n",
    ")\n",
    "\n",
    "# Mostrar el gráfico\n",
    "fig.show()\n"
   ]
  },
  {
   "cell_type": "markdown",
   "metadata": {},
   "source": [
    "Otro continente"
   ]
  },
  {
   "cell_type": "code",
   "execution_count": null,
   "metadata": {},
   "outputs": [],
   "source": [
    "fig = px.choropleth(df_owd_2016,\n",
    "                    locations=\"Code\",\n",
    "                    color=\"Individuals using the Internet (% of population)\", # column by which to color-code\n",
    "                    hover_name=\"Country\", # column to display in hover information \n",
    "                    color_continuous_scale=px.colors.sequential.Plasma)\n",
    "fig.update_layout(\n",
    "    # add a title text for the plot\n",
    "    title_text = 'Internet usage across the Europe Continent (% population) - 2016',\n",
    "    geo_scope = '...' # can be set to north america | south america | africa | asia | europe | usa\n",
    ")\n",
    "fig.show()"
   ]
  },
  {
   "cell_type": "markdown",
   "metadata": {},
   "source": [
    "Para darle al mapa una proyección más realista y permitir que se vea como un globo terráqueo, podemos configurar el tipo de proyección a **`natural earth`** utilizando el parámetro **`projection_type`** en la función **`update_layout()`**. Esto nos permitirá visualizar el mapa con una proyección más natural (ver [layout-geo-projection-type](https://plotly.com/python/reference/layout/geo/#layout-geo-projection-type)), lo que hace que el gráfico pueda rotarse de manera similar a un globo real.\n",
    "\n",
    "El siguiente código demuestra cómo establecer la proyección del mapa en **Natural Earth**:\n"
   ]
  },
  {
   "cell_type": "code",
   "execution_count": null,
   "metadata": {},
   "outputs": [],
   "source": [
    "fig = px.choropleth(\n",
    "    ...,  # DataFrame con los datos de uso de Internet en 2016\n",
    "    locations=\"Code\",  # Columna con los códigos ISO 3166 de los países\n",
    "    color=\"Individuals using the Internet (% of population)\",  # Columna para colorear el mapa según el porcentaje de usuarios de Internet\n",
    "    hover_name=\"Country\",  # Columna para mostrar el nombre del país al pasar el cursor\n",
    "    color_continuous_scale=px.colors.sequential.Plasma  # Esquema de color continuo 'Plasma'\n",
    ")\n",
    "\n",
    "fig.update_layout(\n",
    "    # Añadir un título para el gráfico\n",
    "    title_text='Internet usage across the world (% population)',\n",
    "    # Establecer el estilo de proyección del mapa\n",
    "    geo=# TU CODIGO  # Establecer proyección tipo 'natural earth' (por defecto es 'equirectangular')\n",
    ")\n",
    "\n",
    "# Mostrar el gráfico\n",
    "fig.show()\n"
   ]
  },
  {
   "cell_type": "markdown",
   "metadata": {},
   "source": [
    "### **Añadiendo animación a un mapa coroplético**"
   ]
  },
  {
   "cell_type": "markdown",
   "metadata": {},
   "source": [
    "A continuación, añadiremos un componente deslizante al mapa para ver los registros en diferentes puntos temporales"
   ]
  },
  {
   "cell_type": "code",
   "execution_count": null,
   "metadata": {},
   "outputs": [],
   "source": [
    "# Ordenar las fechas\n",
    "df_owd.sort_values(by=[\"Year\"],inplace=True)\n",
    "\n",
    "fig = px.choropleth(\n",
    "    df_owd,  # DataFrame con los datos de uso de Internet\n",
    "    locations=\"Code\",  # Columna con los códigos ISO 3166 de los países\n",
    "    color=\"Individuals using the Internet (% of population)\",  # Columna que define la coloración según el porcentaje de usuarios de Internet\n",
    "    hover_name=\"Country\",  # Columna para mostrar el nombre del país al pasar el cursor\n",
    "    animation_frame=\"# TU CODIGO\",  # Columna para animar el gráfico a lo largo del tiempo (por año)\n",
    "    color_continuous_scale=px.colors.sequential.Plasma  # Esquema de color continuo 'Plasma'\n",
    ")\n",
    " \n",
    "fig.update_layout(\n",
    "    # Añadir un título al gráfico\n",
    "    title_text='Internet usage across the world (% population)',\n",
    "    # Establecer el estilo de proyección del mapa\n",
    "    geo=dict(projection={'type':'natural earth'})  # Establecer proyección 'natural earth' (por defecto es 'equirectangular')\n",
    ")\n",
    "\n",
    "# Mostrar el gráfico animado\n",
    "fig.show()\n",
    "\n"
   ]
  },
  {
   "cell_type": "markdown",
   "metadata": {},
   "source": [
    "### **Mapas coropléticos con `graph_objects`**\n",
    "\n",
    "**`graph_objects`** es una parte avanzada de la biblioteca `Plotly` que permite un mayor control y personalización sobre los gráficos. Al crear mapas coropléticos con graph_objects, puedes definir manualmente cada aspecto del gráfico, desde la estructura de los datos hasta las características visuales, como los colores, las etiquetas y la proyección del mapa.\n",
    "\n",
    "Esto ofrece más flexibilidad que **`px.choropleth`**, lo que resulta útil cuando necesitas una personalización detallada, como ajustar propiedades específicas de los datos, personalizar interacciones o modificar configuraciones visuales avanzadas. Sin embargo, requiere más código que las opciones más sencillas de `plotly.express`. Hagamos el siguiente ejemplo:"
   ]
  },
  {
   "cell_type": "markdown",
   "metadata": {},
   "source": [
    "1. Vamos a utilizar un conjunto de datos sobre la **población de los Estados Unidos** para crear un mapa coroplético que muestre la distribución de la población en los distintos estados. Primero, modificaremos el conjunto de datos para asegurarnos de que se ajuste a nuestras necesidades, y luego trazaremos un mapa coroplético que represente visualmente la población en todo el país. Finalmente, ajustaremos el diseño del mapa para resaltar de manera clara y efectiva la población de los Estados Unidos por estado."
   ]
  },
  {
   "cell_type": "code",
   "execution_count": null,
   "metadata": {},
   "outputs": [],
   "source": [
    "# Importemos los datos\n",
    "filename = 'C:/Users/cdeor/OneDrive/Documentos/MachineLearningDipSerfinanzas/jbook_ml202430/docs/_data/dataviz/us_state_population.tsv'\n",
    "df_pob = pd.read_csv(filename, sep='\\t')\n",
    "df_pob.head()"
   ]
  },
  {
   "cell_type": "markdown",
   "metadata": {},
   "source": [
    "2. Utilice la función `melt` para convertir los datos al formato deseado"
   ]
  },
  {
   "cell_type": "code",
   "execution_count": null,
   "metadata": {},
   "outputs": [],
   "source": [
    "df_pob = pd.melt(df_pob, id_vars=['State', 'Code'], var_name=\"Year\", value_name=\"Population\")\n",
    "df_pob.head()"
   ]
  },
  {
   "cell_type": "markdown",
   "metadata": {},
   "source": [
    "3.  Importar el módulo `graph_objects`"
   ]
  },
  {
   "cell_type": "code",
   "execution_count": 355,
   "metadata": {},
   "outputs": [],
   "source": [
    "import plotly.graph_objects as go"
   ]
  },
  {
   "cell_type": "markdown",
   "metadata": {},
   "source": [
    "Inicializaremos la figura utilizando la función `Figure` de `graph_objects`. En particular, el argumento data debe contener una instancia de la clase `Choropleth`, que nos permitirá definir los parámetros clave para generar el mapa coroplético.\n",
    "\n",
    "Los parámetros principales son:\n",
    "\n",
    "* `locations`: Define la columna del DataFrame que contiene los códigos o nombres de los estados que se representarán en el mapa.\n",
    "* `z`: Se establece en la columna que contiene la variable numérica que queremos representar en el mapa, la cual será codificada por colores.\n",
    "* `locationmode`: Este parámetro se ajusta a `USA-states` para indicar que el mapa debe mostrar los estados de EE. UU.\n",
    "* `colorscale`: Se selecciona un esquema de colores predefinido, como `Blues`, `Reds` o `Greens`, para representar las variaciones en los valores de la característica numérica. Puedes consultar más opciones en la [documentación oficial de Plotly](https://plotly.com/python/builtin-colorscales/).\n",
    "* `colorbar_title`: Define el título de la barra de colores que aparecerá a la derecha del gráfico, indicando cómo los colores se corresponden con los valores numéricos."
   ]
  },
  {
   "cell_type": "code",
   "execution_count": null,
   "metadata": {},
   "outputs": [],
   "source": [
    "# Inicializar la figura\n",
    "fig = go.Figure(\n",
    "    data=go.Choropleth(\n",
    "        locations=# TU CODIGO,  # Columna con los códigos de los estados de EE. UU.\n",
    "        z=# TU CODIGO,  # Columna con los datos de población para codificar por colores\n",
    "        locationmode='USA-states',  # Definir que las ubicaciones corresponden a los estados de EE. UU.\n",
    "        colorscale='Blues',  # Esquema de colores para representar los valores\n",
    "        colorbar_title=\"Población\"  # Título de la barra de colores (población)\n",
    "    )\n",
    ")\n",
    "\n",
    "# Actualizar el diseño\n",
    "fig.update_layout(\n",
    "    title_text='Población de los EE. UU. por estados',  # Título del gráfico\n",
    "    geo_scope='usa'  # Limitar el mapa al territorio de los EE. UU.\n",
    ")\n",
    "\n",
    "# Mostrar la figura\n",
    "fig.show()\n"
   ]
  },
  {
   "cell_type": "markdown",
   "metadata": {},
   "source": [
    "Ahora, podemos visualizar un gráfico que represente la **cantidad de hectáreas por departamento**, para el caso de **Colombia**. Para sus proyectos de investigación es necesario que obtengan el archivo `Colombia.geo.json` con la información que se requiere."
   ]
  },
  {
   "cell_type": "markdown",
   "metadata": {},
   "source": [
    "1. Carguemos los paquetes"
   ]
  },
  {
   "cell_type": "code",
   "execution_count": 357,
   "metadata": {},
   "outputs": [],
   "source": [
    "import plotly.graph_objects as go\n",
    "import json"
   ]
  },
  {
   "cell_type": "markdown",
   "metadata": {},
   "source": [
    "2. Carguemos el GeoJSON"
   ]
  },
  {
   "cell_type": "code",
   "execution_count": 358,
   "metadata": {},
   "outputs": [],
   "source": [
    "# Cargar el archivo GeoJSON desde la ruta local\n",
    "geojson_path = r'C:/Users/cdeor/OneDrive/Documentos/MachineLearningDipSerfinanzas/jbook_ml202430/docs/_data/dataviz/Colombia.geo.json'\n",
    "\n",
    "with open(geojson_path, 'r', encoding='utf-8') as response:  # Abrir el archivo local\n",
    "    counties = json.load(response)"
   ]
  },
  {
   "cell_type": "markdown",
   "metadata": {},
   "source": [
    "3. Almacenemos en una lista los deptos y las hectarias"
   ]
  },
  {
   "cell_type": "code",
   "execution_count": 359,
   "metadata": {},
   "outputs": [],
   "source": [
    "locs = []  # Lista para almacenar los nombres de los departamentos\n",
    "z_id = []  # Lista para almacenar los valores de hectáreas\n",
    "\n",
    "# Recorrer los features del GeoJSON\n",
    "for loc in counties['features']:\n",
    "    loc['id'] = loc['properties']['NOMBRE_DPT']  # Asignar el nombre del departamento como ID\n",
    "    locs.append(loc['properties']['NOMBRE_DPT'])  # Agregar el nombre del departamento a locs\n",
    "    z_id.append(loc['properties']['HECTARES'])  # Agregar el valor de hectáreas a z_id"
   ]
  },
  {
   "cell_type": "markdown",
   "metadata": {},
   "source": [
    "4. Creamos el mapa coroplético de Colombia"
   ]
  },
  {
   "cell_type": "code",
   "execution_count": null,
   "metadata": {},
   "outputs": [],
   "source": [
    "# Crear el mapa coroplético\n",
    "fig = go.Figure(go.Choroplethmapbox(\n",
    "                    geojson=# TU CODIGO,\n",
    "                    locations=locs,\n",
    "                    z=z_id,\n",
    "                    colorscale='Viridis',  # Esquema de colores Viridis\n",
    "                    colorbar_title=\"Hectáreas\"  # Título de la barra de color\n",
    "                ))\n",
    "\n",
    "# Actualizar el layout del mapa\n",
    "fig.update_layout(\n",
    "    mapbox_style=\"open-street-map\",  # Usar el estilo de mapa de Open Street Map\n",
    "    mapbox_zoom=3.78,  # Zoom en el mapa\n",
    "    mapbox_center={\"lat\": 4.570868, \"lon\": -74.2973328}  # Centrar el mapa en Colombia\n",
    ")\n",
    "\n",
    "# Mostrar el gráfico\n",
    "fig.show()\n"
   ]
  },
  {
   "cell_type": "markdown",
   "metadata": {},
   "source": [
    "Ahora, solo Colombia"
   ]
  },
  {
   "cell_type": "code",
   "execution_count": null,
   "metadata": {},
   "outputs": [],
   "source": [
    "fig = go.Figure(go.Choroplethmapbox(\n",
    "                    geojson=# TU CODIGO,  # GeoJSON con la geometría de los departamentos\n",
    "                    locations=locs,  # Nombres de los departamentos\n",
    "                    z=z_id,  # Valores (hectáreas) para colorear el mapa\n",
    "                    colorscale='Viridis',  # Esquema de colores 'Viridis'\n",
    "                    colorbar_title=\"Hectáreas\"  # Título de la barra de color\n",
    "                ))\n",
    "\n",
    "fig.update_layout(\n",
    "    mapbox_style=\"white-bg\",  # Estilo del mapa de fondo (blanco)\n",
    "    mapbox_zoom=3.78,  # Nivel de zoom del mapa\n",
    "    mapbox_center={\"lat\": 4.570868, \"lon\": -74.2973328}  # Centrar el mapa en la latitud/longitud de Colombia\n",
    ")\n",
    "\n",
    "fig.show()  # Mostrar el gráfico\n"
   ]
  },
  {
   "cell_type": "markdown",
   "metadata": {},
   "source": [
    "### **Construcción de un gráfico de gispersión en un mapa geográfico**\n",
    "\n",
    "Vamos a trazar las ubicaciones de las tiendas **Walmart** en un mapa de los Estados Unidos, utilizando un conjunto de datos disponible públicamente sobre las aperturas de tiendas Walmart entre 1962 y 2006. Este ejemplo nos permitirá ver la ubicación exacta de las tiendas Walmart, y utilizaremos las coordenadas de latitud y longitud para representarlas en un gráfico de dispersión."
   ]
  },
  {
   "cell_type": "code",
   "execution_count": null,
   "metadata": {},
   "outputs": [],
   "source": [
    "import plotly.graph_objects as go\n",
    "import pandas as pd\n",
    "\n",
    "# Leer los datos de ubicaciones de Walmart desde la URL\n",
    "filename = \"C:/Users/cdeor/OneDrive/Documentos/MachineLearningDipSerfinanzas/jbook_ml202430/docs/_data/dataviz/1962_2006_walmart_store_openings.csv\"\n",
    "df_walm = pd.read_csv(filename)\n",
    "\n",
    "# Crear el gráfico de dispersión\n",
    "fig = go.Figure(data=go.Scattergeo(\n",
    "    lon=# TU CODIGO,  # Columna de longitudes\n",
    "    lat=# TU CODIGO,  # Columna de latitudes\n",
    "    text=d# TU CODIGO,  # Información que aparece al pasar el cursor (dirección de las tiendas)\n",
    "    mode='markers'  # Usar marcadores para las ubicaciones\n",
    "))\n",
    "\n",
    "# Configurar el diseño del mapa\n",
    "fig.update_layout(\n",
    "    title='Tiendas Walmart en los EE.UU.',\n",
    "    geo_scope='usa'  # Limitar el mapa a los EE.UU.\n",
    ")\n",
    "\n",
    "# Mostrar el gráfico\n",
    "fig.show()\n"
   ]
  },
  {
   "cell_type": "markdown",
   "metadata": {},
   "source": [
    "Este código genera un gráfico de dispersión que muestra las ubicaciones de las tiendas Walmart en los Estados Unidos. Las ubicaciones se representan con marcadores, y la información de la dirección aparece al pasar el cursor sobre los puntos."
   ]
  },
  {
   "cell_type": "markdown",
   "metadata": {},
   "source": [
    "### **Construcción de un gráfico de burbujas en un mapa geográfico**\n",
    "\n",
    "Dado que hay muchas tiendas **Walmart** en el este de EE. UU., puede ser útil visualizar el número de tiendas Walmart por estado utilizando un gráfico de burbujas. En este tipo de gráfico, el tamaño de cada burbuja representa **el número de tiendas en cada estado**."
   ]
  },
  {
   "cell_type": "code",
   "execution_count": null,
   "metadata": {},
   "outputs": [],
   "source": [
    "import plotly.express as px\n",
    "\n",
    "# Calcular el número de tiendas por estado\n",
    "walmart_stores_by_state = df_walm.groupby('STRSTATE').count()['storenum'].reset_index().rename(columns={'storenum': 'NUM_STORES'})\n",
    "\n",
    "# Crear el gráfico de burbujas\n",
    "fig = px.scatter_geo(walmart_stores_by_state,\n",
    "                     locations=\"# TU CODIGO\",  # Columna con los códigos de estado\n",
    "                     size=\"# TU CODIGO\",  # Tamaño de las burbujas según el número de tiendas\n",
    "                     locationmode='USA-states',\n",
    "                     hover_name=\"STRSTATE\",  # Mostrar el código del estado al pasar el cursor\n",
    "                     size_max=45)\n",
    "\n",
    "# Configurar el diseño del mapa\n",
    "fig.update_layout(\n",
    "    title_text='Tiendas Walmart en los EE.UU. por estado',\n",
    "    geo_scope='usa'  # Limitar el mapa a los EE.UU.\n",
    ")\n",
    "\n",
    "# Mostrar el gráfico\n",
    "fig.show()\n"
   ]
  },
  {
   "cell_type": "markdown",
   "metadata": {},
   "source": [
    "Este código genera un gráfico de burbujas donde el tamaño de cada burbuja representa el número de tiendas Walmart en cada estado de los EE.UU. Los estados con más tiendas tendrán burbujas más grandes."
   ]
  },
  {
   "cell_type": "markdown",
   "metadata": {},
   "source": [
    "Ahora, realizaremos el gráfico de burbujas para usuarios de internet a nivel mundial. Otra aplicación útil de los gráficos de burbujas es visualizar el **número de usuarios de Internet por país**. Utilizaremos un conjunto de datos sobre los usuarios de Internet en todo el mundo y generaremos un gráfico de burbujas que muestre el número de usuarios en cada país."
   ]
  },
  {
   "cell_type": "code",
   "execution_count": null,
   "metadata": {},
   "outputs": [],
   "source": [
    "# Leer los datos de usuarios de Internet por país\n",
    "filename = \"C:/Users/cdeor/OneDrive/Documentos/MachineLearningDipSerfinanzas/jbook_ml202430/docs/_data/dataviz/number-of-internet-users-by-country.csv\"\n",
    "df_int = pd.read_csv(filename)\n",
    "\n",
    "# Filtrar los datos para el año 2016\n",
    "df_int_2016 = df_int.query(\"Year==2016\")\n",
    "\n",
    "# Crear el gráfico de burbujas\n",
    "fig = px.scatter_geo(df_int_2016,\n",
    "                     locations=\"Code\",  # Columna con los códigos de país\n",
    "                     size=\"Number of internet users (users)\",  # Tamaño de las burbujas según el número de usuarios\n",
    "                     hover_name=\"Country\",  # Mostrar el nombre del país al pasar el cursor\n",
    "                     size_max=80,  # Máximo tamaño de las burbujas\n",
    "                     color_continuous_scale=px.colors.sequential.Plasma)\n",
    "\n",
    "# Configurar el diseño del mapa\n",
    "fig.update_layout(\n",
    "    title_text='Usuarios de Internet en el mundo - 2016',\n",
    "    geo=dict(projection={'type': 'natural earth'})  # Usar la proyección 'natural earth'\n",
    ")\n",
    "\n",
    "# Mostrar el gráfico\n",
    "fig.show()\n"
   ]
  },
  {
   "cell_type": "markdown",
   "metadata": {},
   "source": [
    "Este gráfico de burbujas muestra la cantidad de usuarios de Internet por país en 2016. Las burbujas más grandes indican una mayor cantidad de usuarios."
   ]
  },
  {
   "cell_type": "markdown",
   "metadata": {},
   "source": [
    "### **Construcción de un gráfico de burbujas con animación del crecimiento de usuarios de internet**\n",
    "\n",
    "Podemos añadir animación para visualizar cómo ha crecido el número de usuarios de Internet en diferentes países a lo largo de los años."
   ]
  },
  {
   "cell_type": "code",
   "execution_count": 365,
   "metadata": {},
   "outputs": [
    {
     "data": {
      "text/html": [
       "<div>                            <div id=\"0cb574b8-e27c-411b-9cb3-1b9d86e3a3bb\" class=\"plotly-graph-div\" style=\"height:525px; width:100%;\"></div>            <script type=\"text/javascript\">                require([\"plotly\"], function(Plotly) {                    window.PLOTLYENV=window.PLOTLYENV || {};                                    if (document.getElementById(\"0cb574b8-e27c-411b-9cb3-1b9d86e3a3bb\")) {                    Plotly.newPlot(                        \"0cb574b8-e27c-411b-9cb3-1b9d86e3a3bb\",                        [{\"geo\":\"geo\",\"hovertemplate\":\"\\u003cb\\u003e%{hovertext}\\u003c\\u002fb\\u003e\\u003cbr\\u003e\\u003cbr\\u003eYear=1990\\u003cbr\\u003eNumber of internet users (users)=%{marker.size}\\u003cbr\\u003eCode=%{location}\\u003cextra\\u003e\\u003c\\u002fextra\\u003e\",\"hovertext\":[\"Afghanistan\",\"Albania\",\"Algeria\",\"Angola\",\"Antigua and Barbuda\",\"Argentina\",\"Armenia\",\"Aruba\",\"Australia\",\"Austria\",\"Azerbaijan\",\"Bahamas\",\"Bahrain\",\"Bangladesh\",\"Barbados\",\"Belarus\",\"Belgium\",\"Belize\",\"Benin\",\"Bhutan\",\"Bolivia\",\"Bosnia and Herzegovina\",\"Botswana\",\"Brazil\",\"Brunei\",\"Bulgaria\",\"Burkina Faso\",\"Burundi\",\"Cambodia\",\"Cameroon\",\"Canada\",\"Cape Verde\",\"Central African Republic\",\"Chad\",\"Chile\",\"China\",\"Colombia\",\"Comoros\",\"Congo\",\"Costa Rica\",\"Cote d'Ivoire\",\"Croatia\",\"Cuba\",\"Cyprus\",\"Czech Republic\",\"Democratic Republic of Congo\",\"Denmark\",\"Djibouti\",\"Dominican Republic\",\"Ecuador\",\"Egypt\",\"El Salvador\",\"Equatorial Guinea\",\"Eritrea\",\"Estonia\",\"Ethiopia\",\"Fiji\",\"Finland\",\"France\",\"French Polynesia\",\"Gabon\",\"Gambia\",\"Georgia\",\"Germany\",\"Ghana\",\"Greece\",\"Grenada\",\"Guam\",\"Guatemala\",\"Guinea\",\"Guinea-Bissau\",\"Guyana\",\"Haiti\",\"Honduras\",\"Hong Kong\",\"Hungary\",\"Iceland\",\"India\",\"Indonesia\",\"Iran\",\"Iraq\",\"Ireland\",\"Israel\",\"Italy\",\"Jamaica\",\"Japan\",\"Jordan\",\"Kazakhstan\",\"Kenya\",\"Kiribati\",\"Kuwait\",\"Kyrgyzstan\",\"Laos\",\"Latvia\",\"Lebanon\",\"Lesotho\",\"Liberia\",\"Libya\",\"Lithuania\",\"Luxembourg\",\"Macao\",\"Macedonia\",\"Madagascar\",\"Malawi\",\"Malaysia\",\"Maldives\",\"Mali\",\"Malta\",\"Mauritania\",\"Mauritius\",\"Mexico\",\"Micronesia (country)\",\"Moldova\",\"Mongolia\",\"Morocco\",\"Mozambique\",\"Myanmar\",\"Namibia\",\"Nepal\",\"Netherlands\",\"New Caledonia\",\"New Zealand\",\"Nicaragua\",\"Niger\",\"Nigeria\",\"North Korea\",\"Norway\",\"Oman\",\"Pakistan\",\"Palestine\",\"Panama\",\"Papua New Guinea\",\"Paraguay\",\"Peru\",\"Philippines\",\"Poland\",\"Portugal\",\"Puerto Rico\",\"Qatar\",\"Romania\",\"Russia\",\"Rwanda\",\"Saint Lucia\",\"Saint Vincent and the Grenadines\",\"Samoa\",\"Sao Tome and Principe\",\"Saudi Arabia\",\"Senegal\",\"Seychelles\",\"Sierra Leone\",\"Singapore\",\"Slovakia\",\"Slovenia\",\"Solomon Islands\",\"Somalia\",\"South Africa\",\"South Korea\",\"Spain\",\"Sri Lanka\",\"Sub-Saharan Africa\",\"Sudan\",\"Suriname\",\"Swaziland\",\"Sweden\",\"Switzerland\",\"Tajikistan\",\"Tanzania\",\"Thailand\",\"Timor\",\"Togo\",\"Tonga\",\"Trinidad and Tobago\",\"Tunisia\",\"Turkey\",\"Turkmenistan\",\"Uganda\",\"Ukraine\",\"United Arab Emirates\",\"United Kingdom\",\"United States\",\"United States Virgin Islands\",\"Uruguay\",\"Uzbekistan\",\"Vanuatu\",\"Venezuela\",\"Vietnam\",\"World\",\"Yemen\",\"Zambia\",\"Zimbabwe\"],\"legendgroup\":\"\",\"locations\":[\"AFG\",\"ALB\",\"DZA\",\"AGO\",\"ATG\",\"ARG\",\"ARM\",\"ABW\",\"AUS\",\"AUT\",\"AZE\",\"BHS\",\"BHR\",\"BGD\",\"BRB\",\"BLR\",\"BEL\",\"BLZ\",\"BEN\",\"BTN\",\"BOL\",\"BIH\",\"BWA\",\"BRA\",\"BRN\",\"BGR\",\"BFA\",\"BDI\",\"KHM\",\"CMR\",\"CAN\",\"CPV\",\"CAF\",\"TCD\",\"CHL\",\"CHN\",\"COL\",\"COM\",\"COG\",\"CRI\",\"CIV\",\"HRV\",\"CUB\",\"CYP\",\"CZE\",\"COD\",\"DNK\",\"DJI\",\"DOM\",\"ECU\",\"EGY\",\"SLV\",\"GNQ\",\"ERI\",\"EST\",\"ETH\",\"FJI\",\"FIN\",\"FRA\",\"PYF\",\"GAB\",\"GMB\",\"GEO\",\"DEU\",\"GHA\",\"GRC\",\"GRD\",\"GUM\",\"GTM\",\"GIN\",\"GNB\",\"GUY\",\"HTI\",\"HND\",\"HKG\",\"HUN\",\"ISL\",\"IND\",\"IDN\",\"IRN\",\"IRQ\",\"IRL\",\"ISR\",\"ITA\",\"JAM\",\"JPN\",\"JOR\",\"KAZ\",\"KEN\",\"KIR\",\"KWT\",\"KGZ\",\"LAO\",\"LVA\",\"LBN\",\"LSO\",\"LBR\",\"LBY\",\"LTU\",\"LUX\",\"MAC\",\"MKD\",\"MDG\",\"MWI\",\"MYS\",\"MDV\",\"MLI\",\"MLT\",\"MRT\",\"MUS\",\"MEX\",\"FSM\",\"MDA\",\"MNG\",\"MAR\",\"MOZ\",\"MMR\",\"NAM\",\"NPL\",\"NLD\",\"NCL\",\"NZL\",\"NIC\",\"NER\",\"NGA\",\"PRK\",\"NOR\",\"OMN\",\"PAK\",\"PSE\",\"PAN\",\"PNG\",\"PRY\",\"PER\",\"PHL\",\"POL\",\"PRT\",\"PRI\",\"QAT\",\"ROU\",\"RUS\",\"RWA\",\"LCA\",\"VCT\",\"WSM\",\"STP\",\"SAU\",\"SEN\",\"SYC\",\"SLE\",\"SGP\",\"SVK\",\"SVN\",\"SLB\",\"SOM\",\"ZAF\",\"KOR\",\"ESP\",\"LKA\",null,\"SDN\",\"SUR\",\"SWZ\",\"SWE\",\"CHE\",\"TJK\",\"TZA\",\"THA\",\"TLS\",\"TGO\",\"TON\",\"TTO\",\"TUN\",\"TUR\",\"TKM\",\"UGA\",\"UKR\",\"ARE\",\"GBR\",\"USA\",\"VIR\",\"URY\",\"UZB\",\"VUT\",\"VEN\",\"VNM\",\"OWID_WRL\",\"YEM\",\"ZMB\",\"ZWE\"],\"marker\":{\"color\":\"#636efa\",\"size\":[0,0,0,0,0,0,0,0,99709,10070,0,0,0,0,0,0,101,0,0,0,0,0,0,0,0,0,0,0,0,0,99970,0,0,0,0,0,0,0,0,0,0,0,0,0,0,0,5001,0,0,0,0,0,0,0,0,0,0,20039,30063,0,0,0,0,99604,0,0,0,0,0,0,0,0,0,0,0,0,0,0,0,0,0,0,4985,10023,0,25269,0,0,0,0,0,0,0,0,0,0,0,0,0,0,0,0,0,0,0,0,0,0,0,0,0,0,0,0,0,0,0,0,0,50043,0,0,0,0,0,0,30041,0,0,0,0,0,0,0,0,0,0,0,0,0,0,0,0,0,0,0,0,0,0,0,0,0,0,0,0,0,9986,5060,0,0,0,0,0,50050,39763,0,0,0,0,0,0,0,0,0,0,0,0,0,49953,1981674,0,0,0,0,0,0,2630452,0,0,0],\"sizemode\":\"area\",\"sizeref\":534280.94703125,\"symbol\":\"circle\"},\"mode\":\"markers\",\"name\":\"\",\"showlegend\":false,\"type\":\"scattergeo\"}],                        {\"template\":{\"data\":{\"histogram2dcontour\":[{\"type\":\"histogram2dcontour\",\"colorbar\":{\"outlinewidth\":0,\"ticks\":\"\"},\"colorscale\":[[0.0,\"#0d0887\"],[0.1111111111111111,\"#46039f\"],[0.2222222222222222,\"#7201a8\"],[0.3333333333333333,\"#9c179e\"],[0.4444444444444444,\"#bd3786\"],[0.5555555555555556,\"#d8576b\"],[0.6666666666666666,\"#ed7953\"],[0.7777777777777778,\"#fb9f3a\"],[0.8888888888888888,\"#fdca26\"],[1.0,\"#f0f921\"]]}],\"choropleth\":[{\"type\":\"choropleth\",\"colorbar\":{\"outlinewidth\":0,\"ticks\":\"\"}}],\"histogram2d\":[{\"type\":\"histogram2d\",\"colorbar\":{\"outlinewidth\":0,\"ticks\":\"\"},\"colorscale\":[[0.0,\"#0d0887\"],[0.1111111111111111,\"#46039f\"],[0.2222222222222222,\"#7201a8\"],[0.3333333333333333,\"#9c179e\"],[0.4444444444444444,\"#bd3786\"],[0.5555555555555556,\"#d8576b\"],[0.6666666666666666,\"#ed7953\"],[0.7777777777777778,\"#fb9f3a\"],[0.8888888888888888,\"#fdca26\"],[1.0,\"#f0f921\"]]}],\"heatmap\":[{\"type\":\"heatmap\",\"colorbar\":{\"outlinewidth\":0,\"ticks\":\"\"},\"colorscale\":[[0.0,\"#0d0887\"],[0.1111111111111111,\"#46039f\"],[0.2222222222222222,\"#7201a8\"],[0.3333333333333333,\"#9c179e\"],[0.4444444444444444,\"#bd3786\"],[0.5555555555555556,\"#d8576b\"],[0.6666666666666666,\"#ed7953\"],[0.7777777777777778,\"#fb9f3a\"],[0.8888888888888888,\"#fdca26\"],[1.0,\"#f0f921\"]]}],\"heatmapgl\":[{\"type\":\"heatmapgl\",\"colorbar\":{\"outlinewidth\":0,\"ticks\":\"\"},\"colorscale\":[[0.0,\"#0d0887\"],[0.1111111111111111,\"#46039f\"],[0.2222222222222222,\"#7201a8\"],[0.3333333333333333,\"#9c179e\"],[0.4444444444444444,\"#bd3786\"],[0.5555555555555556,\"#d8576b\"],[0.6666666666666666,\"#ed7953\"],[0.7777777777777778,\"#fb9f3a\"],[0.8888888888888888,\"#fdca26\"],[1.0,\"#f0f921\"]]}],\"contourcarpet\":[{\"type\":\"contourcarpet\",\"colorbar\":{\"outlinewidth\":0,\"ticks\":\"\"}}],\"contour\":[{\"type\":\"contour\",\"colorbar\":{\"outlinewidth\":0,\"ticks\":\"\"},\"colorscale\":[[0.0,\"#0d0887\"],[0.1111111111111111,\"#46039f\"],[0.2222222222222222,\"#7201a8\"],[0.3333333333333333,\"#9c179e\"],[0.4444444444444444,\"#bd3786\"],[0.5555555555555556,\"#d8576b\"],[0.6666666666666666,\"#ed7953\"],[0.7777777777777778,\"#fb9f3a\"],[0.8888888888888888,\"#fdca26\"],[1.0,\"#f0f921\"]]}],\"surface\":[{\"type\":\"surface\",\"colorbar\":{\"outlinewidth\":0,\"ticks\":\"\"},\"colorscale\":[[0.0,\"#0d0887\"],[0.1111111111111111,\"#46039f\"],[0.2222222222222222,\"#7201a8\"],[0.3333333333333333,\"#9c179e\"],[0.4444444444444444,\"#bd3786\"],[0.5555555555555556,\"#d8576b\"],[0.6666666666666666,\"#ed7953\"],[0.7777777777777778,\"#fb9f3a\"],[0.8888888888888888,\"#fdca26\"],[1.0,\"#f0f921\"]]}],\"mesh3d\":[{\"type\":\"mesh3d\",\"colorbar\":{\"outlinewidth\":0,\"ticks\":\"\"}}],\"scatter\":[{\"fillpattern\":{\"fillmode\":\"overlay\",\"size\":10,\"solidity\":0.2},\"type\":\"scatter\"}],\"parcoords\":[{\"type\":\"parcoords\",\"line\":{\"colorbar\":{\"outlinewidth\":0,\"ticks\":\"\"}}}],\"scatterpolargl\":[{\"type\":\"scatterpolargl\",\"marker\":{\"colorbar\":{\"outlinewidth\":0,\"ticks\":\"\"}}}],\"bar\":[{\"error_x\":{\"color\":\"#2a3f5f\"},\"error_y\":{\"color\":\"#2a3f5f\"},\"marker\":{\"line\":{\"color\":\"#E5ECF6\",\"width\":0.5},\"pattern\":{\"fillmode\":\"overlay\",\"size\":10,\"solidity\":0.2}},\"type\":\"bar\"}],\"scattergeo\":[{\"type\":\"scattergeo\",\"marker\":{\"colorbar\":{\"outlinewidth\":0,\"ticks\":\"\"}}}],\"scatterpolar\":[{\"type\":\"scatterpolar\",\"marker\":{\"colorbar\":{\"outlinewidth\":0,\"ticks\":\"\"}}}],\"histogram\":[{\"marker\":{\"pattern\":{\"fillmode\":\"overlay\",\"size\":10,\"solidity\":0.2}},\"type\":\"histogram\"}],\"scattergl\":[{\"type\":\"scattergl\",\"marker\":{\"colorbar\":{\"outlinewidth\":0,\"ticks\":\"\"}}}],\"scatter3d\":[{\"type\":\"scatter3d\",\"line\":{\"colorbar\":{\"outlinewidth\":0,\"ticks\":\"\"}},\"marker\":{\"colorbar\":{\"outlinewidth\":0,\"ticks\":\"\"}}}],\"scattermapbox\":[{\"type\":\"scattermapbox\",\"marker\":{\"colorbar\":{\"outlinewidth\":0,\"ticks\":\"\"}}}],\"scatterternary\":[{\"type\":\"scatterternary\",\"marker\":{\"colorbar\":{\"outlinewidth\":0,\"ticks\":\"\"}}}],\"scattercarpet\":[{\"type\":\"scattercarpet\",\"marker\":{\"colorbar\":{\"outlinewidth\":0,\"ticks\":\"\"}}}],\"carpet\":[{\"aaxis\":{\"endlinecolor\":\"#2a3f5f\",\"gridcolor\":\"white\",\"linecolor\":\"white\",\"minorgridcolor\":\"white\",\"startlinecolor\":\"#2a3f5f\"},\"baxis\":{\"endlinecolor\":\"#2a3f5f\",\"gridcolor\":\"white\",\"linecolor\":\"white\",\"minorgridcolor\":\"white\",\"startlinecolor\":\"#2a3f5f\"},\"type\":\"carpet\"}],\"table\":[{\"cells\":{\"fill\":{\"color\":\"#EBF0F8\"},\"line\":{\"color\":\"white\"}},\"header\":{\"fill\":{\"color\":\"#C8D4E3\"},\"line\":{\"color\":\"white\"}},\"type\":\"table\"}],\"barpolar\":[{\"marker\":{\"line\":{\"color\":\"#E5ECF6\",\"width\":0.5},\"pattern\":{\"fillmode\":\"overlay\",\"size\":10,\"solidity\":0.2}},\"type\":\"barpolar\"}],\"pie\":[{\"automargin\":true,\"type\":\"pie\"}]},\"layout\":{\"autotypenumbers\":\"strict\",\"colorway\":[\"#636efa\",\"#EF553B\",\"#00cc96\",\"#ab63fa\",\"#FFA15A\",\"#19d3f3\",\"#FF6692\",\"#B6E880\",\"#FF97FF\",\"#FECB52\"],\"font\":{\"color\":\"#2a3f5f\"},\"hovermode\":\"closest\",\"hoverlabel\":{\"align\":\"left\"},\"paper_bgcolor\":\"white\",\"plot_bgcolor\":\"#E5ECF6\",\"polar\":{\"bgcolor\":\"#E5ECF6\",\"angularaxis\":{\"gridcolor\":\"white\",\"linecolor\":\"white\",\"ticks\":\"\"},\"radialaxis\":{\"gridcolor\":\"white\",\"linecolor\":\"white\",\"ticks\":\"\"}},\"ternary\":{\"bgcolor\":\"#E5ECF6\",\"aaxis\":{\"gridcolor\":\"white\",\"linecolor\":\"white\",\"ticks\":\"\"},\"baxis\":{\"gridcolor\":\"white\",\"linecolor\":\"white\",\"ticks\":\"\"},\"caxis\":{\"gridcolor\":\"white\",\"linecolor\":\"white\",\"ticks\":\"\"}},\"coloraxis\":{\"colorbar\":{\"outlinewidth\":0,\"ticks\":\"\"}},\"colorscale\":{\"sequential\":[[0.0,\"#0d0887\"],[0.1111111111111111,\"#46039f\"],[0.2222222222222222,\"#7201a8\"],[0.3333333333333333,\"#9c179e\"],[0.4444444444444444,\"#bd3786\"],[0.5555555555555556,\"#d8576b\"],[0.6666666666666666,\"#ed7953\"],[0.7777777777777778,\"#fb9f3a\"],[0.8888888888888888,\"#fdca26\"],[1.0,\"#f0f921\"]],\"sequentialminus\":[[0.0,\"#0d0887\"],[0.1111111111111111,\"#46039f\"],[0.2222222222222222,\"#7201a8\"],[0.3333333333333333,\"#9c179e\"],[0.4444444444444444,\"#bd3786\"],[0.5555555555555556,\"#d8576b\"],[0.6666666666666666,\"#ed7953\"],[0.7777777777777778,\"#fb9f3a\"],[0.8888888888888888,\"#fdca26\"],[1.0,\"#f0f921\"]],\"diverging\":[[0,\"#8e0152\"],[0.1,\"#c51b7d\"],[0.2,\"#de77ae\"],[0.3,\"#f1b6da\"],[0.4,\"#fde0ef\"],[0.5,\"#f7f7f7\"],[0.6,\"#e6f5d0\"],[0.7,\"#b8e186\"],[0.8,\"#7fbc41\"],[0.9,\"#4d9221\"],[1,\"#276419\"]]},\"xaxis\":{\"gridcolor\":\"white\",\"linecolor\":\"white\",\"ticks\":\"\",\"title\":{\"standoff\":15},\"zerolinecolor\":\"white\",\"automargin\":true,\"zerolinewidth\":2},\"yaxis\":{\"gridcolor\":\"white\",\"linecolor\":\"white\",\"ticks\":\"\",\"title\":{\"standoff\":15},\"zerolinecolor\":\"white\",\"automargin\":true,\"zerolinewidth\":2},\"scene\":{\"xaxis\":{\"backgroundcolor\":\"#E5ECF6\",\"gridcolor\":\"white\",\"linecolor\":\"white\",\"showbackground\":true,\"ticks\":\"\",\"zerolinecolor\":\"white\",\"gridwidth\":2},\"yaxis\":{\"backgroundcolor\":\"#E5ECF6\",\"gridcolor\":\"white\",\"linecolor\":\"white\",\"showbackground\":true,\"ticks\":\"\",\"zerolinecolor\":\"white\",\"gridwidth\":2},\"zaxis\":{\"backgroundcolor\":\"#E5ECF6\",\"gridcolor\":\"white\",\"linecolor\":\"white\",\"showbackground\":true,\"ticks\":\"\",\"zerolinecolor\":\"white\",\"gridwidth\":2}},\"shapedefaults\":{\"line\":{\"color\":\"#2a3f5f\"}},\"annotationdefaults\":{\"arrowcolor\":\"#2a3f5f\",\"arrowhead\":0,\"arrowwidth\":1},\"geo\":{\"bgcolor\":\"white\",\"landcolor\":\"#E5ECF6\",\"subunitcolor\":\"white\",\"showland\":true,\"showlakes\":true,\"lakecolor\":\"white\"},\"title\":{\"x\":0.05},\"mapbox\":{\"style\":\"light\"}}},\"geo\":{\"domain\":{\"x\":[0.0,1.0],\"y\":[0.0,1.0]},\"center\":{},\"projection\":{\"type\":\"natural earth\"}},\"legend\":{\"tracegroupgap\":0,\"itemsizing\":\"constant\"},\"margin\":{\"t\":60},\"updatemenus\":[{\"buttons\":[{\"args\":[null,{\"frame\":{\"duration\":500,\"redraw\":true},\"mode\":\"immediate\",\"fromcurrent\":true,\"transition\":{\"duration\":500,\"easing\":\"linear\"}}],\"label\":\"&#9654;\",\"method\":\"animate\"},{\"args\":[[null],{\"frame\":{\"duration\":0,\"redraw\":true},\"mode\":\"immediate\",\"fromcurrent\":true,\"transition\":{\"duration\":0,\"easing\":\"linear\"}}],\"label\":\"&#9724;\",\"method\":\"animate\"}],\"direction\":\"left\",\"pad\":{\"r\":10,\"t\":70},\"showactive\":false,\"type\":\"buttons\",\"x\":0.1,\"xanchor\":\"right\",\"y\":0,\"yanchor\":\"top\"}],\"sliders\":[{\"active\":0,\"currentvalue\":{\"prefix\":\"Year=\"},\"len\":0.9,\"pad\":{\"b\":10,\"t\":60},\"steps\":[{\"args\":[[\"1990\"],{\"frame\":{\"duration\":0,\"redraw\":true},\"mode\":\"immediate\",\"fromcurrent\":true,\"transition\":{\"duration\":0,\"easing\":\"linear\"}}],\"label\":\"1990\",\"method\":\"animate\"},{\"args\":[[\"2001\"],{\"frame\":{\"duration\":0,\"redraw\":true},\"mode\":\"immediate\",\"fromcurrent\":true,\"transition\":{\"duration\":0,\"easing\":\"linear\"}}],\"label\":\"2001\",\"method\":\"animate\"},{\"args\":[[\"2002\"],{\"frame\":{\"duration\":0,\"redraw\":true},\"mode\":\"immediate\",\"fromcurrent\":true,\"transition\":{\"duration\":0,\"easing\":\"linear\"}}],\"label\":\"2002\",\"method\":\"animate\"},{\"args\":[[\"2003\"],{\"frame\":{\"duration\":0,\"redraw\":true},\"mode\":\"immediate\",\"fromcurrent\":true,\"transition\":{\"duration\":0,\"easing\":\"linear\"}}],\"label\":\"2003\",\"method\":\"animate\"},{\"args\":[[\"2004\"],{\"frame\":{\"duration\":0,\"redraw\":true},\"mode\":\"immediate\",\"fromcurrent\":true,\"transition\":{\"duration\":0,\"easing\":\"linear\"}}],\"label\":\"2004\",\"method\":\"animate\"},{\"args\":[[\"2005\"],{\"frame\":{\"duration\":0,\"redraw\":true},\"mode\":\"immediate\",\"fromcurrent\":true,\"transition\":{\"duration\":0,\"easing\":\"linear\"}}],\"label\":\"2005\",\"method\":\"animate\"},{\"args\":[[\"2006\"],{\"frame\":{\"duration\":0,\"redraw\":true},\"mode\":\"immediate\",\"fromcurrent\":true,\"transition\":{\"duration\":0,\"easing\":\"linear\"}}],\"label\":\"2006\",\"method\":\"animate\"},{\"args\":[[\"2007\"],{\"frame\":{\"duration\":0,\"redraw\":true},\"mode\":\"immediate\",\"fromcurrent\":true,\"transition\":{\"duration\":0,\"easing\":\"linear\"}}],\"label\":\"2007\",\"method\":\"animate\"},{\"args\":[[\"2008\"],{\"frame\":{\"duration\":0,\"redraw\":true},\"mode\":\"immediate\",\"fromcurrent\":true,\"transition\":{\"duration\":0,\"easing\":\"linear\"}}],\"label\":\"2008\",\"method\":\"animate\"},{\"args\":[[\"2009\"],{\"frame\":{\"duration\":0,\"redraw\":true},\"mode\":\"immediate\",\"fromcurrent\":true,\"transition\":{\"duration\":0,\"easing\":\"linear\"}}],\"label\":\"2009\",\"method\":\"animate\"},{\"args\":[[\"2010\"],{\"frame\":{\"duration\":0,\"redraw\":true},\"mode\":\"immediate\",\"fromcurrent\":true,\"transition\":{\"duration\":0,\"easing\":\"linear\"}}],\"label\":\"2010\",\"method\":\"animate\"},{\"args\":[[\"2011\"],{\"frame\":{\"duration\":0,\"redraw\":true},\"mode\":\"immediate\",\"fromcurrent\":true,\"transition\":{\"duration\":0,\"easing\":\"linear\"}}],\"label\":\"2011\",\"method\":\"animate\"},{\"args\":[[\"2012\"],{\"frame\":{\"duration\":0,\"redraw\":true},\"mode\":\"immediate\",\"fromcurrent\":true,\"transition\":{\"duration\":0,\"easing\":\"linear\"}}],\"label\":\"2012\",\"method\":\"animate\"},{\"args\":[[\"2013\"],{\"frame\":{\"duration\":0,\"redraw\":true},\"mode\":\"immediate\",\"fromcurrent\":true,\"transition\":{\"duration\":0,\"easing\":\"linear\"}}],\"label\":\"2013\",\"method\":\"animate\"},{\"args\":[[\"2014\"],{\"frame\":{\"duration\":0,\"redraw\":true},\"mode\":\"immediate\",\"fromcurrent\":true,\"transition\":{\"duration\":0,\"easing\":\"linear\"}}],\"label\":\"2014\",\"method\":\"animate\"},{\"args\":[[\"2015\"],{\"frame\":{\"duration\":0,\"redraw\":true},\"mode\":\"immediate\",\"fromcurrent\":true,\"transition\":{\"duration\":0,\"easing\":\"linear\"}}],\"label\":\"2015\",\"method\":\"animate\"},{\"args\":[[\"2016\"],{\"frame\":{\"duration\":0,\"redraw\":true},\"mode\":\"immediate\",\"fromcurrent\":true,\"transition\":{\"duration\":0,\"easing\":\"linear\"}}],\"label\":\"2016\",\"method\":\"animate\"},{\"args\":[[\"1995\"],{\"frame\":{\"duration\":0,\"redraw\":true},\"mode\":\"immediate\",\"fromcurrent\":true,\"transition\":{\"duration\":0,\"easing\":\"linear\"}}],\"label\":\"1995\",\"method\":\"animate\"},{\"args\":[[\"1996\"],{\"frame\":{\"duration\":0,\"redraw\":true},\"mode\":\"immediate\",\"fromcurrent\":true,\"transition\":{\"duration\":0,\"easing\":\"linear\"}}],\"label\":\"1996\",\"method\":\"animate\"},{\"args\":[[\"1997\"],{\"frame\":{\"duration\":0,\"redraw\":true},\"mode\":\"immediate\",\"fromcurrent\":true,\"transition\":{\"duration\":0,\"easing\":\"linear\"}}],\"label\":\"1997\",\"method\":\"animate\"},{\"args\":[[\"1998\"],{\"frame\":{\"duration\":0,\"redraw\":true},\"mode\":\"immediate\",\"fromcurrent\":true,\"transition\":{\"duration\":0,\"easing\":\"linear\"}}],\"label\":\"1998\",\"method\":\"animate\"},{\"args\":[[\"1999\"],{\"frame\":{\"duration\":0,\"redraw\":true},\"mode\":\"immediate\",\"fromcurrent\":true,\"transition\":{\"duration\":0,\"easing\":\"linear\"}}],\"label\":\"1999\",\"method\":\"animate\"},{\"args\":[[\"2000\"],{\"frame\":{\"duration\":0,\"redraw\":true},\"mode\":\"immediate\",\"fromcurrent\":true,\"transition\":{\"duration\":0,\"easing\":\"linear\"}}],\"label\":\"2000\",\"method\":\"animate\"},{\"args\":[[\"1994\"],{\"frame\":{\"duration\":0,\"redraw\":true},\"mode\":\"immediate\",\"fromcurrent\":true,\"transition\":{\"duration\":0,\"easing\":\"linear\"}}],\"label\":\"1994\",\"method\":\"animate\"},{\"args\":[[\"1992\"],{\"frame\":{\"duration\":0,\"redraw\":true},\"mode\":\"immediate\",\"fromcurrent\":true,\"transition\":{\"duration\":0,\"easing\":\"linear\"}}],\"label\":\"1992\",\"method\":\"animate\"},{\"args\":[[\"1993\"],{\"frame\":{\"duration\":0,\"redraw\":true},\"mode\":\"immediate\",\"fromcurrent\":true,\"transition\":{\"duration\":0,\"easing\":\"linear\"}}],\"label\":\"1993\",\"method\":\"animate\"},{\"args\":[[\"1991\"],{\"frame\":{\"duration\":0,\"redraw\":true},\"mode\":\"immediate\",\"fromcurrent\":true,\"transition\":{\"duration\":0,\"easing\":\"linear\"}}],\"label\":\"1991\",\"method\":\"animate\"},{\"args\":[[\"2017\"],{\"frame\":{\"duration\":0,\"redraw\":true},\"mode\":\"immediate\",\"fromcurrent\":true,\"transition\":{\"duration\":0,\"easing\":\"linear\"}}],\"label\":\"2017\",\"method\":\"animate\"}],\"x\":0.1,\"xanchor\":\"left\",\"y\":0,\"yanchor\":\"top\"}],\"title\":{\"text\":\"Usuarios de Internet en el mundo a lo largo de los a\\u00f1os\"}},                        {\"responsive\": true}                    ).then(function(){\n",
       "                            Plotly.addFrames('0cb574b8-e27c-411b-9cb3-1b9d86e3a3bb', [{\"data\":[{\"geo\":\"geo\",\"hovertemplate\":\"\\u003cb\\u003e%{hovertext}\\u003c\\u002fb\\u003e\\u003cbr\\u003e\\u003cbr\\u003eYear=1990\\u003cbr\\u003eNumber of internet users (users)=%{marker.size}\\u003cbr\\u003eCode=%{location}\\u003cextra\\u003e\\u003c\\u002fextra\\u003e\",\"hovertext\":[\"Afghanistan\",\"Albania\",\"Algeria\",\"Angola\",\"Antigua and Barbuda\",\"Argentina\",\"Armenia\",\"Aruba\",\"Australia\",\"Austria\",\"Azerbaijan\",\"Bahamas\",\"Bahrain\",\"Bangladesh\",\"Barbados\",\"Belarus\",\"Belgium\",\"Belize\",\"Benin\",\"Bhutan\",\"Bolivia\",\"Bosnia and Herzegovina\",\"Botswana\",\"Brazil\",\"Brunei\",\"Bulgaria\",\"Burkina Faso\",\"Burundi\",\"Cambodia\",\"Cameroon\",\"Canada\",\"Cape Verde\",\"Central African Republic\",\"Chad\",\"Chile\",\"China\",\"Colombia\",\"Comoros\",\"Congo\",\"Costa Rica\",\"Cote d'Ivoire\",\"Croatia\",\"Cuba\",\"Cyprus\",\"Czech Republic\",\"Democratic Republic of Congo\",\"Denmark\",\"Djibouti\",\"Dominican Republic\",\"Ecuador\",\"Egypt\",\"El Salvador\",\"Equatorial Guinea\",\"Eritrea\",\"Estonia\",\"Ethiopia\",\"Fiji\",\"Finland\",\"France\",\"French Polynesia\",\"Gabon\",\"Gambia\",\"Georgia\",\"Germany\",\"Ghana\",\"Greece\",\"Grenada\",\"Guam\",\"Guatemala\",\"Guinea\",\"Guinea-Bissau\",\"Guyana\",\"Haiti\",\"Honduras\",\"Hong Kong\",\"Hungary\",\"Iceland\",\"India\",\"Indonesia\",\"Iran\",\"Iraq\",\"Ireland\",\"Israel\",\"Italy\",\"Jamaica\",\"Japan\",\"Jordan\",\"Kazakhstan\",\"Kenya\",\"Kiribati\",\"Kuwait\",\"Kyrgyzstan\",\"Laos\",\"Latvia\",\"Lebanon\",\"Lesotho\",\"Liberia\",\"Libya\",\"Lithuania\",\"Luxembourg\",\"Macao\",\"Macedonia\",\"Madagascar\",\"Malawi\",\"Malaysia\",\"Maldives\",\"Mali\",\"Malta\",\"Mauritania\",\"Mauritius\",\"Mexico\",\"Micronesia (country)\",\"Moldova\",\"Mongolia\",\"Morocco\",\"Mozambique\",\"Myanmar\",\"Namibia\",\"Nepal\",\"Netherlands\",\"New Caledonia\",\"New Zealand\",\"Nicaragua\",\"Niger\",\"Nigeria\",\"North Korea\",\"Norway\",\"Oman\",\"Pakistan\",\"Palestine\",\"Panama\",\"Papua New Guinea\",\"Paraguay\",\"Peru\",\"Philippines\",\"Poland\",\"Portugal\",\"Puerto Rico\",\"Qatar\",\"Romania\",\"Russia\",\"Rwanda\",\"Saint Lucia\",\"Saint Vincent and the Grenadines\",\"Samoa\",\"Sao Tome and Principe\",\"Saudi Arabia\",\"Senegal\",\"Seychelles\",\"Sierra Leone\",\"Singapore\",\"Slovakia\",\"Slovenia\",\"Solomon Islands\",\"Somalia\",\"South Africa\",\"South Korea\",\"Spain\",\"Sri Lanka\",\"Sub-Saharan Africa\",\"Sudan\",\"Suriname\",\"Swaziland\",\"Sweden\",\"Switzerland\",\"Tajikistan\",\"Tanzania\",\"Thailand\",\"Timor\",\"Togo\",\"Tonga\",\"Trinidad and Tobago\",\"Tunisia\",\"Turkey\",\"Turkmenistan\",\"Uganda\",\"Ukraine\",\"United Arab Emirates\",\"United Kingdom\",\"United States\",\"United States Virgin Islands\",\"Uruguay\",\"Uzbekistan\",\"Vanuatu\",\"Venezuela\",\"Vietnam\",\"World\",\"Yemen\",\"Zambia\",\"Zimbabwe\"],\"legendgroup\":\"\",\"locations\":[\"AFG\",\"ALB\",\"DZA\",\"AGO\",\"ATG\",\"ARG\",\"ARM\",\"ABW\",\"AUS\",\"AUT\",\"AZE\",\"BHS\",\"BHR\",\"BGD\",\"BRB\",\"BLR\",\"BEL\",\"BLZ\",\"BEN\",\"BTN\",\"BOL\",\"BIH\",\"BWA\",\"BRA\",\"BRN\",\"BGR\",\"BFA\",\"BDI\",\"KHM\",\"CMR\",\"CAN\",\"CPV\",\"CAF\",\"TCD\",\"CHL\",\"CHN\",\"COL\",\"COM\",\"COG\",\"CRI\",\"CIV\",\"HRV\",\"CUB\",\"CYP\",\"CZE\",\"COD\",\"DNK\",\"DJI\",\"DOM\",\"ECU\",\"EGY\",\"SLV\",\"GNQ\",\"ERI\",\"EST\",\"ETH\",\"FJI\",\"FIN\",\"FRA\",\"PYF\",\"GAB\",\"GMB\",\"GEO\",\"DEU\",\"GHA\",\"GRC\",\"GRD\",\"GUM\",\"GTM\",\"GIN\",\"GNB\",\"GUY\",\"HTI\",\"HND\",\"HKG\",\"HUN\",\"ISL\",\"IND\",\"IDN\",\"IRN\",\"IRQ\",\"IRL\",\"ISR\",\"ITA\",\"JAM\",\"JPN\",\"JOR\",\"KAZ\",\"KEN\",\"KIR\",\"KWT\",\"KGZ\",\"LAO\",\"LVA\",\"LBN\",\"LSO\",\"LBR\",\"LBY\",\"LTU\",\"LUX\",\"MAC\",\"MKD\",\"MDG\",\"MWI\",\"MYS\",\"MDV\",\"MLI\",\"MLT\",\"MRT\",\"MUS\",\"MEX\",\"FSM\",\"MDA\",\"MNG\",\"MAR\",\"MOZ\",\"MMR\",\"NAM\",\"NPL\",\"NLD\",\"NCL\",\"NZL\",\"NIC\",\"NER\",\"NGA\",\"PRK\",\"NOR\",\"OMN\",\"PAK\",\"PSE\",\"PAN\",\"PNG\",\"PRY\",\"PER\",\"PHL\",\"POL\",\"PRT\",\"PRI\",\"QAT\",\"ROU\",\"RUS\",\"RWA\",\"LCA\",\"VCT\",\"WSM\",\"STP\",\"SAU\",\"SEN\",\"SYC\",\"SLE\",\"SGP\",\"SVK\",\"SVN\",\"SLB\",\"SOM\",\"ZAF\",\"KOR\",\"ESP\",\"LKA\",null,\"SDN\",\"SUR\",\"SWZ\",\"SWE\",\"CHE\",\"TJK\",\"TZA\",\"THA\",\"TLS\",\"TGO\",\"TON\",\"TTO\",\"TUN\",\"TUR\",\"TKM\",\"UGA\",\"UKR\",\"ARE\",\"GBR\",\"USA\",\"VIR\",\"URY\",\"UZB\",\"VUT\",\"VEN\",\"VNM\",\"OWID_WRL\",\"YEM\",\"ZMB\",\"ZWE\"],\"marker\":{\"color\":\"#636efa\",\"size\":[0,0,0,0,0,0,0,0,99709,10070,0,0,0,0,0,0,101,0,0,0,0,0,0,0,0,0,0,0,0,0,99970,0,0,0,0,0,0,0,0,0,0,0,0,0,0,0,5001,0,0,0,0,0,0,0,0,0,0,20039,30063,0,0,0,0,99604,0,0,0,0,0,0,0,0,0,0,0,0,0,0,0,0,0,0,4985,10023,0,25269,0,0,0,0,0,0,0,0,0,0,0,0,0,0,0,0,0,0,0,0,0,0,0,0,0,0,0,0,0,0,0,0,0,50043,0,0,0,0,0,0,30041,0,0,0,0,0,0,0,0,0,0,0,0,0,0,0,0,0,0,0,0,0,0,0,0,0,0,0,0,0,9986,5060,0,0,0,0,0,50050,39763,0,0,0,0,0,0,0,0,0,0,0,0,0,49953,1981674,0,0,0,0,0,0,2630452,0,0,0],\"sizemode\":\"area\",\"sizeref\":534280.94703125,\"symbol\":\"circle\"},\"mode\":\"markers\",\"name\":\"\",\"showlegend\":false,\"type\":\"scattergeo\"}],\"name\":\"1990\"},{\"data\":[{\"geo\":\"geo\",\"hovertemplate\":\"\\u003cb\\u003e%{hovertext}\\u003c\\u002fb\\u003e\\u003cbr\\u003e\\u003cbr\\u003eYear=2001\\u003cbr\\u003eNumber of internet users (users)=%{marker.size}\\u003cbr\\u003eCode=%{location}\\u003cextra\\u003e\\u003c\\u002fextra\\u003e\",\"hovertext\":[\"Afghanistan\",\"Albania\",\"Algeria\",\"Angola\",\"Antigua and Barbuda\",\"Argentina\",\"Armenia\",\"Aruba\",\"Australia\",\"Austria\",\"Azerbaijan\",\"Bahamas\",\"Bahrain\",\"Bangladesh\",\"Barbados\",\"Belarus\",\"Belgium\",\"Benin\",\"Bhutan\",\"Bolivia\",\"Bosnia and Herzegovina\",\"Botswana\",\"Brazil\",\"Brunei\",\"Bulgaria\",\"Burkina Faso\",\"Burundi\",\"Cambodia\",\"Cameroon\",\"Canada\",\"Cape Verde\",\"Central African Republic\",\"Chad\",\"Chile\",\"China\",\"Colombia\",\"Comoros\",\"Congo\",\"Costa Rica\",\"Cote d'Ivoire\",\"Croatia\",\"Cuba\",\"Cyprus\",\"Czech Republic\",\"Democratic Republic of Congo\",\"Denmark\",\"Djibouti\",\"Dominican Republic\",\"Ecuador\",\"Egypt\",\"El Salvador\",\"Equatorial Guinea\",\"Eritrea\",\"Estonia\",\"Ethiopia\",\"Fiji\",\"Finland\",\"France\",\"French Polynesia\",\"Gabon\",\"Gambia\",\"Georgia\",\"Germany\",\"Ghana\",\"Greece\",\"Grenada\",\"Guam\",\"Guatemala\",\"Guinea\",\"Guinea-Bissau\",\"Guyana\",\"Haiti\",\"Honduras\",\"Hong Kong\",\"Hungary\",\"Iceland\",\"India\",\"Indonesia\",\"Iran\",\"Iraq\",\"Ireland\",\"Israel\",\"Italy\",\"Jamaica\",\"Japan\",\"Jordan\",\"Kazakhstan\",\"Kenya\",\"Kiribati\",\"Kuwait\",\"Kyrgyzstan\",\"Laos\",\"Latvia\",\"Lebanon\",\"Lesotho\",\"Liberia\",\"Libya\",\"Lithuania\",\"Luxembourg\",\"Macao\",\"Macedonia\",\"Madagascar\",\"Malawi\",\"Malaysia\",\"Maldives\",\"Mali\",\"Malta\",\"Mauritania\",\"Mauritius\",\"Mexico\",\"Micronesia (country)\",\"Moldova\",\"Mongolia\",\"Morocco\",\"Mozambique\",\"Myanmar\",\"Namibia\",\"Nepal\",\"Netherlands\",\"New Caledonia\",\"New Zealand\",\"Nicaragua\",\"Niger\",\"Nigeria\",\"North Korea\",\"Norway\",\"Oman\",\"Pakistan\",\"Palestine\",\"Panama\",\"Papua New Guinea\",\"Paraguay\",\"Peru\",\"Philippines\",\"Poland\",\"Portugal\",\"Puerto Rico\",\"Qatar\",\"Romania\",\"Russia\",\"Rwanda\",\"Saint Lucia\",\"Saint Vincent and the Grenadines\",\"Samoa\",\"Sao Tome and Principe\",\"Saudi Arabia\",\"Senegal\",\"Seychelles\",\"Sierra Leone\",\"Singapore\",\"Slovakia\",\"Slovenia\",\"Solomon Islands\",\"Somalia\",\"South Africa\",\"South Korea\",\"Spain\",\"Sri Lanka\",\"Sub-Saharan Africa\",\"Sudan\",\"Suriname\",\"Swaziland\",\"Sweden\",\"Switzerland\",\"Tajikistan\",\"Tanzania\",\"Thailand\",\"Togo\",\"Tonga\",\"Trinidad and Tobago\",\"Tunisia\",\"Turkey\",\"Turkmenistan\",\"Uganda\",\"Ukraine\",\"United Arab Emirates\",\"United Kingdom\",\"United States\",\"United States Virgin Islands\",\"Uruguay\",\"Uzbekistan\",\"Vanuatu\",\"Venezuela\",\"Vietnam\",\"World\",\"Yemen\",\"Zambia\",\"Zimbabwe\"],\"legendgroup\":\"\",\"locations\":[\"AFG\",\"ALB\",\"DZA\",\"AGO\",\"ATG\",\"ARG\",\"ARM\",\"ABW\",\"AUS\",\"AUT\",\"AZE\",\"BHS\",\"BHR\",\"BGD\",\"BRB\",\"BLR\",\"BEL\",\"BEN\",\"BTN\",\"BOL\",\"BIH\",\"BWA\",\"BRA\",\"BRN\",\"BGR\",\"BFA\",\"BDI\",\"KHM\",\"CMR\",\"CAN\",\"CPV\",\"CAF\",\"TCD\",\"CHL\",\"CHN\",\"COL\",\"COM\",\"COG\",\"CRI\",\"CIV\",\"HRV\",\"CUB\",\"CYP\",\"CZE\",\"COD\",\"DNK\",\"DJI\",\"DOM\",\"ECU\",\"EGY\",\"SLV\",\"GNQ\",\"ERI\",\"EST\",\"ETH\",\"FJI\",\"FIN\",\"FRA\",\"PYF\",\"GAB\",\"GMB\",\"GEO\",\"DEU\",\"GHA\",\"GRC\",\"GRD\",\"GUM\",\"GTM\",\"GIN\",\"GNB\",\"GUY\",\"HTI\",\"HND\",\"HKG\",\"HUN\",\"ISL\",\"IND\",\"IDN\",\"IRN\",\"IRQ\",\"IRL\",\"ISR\",\"ITA\",\"JAM\",\"JPN\",\"JOR\",\"KAZ\",\"KEN\",\"KIR\",\"KWT\",\"KGZ\",\"LAO\",\"LVA\",\"LBN\",\"LSO\",\"LBR\",\"LBY\",\"LTU\",\"LUX\",\"MAC\",\"MKD\",\"MDG\",\"MWI\",\"MYS\",\"MDV\",\"MLI\",\"MLT\",\"MRT\",\"MUS\",\"MEX\",\"FSM\",\"MDA\",\"MNG\",\"MAR\",\"MOZ\",\"MMR\",\"NAM\",\"NPL\",\"NLD\",\"NCL\",\"NZL\",\"NIC\",\"NER\",\"NGA\",\"PRK\",\"NOR\",\"OMN\",\"PAK\",\"PSE\",\"PAN\",\"PNG\",\"PRY\",\"PER\",\"PHL\",\"POL\",\"PRT\",\"PRI\",\"QAT\",\"ROU\",\"RUS\",\"RWA\",\"LCA\",\"VCT\",\"WSM\",\"STP\",\"SAU\",\"SEN\",\"SYC\",\"SLE\",\"SGP\",\"SVK\",\"SVN\",\"SLB\",\"SOM\",\"ZAF\",\"KOR\",\"ESP\",\"LKA\",null,\"SDN\",\"SUR\",\"SWZ\",\"SWE\",\"CHE\",\"TJK\",\"TZA\",\"THA\",\"TGO\",\"TON\",\"TTO\",\"TUN\",\"TUR\",\"TKM\",\"UGA\",\"UKR\",\"ARE\",\"GBR\",\"USA\",\"VIR\",\"URY\",\"UZB\",\"VUT\",\"VEN\",\"VNM\",\"OWID_WRL\",\"YEM\",\"ZMB\",\"ZWE\"],\"marker\":{\"color\":\"#636efa\",\"size\":[990,10173,204121,23100,7569,3665016,49759,15886,10152449,3173139,25048,35770,104902,174082,32310,424598,3228655,25718,5098,180162,45275,60210,8049430,43936,603697,18840,6949,9544,43419,18676889,11915,3010,3979,2949989,34076238,1169905,2463,1068,382073,67436,509511,120787,180713,1509577,5554,2301691,2517,385230,343226,597555,88589,1057,5519,438777,25453,15128,2241685,15772178,15083,17010,16984,46364,25806862,38845,1223017,5223,39695,207280,15748,3797,99351,29627,94726,2599610,1481042,139736,7073322,4330058,995859,24252,904564,1065228,15654450,103413,49214502,244391,151321,200323,2007,180388,149024,9836,170281,227907,4925,1011,19941,249383,159191,98661,70850,36182,19184,6326654,10383,20994,71360,7296,104837,7253884,4994,62272,40005,400211,29748,135,46735,57992,7908633,39582,2080623,73900,12382,112793,0,2894813,135251,1867087,60777,224571,51680,59408,1990286,2010757,3814134,1880938,593927,38064,997787,4293326,20047,12965,5502,2967,8938,997232,99703,9095,7595,1674642,676530,600002,1986,7343,2943880,27005438,7512138,150136,4307745,39175,14640,13751,4606002,3968679,3243,60156,3530674,46006,2786,195751,420586,3331205,7997,59141,599595,873807,19803848,139807922,19973,370022,150519,5358,1156612,1026948,502668939,16699,25234,98910],\"sizemode\":\"area\",\"sizeref\":534280.94703125,\"symbol\":\"circle\"},\"mode\":\"markers\",\"name\":\"\",\"showlegend\":false,\"type\":\"scattergeo\"}],\"name\":\"2001\"},{\"data\":[{\"geo\":\"geo\",\"hovertemplate\":\"\\u003cb\\u003e%{hovertext}\\u003c\\u002fb\\u003e\\u003cbr\\u003e\\u003cbr\\u003eYear=2002\\u003cbr\\u003eNumber of internet users (users)=%{marker.size}\\u003cbr\\u003eCode=%{location}\\u003cextra\\u003e\\u003c\\u002fextra\\u003e\",\"hovertext\":[\"Afghanistan\",\"Albania\",\"Algeria\",\"Angola\",\"Antigua and Barbuda\",\"Argentina\",\"Armenia\",\"Aruba\",\"Austria\",\"Azerbaijan\",\"Bahamas\",\"Bahrain\",\"Bangladesh\",\"Barbados\",\"Belarus\",\"Belgium\",\"Belize\",\"Benin\",\"Bhutan\",\"Bolivia\",\"Bosnia and Herzegovina\",\"Botswana\",\"Brazil\",\"Brunei\",\"Bulgaria\",\"Burkina Faso\",\"Burundi\",\"Cambodia\",\"Cameroon\",\"Canada\",\"Cape Verde\",\"Central African Republic\",\"Chad\",\"Chile\",\"China\",\"Colombia\",\"Comoros\",\"Congo\",\"Costa Rica\",\"Cote d'Ivoire\",\"Croatia\",\"Cuba\",\"Cyprus\",\"Czech Republic\",\"Democratic Republic of Congo\",\"Denmark\",\"Djibouti\",\"Dominican Republic\",\"Ecuador\",\"Egypt\",\"El Salvador\",\"Equatorial Guinea\",\"Eritrea\",\"Estonia\",\"Ethiopia\",\"Fiji\",\"Finland\",\"France\",\"French Polynesia\",\"Gabon\",\"Gambia\",\"Georgia\",\"Germany\",\"Ghana\",\"Greece\",\"Grenada\",\"Guam\",\"Guatemala\",\"Guinea\",\"Guinea-Bissau\",\"Haiti\",\"Honduras\",\"Hong Kong\",\"Hungary\",\"Iceland\",\"India\",\"Indonesia\",\"Iran\",\"Iraq\",\"Ireland\",\"Israel\",\"Italy\",\"Jamaica\",\"Japan\",\"Jordan\",\"Kazakhstan\",\"Kenya\",\"Kiribati\",\"Kuwait\",\"Kyrgyzstan\",\"Laos\",\"Latvia\",\"Lebanon\",\"Lesotho\",\"Liberia\",\"Libya\",\"Lithuania\",\"Luxembourg\",\"Macao\",\"Macedonia\",\"Madagascar\",\"Malawi\",\"Malaysia\",\"Maldives\",\"Mali\",\"Malta\",\"Mauritania\",\"Mauritius\",\"Mexico\",\"Micronesia (country)\",\"Moldova\",\"Mongolia\",\"Morocco\",\"Mozambique\",\"Myanmar\",\"Namibia\",\"Nepal\",\"Netherlands\",\"New Caledonia\",\"New Zealand\",\"Nicaragua\",\"Niger\",\"Nigeria\",\"North Korea\",\"Norway\",\"Oman\",\"Pakistan\",\"Palestine\",\"Panama\",\"Papua New Guinea\",\"Paraguay\",\"Peru\",\"Philippines\",\"Poland\",\"Portugal\",\"Puerto Rico\",\"Qatar\",\"Romania\",\"Russia\",\"Rwanda\",\"Saint Lucia\",\"Saint Vincent and the Grenadines\",\"Samoa\",\"Sao Tome and Principe\",\"Saudi Arabia\",\"Senegal\",\"Seychelles\",\"Sierra Leone\",\"Singapore\",\"Slovakia\",\"Slovenia\",\"Solomon Islands\",\"Somalia\",\"South Africa\",\"South Korea\",\"Spain\",\"Sri Lanka\",\"Sub-Saharan Africa\",\"Sudan\",\"Suriname\",\"Swaziland\",\"Sweden\",\"Switzerland\",\"Tajikistan\",\"Tanzania\",\"Thailand\",\"Timor\",\"Togo\",\"Tonga\",\"Trinidad and Tobago\",\"Tunisia\",\"Turkey\",\"Turkmenistan\",\"Uganda\",\"Ukraine\",\"United Arab Emirates\",\"United Kingdom\",\"United States\",\"United States Virgin Islands\",\"Uruguay\",\"Uzbekistan\",\"Vanuatu\",\"Venezuela\",\"Vietnam\",\"World\",\"Yemen\",\"Zambia\",\"Zimbabwe\"],\"legendgroup\":\"\",\"locations\":[\"AFG\",\"ALB\",\"DZA\",\"AGO\",\"ATG\",\"ARG\",\"ARM\",\"ABW\",\"AUT\",\"AZE\",\"BHS\",\"BHR\",\"BGD\",\"BRB\",\"BLR\",\"BEL\",\"BLZ\",\"BEN\",\"BTN\",\"BOL\",\"BIH\",\"BWA\",\"BRA\",\"BRN\",\"BGR\",\"BFA\",\"BDI\",\"KHM\",\"CMR\",\"CAN\",\"CPV\",\"CAF\",\"TCD\",\"CHL\",\"CHN\",\"COL\",\"COM\",\"COG\",\"CRI\",\"CIV\",\"HRV\",\"CUB\",\"CYP\",\"CZE\",\"COD\",\"DNK\",\"DJI\",\"DOM\",\"ECU\",\"EGY\",\"SLV\",\"GNQ\",\"ERI\",\"EST\",\"ETH\",\"FJI\",\"FIN\",\"FRA\",\"PYF\",\"GAB\",\"GMB\",\"GEO\",\"DEU\",\"GHA\",\"GRC\",\"GRD\",\"GUM\",\"GTM\",\"GIN\",\"GNB\",\"HTI\",\"HND\",\"HKG\",\"HUN\",\"ISL\",\"IND\",\"IDN\",\"IRN\",\"IRQ\",\"IRL\",\"ISR\",\"ITA\",\"JAM\",\"JPN\",\"JOR\",\"KAZ\",\"KEN\",\"KIR\",\"KWT\",\"KGZ\",\"LAO\",\"LVA\",\"LBN\",\"LSO\",\"LBR\",\"LBY\",\"LTU\",\"LUX\",\"MAC\",\"MKD\",\"MDG\",\"MWI\",\"MYS\",\"MDV\",\"MLI\",\"MLT\",\"MRT\",\"MUS\",\"MEX\",\"FSM\",\"MDA\",\"MNG\",\"MAR\",\"MOZ\",\"MMR\",\"NAM\",\"NPL\",\"NLD\",\"NCL\",\"NZL\",\"NIC\",\"NER\",\"NGA\",\"PRK\",\"NOR\",\"OMN\",\"PAK\",\"PSE\",\"PAN\",\"PNG\",\"PRY\",\"PER\",\"PHL\",\"POL\",\"PRT\",\"PRI\",\"QAT\",\"ROU\",\"RUS\",\"RWA\",\"LCA\",\"VCT\",\"WSM\",\"STP\",\"SAU\",\"SEN\",\"SYC\",\"SLE\",\"SGP\",\"SVK\",\"SVN\",\"SLB\",\"SOM\",\"ZAF\",\"KOR\",\"ESP\",\"LKA\",null,\"SDN\",\"SUR\",\"SWZ\",\"SWE\",\"CHE\",\"TJK\",\"TZA\",\"THA\",\"TLS\",\"TGO\",\"TON\",\"TTO\",\"TUN\",\"TUR\",\"TKM\",\"UGA\",\"UKR\",\"ARE\",\"GBR\",\"USA\",\"VIR\",\"URY\",\"UZB\",\"VUT\",\"VEN\",\"VNM\",\"OWID_WRL\",\"YEM\",\"ZMB\",\"ZWE\"],\"marker\":{\"color\":\"#636efa\",\"size\":[1003,12167,509246,47512,10783,4123168,59477,17858,2973941,413827,55648,132700,191132,75569,877834,4802051,14904,51283,10162,269741,99993,60268,16482783,53174,714241,24708,7970,28679,58046,19291569,15909,5023,14949,3452823,59681957,1912335,3160,5358,808368,86473,780697,422984,276677,2453409,46243,3452025,3634,602691,556974,1974451,112866,2140,8208,574110,51042,50187,3254709,18175928,20091,25105,23562,73437,39842914,165430,1645504,15069,49026,414093,36734,13233,78932,178264,2912150,1694984,225752,16759877,4641917,3145028,124696,1027870,1108384,16207614,164422,59595203,318599,252985,401150,2184,219721,149684,14727,511749,246599,20620,1002,124061,609377,176780,112996,355079,56954,25841,7825461,15741,26426,116057,10436,123217,12418317,5959,158179,49840,700403,49689,201,51677,76882,9874037,49501,2341492,88681,15520,412328,0,3311320,160445,3728355,104754,268257,77480,98878,2385340,3524396,8139466,2022938,666114,66026,1438038,5994039,24993,23392,6002,3964,10984,1398653,104640,12045,8735,1941668,2167622,553511,2185,11058,3155608,28514843,8560848,200203,5678149,126040,20102,19632,6295334,4447763,3576,80330,4825510,0,52515,2884,281107,518162,7413280,13928,98781,899082,993125,33520289,169012061,29847,380014,276023,6808,1247681,1520292,664809555,98152,53128,137506],\"sizemode\":\"area\",\"sizeref\":534280.94703125,\"symbol\":\"circle\"},\"mode\":\"markers\",\"name\":\"\",\"showlegend\":false,\"type\":\"scattergeo\"}],\"name\":\"2002\"},{\"data\":[{\"geo\":\"geo\",\"hovertemplate\":\"\\u003cb\\u003e%{hovertext}\\u003c\\u002fb\\u003e\\u003cbr\\u003e\\u003cbr\\u003eYear=2003\\u003cbr\\u003eNumber of internet users (users)=%{marker.size}\\u003cbr\\u003eCode=%{location}\\u003cextra\\u003e\\u003c\\u002fextra\\u003e\",\"hovertext\":[\"Afghanistan\",\"Albania\",\"Algeria\",\"Angola\",\"Antigua and Barbuda\",\"Argentina\",\"Armenia\",\"Aruba\",\"Austria\",\"Bahamas\",\"Bahrain\",\"Bangladesh\",\"Barbados\",\"Belgium\",\"Benin\",\"Bhutan\",\"Bolivia\",\"Bosnia and Herzegovina\",\"Botswana\",\"Brazil\",\"Brunei\",\"Bulgaria\",\"Burkina Faso\",\"Burundi\",\"Cambodia\",\"Cameroon\",\"Canada\",\"Cape Verde\",\"Central African Republic\",\"Chad\",\"Chile\",\"China\",\"Colombia\",\"Comoros\",\"Congo\",\"Costa Rica\",\"Cote d'Ivoire\",\"Croatia\",\"Cuba\",\"Cyprus\",\"Czech Republic\",\"Democratic Republic of Congo\",\"Denmark\",\"Djibouti\",\"Dominican Republic\",\"Ecuador\",\"Egypt\",\"El Salvador\",\"Equatorial Guinea\",\"Estonia\",\"Ethiopia\",\"Fiji\",\"Finland\",\"France\",\"French Polynesia\",\"Gabon\",\"Gambia\",\"Georgia\",\"Germany\",\"Ghana\",\"Greece\",\"Grenada\",\"Guam\",\"Guatemala\",\"Guinea\",\"Guinea-Bissau\",\"Haiti\",\"Honduras\",\"Hong Kong\",\"Hungary\",\"Iceland\",\"India\",\"Indonesia\",\"Iran\",\"Iraq\",\"Ireland\",\"Israel\",\"Italy\",\"Jamaica\",\"Japan\",\"Jordan\",\"Kazakhstan\",\"Kenya\",\"Kiribati\",\"Kuwait\",\"Kyrgyzstan\",\"Laos\",\"Latvia\",\"Lebanon\",\"Lesotho\",\"Liberia\",\"Libya\",\"Lithuania\",\"Luxembourg\",\"Macao\",\"Macedonia\",\"Madagascar\",\"Malawi\",\"Malaysia\",\"Maldives\",\"Mali\",\"Malta\",\"Mauritania\",\"Mauritius\",\"Mexico\",\"Micronesia (country)\",\"Moldova\",\"Morocco\",\"Mozambique\",\"Myanmar\",\"Namibia\",\"Nepal\",\"Netherlands\",\"New Caledonia\",\"New Zealand\",\"Nicaragua\",\"Niger\",\"Nigeria\",\"North Korea\",\"Norway\",\"Oman\",\"Pakistan\",\"Palestine\",\"Panama\",\"Papua New Guinea\",\"Paraguay\",\"Peru\",\"Philippines\",\"Poland\",\"Portugal\",\"Puerto Rico\",\"Qatar\",\"Romania\",\"Russia\",\"Rwanda\",\"Saint Lucia\",\"Saint Vincent and the Grenadines\",\"Samoa\",\"Sao Tome and Principe\",\"Saudi Arabia\",\"Senegal\",\"Seychelles\",\"Sierra Leone\",\"Singapore\",\"Slovakia\",\"Slovenia\",\"Solomon Islands\",\"Somalia\",\"South Africa\",\"South Korea\",\"Spain\",\"Sri Lanka\",\"Sub-Saharan Africa\",\"Sudan\",\"Suriname\",\"Swaziland\",\"Sweden\",\"Switzerland\",\"Tajikistan\",\"Tanzania\",\"Thailand\",\"Togo\",\"Tonga\",\"Trinidad and Tobago\",\"Tunisia\",\"Turkey\",\"Turkmenistan\",\"Uganda\",\"Ukraine\",\"United Arab Emirates\",\"United Kingdom\",\"United States\",\"United States Virgin Islands\",\"Uruguay\",\"Uzbekistan\",\"Vanuatu\",\"Venezuela\",\"Vietnam\",\"World\",\"Yemen\",\"Zambia\",\"Zimbabwe\"],\"legendgroup\":\"\",\"locations\":[\"AFG\",\"ALB\",\"DZA\",\"AGO\",\"ATG\",\"ARG\",\"ARM\",\"ABW\",\"AUT\",\"BHS\",\"BHR\",\"BGD\",\"BRB\",\"BEL\",\"BEN\",\"BTN\",\"BOL\",\"BIH\",\"BWA\",\"BRA\",\"BRN\",\"BGR\",\"BFA\",\"BDI\",\"KHM\",\"CMR\",\"CAN\",\"CPV\",\"CAF\",\"TCD\",\"CHL\",\"CHN\",\"COL\",\"COM\",\"COG\",\"CRI\",\"CIV\",\"HRV\",\"CUB\",\"CYP\",\"CZE\",\"COD\",\"DNK\",\"DJI\",\"DOM\",\"ECU\",\"EGY\",\"SLV\",\"GNQ\",\"EST\",\"ETH\",\"FJI\",\"FIN\",\"FRA\",\"PYF\",\"GAB\",\"GMB\",\"GEO\",\"DEU\",\"GHA\",\"GRC\",\"GRD\",\"GUM\",\"GTM\",\"GIN\",\"GNB\",\"HTI\",\"HND\",\"HKG\",\"HUN\",\"ISL\",\"IND\",\"IDN\",\"IRN\",\"IRQ\",\"IRL\",\"ISR\",\"ITA\",\"JAM\",\"JPN\",\"JOR\",\"KAZ\",\"KEN\",\"KIR\",\"KWT\",\"KGZ\",\"LAO\",\"LVA\",\"LBN\",\"LSO\",\"LBR\",\"LBY\",\"LTU\",\"LUX\",\"MAC\",\"MKD\",\"MDG\",\"MWI\",\"MYS\",\"MDV\",\"MLI\",\"MLT\",\"MRT\",\"MUS\",\"MEX\",\"FSM\",\"MDA\",\"MAR\",\"MOZ\",\"MMR\",\"NAM\",\"NPL\",\"NLD\",\"NCL\",\"NZL\",\"NIC\",\"NER\",\"NGA\",\"PRK\",\"NOR\",\"OMN\",\"PAK\",\"PSE\",\"PAN\",\"PNG\",\"PRY\",\"PER\",\"PHL\",\"POL\",\"PRT\",\"PRI\",\"QAT\",\"ROU\",\"RUS\",\"RWA\",\"LCA\",\"VCT\",\"WSM\",\"STP\",\"SAU\",\"SEN\",\"SYC\",\"SLE\",\"SGP\",\"SVK\",\"SVN\",\"SLB\",\"SOM\",\"ZAF\",\"KOR\",\"ESP\",\"LKA\",null,\"SDN\",\"SUR\",\"SWZ\",\"SWE\",\"CHE\",\"TJK\",\"TZA\",\"THA\",\"TGO\",\"TON\",\"TTO\",\"TUN\",\"TUR\",\"TKM\",\"UGA\",\"UKR\",\"ARE\",\"GBR\",\"USA\",\"VIR\",\"URY\",\"UZB\",\"VUT\",\"VEN\",\"VNM\",\"OWID_WRL\",\"YEM\",\"ZMB\",\"ZWE\"],\"marker\":{\"color\":\"#636efa\",\"size\":[20272,30236,711374,67477,15039,4564063,138071,20180,3491089,63149,167851,227821,108058,5206390,71545,15193,309122,149849,60359,24101487,69247,939587,47257,13995,33491,97039,20305051,19901,6035,29959,4024740,80993322,3114590,4947,16112,838959,134128,998485,589375,298963,3512072,69333,4108102,4748,708309,592747,2987306,149288,3616,622202,76761,54922,3618201,21882805,35099,35323,32999,117170,45662751,243942,2001355,19088,53176,568629,41984,17892,147876,337623,3540505,2193705,239403,18686779,5264458,4771282,153766,1389400,1244086,16885900,211576,62029977,456891,304710,1004097,2667,485946,195918,18631,622098,296117,29395,993,158062,884659,244014,118452,391588,73134,34397,8633924,18062,37260,127576,12538,147341,13627618,9862,309017,1000777,82719,11461,66744,95514,10425312,59426,2451955,98550,19707,737167,0,3570624,173068,7445962,142126,320514,82612,118437,3124778,4033420,9559736,3111526,746358,132500,1933874,11998882,30982,33776,7002,4974,15077,1804871,224244,12536,9888,2287733,2324111,633581,2482,37004,3339076,31613592,17031505,280271,7785382,158504,23049,26501,7083260,4747022,4248,251485,6002983,64697,2980,333491,645169,8148380,19795,123765,1497897,1103045,38619900,178938683,29720,530011,494036,7766,1940130,3128094,780750279,117694,111991,227410],\"sizemode\":\"area\",\"sizeref\":534280.94703125,\"symbol\":\"circle\"},\"mode\":\"markers\",\"name\":\"\",\"showlegend\":false,\"type\":\"scattergeo\"}],\"name\":\"2003\"},{\"data\":[{\"geo\":\"geo\",\"hovertemplate\":\"\\u003cb\\u003e%{hovertext}\\u003c\\u002fb\\u003e\\u003cbr\\u003e\\u003cbr\\u003eYear=2004\\u003cbr\\u003eNumber of internet users (users)=%{marker.size}\\u003cbr\\u003eCode=%{location}\\u003cextra\\u003e\\u003c\\u002fextra\\u003e\",\"hovertext\":[\"Afghanistan\",\"Albania\",\"Algeria\",\"Angola\",\"Antigua and Barbuda\",\"Argentina\",\"Armenia\",\"Aruba\",\"Austria\",\"Bahamas\",\"Bahrain\",\"Bangladesh\",\"Barbados\",\"Belgium\",\"Belize\",\"Benin\",\"Bhutan\",\"Bolivia\",\"Bosnia and Herzegovina\",\"Botswana\",\"Brazil\",\"Brunei\",\"Bulgaria\",\"Burkina Faso\",\"Burundi\",\"Cambodia\",\"Cameroon\",\"Canada\",\"Cape Verde\",\"Central African Republic\",\"Chad\",\"Chile\",\"China\",\"Colombia\",\"Comoros\",\"Congo\",\"Costa Rica\",\"Cote d'Ivoire\",\"Croatia\",\"Cuba\",\"Cyprus\",\"Czech Republic\",\"Democratic Republic of Congo\",\"Denmark\",\"Djibouti\",\"Dominican Republic\",\"Ecuador\",\"Egypt\",\"El Salvador\",\"Equatorial Guinea\",\"Estonia\",\"Ethiopia\",\"Fiji\",\"Finland\",\"France\",\"French Polynesia\",\"Gabon\",\"Gambia\",\"Georgia\",\"Germany\",\"Ghana\",\"Greece\",\"Grenada\",\"Guam\",\"Guatemala\",\"Guinea\",\"Guinea-Bissau\",\"Haiti\",\"Honduras\",\"Hong Kong\",\"Hungary\",\"Iceland\",\"India\",\"Indonesia\",\"Iran\",\"Iraq\",\"Ireland\",\"Israel\",\"Italy\",\"Jamaica\",\"Japan\",\"Jordan\",\"Kazakhstan\",\"Kenya\",\"Kiribati\",\"Kuwait\",\"Kyrgyzstan\",\"Laos\",\"Latvia\",\"Lebanon\",\"Lesotho\",\"Liberia\",\"Libya\",\"Lithuania\",\"Luxembourg\",\"Macao\",\"Macedonia\",\"Madagascar\",\"Malawi\",\"Malaysia\",\"Maldives\",\"Mali\",\"Malta\",\"Mauritania\",\"Mauritius\",\"Mexico\",\"Micronesia (country)\",\"Moldova\",\"Montenegro\",\"Morocco\",\"Mozambique\",\"Myanmar\",\"Namibia\",\"Nepal\",\"Netherlands\",\"New Caledonia\",\"New Zealand\",\"Nicaragua\",\"Niger\",\"Nigeria\",\"North Korea\",\"Norway\",\"Oman\",\"Pakistan\",\"Palestine\",\"Panama\",\"Papua New Guinea\",\"Paraguay\",\"Peru\",\"Philippines\",\"Poland\",\"Portugal\",\"Puerto Rico\",\"Qatar\",\"Romania\",\"Russia\",\"Rwanda\",\"Saint Lucia\",\"Saint Vincent and the Grenadines\",\"Samoa\",\"Sao Tome and Principe\",\"Saudi Arabia\",\"Senegal\",\"Seychelles\",\"Sierra Leone\",\"Singapore\",\"Slovakia\",\"Slovenia\",\"Solomon Islands\",\"Somalia\",\"South Africa\",\"South Korea\",\"Spain\",\"Sri Lanka\",\"Sub-Saharan Africa\",\"Sudan\",\"Suriname\",\"Swaziland\",\"Sweden\",\"Switzerland\",\"Tajikistan\",\"Tanzania\",\"Thailand\",\"Togo\",\"Tonga\",\"Trinidad and Tobago\",\"Tunisia\",\"Turkey\",\"Turkmenistan\",\"Uganda\",\"Ukraine\",\"United Arab Emirates\",\"United Kingdom\",\"United States\",\"United States Virgin Islands\",\"Uruguay\",\"Uzbekistan\",\"Vanuatu\",\"Venezuela\",\"Vietnam\",\"World\",\"Yemen\",\"Zambia\",\"Zimbabwe\"],\"legendgroup\":\"\",\"locations\":[\"AFG\",\"ALB\",\"DZA\",\"AGO\",\"ATG\",\"ARG\",\"ARM\",\"ABW\",\"AUT\",\"BHS\",\"BHR\",\"BGD\",\"BRB\",\"BEL\",\"BLZ\",\"BEN\",\"BTN\",\"BOL\",\"BIH\",\"BWA\",\"BRA\",\"BRN\",\"BGR\",\"BFA\",\"BDI\",\"KHM\",\"CMR\",\"CAN\",\"CPV\",\"CAF\",\"TCD\",\"CHL\",\"CHN\",\"COL\",\"COM\",\"COG\",\"CRI\",\"CIV\",\"HRV\",\"CUB\",\"CYP\",\"CZE\",\"COD\",\"DNK\",\"DJI\",\"DOM\",\"ECU\",\"EGY\",\"SLV\",\"GNQ\",\"EST\",\"ETH\",\"FJI\",\"FIN\",\"FRA\",\"PYF\",\"GAB\",\"GMB\",\"GEO\",\"DEU\",\"GHA\",\"GRC\",\"GRD\",\"GUM\",\"GTM\",\"GIN\",\"GNB\",\"HTI\",\"HND\",\"HKG\",\"HUN\",\"ISL\",\"IND\",\"IDN\",\"IRN\",\"IRQ\",\"IRL\",\"ISR\",\"ITA\",\"JAM\",\"JPN\",\"JOR\",\"KAZ\",\"KEN\",\"KIR\",\"KWT\",\"KGZ\",\"LAO\",\"LVA\",\"LBN\",\"LSO\",\"LBR\",\"LBY\",\"LTU\",\"LUX\",\"MAC\",\"MKD\",\"MDG\",\"MWI\",\"MYS\",\"MDV\",\"MLI\",\"MLT\",\"MRT\",\"MUS\",\"MEX\",\"FSM\",\"MDA\",\"MNE\",\"MAR\",\"MOZ\",\"MMR\",\"NAM\",\"NPL\",\"NLD\",\"NCL\",\"NZL\",\"NIC\",\"NER\",\"NGA\",\"PRK\",\"NOR\",\"OMN\",\"PAK\",\"PSE\",\"PAN\",\"PNG\",\"PRY\",\"PER\",\"PHL\",\"POL\",\"PRT\",\"PRI\",\"QAT\",\"ROU\",\"RUS\",\"RWA\",\"LCA\",\"VCT\",\"WSM\",\"STP\",\"SAU\",\"SEN\",\"SYC\",\"SLE\",\"SGP\",\"SVK\",\"SVN\",\"SLB\",\"SOM\",\"ZAF\",\"KOR\",\"ESP\",\"LKA\",null,\"SDN\",\"SUR\",\"SWZ\",\"SWE\",\"CHE\",\"TJK\",\"TZA\",\"THA\",\"TGO\",\"TON\",\"TTO\",\"TUN\",\"TUR\",\"TKM\",\"UGA\",\"UKR\",\"ARE\",\"GBR\",\"USA\",\"VIR\",\"URY\",\"UZB\",\"VUT\",\"VEN\",\"VNM\",\"OWID_WRL\",\"YEM\",\"ZMB\",\"ZWE\"],\"marker\":{\"color\":\"#636efa\",\"size\":[25520,74977,1521549,87691,21417,6210799,147000,22710,4460082,70956,178074,281253,135999,5644591,27057,91647,20214,398161,584926,60457,35236408,106834,1403854,52161,25071,39247,165533,21072546,24874,9059,35045,4501077,95922546,3895884,7927,38849,870582,152852,1355070,947323,341822,3635035,104058,4372454,6022,807031,653116,8985522,192025,6117,725417,115917,60664,3794818,23837107,45029,40641,46265,176175,52894546,360296,2414136,20090,57171,652643,48288,24416,492551,403433,3836657,2805923,244178,22253980,5814620,5214321,236849,1527224,1472983,19443640,272878,79997523,645381,407787,1060500,3169,506217,256450,20474,879182,347694,42069,985,201540,1055923,297658,148433,502742,93529,44050,10636631,20451,53635,140213,14650,166415,15086377,11743,442856,155940,3503192,138014,11700,76445,113853,11159977,69347,2523654,123220,24933,1741348,0,3572352,165237,9294582,154210,364255,92910,196918,3845520,4440226,12490240,3345884,835736,157095,3238675,18523256,37995,34714,8002,5498,20247,2377368,480530,21234,11043,2709425,2855753,812703,2978,106570,4064900,35258106,19079069,280158,10838288,238943,29993,35356,7542247,4981433,5201,335672,6940485,83019,3968,348758,854383,9769745,35466,198485,1647591,1231747,39289976,189443366,29591,567194,678527,9690,2212664,6383526,912821319,176395,236225,268328],\"sizemode\":\"area\",\"sizeref\":534280.94703125,\"symbol\":\"circle\"},\"mode\":\"markers\",\"name\":\"\",\"showlegend\":false,\"type\":\"scattergeo\"}],\"name\":\"2004\"},{\"data\":[{\"geo\":\"geo\",\"hovertemplate\":\"\\u003cb\\u003e%{hovertext}\\u003c\\u002fb\\u003e\\u003cbr\\u003e\\u003cbr\\u003eYear=2005\\u003cbr\\u003eNumber of internet users (users)=%{marker.size}\\u003cbr\\u003eCode=%{location}\\u003cextra\\u003e\\u003c\\u002fextra\\u003e\",\"hovertext\":[\"Afghanistan\",\"Albania\",\"Algeria\",\"Angola\",\"Antigua and Barbuda\",\"Argentina\",\"Armenia\",\"Aruba\",\"Australia\",\"Austria\",\"Azerbaijan\",\"Bahamas\",\"Bahrain\",\"Bangladesh\",\"Barbados\",\"Belgium\",\"Belize\",\"Benin\",\"Bhutan\",\"Bolivia\",\"Bosnia and Herzegovina\",\"Botswana\",\"Brazil\",\"Brunei\",\"Bulgaria\",\"Burkina Faso\",\"Burundi\",\"Cambodia\",\"Cameroon\",\"Canada\",\"Cape Verde\",\"Central African Republic\",\"Chad\",\"Chile\",\"China\",\"Colombia\",\"Comoros\",\"Congo\",\"Costa Rica\",\"Cote d'Ivoire\",\"Croatia\",\"Cuba\",\"Cyprus\",\"Czech Republic\",\"Democratic Republic of Congo\",\"Denmark\",\"Djibouti\",\"Dominican Republic\",\"Ecuador\",\"Egypt\",\"El Salvador\",\"Equatorial Guinea\",\"Estonia\",\"Ethiopia\",\"Fiji\",\"Finland\",\"France\",\"French Polynesia\",\"Gabon\",\"Gambia\",\"Georgia\",\"Germany\",\"Ghana\",\"Greece\",\"Grenada\",\"Guam\",\"Guatemala\",\"Guinea\",\"Guinea-Bissau\",\"Haiti\",\"Honduras\",\"Hong Kong\",\"Hungary\",\"Iceland\",\"India\",\"Indonesia\",\"Iran\",\"Iraq\",\"Ireland\",\"Israel\",\"Italy\",\"Jamaica\",\"Japan\",\"Jordan\",\"Kazakhstan\",\"Kenya\",\"Kiribati\",\"Kuwait\",\"Kyrgyzstan\",\"Laos\",\"Latvia\",\"Lebanon\",\"Lesotho\",\"Libya\",\"Lithuania\",\"Luxembourg\",\"Macao\",\"Macedonia\",\"Madagascar\",\"Malawi\",\"Malaysia\",\"Maldives\",\"Mali\",\"Malta\",\"Mauritania\",\"Mauritius\",\"Mexico\",\"Micronesia (country)\",\"Moldova\",\"Montenegro\",\"Morocco\",\"Mozambique\",\"Myanmar\",\"Namibia\",\"Nepal\",\"Netherlands\",\"New Caledonia\",\"New Zealand\",\"Nicaragua\",\"Niger\",\"Nigeria\",\"North Korea\",\"Norway\",\"Oman\",\"Pakistan\",\"Palestine\",\"Panama\",\"Papua New Guinea\",\"Paraguay\",\"Peru\",\"Philippines\",\"Poland\",\"Portugal\",\"Puerto Rico\",\"Qatar\",\"Romania\",\"Russia\",\"Rwanda\",\"Saint Lucia\",\"Saint Vincent and the Grenadines\",\"Samoa\",\"Sao Tome and Principe\",\"Saudi Arabia\",\"Senegal\",\"Seychelles\",\"Sierra Leone\",\"Singapore\",\"Slovakia\",\"Slovenia\",\"Solomon Islands\",\"Somalia\",\"South Africa\",\"South Korea\",\"Spain\",\"Sri Lanka\",\"Sub-Saharan Africa\",\"Sudan\",\"Suriname\",\"Swaziland\",\"Sweden\",\"Switzerland\",\"Tajikistan\",\"Tanzania\",\"Thailand\",\"Timor\",\"Togo\",\"Tonga\",\"Trinidad and Tobago\",\"Tunisia\",\"Turkey\",\"Turkmenistan\",\"Uganda\",\"Ukraine\",\"United Arab Emirates\",\"United Kingdom\",\"United States\",\"United States Virgin Islands\",\"Uruguay\",\"Uzbekistan\",\"Vanuatu\",\"Venezuela\",\"Vietnam\",\"World\",\"Yemen\",\"Zambia\",\"Zimbabwe\"],\"legendgroup\":\"\",\"locations\":[\"AFG\",\"ALB\",\"DZA\",\"AGO\",\"ATG\",\"ARG\",\"ARM\",\"ABW\",\"AUS\",\"AUT\",\"AZE\",\"BHS\",\"BHR\",\"BGD\",\"BRB\",\"BEL\",\"BLZ\",\"BEN\",\"BTN\",\"BOL\",\"BIH\",\"BWA\",\"BRA\",\"BRN\",\"BGR\",\"BFA\",\"BDI\",\"KHM\",\"CMR\",\"CAN\",\"CPV\",\"CAF\",\"TCD\",\"CHL\",\"CHN\",\"COL\",\"COM\",\"COG\",\"CRI\",\"CIV\",\"HRV\",\"CUB\",\"CYP\",\"CZE\",\"COD\",\"DNK\",\"DJI\",\"DOM\",\"ECU\",\"EGY\",\"SLV\",\"GNQ\",\"EST\",\"ETH\",\"FJI\",\"FIN\",\"FRA\",\"PYF\",\"GAB\",\"GMB\",\"GEO\",\"DEU\",\"GHA\",\"GRC\",\"GRD\",\"GUM\",\"GTM\",\"GIN\",\"GNB\",\"HTI\",\"HND\",\"HKG\",\"HUN\",\"ISL\",\"IND\",\"IDN\",\"IRN\",\"IRQ\",\"IRL\",\"ISR\",\"ITA\",\"JAM\",\"JPN\",\"JOR\",\"KAZ\",\"KEN\",\"KIR\",\"KWT\",\"KGZ\",\"LAO\",\"LVA\",\"LBN\",\"LSO\",\"LBY\",\"LTU\",\"LUX\",\"MAC\",\"MKD\",\"MDG\",\"MWI\",\"MYS\",\"MDV\",\"MLI\",\"MLT\",\"MRT\",\"MUS\",\"MEX\",\"FSM\",\"MDA\",\"MNE\",\"MAR\",\"MOZ\",\"MMR\",\"NAM\",\"NPL\",\"NLD\",\"NCL\",\"NZL\",\"NIC\",\"NER\",\"NGA\",\"PRK\",\"NOR\",\"OMN\",\"PAK\",\"PSE\",\"PAN\",\"PNG\",\"PRY\",\"PER\",\"PHL\",\"POL\",\"PRT\",\"PRI\",\"QAT\",\"ROU\",\"RUS\",\"RWA\",\"LCA\",\"VCT\",\"WSM\",\"STP\",\"SAU\",\"SEN\",\"SYC\",\"SLE\",\"SGP\",\"SVK\",\"SVN\",\"SLB\",\"SOM\",\"ZAF\",\"KOR\",\"ESP\",\"LKA\",null,\"SDN\",\"SUR\",\"SWZ\",\"SWE\",\"CHE\",\"TJK\",\"TZA\",\"THA\",\"TLS\",\"TGO\",\"TON\",\"TTO\",\"TUN\",\"TUR\",\"TKM\",\"UGA\",\"UKR\",\"ARE\",\"GBR\",\"USA\",\"VIR\",\"URY\",\"UZB\",\"VUT\",\"VEN\",\"VNM\",\"OWID_WRL\",\"YEM\",\"ZMB\",\"ZWE\"],\"marker\":{\"color\":\"#636efa\",\"size\":[306904,186102,1945357,223557,24098,6936809,156605,25408,12750509,4787117,685682,82312,189426,346583,143855,5887272,48157,101457,25262,477038,806476,60548,39295164,133160,1534447,63072,40245,42109,244354,23137566,28826,11071,40193,5033903,112645367,4764564,12233,54414,937499,190558,1450888,1098868,337175,3618059,130329,4485916,7469,1060768,823325,9789214,253216,8708,833046,168539,69473,3916849,26250973,54908,68659,54865,272758,56116305,394477,2712289,21092,61080,746474,52489,26255,590653,479273,3884996,3930695,256632,27322412,8166249,5704167,243076,1753020,1663555,20582969,351318,85883663,738998,460292,1118181,3693,590240,534630,48930,1035912,404267,50303,226945,1211288,320489,168234,544942,104102,50136,12477950,21903,64898,167759,20975,185405,18668070,12618,608283,167041,4603934,178758,31630,81492,211930,13257398,75295,2593703,138052,30143,4931178,0,3798075,167843,9746067,572366,382471,108372,458250,4721380,4656770,14888551,3696946,881105,213911,4607669,21868272,49998,35309,10003,6032,21414,3037222,538563,22553,12188,2739536,2979688,934459,3967,112149,3655950,35800745,21087612,349889,15048748,399395,31948,40884,7667464,5194626,20473,433516,9830834,1017,102299,4959,375809,975403,10497867,47416,497294,1758346,1831825,42200728,200593775,29475,668055,886437,10641,3362215,10740887,1029023007,215832,343698,310561],\"sizemode\":\"area\",\"sizeref\":534280.94703125,\"symbol\":\"circle\"},\"mode\":\"markers\",\"name\":\"\",\"showlegend\":false,\"type\":\"scattergeo\"}],\"name\":\"2005\"},{\"data\":[{\"geo\":\"geo\",\"hovertemplate\":\"\\u003cb\\u003e%{hovertext}\\u003c\\u002fb\\u003e\\u003cbr\\u003e\\u003cbr\\u003eYear=2006\\u003cbr\\u003eNumber of internet users (users)=%{marker.size}\\u003cbr\\u003eCode=%{location}\\u003cextra\\u003e\\u003c\\u002fextra\\u003e\",\"hovertext\":[\"Afghanistan\",\"Albania\",\"Algeria\",\"Angola\",\"Antigua and Barbuda\",\"Argentina\",\"Armenia\",\"Aruba\",\"Australia\",\"Austria\",\"Azerbaijan\",\"Bahamas\",\"Bahrain\",\"Bangladesh\",\"Barbados\",\"Belarus\",\"Belgium\",\"Belize\",\"Benin\",\"Bhutan\",\"Bolivia\",\"Bosnia and Herzegovina\",\"Botswana\",\"Brazil\",\"Brunei\",\"Bulgaria\",\"Burkina Faso\",\"Burundi\",\"Cambodia\",\"Cameroon\",\"Canada\",\"Cape Verde\",\"Central African Republic\",\"Chad\",\"Chile\",\"China\",\"Colombia\",\"Comoros\",\"Congo\",\"Costa Rica\",\"Cote d'Ivoire\",\"Croatia\",\"Cuba\",\"Cyprus\",\"Czech Republic\",\"Democratic Republic of Congo\",\"Denmark\",\"Djibouti\",\"Dominican Republic\",\"Ecuador\",\"Egypt\",\"El Salvador\",\"Equatorial Guinea\",\"Estonia\",\"Ethiopia\",\"Fiji\",\"Finland\",\"France\",\"French Polynesia\",\"Gabon\",\"Gambia\",\"Georgia\",\"Germany\",\"Ghana\",\"Greece\",\"Grenada\",\"Guam\",\"Guatemala\",\"Guinea\",\"Guinea-Bissau\",\"Haiti\",\"Honduras\",\"Hong Kong\",\"Hungary\",\"Iceland\",\"India\",\"Indonesia\",\"Iran\",\"Iraq\",\"Ireland\",\"Israel\",\"Italy\",\"Jamaica\",\"Japan\",\"Jordan\",\"Kazakhstan\",\"Kenya\",\"Kiribati\",\"Kuwait\",\"Kyrgyzstan\",\"Laos\",\"Latvia\",\"Lebanon\",\"Lesotho\",\"Libya\",\"Lithuania\",\"Luxembourg\",\"Macao\",\"Macedonia\",\"Madagascar\",\"Malawi\",\"Malaysia\",\"Maldives\",\"Mali\",\"Malta\",\"Mauritania\",\"Mauritius\",\"Mexico\",\"Micronesia (country)\",\"Moldova\",\"Montenegro\",\"Morocco\",\"Mozambique\",\"Myanmar\",\"Namibia\",\"Nepal\",\"Netherlands\",\"New Caledonia\",\"New Zealand\",\"Nicaragua\",\"Niger\",\"Nigeria\",\"North Korea\",\"Norway\",\"Oman\",\"Pakistan\",\"Palestine\",\"Panama\",\"Papua New Guinea\",\"Paraguay\",\"Peru\",\"Philippines\",\"Poland\",\"Portugal\",\"Puerto Rico\",\"Qatar\",\"Romania\",\"Russia\",\"Saint Lucia\",\"Saint Vincent and the Grenadines\",\"Samoa\",\"Sao Tome and Principe\",\"Saudi Arabia\",\"Senegal\",\"Seychelles\",\"Sierra Leone\",\"Singapore\",\"Slovakia\",\"Slovenia\",\"Solomon Islands\",\"Somalia\",\"South Africa\",\"South Korea\",\"Spain\",\"Sri Lanka\",\"Sub-Saharan Africa\",\"Suriname\",\"Swaziland\",\"Sweden\",\"Switzerland\",\"Tajikistan\",\"Tanzania\",\"Thailand\",\"Timor\",\"Togo\",\"Tonga\",\"Trinidad and Tobago\",\"Tunisia\",\"Turkey\",\"Turkmenistan\",\"Uganda\",\"Ukraine\",\"United Arab Emirates\",\"United Kingdom\",\"United States\",\"United States Virgin Islands\",\"Uruguay\",\"Uzbekistan\",\"Vanuatu\",\"Venezuela\",\"Vietnam\",\"World\",\"Yemen\",\"Zambia\",\"Zimbabwe\"],\"legendgroup\":\"\",\"locations\":[\"AFG\",\"ALB\",\"DZA\",\"AGO\",\"ATG\",\"ARG\",\"ARM\",\"ABW\",\"AUS\",\"AUT\",\"AZE\",\"BHS\",\"BHR\",\"BGD\",\"BRB\",\"BLR\",\"BEL\",\"BLZ\",\"BEN\",\"BTN\",\"BOL\",\"BIH\",\"BWA\",\"BRA\",\"BRN\",\"BGR\",\"BFA\",\"BDI\",\"KHM\",\"CMR\",\"CAN\",\"CPV\",\"CAF\",\"TCD\",\"CHL\",\"CHN\",\"COL\",\"COM\",\"COG\",\"CRI\",\"CIV\",\"HRV\",\"CUB\",\"CYP\",\"CZE\",\"COD\",\"DNK\",\"DJI\",\"DOM\",\"ECU\",\"EGY\",\"SLV\",\"GNQ\",\"EST\",\"ETH\",\"FJI\",\"FIN\",\"FRA\",\"PYF\",\"GAB\",\"GMB\",\"GEO\",\"DEU\",\"GHA\",\"GRC\",\"GRD\",\"GUM\",\"GTM\",\"GIN\",\"GNB\",\"HTI\",\"HND\",\"HKG\",\"HUN\",\"ISL\",\"IND\",\"IDN\",\"IRN\",\"IRQ\",\"IRL\",\"ISR\",\"ITA\",\"JAM\",\"JPN\",\"JOR\",\"KAZ\",\"KEN\",\"KIR\",\"KWT\",\"KGZ\",\"LAO\",\"LVA\",\"LBN\",\"LSO\",\"LBY\",\"LTU\",\"LUX\",\"MAC\",\"MKD\",\"MDG\",\"MWI\",\"MYS\",\"MDV\",\"MLI\",\"MLT\",\"MRT\",\"MUS\",\"MEX\",\"FSM\",\"MDA\",\"MNE\",\"MAR\",\"MOZ\",\"MMR\",\"NAM\",\"NPL\",\"NLD\",\"NCL\",\"NZL\",\"NIC\",\"NER\",\"NGA\",\"PRK\",\"NOR\",\"OMN\",\"PAK\",\"PSE\",\"PAN\",\"PNG\",\"PRY\",\"PER\",\"PHL\",\"POL\",\"PRT\",\"PRI\",\"QAT\",\"ROU\",\"RUS\",\"LCA\",\"VCT\",\"WSM\",\"STP\",\"SAU\",\"SEN\",\"SYC\",\"SLE\",\"SGP\",\"SVK\",\"SVN\",\"SLB\",\"SOM\",\"ZAF\",\"KOR\",\"ESP\",\"LKA\",null,\"SUR\",\"SWZ\",\"SWE\",\"CHE\",\"TJK\",\"TZA\",\"THA\",\"TLS\",\"TGO\",\"TON\",\"TTO\",\"TUN\",\"TUR\",\"TKM\",\"UGA\",\"UKR\",\"ARE\",\"GBR\",\"USA\",\"VIR\",\"URY\",\"UZB\",\"VUT\",\"VEN\",\"VNM\",\"OWID_WRL\",\"YEM\",\"ZMB\",\"ZWE\"],\"marker\":{\"color\":\"#636efa\",\"size\":[545607,293521,2491454,303936,27090,8278569,166616,28233,13578580,5269091,1034948,87316,270694,1453680,152097,1551157,6342005,69779,126364,30373,575629,949493,80833,53260636,156195,2065601,87498,50472,63109,363136,23635330,32737,13074,60554,5629961,139874702,6725134,13781,77154,1081507,285148,1659991,1260615,374606,4935969,167398,4717489,10112,1391168,1005659,10676526,333106,10134,856939,244904,79432,4204112,28868585,64736,79310,78095,334110,58839519,602187,3656753,22093,69569,870806,62993,29061,639467,588230,4171109,4732305,268287,32599283,10951361,6239562,263779,2359107,1883425,22444442,452686,88214549,822906,512835,1333874,4242,684441,630942,68431,1193387,608603,58571,252964,1450312,337573,228900,590472,114707,57093,13500012,36130,96508,165100,31551,205092,21490032,13475,813223,178553,6103238,181635,88924,90429,296083,13760466,79243,2888283,152910,41553,7908003,0,3857619,214381,10211110,673689,588481,113520,468393,5785638,5040775,17092434,4029041,955392,292749,5238751,25831490,40525,13069,8093,22596,4782828,648535,31338,13316,2721022,3027502,1082248,7926,117925,3755233,38187655,22528250,499143,20467911,47907,41420,7982881,5663425,264089,528254,11295897,5243,116756,5953,390992,1324112,12542445,63473,747444,2100593,2725857,41844488,205295950,29375,979327,1717837,12557,4147085,14682703,1158678340,264046,515141,314982],\"sizemode\":\"area\",\"sizeref\":534280.94703125,\"symbol\":\"circle\"},\"mode\":\"markers\",\"name\":\"\",\"showlegend\":false,\"type\":\"scattergeo\"}],\"name\":\"2006\"},{\"data\":[{\"geo\":\"geo\",\"hovertemplate\":\"\\u003cb\\u003e%{hovertext}\\u003c\\u002fb\\u003e\\u003cbr\\u003e\\u003cbr\\u003eYear=2007\\u003cbr\\u003eNumber of internet users (users)=%{marker.size}\\u003cbr\\u003eCode=%{location}\\u003cextra\\u003e\\u003c\\u002fextra\\u003e\",\"hovertext\":[\"Afghanistan\",\"Albania\",\"Algeria\",\"Angola\",\"Antigua and Barbuda\",\"Argentina\",\"Armenia\",\"Aruba\",\"Australia\",\"Austria\",\"Azerbaijan\",\"Bahamas\",\"Bahrain\",\"Bangladesh\",\"Barbados\",\"Belarus\",\"Belgium\",\"Belize\",\"Benin\",\"Bhutan\",\"Bolivia\",\"Bosnia and Herzegovina\",\"Botswana\",\"Brazil\",\"Brunei\",\"Bulgaria\",\"Burkina Faso\",\"Burundi\",\"Cambodia\",\"Cameroon\",\"Canada\",\"Cape Verde\",\"Central African Republic\",\"Chad\",\"Chile\",\"China\",\"Colombia\",\"Comoros\",\"Congo\",\"Costa Rica\",\"Cote d'Ivoire\",\"Croatia\",\"Cuba\",\"Cyprus\",\"Czech Republic\",\"Democratic Republic of Congo\",\"Denmark\",\"Djibouti\",\"Dominican Republic\",\"Ecuador\",\"Egypt\",\"El Salvador\",\"Equatorial Guinea\",\"Eritrea\",\"Estonia\",\"Ethiopia\",\"Fiji\",\"Finland\",\"France\",\"French Polynesia\",\"Gabon\",\"Gambia\",\"Georgia\",\"Germany\",\"Ghana\",\"Greece\",\"Grenada\",\"Guam\",\"Guatemala\",\"Guinea\",\"Guinea-Bissau\",\"Guyana\",\"Haiti\",\"Honduras\",\"Hong Kong\",\"Hungary\",\"Iceland\",\"India\",\"Indonesia\",\"Iran\",\"Iraq\",\"Ireland\",\"Israel\",\"Italy\",\"Jamaica\",\"Japan\",\"Jordan\",\"Kazakhstan\",\"Kenya\",\"Kiribati\",\"Kuwait\",\"Kyrgyzstan\",\"Laos\",\"Latvia\",\"Lebanon\",\"Lesotho\",\"Liberia\",\"Libya\",\"Lithuania\",\"Luxembourg\",\"Macao\",\"Macedonia\",\"Madagascar\",\"Malawi\",\"Malaysia\",\"Maldives\",\"Mali\",\"Malta\",\"Mauritania\",\"Mauritius\",\"Mexico\",\"Micronesia (country)\",\"Moldova\",\"Mongolia\",\"Montenegro\",\"Morocco\",\"Mozambique\",\"Myanmar\",\"Namibia\",\"Nepal\",\"Netherlands\",\"New Caledonia\",\"New Zealand\",\"Nicaragua\",\"Niger\",\"Nigeria\",\"North Korea\",\"Norway\",\"Oman\",\"Pakistan\",\"Palestine\",\"Panama\",\"Papua New Guinea\",\"Paraguay\",\"Peru\",\"Philippines\",\"Poland\",\"Portugal\",\"Puerto Rico\",\"Qatar\",\"Romania\",\"Russia\",\"Rwanda\",\"Saint Lucia\",\"Saint Vincent and the Grenadines\",\"Samoa\",\"Sao Tome and Principe\",\"Saudi Arabia\",\"Senegal\",\"Seychelles\",\"Sierra Leone\",\"Singapore\",\"Slovakia\",\"Slovenia\",\"Solomon Islands\",\"Somalia\",\"South Africa\",\"South Korea\",\"Spain\",\"Sri Lanka\",\"Sub-Saharan Africa\",\"Sudan\",\"Suriname\",\"Swaziland\",\"Sweden\",\"Switzerland\",\"Tajikistan\",\"Tanzania\",\"Thailand\",\"Timor\",\"Togo\",\"Tonga\",\"Trinidad and Tobago\",\"Tunisia\",\"Turkey\",\"Turkmenistan\",\"Uganda\",\"Ukraine\",\"United Arab Emirates\",\"United Kingdom\",\"United States\",\"United States Virgin Islands\",\"Uruguay\",\"Uzbekistan\",\"Vanuatu\",\"Venezuela\",\"Vietnam\",\"World\",\"Yemen\",\"Zambia\",\"Zimbabwe\"],\"legendgroup\":\"\",\"locations\":[\"AFG\",\"ALB\",\"DZA\",\"AGO\",\"ATG\",\"ARG\",\"ARM\",\"ABW\",\"AUS\",\"AUT\",\"AZE\",\"BHS\",\"BHR\",\"BGD\",\"BRB\",\"BLR\",\"BEL\",\"BLZ\",\"BEN\",\"BTN\",\"BOL\",\"BIH\",\"BWA\",\"BRA\",\"BRN\",\"BGR\",\"BFA\",\"BDI\",\"KHM\",\"CMR\",\"CAN\",\"CPV\",\"CAF\",\"TCD\",\"CHL\",\"CHN\",\"COL\",\"COM\",\"COG\",\"CRI\",\"CIV\",\"HRV\",\"CUB\",\"CYP\",\"CZE\",\"COD\",\"DNK\",\"DJI\",\"DOM\",\"ECU\",\"EGY\",\"SLV\",\"GNQ\",\"ERI\",\"EST\",\"ETH\",\"FJI\",\"FIN\",\"FRA\",\"PYF\",\"GAB\",\"GMB\",\"GEO\",\"DEU\",\"GHA\",\"GRC\",\"GRD\",\"GUM\",\"GTM\",\"GIN\",\"GNB\",\"GUY\",\"HTI\",\"HND\",\"HKG\",\"HUN\",\"ISL\",\"IND\",\"IDN\",\"IRN\",\"IRQ\",\"IRL\",\"ISR\",\"ITA\",\"JAM\",\"JPN\",\"JOR\",\"KAZ\",\"KEN\",\"KIR\",\"KWT\",\"KGZ\",\"LAO\",\"LVA\",\"LBN\",\"LSO\",\"LBR\",\"LBY\",\"LTU\",\"LUX\",\"MAC\",\"MKD\",\"MDG\",\"MWI\",\"MYS\",\"MDV\",\"MLI\",\"MLT\",\"MRT\",\"MUS\",\"MEX\",\"FSM\",\"MDA\",\"MNG\",\"MNE\",\"MAR\",\"MOZ\",\"MMR\",\"NAM\",\"NPL\",\"NLD\",\"NCL\",\"NZL\",\"NIC\",\"NER\",\"NGA\",\"PRK\",\"NOR\",\"OMN\",\"PAK\",\"PSE\",\"PAN\",\"PNG\",\"PRY\",\"PER\",\"PHL\",\"POL\",\"PRT\",\"PRI\",\"QAT\",\"ROU\",\"RUS\",\"RWA\",\"LCA\",\"VCT\",\"WSM\",\"STP\",\"SAU\",\"SEN\",\"SYC\",\"SLE\",\"SGP\",\"SVK\",\"SVN\",\"SLB\",\"SOM\",\"ZAF\",\"KOR\",\"ESP\",\"LKA\",null,\"SDN\",\"SUR\",\"SWZ\",\"SWE\",\"CHE\",\"TJK\",\"TZA\",\"THA\",\"TLS\",\"TGO\",\"TON\",\"TTO\",\"TUN\",\"TUR\",\"TKM\",\"UGA\",\"UKR\",\"ARE\",\"GBR\",\"USA\",\"VIR\",\"URY\",\"UZB\",\"VUT\",\"VEN\",\"VNM\",\"OWID_WRL\",\"YEM\",\"ZMB\",\"ZWE\"],\"marker\":{\"color\":\"#636efa\",\"size\":[505719,454678,3241766,356961,31070,10370927,176607,31277,14547458,5765884,1268514,92429,340912,2648505,160719,1878762,6893685,73408,151341,40668,991280,1053701,101081,58989026,167489,2545522,106890,55577,67016,538985,24170590,40293,16069,91294,5920516,213888081,9673657,16041,109733,1240929,343547,1807723,1321401,433675,5378175,216145,4651104,13112,1678469,1534189,12749822,371700,12914,17029,889641,299702,90976,4279736,40949992,74504,85882,95503,362658,61138494,873958,4083466,23089,73312,1000121,78757,31902,103206,688096,724549,4470161,5342732,276511,46597409,13481392,6821345,264031,2689788,3331754,24193981,585624,95479401,1238638,636822,1675780,5779,871187,728118,97577,1300863,765804,68298,19369,281920,1626785,374651,238444,749761,126318,133685,14830596,54779,110772,192442,47491,249497,23273144,14313,844309,233250,190801,6713564,201914,106766,100577,369629,14166355,84165,2953046,215362,57264,9912433,0,4102790,444149,10902642,794495,769854,118677,668806,7129766,5330821,18628178,4474218,1043429,440164,5953219,35300825,199849,46673,17448,8659,23797,7575771,818088,34650,14427,3308037,3336165,1142482,9859,123879,4023588,38661194,25016555,768659,26629659,2795667,71919,46676,7514776,5836596,514801,670779,13258982,10650,131942,7349,422891,1760973,19925702,68492,1123272,3038306,3686881,46116268,225446381,29292,1135512,2044364,14957,5768236,17826766,1369818178,1089755,619755,399897],\"sizemode\":\"area\",\"sizeref\":534280.94703125,\"symbol\":\"circle\"},\"mode\":\"markers\",\"name\":\"\",\"showlegend\":false,\"type\":\"scattergeo\"}],\"name\":\"2007\"},{\"data\":[{\"geo\":\"geo\",\"hovertemplate\":\"\\u003cb\\u003e%{hovertext}\\u003c\\u002fb\\u003e\\u003cbr\\u003e\\u003cbr\\u003eYear=2008\\u003cbr\\u003eNumber of internet users (users)=%{marker.size}\\u003cbr\\u003eCode=%{location}\\u003cextra\\u003e\\u003c\\u002fextra\\u003e\",\"hovertext\":[\"Afghanistan\",\"Albania\",\"Algeria\",\"Angola\",\"Antigua and Barbuda\",\"Argentina\",\"Armenia\",\"Aruba\",\"Australia\",\"Austria\",\"Azerbaijan\",\"Bahamas\",\"Bahrain\",\"Bangladesh\",\"Barbados\",\"Belarus\",\"Belgium\",\"Belize\",\"Benin\",\"Bhutan\",\"Bolivia\",\"Bosnia and Herzegovina\",\"Botswana\",\"Brazil\",\"Brunei\",\"Bulgaria\",\"Burkina Faso\",\"Burundi\",\"Cambodia\",\"Cameroon\",\"Canada\",\"Cape Verde\",\"Central African Republic\",\"Chad\",\"Chile\",\"China\",\"Colombia\",\"Comoros\",\"Congo\",\"Costa Rica\",\"Cote d'Ivoire\",\"Croatia\",\"Cuba\",\"Cyprus\",\"Czech Republic\",\"Democratic Republic of Congo\",\"Denmark\",\"Djibouti\",\"Dominican Republic\",\"Ecuador\",\"Egypt\",\"El Salvador\",\"Equatorial Guinea\",\"Eritrea\",\"Estonia\",\"Ethiopia\",\"Fiji\",\"Finland\",\"France\",\"French Polynesia\",\"Gabon\",\"Gambia\",\"Georgia\",\"Germany\",\"Ghana\",\"Greece\",\"Grenada\",\"Guam\",\"Guatemala\",\"Guinea\",\"Guinea-Bissau\",\"Guyana\",\"Haiti\",\"Honduras\",\"Hong Kong\",\"Hungary\",\"Iceland\",\"India\",\"Indonesia\",\"Iran\",\"Iraq\",\"Ireland\",\"Israel\",\"Italy\",\"Jamaica\",\"Japan\",\"Jordan\",\"Kazakhstan\",\"Kenya\",\"Kiribati\",\"Kuwait\",\"Kyrgyzstan\",\"Laos\",\"Latvia\",\"Lebanon\",\"Lesotho\",\"Liberia\",\"Libya\",\"Lithuania\",\"Luxembourg\",\"Macao\",\"Macedonia\",\"Madagascar\",\"Malawi\",\"Malaysia\",\"Maldives\",\"Mali\",\"Malta\",\"Mauritania\",\"Mauritius\",\"Mexico\",\"Micronesia (country)\",\"Moldova\",\"Mongolia\",\"Montenegro\",\"Morocco\",\"Mozambique\",\"Myanmar\",\"Namibia\",\"Nepal\",\"Netherlands\",\"New Caledonia\",\"New Zealand\",\"Nicaragua\",\"Niger\",\"Nigeria\",\"North Korea\",\"Norway\",\"Oman\",\"Pakistan\",\"Palestine\",\"Panama\",\"Papua New Guinea\",\"Paraguay\",\"Peru\",\"Philippines\",\"Poland\",\"Portugal\",\"Puerto Rico\",\"Qatar\",\"Romania\",\"Russia\",\"Rwanda\",\"Saint Lucia\",\"Saint Vincent and the Grenadines\",\"Samoa\",\"Sao Tome and Principe\",\"Saudi Arabia\",\"Senegal\",\"Seychelles\",\"Sierra Leone\",\"Singapore\",\"Slovakia\",\"Slovenia\",\"Solomon Islands\",\"Somalia\",\"South Africa\",\"South Korea\",\"Spain\",\"Sri Lanka\",\"Sub-Saharan Africa\",\"Suriname\",\"Swaziland\",\"Sweden\",\"Switzerland\",\"Tajikistan\",\"Tanzania\",\"Thailand\",\"Timor\",\"Togo\",\"Tonga\",\"Trinidad and Tobago\",\"Tunisia\",\"Turkey\",\"Turkmenistan\",\"Uganda\",\"Ukraine\",\"United Arab Emirates\",\"United Kingdom\",\"United States\",\"United States Virgin Islands\",\"Uruguay\",\"Uzbekistan\",\"Vanuatu\",\"Venezuela\",\"Vietnam\",\"World\",\"Yemen\",\"Zambia\",\"Zimbabwe\"],\"legendgroup\":\"\",\"locations\":[\"AFG\",\"ALB\",\"DZA\",\"AGO\",\"ATG\",\"ARG\",\"ARM\",\"ABW\",\"AUS\",\"AUT\",\"AZE\",\"BHS\",\"BHR\",\"BGD\",\"BRB\",\"BLR\",\"BEL\",\"BLZ\",\"BEN\",\"BTN\",\"BOL\",\"BIH\",\"BWA\",\"BRA\",\"BRN\",\"BGR\",\"BFA\",\"BDI\",\"KHM\",\"CMR\",\"CAN\",\"CPV\",\"CAF\",\"TCD\",\"CHL\",\"CHN\",\"COL\",\"COM\",\"COG\",\"CRI\",\"CIV\",\"HRV\",\"CUB\",\"CYP\",\"CZE\",\"COD\",\"DNK\",\"DJI\",\"DOM\",\"ECU\",\"EGY\",\"SLV\",\"GNQ\",\"ERI\",\"EST\",\"ETH\",\"FJI\",\"FIN\",\"FRA\",\"PYF\",\"GAB\",\"GMB\",\"GEO\",\"DEU\",\"GHA\",\"GRC\",\"GRD\",\"GUM\",\"GTM\",\"GIN\",\"GNB\",\"GUY\",\"HTI\",\"HND\",\"HKG\",\"HUN\",\"ISL\",\"IND\",\"IDN\",\"IRN\",\"IRQ\",\"IRL\",\"ISR\",\"ITA\",\"JAM\",\"JPN\",\"JOR\",\"KAZ\",\"KEN\",\"KIR\",\"KWT\",\"KGZ\",\"LAO\",\"LVA\",\"LBN\",\"LSO\",\"LBR\",\"LBY\",\"LTU\",\"LUX\",\"MAC\",\"MKD\",\"MDG\",\"MWI\",\"MYS\",\"MDV\",\"MLI\",\"MLT\",\"MRT\",\"MUS\",\"MEX\",\"FSM\",\"MDA\",\"MNG\",\"MNE\",\"MAR\",\"MOZ\",\"MMR\",\"NAM\",\"NPL\",\"NLD\",\"NCL\",\"NZL\",\"NIC\",\"NER\",\"NGA\",\"PRK\",\"NOR\",\"OMN\",\"PAK\",\"PSE\",\"PAN\",\"PNG\",\"PRY\",\"PER\",\"PHL\",\"POL\",\"PRT\",\"PRI\",\"QAT\",\"ROU\",\"RUS\",\"RWA\",\"LCA\",\"VCT\",\"WSM\",\"STP\",\"SAU\",\"SEN\",\"SYC\",\"SLE\",\"SGP\",\"SVK\",\"SVN\",\"SLB\",\"SOM\",\"ZAF\",\"KOR\",\"ESP\",\"LKA\",null,\"SUR\",\"SWZ\",\"SWE\",\"CHE\",\"TJK\",\"TZA\",\"THA\",\"TLS\",\"TGO\",\"TON\",\"TTO\",\"TUN\",\"TUR\",\"TKM\",\"UGA\",\"UKR\",\"ARE\",\"GBR\",\"USA\",\"VIR\",\"URY\",\"UZB\",\"VUT\",\"VEN\",\"VNM\",\"OWID_WRL\",\"YEM\",\"ZMB\",\"ZWE\"],\"marker\":{\"color\":\"#636efa\",\"size\":[502210,713808,3548821,413429,35142,11352549,180600,52704,15296165,6076231,1506782,109972,579030,3720145,170274,2186686,7114254,80521,160893,45912,1199982,1304463,121647,65284806,174456,2979348,135145,66519,70791,642838,25621288,68841,43454,132493,6214904,303837841,11494795,19717,176450,1430288,370462,1925514,1463482,457609,6563863,265644,4674225,18598,2006323,2716142,14579794,615918,15805,19893,945569,374332,109634,4451162,44054538,89139,115231,109294,434485,63282136,994852,4362305,24091,77003,1162528,94973,34872,135829,737582,755775,4629195,6094633,282904,52435034,18697862,8756034,291114,2933497,4215152,26496412,658469,96927083,1492659,1760129,2035718,6891,1113983,826180,214853,1377190,926219,71597,19414,544777,1775117,398902,253265,951821,329942,99899,15127977,80053,221970,206394,63721,270290,24675979,15139,961666,257557,204376,10458559,356409,108855,112249,458032,14484387,84131,3081677,296509,106600,12027791,0,4321465,551803,11455122,938346,1189202,78053,862924,8755853,5644766,20362439,4700771,1419599,615479,6750195,38389219,436868,50766,22925,9234,25838,9338677,868922,36673,15413,3347265,3565944,1174232,15134,129915,4249742,39867378,27414692,1156858,31038075,108490,79384,8313201,6055721,641794,822133,12111328,16172,147883,8354,457749,2865140,24210239,86376,2501448,5080507,4343395,48661550,224496810,29222,1316874,2516629,16380,7283072,20740506,1558290574,1540355,726080,474546],\"sizemode\":\"area\",\"sizeref\":534280.94703125,\"symbol\":\"circle\"},\"mode\":\"markers\",\"name\":\"\",\"showlegend\":false,\"type\":\"scattergeo\"}],\"name\":\"2008\"},{\"data\":[{\"geo\":\"geo\",\"hovertemplate\":\"\\u003cb\\u003e%{hovertext}\\u003c\\u002fb\\u003e\\u003cbr\\u003e\\u003cbr\\u003eYear=2009\\u003cbr\\u003eNumber of internet users (users)=%{marker.size}\\u003cbr\\u003eCode=%{location}\\u003cextra\\u003e\\u003c\\u002fextra\\u003e\",\"hovertext\":[\"Afghanistan\",\"Albania\",\"Algeria\",\"Angola\",\"Antigua and Barbuda\",\"Argentina\",\"Armenia\",\"Aruba\",\"Australia\",\"Austria\",\"Azerbaijan\",\"Bahamas\",\"Bahrain\",\"Bangladesh\",\"Barbados\",\"Belarus\",\"Belgium\",\"Belize\",\"Benin\",\"Bhutan\",\"Bolivia\",\"Bosnia and Herzegovina\",\"Botswana\",\"Brazil\",\"Brunei\",\"Bulgaria\",\"Burkina Faso\",\"Burundi\",\"Cambodia\",\"Cameroon\",\"Canada\",\"Cape Verde\",\"Central African Republic\",\"Chad\",\"Chile\",\"China\",\"Colombia\",\"Comoros\",\"Congo\",\"Costa Rica\",\"Cote d'Ivoire\",\"Croatia\",\"Cuba\",\"Cyprus\",\"Czech Republic\",\"Democratic Republic of Congo\",\"Denmark\",\"Djibouti\",\"Dominican Republic\",\"Ecuador\",\"Egypt\",\"El Salvador\",\"Equatorial Guinea\",\"Eritrea\",\"Estonia\",\"Ethiopia\",\"Fiji\",\"Finland\",\"France\",\"French Polynesia\",\"Gabon\",\"Gambia\",\"Georgia\",\"Germany\",\"Ghana\",\"Greece\",\"Grenada\",\"Guam\",\"Guatemala\",\"Guinea\",\"Guinea-Bissau\",\"Guyana\",\"Haiti\",\"Honduras\",\"Hong Kong\",\"Hungary\",\"Iceland\",\"India\",\"Indonesia\",\"Iran\",\"Iraq\",\"Ireland\",\"Israel\",\"Italy\",\"Jamaica\",\"Japan\",\"Jordan\",\"Kazakhstan\",\"Kenya\",\"Kiribati\",\"Kuwait\",\"Kyrgyzstan\",\"Laos\",\"Latvia\",\"Lebanon\",\"Lesotho\",\"Liberia\",\"Libya\",\"Lithuania\",\"Luxembourg\",\"Macao\",\"Macedonia\",\"Madagascar\",\"Malawi\",\"Malaysia\",\"Maldives\",\"Mali\",\"Malta\",\"Mauritania\",\"Mauritius\",\"Mexico\",\"Micronesia (country)\",\"Moldova\",\"Mongolia\",\"Montenegro\",\"Morocco\",\"Mozambique\",\"Myanmar\",\"Namibia\",\"Nepal\",\"Netherlands\",\"New Caledonia\",\"New Zealand\",\"Nicaragua\",\"Niger\",\"Nigeria\",\"North Korea\",\"Norway\",\"Oman\",\"Pakistan\",\"Palestine\",\"Panama\",\"Papua New Guinea\",\"Paraguay\",\"Peru\",\"Philippines\",\"Poland\",\"Portugal\",\"Puerto Rico\",\"Qatar\",\"Romania\",\"Russia\",\"Rwanda\",\"Saint Lucia\",\"Saint Vincent and the Grenadines\",\"Samoa\",\"Sao Tome and Principe\",\"Saudi Arabia\",\"Senegal\",\"Sierra Leone\",\"Singapore\",\"Slovakia\",\"Slovenia\",\"Solomon Islands\",\"Somalia\",\"South Africa\",\"South Korea\",\"Spain\",\"Sri Lanka\",\"Sub-Saharan Africa\",\"Suriname\",\"Swaziland\",\"Sweden\",\"Switzerland\",\"Tajikistan\",\"Tanzania\",\"Thailand\",\"Timor\",\"Togo\",\"Tonga\",\"Trinidad and Tobago\",\"Tunisia\",\"Turkey\",\"Turkmenistan\",\"Uganda\",\"Ukraine\",\"United Arab Emirates\",\"United Kingdom\",\"United States\",\"United States Virgin Islands\",\"Uruguay\",\"Uzbekistan\",\"Vanuatu\",\"Venezuela\",\"Vietnam\",\"World\",\"Yemen\",\"Zambia\",\"Zimbabwe\"],\"legendgroup\":\"\",\"locations\":[\"AFG\",\"ALB\",\"DZA\",\"AGO\",\"ATG\",\"ARG\",\"ARM\",\"ABW\",\"AUS\",\"AUT\",\"AZE\",\"BHS\",\"BHR\",\"BGD\",\"BRB\",\"BLR\",\"BEL\",\"BLZ\",\"BEN\",\"BTN\",\"BOL\",\"BIH\",\"BWA\",\"BRA\",\"BRN\",\"BGR\",\"BFA\",\"BDI\",\"KHM\",\"CMR\",\"CAN\",\"CPV\",\"CAF\",\"TCD\",\"CHL\",\"CHN\",\"COL\",\"COM\",\"COG\",\"CRI\",\"CIV\",\"HRV\",\"CUB\",\"CYP\",\"CZE\",\"COD\",\"DNK\",\"DJI\",\"DOM\",\"ECU\",\"EGY\",\"SLV\",\"GNQ\",\"ERI\",\"EST\",\"ETH\",\"FJI\",\"FIN\",\"FRA\",\"PYF\",\"GAB\",\"GMB\",\"GEO\",\"DEU\",\"GHA\",\"GRC\",\"GRD\",\"GUM\",\"GTM\",\"GIN\",\"GNB\",\"GUY\",\"HTI\",\"HND\",\"HKG\",\"HUN\",\"ISL\",\"IND\",\"IDN\",\"IRN\",\"IRQ\",\"IRL\",\"ISR\",\"ITA\",\"JAM\",\"JPN\",\"JOR\",\"KAZ\",\"KEN\",\"KIR\",\"KWT\",\"KGZ\",\"LAO\",\"LVA\",\"LBN\",\"LSO\",\"LBR\",\"LBY\",\"LTU\",\"LUX\",\"MAC\",\"MKD\",\"MDG\",\"MWI\",\"MYS\",\"MDV\",\"MLI\",\"MLT\",\"MRT\",\"MUS\",\"MEX\",\"FSM\",\"MDA\",\"MNG\",\"MNE\",\"MAR\",\"MOZ\",\"MMR\",\"NAM\",\"NPL\",\"NLD\",\"NCL\",\"NZL\",\"NIC\",\"NER\",\"NGA\",\"PRK\",\"NOR\",\"OMN\",\"PAK\",\"PSE\",\"PAN\",\"PNG\",\"PRY\",\"PER\",\"PHL\",\"POL\",\"PRT\",\"PRI\",\"QAT\",\"ROU\",\"RUS\",\"RWA\",\"LCA\",\"VCT\",\"WSM\",\"STP\",\"SAU\",\"SEN\",\"SLE\",\"SGP\",\"SVK\",\"SVN\",\"SLB\",\"SOM\",\"ZAF\",\"KOR\",\"ESP\",\"LKA\",null,\"SUR\",\"SWZ\",\"SWE\",\"CHE\",\"TJK\",\"TZA\",\"THA\",\"TLS\",\"TGO\",\"TON\",\"TTO\",\"TUN\",\"TUR\",\"TKM\",\"UGA\",\"UKR\",\"ARE\",\"GBR\",\"USA\",\"VIR\",\"URY\",\"UZB\",\"VUT\",\"VEN\",\"VNM\",\"OWID_WRL\",\"YEM\",\"ZMB\",\"ZWE\"],\"marker\":{\"color\":\"#636efa\",\"size\":[994154,1220606,3982805,518640,39304,13871798,441953,58843,16141237,6147793,2445288,120225,628065,4664096,180170,2602075,7602203,85389,200361,51227,1639470,1413952,121763,76438210,188048,3355214,171094,76401,74678,746210,27133234,104362,79276,172542,6994316,390747678,13624854,23564,191417,1540821,398727,2195720,1621956,546952,6756674,349493,4799167,33474,2707623,3614054,16493004,743224,19364,23276,968477,461248,144834,4407149,44871728,118449,150742,125098,860541,63962833,1300368,4852183,25083,80638,1331407,99231,34951,178221,798082,787432,4846391,6174544,293960,62170631,16562361,10168884,316883,3077962,4587495,29123117,681392,100281994,1773490,2945518,2454469,9021,1432021,854525,369122,1433925,1260803,75115,76231,661074,1893658,433301,283669,1071169,335277,157446,15431409,87916,262919,243707,79943,280030,30424077,15958,1126411,266829,218621,13211827,630445,109562,138908,526800,14902714,84096,3445815,413660,120186,14359403,0,4444867,772628,12528719,1275658,1398824,111854,1158161,9106473,8299879,22600176,5145879,1546427,844704,7546172,41496902,768263,53017,33868,11090,28030,10131367,941319,16407,3426207,3780503,1302671,20643,135884,5097082,40293434,29001069,1762593,37808955,163266,105552,8475265,6290312,752513,1071942,13443255,21840,164592,10360,585477,3584789,25967463,97655,3205091,8232930,4906492,52411010,217314217,29169,1405632,3350481,17309,9348055,23248616,1742929484,2288303,849100,552424],\"sizemode\":\"area\",\"sizeref\":534280.94703125,\"symbol\":\"circle\"},\"mode\":\"markers\",\"name\":\"\",\"showlegend\":false,\"type\":\"scattergeo\"}],\"name\":\"2009\"},{\"data\":[{\"geo\":\"geo\",\"hovertemplate\":\"\\u003cb\\u003e%{hovertext}\\u003c\\u002fb\\u003e\\u003cbr\\u003e\\u003cbr\\u003eYear=2010\\u003cbr\\u003eNumber of internet users (users)=%{marker.size}\\u003cbr\\u003eCode=%{location}\\u003cextra\\u003e\\u003c\\u002fextra\\u003e\",\"hovertext\":[\"Afghanistan\",\"Albania\",\"Algeria\",\"Angola\",\"Antigua and Barbuda\",\"Argentina\",\"Armenia\",\"Aruba\",\"Australia\",\"Austria\",\"Azerbaijan\",\"Bahamas\",\"Bahrain\",\"Bangladesh\",\"Barbados\",\"Belarus\",\"Belgium\",\"Belize\",\"Benin\",\"Bhutan\",\"Bolivia\",\"Bosnia and Herzegovina\",\"Botswana\",\"Brazil\",\"Brunei\",\"Bulgaria\",\"Burkina Faso\",\"Burundi\",\"Cambodia\",\"Cameroon\",\"Canada\",\"Cape Verde\",\"Central African Republic\",\"Chad\",\"Chile\",\"China\",\"Colombia\",\"Comoros\",\"Congo\",\"Costa Rica\",\"Cote d'Ivoire\",\"Croatia\",\"Cuba\",\"Cyprus\",\"Czech Republic\",\"Democratic Republic of Congo\",\"Denmark\",\"Djibouti\",\"Dominican Republic\",\"Ecuador\",\"Egypt\",\"El Salvador\",\"Equatorial Guinea\",\"Eritrea\",\"Estonia\",\"Ethiopia\",\"Fiji\",\"Finland\",\"France\",\"French Polynesia\",\"Gabon\",\"Gambia\",\"Georgia\",\"Germany\",\"Ghana\",\"Greece\",\"Grenada\",\"Guam\",\"Guatemala\",\"Guinea\",\"Guinea-Bissau\",\"Guyana\",\"Haiti\",\"Honduras\",\"Hong Kong\",\"Hungary\",\"Iceland\",\"India\",\"Indonesia\",\"Iran\",\"Iraq\",\"Ireland\",\"Israel\",\"Italy\",\"Jamaica\",\"Japan\",\"Jordan\",\"Kazakhstan\",\"Kenya\",\"Kiribati\",\"Kuwait\",\"Kyrgyzstan\",\"Laos\",\"Latvia\",\"Lebanon\",\"Lesotho\",\"Liberia\",\"Libya\",\"Lithuania\",\"Luxembourg\",\"Macao\",\"Macedonia\",\"Madagascar\",\"Malawi\",\"Malaysia\",\"Maldives\",\"Mali\",\"Malta\",\"Mauritania\",\"Mauritius\",\"Mexico\",\"Micronesia (country)\",\"Moldova\",\"Mongolia\",\"Montenegro\",\"Morocco\",\"Mozambique\",\"Myanmar\",\"Namibia\",\"Nepal\",\"Netherlands\",\"New Caledonia\",\"New Zealand\",\"Nicaragua\",\"Niger\",\"Nigeria\",\"North Korea\",\"Norway\",\"Oman\",\"Pakistan\",\"Palestine\",\"Panama\",\"Papua New Guinea\",\"Paraguay\",\"Peru\",\"Philippines\",\"Poland\",\"Portugal\",\"Puerto Rico\",\"Qatar\",\"Romania\",\"Russia\",\"Rwanda\",\"Saint Lucia\",\"Saint Vincent and the Grenadines\",\"Samoa\",\"Sao Tome and Principe\",\"Saudi Arabia\",\"Senegal\",\"Seychelles\",\"Sierra Leone\",\"Singapore\",\"Slovakia\",\"Slovenia\",\"Solomon Islands\",\"South Africa\",\"South Korea\",\"Spain\",\"Sri Lanka\",\"Sub-Saharan Africa\",\"Sudan\",\"Suriname\",\"Swaziland\",\"Sweden\",\"Switzerland\",\"Tajikistan\",\"Tanzania\",\"Thailand\",\"Timor\",\"Togo\",\"Tonga\",\"Trinidad and Tobago\",\"Tunisia\",\"Turkey\",\"Turkmenistan\",\"Uganda\",\"Ukraine\",\"United Arab Emirates\",\"United Kingdom\",\"United States\",\"United States Virgin Islands\",\"Uruguay\",\"Uzbekistan\",\"Vanuatu\",\"Venezuela\",\"Vietnam\",\"World\",\"Yemen\",\"Zambia\",\"Zimbabwe\"],\"legendgroup\":\"\",\"locations\":[\"AFG\",\"ALB\",\"DZA\",\"AGO\",\"ATG\",\"ARG\",\"ARM\",\"ABW\",\"AUS\",\"AUT\",\"AZE\",\"BHS\",\"BHR\",\"BGD\",\"BRB\",\"BLR\",\"BEL\",\"BLZ\",\"BEN\",\"BTN\",\"BOL\",\"BIH\",\"BWA\",\"BRA\",\"BRN\",\"BGR\",\"BFA\",\"BDI\",\"KHM\",\"CMR\",\"CAN\",\"CPV\",\"CAF\",\"TCD\",\"CHL\",\"CHN\",\"COL\",\"COM\",\"COG\",\"CRI\",\"CIV\",\"HRV\",\"CUB\",\"CYP\",\"CZE\",\"COD\",\"DNK\",\"DJI\",\"DOM\",\"ECU\",\"EGY\",\"SLV\",\"GNQ\",\"ERI\",\"EST\",\"ETH\",\"FJI\",\"FIN\",\"FRA\",\"PYF\",\"GAB\",\"GMB\",\"GEO\",\"DEU\",\"GHA\",\"GRC\",\"GRD\",\"GUM\",\"GTM\",\"GIN\",\"GNB\",\"GUY\",\"HTI\",\"HND\",\"HKG\",\"HUN\",\"ISL\",\"IND\",\"IDN\",\"IRN\",\"IRQ\",\"IRL\",\"ISR\",\"ITA\",\"JAM\",\"JPN\",\"JOR\",\"KAZ\",\"KEN\",\"KIR\",\"KWT\",\"KGZ\",\"LAO\",\"LVA\",\"LBN\",\"LSO\",\"LBR\",\"LBY\",\"LTU\",\"LUX\",\"MAC\",\"MKD\",\"MDG\",\"MWI\",\"MYS\",\"MDV\",\"MLI\",\"MLT\",\"MRT\",\"MUS\",\"MEX\",\"FSM\",\"MDA\",\"MNG\",\"MNE\",\"MAR\",\"MOZ\",\"MMR\",\"NAM\",\"NPL\",\"NLD\",\"NCL\",\"NZL\",\"NIC\",\"NER\",\"NGA\",\"PRK\",\"NOR\",\"OMN\",\"PAK\",\"PSE\",\"PAN\",\"PNG\",\"PRY\",\"PER\",\"PHL\",\"POL\",\"PRT\",\"PRI\",\"QAT\",\"ROU\",\"RUS\",\"RWA\",\"LCA\",\"VCT\",\"WSM\",\"STP\",\"SAU\",\"SEN\",\"SYC\",\"SLE\",\"SGP\",\"SVK\",\"SVN\",\"SLB\",\"ZAF\",\"KOR\",\"ESP\",\"LKA\",null,\"SDN\",\"SUR\",\"SWZ\",\"SWE\",\"CHE\",\"TJK\",\"TZA\",\"THA\",\"TLS\",\"TGO\",\"TON\",\"TTO\",\"TUN\",\"TUR\",\"TKM\",\"UGA\",\"UKR\",\"ARE\",\"GBR\",\"USA\",\"VIR\",\"URY\",\"UZB\",\"VUT\",\"VEN\",\"VNM\",\"OWID_WRL\",\"YEM\",\"ZMB\",\"ZWE\"],\"marker\":{\"color\":\"#636efa\",\"size\":[1152127,1323236,4514705,654336,44491,18550750,719328,63035,16811249,6321759,4154930,155158,682474,5629517,181999,3012437,8204054,90693,287937,98959,2221686,1591191,120892,79997683,205991,3423142,374525,87669,180290,858731,27437440,150715,88971,202082,7647009,466396000,16760105,35174,219335,1659027,550836,2447571,1801955,589570,7251072,464567,4928258,55324,3107967,4335541,18167243,980176,57066,26784,987088,657770,171990,4662328,48707065,131232,213227,155678,1138317,66333724,1911944,5082026,28263,86164,1536194,107942,38119,223220,836968,908801,5058159,6453096,299154,92323552,26483634,11856234,769068,3231909,5012522,32062960,779522,100540420,1953610,5182076,2977211,9311,1840823,883841,437239,1449716,1894463,78765,90807,863680,1940506,460249,296396,1074714,359578,342776,15827219,96705,301502,262149,144382,353546,36427531,20723,1319287,276690,234107,16853012,1010033,125390,252088,2142935,15134742,105436,3516152,573772,136332,18236500,0,4562921,1089688,13644815,1520994,1460932,90985,1229556,10213217,23431656,23883144,5677687,1683662,1227976,8161831,61556164,819747,56089,36839,13034,32771,11244527,1033298,37476,37461,3602719,4091591,1431618,26390,12380319,41475740,30786919,2423802,59096809,5742456,166196,132794,8451151,6571024,882608,1336859,15054773,33288,195089,16662,644129,3915495,28800577,152616,4239392,10669653,5624065,53810817,221265013,33140,1565729,4548401,18904,10847776,27116825,1999332784,2915437,1385003,901524],\"sizemode\":\"area\",\"sizeref\":534280.94703125,\"symbol\":\"circle\"},\"mode\":\"markers\",\"name\":\"\",\"showlegend\":false,\"type\":\"scattergeo\"}],\"name\":\"2010\"},{\"data\":[{\"geo\":\"geo\",\"hovertemplate\":\"\\u003cb\\u003e%{hovertext}\\u003c\\u002fb\\u003e\\u003cbr\\u003e\\u003cbr\\u003eYear=2011\\u003cbr\\u003eNumber of internet users (users)=%{marker.size}\\u003cbr\\u003eCode=%{location}\\u003cextra\\u003e\\u003c\\u002fextra\\u003e\",\"hovertext\":[\"Afghanistan\",\"Albania\",\"Algeria\",\"Angola\",\"Antigua and Barbuda\",\"Argentina\",\"Armenia\",\"Aruba\",\"Australia\",\"Austria\",\"Azerbaijan\",\"Bahamas\",\"Bahrain\",\"Bangladesh\",\"Barbados\",\"Belarus\",\"Belgium\",\"Belize\",\"Benin\",\"Bhutan\",\"Bolivia\",\"Bosnia and Herzegovina\",\"Botswana\",\"Brazil\",\"Brunei\",\"Bulgaria\",\"Burkina Faso\",\"Burundi\",\"Cambodia\",\"Cameroon\",\"Canada\",\"Cape Verde\",\"Central African Republic\",\"Chad\",\"Chile\",\"China\",\"Colombia\",\"Comoros\",\"Congo\",\"Costa Rica\",\"Cote d'Ivoire\",\"Croatia\",\"Cuba\",\"Cyprus\",\"Czech Republic\",\"Democratic Republic of Congo\",\"Denmark\",\"Djibouti\",\"Dominican Republic\",\"Ecuador\",\"Egypt\",\"El Salvador\",\"Equatorial Guinea\",\"Eritrea\",\"Estonia\",\"Ethiopia\",\"Fiji\",\"Finland\",\"France\",\"French Polynesia\",\"Gabon\",\"Gambia\",\"Georgia\",\"Germany\",\"Ghana\",\"Greece\",\"Grenada\",\"Guam\",\"Guatemala\",\"Guinea\",\"Guinea-Bissau\",\"Guyana\",\"Haiti\",\"Honduras\",\"Hong Kong\",\"Hungary\",\"Iceland\",\"India\",\"Indonesia\",\"Iran\",\"Iraq\",\"Ireland\",\"Israel\",\"Italy\",\"Jamaica\",\"Japan\",\"Jordan\",\"Kazakhstan\",\"Kenya\",\"Kiribati\",\"Kuwait\",\"Kyrgyzstan\",\"Laos\",\"Latvia\",\"Lebanon\",\"Lesotho\",\"Liberia\",\"Libya\",\"Lithuania\",\"Luxembourg\",\"Macao\",\"Macedonia\",\"Madagascar\",\"Malawi\",\"Malaysia\",\"Maldives\",\"Mali\",\"Malta\",\"Mauritania\",\"Mauritius\",\"Mexico\",\"Micronesia (country)\",\"Moldova\",\"Mongolia\",\"Montenegro\",\"Morocco\",\"Mozambique\",\"Myanmar\",\"Namibia\",\"Nepal\",\"Netherlands\",\"New Caledonia\",\"New Zealand\",\"Nicaragua\",\"Niger\",\"Nigeria\",\"North Korea\",\"Norway\",\"Oman\",\"Pakistan\",\"Palestine\",\"Panama\",\"Papua New Guinea\",\"Paraguay\",\"Peru\",\"Philippines\",\"Poland\",\"Portugal\",\"Puerto Rico\",\"Qatar\",\"Romania\",\"Russia\",\"Rwanda\",\"Saint Lucia\",\"Saint Vincent and the Grenadines\",\"Samoa\",\"Sao Tome and Principe\",\"Saudi Arabia\",\"Senegal\",\"Seychelles\",\"Sierra Leone\",\"Singapore\",\"Slovakia\",\"Slovenia\",\"Solomon Islands\",\"Somalia\",\"South Africa\",\"South Korea\",\"Spain\",\"Sri Lanka\",\"Sub-Saharan Africa\",\"Sudan\",\"Suriname\",\"Swaziland\",\"Sweden\",\"Switzerland\",\"Tajikistan\",\"Tanzania\",\"Thailand\",\"Timor\",\"Togo\",\"Tonga\",\"Trinidad and Tobago\",\"Tunisia\",\"Turkey\",\"Turkmenistan\",\"Uganda\",\"Ukraine\",\"United Arab Emirates\",\"United Kingdom\",\"United States\",\"United States Virgin Islands\",\"Uruguay\",\"Uzbekistan\",\"Vanuatu\",\"Venezuela\",\"Vietnam\",\"World\",\"Yemen\",\"Zambia\",\"Zimbabwe\"],\"legendgroup\":\"\",\"locations\":[\"AFG\",\"ALB\",\"DZA\",\"AGO\",\"ATG\",\"ARG\",\"ARM\",\"ABW\",\"AUS\",\"AUT\",\"AZE\",\"BHS\",\"BHR\",\"BGD\",\"BRB\",\"BLR\",\"BEL\",\"BLZ\",\"BEN\",\"BTN\",\"BOL\",\"BIH\",\"BWA\",\"BRA\",\"BRN\",\"BGR\",\"BFA\",\"BDI\",\"KHM\",\"CMR\",\"CAN\",\"CPV\",\"CAF\",\"TCD\",\"CHL\",\"CHN\",\"COL\",\"COM\",\"COG\",\"CRI\",\"CIV\",\"HRV\",\"CUB\",\"CYP\",\"CZE\",\"COD\",\"DNK\",\"DJI\",\"DOM\",\"ECU\",\"EGY\",\"SLV\",\"GNQ\",\"ERI\",\"EST\",\"ETH\",\"FJI\",\"FIN\",\"FRA\",\"PYF\",\"GAB\",\"GMB\",\"GEO\",\"DEU\",\"GHA\",\"GRC\",\"GRD\",\"GUM\",\"GTM\",\"GIN\",\"GNB\",\"GUY\",\"HTI\",\"HND\",\"HKG\",\"HUN\",\"ISL\",\"IND\",\"IDN\",\"IRN\",\"IRQ\",\"IRL\",\"ISR\",\"ITA\",\"JAM\",\"JPN\",\"JOR\",\"KAZ\",\"KEN\",\"KIR\",\"KWT\",\"KGZ\",\"LAO\",\"LVA\",\"LBN\",\"LSO\",\"LBR\",\"LBY\",\"LTU\",\"LUX\",\"MAC\",\"MKD\",\"MDG\",\"MWI\",\"MYS\",\"MDV\",\"MLI\",\"MLT\",\"MRT\",\"MUS\",\"MEX\",\"FSM\",\"MDA\",\"MNG\",\"MNE\",\"MAR\",\"MOZ\",\"MMR\",\"NAM\",\"NPL\",\"NLD\",\"NCL\",\"NZL\",\"NIC\",\"NER\",\"NGA\",\"PRK\",\"NOR\",\"OMN\",\"PAK\",\"PSE\",\"PAN\",\"PNG\",\"PRY\",\"PER\",\"PHL\",\"POL\",\"PRT\",\"PRI\",\"QAT\",\"ROU\",\"RUS\",\"RWA\",\"LCA\",\"VCT\",\"WSM\",\"STP\",\"SAU\",\"SEN\",\"SYC\",\"SLE\",\"SGP\",\"SVK\",\"SVN\",\"SLB\",\"SOM\",\"ZAF\",\"KOR\",\"ESP\",\"LKA\",null,\"SDN\",\"SUR\",\"SWZ\",\"SWE\",\"CHE\",\"TJK\",\"TZA\",\"THA\",\"TLS\",\"TGO\",\"TON\",\"TTO\",\"TUN\",\"TUR\",\"TKM\",\"UGA\",\"UKR\",\"ARE\",\"GBR\",\"USA\",\"VIR\",\"URY\",\"UZB\",\"VUT\",\"VEN\",\"VNM\",\"OWID_WRL\",\"YEM\",\"ZMB\",\"ZWE\"],\"marker\":{\"color\":\"#636efa\",\"size\":[1485430,1434063,5486114,750776,49774,21245008,920186,70417,17868675,6661296,4573190,238269,984267,6926036,186600,3754156,8987777,101062,392465,106633,3023503,1618958,184621,90779948,220647,3529510,482457,100383,450674,1026022,28667056,162581,98475,233484,8962562,523744941,18725507,38861,252713,1803947,605964,2492696,1818707,639580,7449887,800563,5013979,60616,3810296,4760652,21989776,1170394,114343,31323,1016263,990514,242784,4780796,49293971,132223,305478,189835,1314780,65775045,2260962,5899878,31523,92134,1838717,220703,42649,224730,913055,1327904,5101518,6732757,306664,125596668,30172882,14343401,1586353,3491804,5212908,32503424,1059323,101588804,2643655,8423574,3738842,10466,2098725,963655,570014,1459513,2385951,144492,101754,867090,1960036,468102,330783,1175041,413135,520400,17467428,127545,341902,284572,167295,437233,44273257,23591,1549400,345189,222738,15150376,1072377,495420,265875,2459443,15300967,127329,3589038,615629,153582,22477036,0,4625506,1553889,15676584,1716682,1583223,145387,1558562,10716572,27630603,23739826,5870494,1779352,1346917,8119215,70199354,736125,59103,40128,20643,36048,13413060,1303489,39639,59505,3674972,4027090,1382784,32377,155059,17753916,41665689,31471340,3047253,72826152,6140213,170108,222139,8781507,6756166,1018418,1522269,15984332,45261,233775,26144,736803,4207734,31614303,258703,4566927,13084166,6764531,54482584,216894445,37680,1740369,5406690,22252,11850136,31365431,2192101639,3614791,1640447,1208479],\"sizemode\":\"area\",\"sizeref\":534280.94703125,\"symbol\":\"circle\"},\"mode\":\"markers\",\"name\":\"\",\"showlegend\":false,\"type\":\"scattergeo\"}],\"name\":\"2011\"},{\"data\":[{\"geo\":\"geo\",\"hovertemplate\":\"\\u003cb\\u003e%{hovertext}\\u003c\\u002fb\\u003e\\u003cbr\\u003e\\u003cbr\\u003eYear=2012\\u003cbr\\u003eNumber of internet users (users)=%{marker.size}\\u003cbr\\u003eCode=%{location}\\u003cextra\\u003e\\u003c\\u002fextra\\u003e\",\"hovertext\":[\"Afghanistan\",\"Albania\",\"Algeria\",\"Angola\",\"Antigua and Barbuda\",\"Argentina\",\"Armenia\",\"Aruba\",\"Australia\",\"Austria\",\"Azerbaijan\",\"Bahamas\",\"Bahrain\",\"Bangladesh\",\"Barbados\",\"Belarus\",\"Belgium\",\"Belize\",\"Benin\",\"Bhutan\",\"Bolivia\",\"Bosnia and Herzegovina\",\"Botswana\",\"Brazil\",\"Brunei\",\"Bulgaria\",\"Burkina Faso\",\"Burundi\",\"Cambodia\",\"Cameroon\",\"Canada\",\"Cape Verde\",\"Central African Republic\",\"Chad\",\"Chile\",\"China\",\"Colombia\",\"Comoros\",\"Congo\",\"Costa Rica\",\"Cote d'Ivoire\",\"Croatia\",\"Cuba\",\"Cyprus\",\"Czech Republic\",\"Democratic Republic of Congo\",\"Denmark\",\"Djibouti\",\"Dominican Republic\",\"Ecuador\",\"Egypt\",\"El Salvador\",\"Equatorial Guinea\",\"Eritrea\",\"Estonia\",\"Ethiopia\",\"Fiji\",\"Finland\",\"France\",\"French Polynesia\",\"Gabon\",\"Gambia\",\"Georgia\",\"Germany\",\"Ghana\",\"Greece\",\"Grenada\",\"Guam\",\"Guatemala\",\"Guinea\",\"Guinea-Bissau\",\"Guyana\",\"Haiti\",\"Honduras\",\"Hong Kong\",\"Hungary\",\"Iceland\",\"India\",\"Indonesia\",\"Iran\",\"Iraq\",\"Ireland\",\"Israel\",\"Italy\",\"Jamaica\",\"Japan\",\"Jordan\",\"Kazakhstan\",\"Kenya\",\"Kiribati\",\"Kuwait\",\"Kyrgyzstan\",\"Laos\",\"Latvia\",\"Lebanon\",\"Lesotho\",\"Liberia\",\"Lithuania\",\"Luxembourg\",\"Macao\",\"Macedonia\",\"Madagascar\",\"Malawi\",\"Malaysia\",\"Maldives\",\"Mali\",\"Malta\",\"Mauritania\",\"Mauritius\",\"Mexico\",\"Micronesia (country)\",\"Moldova\",\"Mongolia\",\"Montenegro\",\"Morocco\",\"Mozambique\",\"Myanmar\",\"Namibia\",\"Nepal\",\"Netherlands\",\"New Caledonia\",\"New Zealand\",\"Nicaragua\",\"Niger\",\"Nigeria\",\"North Korea\",\"Norway\",\"Oman\",\"Pakistan\",\"Palestine\",\"Panama\",\"Papua New Guinea\",\"Paraguay\",\"Peru\",\"Philippines\",\"Poland\",\"Portugal\",\"Puerto Rico\",\"Qatar\",\"Romania\",\"Russia\",\"Rwanda\",\"Saint Lucia\",\"Saint Vincent and the Grenadines\",\"Samoa\",\"Sao Tome and Principe\",\"Saudi Arabia\",\"Senegal\",\"Seychelles\",\"Sierra Leone\",\"Singapore\",\"Slovakia\",\"Slovenia\",\"Solomon Islands\",\"Somalia\",\"South Africa\",\"South Korea\",\"Spain\",\"Sri Lanka\",\"Sub-Saharan Africa\",\"Sudan\",\"Suriname\",\"Swaziland\",\"Sweden\",\"Switzerland\",\"Tajikistan\",\"Tanzania\",\"Thailand\",\"Timor\",\"Togo\",\"Tonga\",\"Trinidad and Tobago\",\"Tunisia\",\"Turkey\",\"Turkmenistan\",\"Uganda\",\"Ukraine\",\"United Arab Emirates\",\"United Kingdom\",\"United States\",\"United States Virgin Islands\",\"Uruguay\",\"Uzbekistan\",\"Vanuatu\",\"Venezuela\",\"Vietnam\",\"World\",\"Yemen\",\"Zambia\",\"Zimbabwe\"],\"legendgroup\":\"\",\"locations\":[\"AFG\",\"ALB\",\"DZA\",\"AGO\",\"ATG\",\"ARG\",\"ARM\",\"ABW\",\"AUS\",\"AUT\",\"AZE\",\"BHS\",\"BHR\",\"BGD\",\"BRB\",\"BLR\",\"BEL\",\"BLZ\",\"BEN\",\"BTN\",\"BOL\",\"BIH\",\"BWA\",\"BRA\",\"BRN\",\"BGR\",\"BFA\",\"BDI\",\"KHM\",\"CMR\",\"CAN\",\"CPV\",\"CAF\",\"TCD\",\"CHL\",\"CHN\",\"COL\",\"COM\",\"COG\",\"CRI\",\"CIV\",\"HRV\",\"CUB\",\"CYP\",\"CZE\",\"COD\",\"DNK\",\"DJI\",\"DOM\",\"ECU\",\"EGY\",\"SLV\",\"GNQ\",\"ERI\",\"EST\",\"ETH\",\"FJI\",\"FIN\",\"FRA\",\"PYF\",\"GAB\",\"GMB\",\"GEO\",\"DEU\",\"GHA\",\"GRC\",\"GRD\",\"GUM\",\"GTM\",\"GIN\",\"GNB\",\"GUY\",\"HTI\",\"HND\",\"HKG\",\"HUN\",\"ISL\",\"IND\",\"IDN\",\"IRN\",\"IRQ\",\"IRL\",\"ISR\",\"ITA\",\"JAM\",\"JPN\",\"JOR\",\"KAZ\",\"KEN\",\"KIR\",\"KWT\",\"KGZ\",\"LAO\",\"LVA\",\"LBN\",\"LSO\",\"LBR\",\"LTU\",\"LUX\",\"MAC\",\"MKD\",\"MDG\",\"MWI\",\"MYS\",\"MDV\",\"MLI\",\"MLT\",\"MRT\",\"MUS\",\"MEX\",\"FSM\",\"MDA\",\"MNG\",\"MNE\",\"MAR\",\"MOZ\",\"MMR\",\"NAM\",\"NPL\",\"NLD\",\"NCL\",\"NZL\",\"NIC\",\"NER\",\"NGA\",\"PRK\",\"NOR\",\"OMN\",\"PAK\",\"PSE\",\"PAN\",\"PNG\",\"PRY\",\"PER\",\"PHL\",\"POL\",\"PRT\",\"PRI\",\"QAT\",\"ROU\",\"RUS\",\"RWA\",\"LCA\",\"VCT\",\"WSM\",\"STP\",\"SAU\",\"SEN\",\"SYC\",\"SLE\",\"SGP\",\"SVK\",\"SVN\",\"SLB\",\"SOM\",\"ZAF\",\"KOR\",\"ESP\",\"LKA\",null,\"SDN\",\"SUR\",\"SWZ\",\"SWE\",\"CHE\",\"TJK\",\"TZA\",\"THA\",\"TLS\",\"TGO\",\"TON\",\"TTO\",\"TUN\",\"TUR\",\"TKM\",\"UGA\",\"UKR\",\"ARE\",\"GBR\",\"USA\",\"VIR\",\"URY\",\"UZB\",\"VUT\",\"VEN\",\"VNM\",\"OWID_WRL\",\"YEM\",\"ZMB\",\"ZWE\"],\"marker\":{\"color\":\"#636efa\",\"size\":[1674380,1595975,6836984,1631250,56131,23489980,1080721,75907,18029261,6816593,5021585,266931,1144191,7786353,200489,4443189,8946641,104377,437812,117463,3618464,1644043,334290,97392413,240940,3794088,617284,113700,729977,1581179,28967585,178556,134712,266808,9529015,581710631,22962546,43253,282945,2210708,1070930,2661267,2413015,688868,7773855,1158815,5176396,72850,4297575,5417722,23182700,1264244,144813,36488,1038615,2680881,294772,4865186,51828313,143667,421636,224351,1517391,66758038,2727703,6266005,33754,98438,2443369,349726,47408,229693,1008343,1541223,5180565,6966023,313188,158894454,36137845,17377897,2327137,3598407,5450966,33349398,959971,102094352,2957252,10475331,4582896,11457,2392169,1107633,689482,1510932,3011287,208993,108721,2041940,489529,344888,1191533,513971,700329,19194160,150349,448187,286978,191512,443944,48029252,26884,1766765,461533,356030,18472270,1540596,2039461,292985,3082773,15590352,149799,3647665,793410,186182,26934863,0,4743864,2078786,17719989,1864013,1520566,260079,1871663,11520725,35099725,23875573,6385071,2551327,1461931,9254571,91502341,865682,60878,43731,24449,39454,15706633,1479979,43444,169153,3795090,4155434,1408276,38593,175719,21729267,41994852,32711154,3734712,91651962,7557940,186265,259389,8890216,6842983,1160083,1938778,17951517,80973,274379,31485,798462,4511609,33653381,379063,5119258,15994710,7565384,56206188,234061561,42801,1849673,6971633,26228,14662581,33286292,2437368309,4345918,1979817,1765299],\"sizemode\":\"area\",\"sizeref\":534280.94703125,\"symbol\":\"circle\"},\"mode\":\"markers\",\"name\":\"\",\"showlegend\":false,\"type\":\"scattergeo\"}],\"name\":\"2012\"},{\"data\":[{\"geo\":\"geo\",\"hovertemplate\":\"\\u003cb\\u003e%{hovertext}\\u003c\\u002fb\\u003e\\u003cbr\\u003e\\u003cbr\\u003eYear=2013\\u003cbr\\u003eNumber of internet users (users)=%{marker.size}\\u003cbr\\u003eCode=%{location}\\u003cextra\\u003e\\u003c\\u002fextra\\u003e\",\"hovertext\":[\"Afghanistan\",\"Albania\",\"Algeria\",\"Angola\",\"Antigua and Barbuda\",\"Argentina\",\"Armenia\",\"Aruba\",\"Australia\",\"Austria\",\"Azerbaijan\",\"Bahamas\",\"Bahrain\",\"Bangladesh\",\"Barbados\",\"Belarus\",\"Belgium\",\"Belize\",\"Benin\",\"Bhutan\",\"Bolivia\",\"Bosnia and Herzegovina\",\"Botswana\",\"Brazil\",\"Brunei\",\"Bulgaria\",\"Burkina Faso\",\"Burundi\",\"Cambodia\",\"Cameroon\",\"Canada\",\"Cape Verde\",\"Central African Republic\",\"Chad\",\"Chile\",\"China\",\"Colombia\",\"Comoros\",\"Congo\",\"Costa Rica\",\"Cote d'Ivoire\",\"Croatia\",\"Cuba\",\"Cyprus\",\"Czech Republic\",\"Democratic Republic of Congo\",\"Denmark\",\"Djibouti\",\"Dominican Republic\",\"Ecuador\",\"Egypt\",\"El Salvador\",\"Equatorial Guinea\",\"Eritrea\",\"Estonia\",\"Ethiopia\",\"Fiji\",\"Finland\",\"France\",\"French Polynesia\",\"Gabon\",\"Gambia\",\"Georgia\",\"Germany\",\"Ghana\",\"Greece\",\"Grenada\",\"Guam\",\"Guatemala\",\"Guinea\",\"Guinea-Bissau\",\"Guyana\",\"Haiti\",\"Honduras\",\"Hong Kong\",\"Hungary\",\"Iceland\",\"India\",\"Indonesia\",\"Iran\",\"Iraq\",\"Ireland\",\"Israel\",\"Italy\",\"Jamaica\",\"Japan\",\"Jordan\",\"Kazakhstan\",\"Kenya\",\"Kiribati\",\"Kuwait\",\"Kyrgyzstan\",\"Laos\",\"Latvia\",\"Lebanon\",\"Lesotho\",\"Liberia\",\"Libya\",\"Lithuania\",\"Luxembourg\",\"Macao\",\"Macedonia\",\"Madagascar\",\"Malawi\",\"Malaysia\",\"Maldives\",\"Mali\",\"Malta\",\"Mauritania\",\"Mauritius\",\"Mexico\",\"Micronesia (country)\",\"Moldova\",\"Mongolia\",\"Montenegro\",\"Morocco\",\"Mozambique\",\"Myanmar\",\"Namibia\",\"Nepal\",\"Netherlands\",\"New Caledonia\",\"New Zealand\",\"Nicaragua\",\"Niger\",\"Nigeria\",\"Norway\",\"Oman\",\"Pakistan\",\"Palestine\",\"Panama\",\"Papua New Guinea\",\"Paraguay\",\"Peru\",\"Philippines\",\"Poland\",\"Portugal\",\"Puerto Rico\",\"Qatar\",\"Romania\",\"Russia\",\"Rwanda\",\"Saint Lucia\",\"Saint Vincent and the Grenadines\",\"Samoa\",\"Sao Tome and Principe\",\"Saudi Arabia\",\"Senegal\",\"Seychelles\",\"Sierra Leone\",\"Singapore\",\"Slovakia\",\"Slovenia\",\"Solomon Islands\",\"Somalia\",\"South Africa\",\"South Korea\",\"South Sudan\",\"Spain\",\"Sri Lanka\",\"Sub-Saharan Africa\",\"Sudan\",\"Suriname\",\"Swaziland\",\"Sweden\",\"Switzerland\",\"Tajikistan\",\"Tanzania\",\"Thailand\",\"Timor\",\"Togo\",\"Tonga\",\"Trinidad and Tobago\",\"Tunisia\",\"Turkey\",\"Turkmenistan\",\"Uganda\",\"Ukraine\",\"United Arab Emirates\",\"United Kingdom\",\"United States\",\"United States Virgin Islands\",\"Uruguay\",\"Uzbekistan\",\"Vanuatu\",\"Venezuela\",\"Vietnam\",\"World\",\"Yemen\",\"Zambia\",\"Zimbabwe\"],\"legendgroup\":\"\",\"locations\":[\"AFG\",\"ALB\",\"DZA\",\"AGO\",\"ATG\",\"ARG\",\"ARM\",\"ABW\",\"AUS\",\"AUT\",\"AZE\",\"BHS\",\"BHR\",\"BGD\",\"BRB\",\"BLR\",\"BEL\",\"BLZ\",\"BEN\",\"BTN\",\"BOL\",\"BIH\",\"BWA\",\"BRA\",\"BRN\",\"BGR\",\"BFA\",\"BDI\",\"KHM\",\"CMR\",\"CAN\",\"CPV\",\"CAF\",\"TCD\",\"CHL\",\"CHN\",\"COL\",\"COM\",\"COG\",\"CRI\",\"CIV\",\"HRV\",\"CUB\",\"CYP\",\"CZE\",\"COD\",\"DNK\",\"DJI\",\"DOM\",\"ECU\",\"EGY\",\"SLV\",\"GNQ\",\"ERI\",\"EST\",\"ETH\",\"FJI\",\"FIN\",\"FRA\",\"PYF\",\"GAB\",\"GMB\",\"GEO\",\"DEU\",\"GHA\",\"GRC\",\"GRD\",\"GUM\",\"GTM\",\"GIN\",\"GNB\",\"GUY\",\"HTI\",\"HND\",\"HKG\",\"HUN\",\"ISL\",\"IND\",\"IDN\",\"IRN\",\"IRQ\",\"IRL\",\"ISR\",\"ITA\",\"JAM\",\"JPN\",\"JOR\",\"KAZ\",\"KEN\",\"KIR\",\"KWT\",\"KGZ\",\"LAO\",\"LVA\",\"LBN\",\"LSO\",\"LBR\",\"LBY\",\"LTU\",\"LUX\",\"MAC\",\"MKD\",\"MDG\",\"MWI\",\"MYS\",\"MDV\",\"MLI\",\"MLT\",\"MRT\",\"MUS\",\"MEX\",\"FSM\",\"MDA\",\"MNG\",\"MNE\",\"MAR\",\"MOZ\",\"MMR\",\"NAM\",\"NPL\",\"NLD\",\"NCL\",\"NZL\",\"NIC\",\"NER\",\"NGA\",\"NOR\",\"OMN\",\"PAK\",\"PSE\",\"PAN\",\"PNG\",\"PRY\",\"PER\",\"PHL\",\"POL\",\"PRT\",\"PRI\",\"QAT\",\"ROU\",\"RUS\",\"RWA\",\"LCA\",\"VCT\",\"WSM\",\"STP\",\"SAU\",\"SEN\",\"SYC\",\"SLE\",\"SGP\",\"SVK\",\"SVN\",\"SLB\",\"SOM\",\"ZAF\",\"KOR\",\"SSD\",\"ESP\",\"LKA\",null,\"SDN\",\"SUR\",\"SWZ\",\"SWE\",\"CHE\",\"TJK\",\"TZA\",\"THA\",\"TLS\",\"TGO\",\"TON\",\"TTO\",\"TUN\",\"TUR\",\"TKM\",\"UGA\",\"UKR\",\"ARE\",\"GBR\",\"USA\",\"VIR\",\"URY\",\"UZB\",\"VUT\",\"VEN\",\"VNM\",\"OWID_WRL\",\"YEM\",\"ZMB\",\"ZWE\"],\"marker\":{\"color\":\"#636efa\",\"size\":[1872170,1669655,8626176,2313852,62020,25481415,1212380,81415,19320093,6915305,6851264,271613,1183870,10446977,202841,5134721,9163220,115645,490218,171351,3847058,1749193,638552,103309366,261687,3855523,1553618,121367,1021543,2165572,30249215,195040,152988,328340,10128530,633319291,24476321,48198,313592,2163062,2635957,2855333,3187418,748735,7851612,1568953,5335049,85185,4719115,6308334,26403385,1444511,177734,41859,1057305,4364835,309660,4975287,52363068,155364,554959,260305,1751879,68400867,3951938,6777643,37068,104885,3072454,519148,52126,235005,1105768,1541086,5304240,7149393,315736,193062893,37653620,23191898,3117249,3663531,5494351,34881495,1058020,113196925,3483174,10892921,5827490,12482,2715341,1307276,811820,1535372,3719652,317604,137161,1022335,2051762,510820,378903,1354212,688834,837146,16949918,175252,576724,291675,244663,503582,53254132,28829,2443178,507831,378200,18941871,1928107,4115856,321996,3722046,15821975,172847,3739609,921591,211903,32819397,4825957,2466279,19806673,2057224,1690075,387236,2385858,11981761,47368415,24077183,6537222,2545219,1919653,9986840,97603037,995864,63238,47554,29186,43020,18116408,1849762,46754,276883,4337027,4225232,1501564,45081,196985,25001839,42528466,428094,33451792,4495464,113117208,8364931,202910,314050,9113677,7021751,1308449,2228010,19720603,130280,316933,34499,860182,4824376,35051642,515163,5820828,18476777,7925511,58076224,225293187,47706,1966078,8045289,28605,16644499,35226624,2649104793,5115264,2333594,2333448],\"sizemode\":\"area\",\"sizeref\":534280.94703125,\"symbol\":\"circle\"},\"mode\":\"markers\",\"name\":\"\",\"showlegend\":false,\"type\":\"scattergeo\"}],\"name\":\"2013\"},{\"data\":[{\"geo\":\"geo\",\"hovertemplate\":\"\\u003cb\\u003e%{hovertext}\\u003c\\u002fb\\u003e\\u003cbr\\u003e\\u003cbr\\u003eYear=2014\\u003cbr\\u003eNumber of internet users (users)=%{marker.size}\\u003cbr\\u003eCode=%{location}\\u003cextra\\u003e\\u003c\\u002fextra\\u003e\",\"hovertext\":[\"Afghanistan\",\"Albania\",\"Algeria\",\"Angola\",\"Antigua and Barbuda\",\"Argentina\",\"Armenia\",\"Aruba\",\"Australia\",\"Austria\",\"Azerbaijan\",\"Bahamas\",\"Bahrain\",\"Bangladesh\",\"Barbados\",\"Belarus\",\"Belgium\",\"Belize\",\"Benin\",\"Bhutan\",\"Bolivia\",\"Bosnia and Herzegovina\",\"Botswana\",\"Brazil\",\"Brunei\",\"Bulgaria\",\"Burkina Faso\",\"Burundi\",\"Cambodia\",\"Cameroon\",\"Canada\",\"Cape Verde\",\"Central African Republic\",\"Chad\",\"Chile\",\"China\",\"Colombia\",\"Comoros\",\"Congo\",\"Costa Rica\",\"Cote d'Ivoire\",\"Croatia\",\"Cuba\",\"Cyprus\",\"Czech Republic\",\"Democratic Republic of Congo\",\"Denmark\",\"Djibouti\",\"Dominican Republic\",\"Ecuador\",\"Egypt\",\"El Salvador\",\"Equatorial Guinea\",\"Eritrea\",\"Estonia\",\"Ethiopia\",\"Fiji\",\"Finland\",\"France\",\"French Polynesia\",\"Gabon\",\"Gambia\",\"Georgia\",\"Germany\",\"Ghana\",\"Greece\",\"Grenada\",\"Guam\",\"Guatemala\",\"Guinea\",\"Guinea-Bissau\",\"Guyana\",\"Haiti\",\"Honduras\",\"Hong Kong\",\"Hungary\",\"Iceland\",\"India\",\"Indonesia\",\"Iran\",\"Iraq\",\"Ireland\",\"Israel\",\"Italy\",\"Jamaica\",\"Japan\",\"Jordan\",\"Kazakhstan\",\"Kenya\",\"Kiribati\",\"Kuwait\",\"Kyrgyzstan\",\"Laos\",\"Latvia\",\"Lebanon\",\"Lesotho\",\"Liberia\",\"Libya\",\"Lithuania\",\"Luxembourg\",\"Macao\",\"Macedonia\",\"Madagascar\",\"Malawi\",\"Malaysia\",\"Maldives\",\"Mali\",\"Malta\",\"Mauritania\",\"Mauritius\",\"Mexico\",\"Micronesia (country)\",\"Moldova\",\"Mongolia\",\"Montenegro\",\"Morocco\",\"Mozambique\",\"Myanmar\",\"Namibia\",\"Nepal\",\"Netherlands\",\"New Caledonia\",\"New Zealand\",\"Nicaragua\",\"Niger\",\"Nigeria\",\"Norway\",\"Oman\",\"Pakistan\",\"Palestine\",\"Panama\",\"Papua New Guinea\",\"Paraguay\",\"Peru\",\"Philippines\",\"Poland\",\"Portugal\",\"Qatar\",\"Romania\",\"Russia\",\"Rwanda\",\"Saint Lucia\",\"Saint Vincent and the Grenadines\",\"Samoa\",\"Sao Tome and Principe\",\"Saudi Arabia\",\"Senegal\",\"Seychelles\",\"Sierra Leone\",\"Singapore\",\"Slovakia\",\"Slovenia\",\"Solomon Islands\",\"Somalia\",\"South Africa\",\"South Korea\",\"South Sudan\",\"Spain\",\"Sri Lanka\",\"Sub-Saharan Africa\",\"Sudan\",\"Suriname\",\"Swaziland\",\"Sweden\",\"Switzerland\",\"Tajikistan\",\"Tanzania\",\"Thailand\",\"Timor\",\"Togo\",\"Tonga\",\"Trinidad and Tobago\",\"Tunisia\",\"Turkey\",\"Turkmenistan\",\"Uganda\",\"Ukraine\",\"United Arab Emirates\",\"United Kingdom\",\"United States\",\"United States Virgin Islands\",\"Uruguay\",\"Uzbekistan\",\"Vanuatu\",\"Venezuela\",\"Vietnam\",\"World\",\"Yemen\",\"Zambia\",\"Zimbabwe\"],\"legendgroup\":\"\",\"locations\":[\"AFG\",\"ALB\",\"DZA\",\"AGO\",\"ATG\",\"ARG\",\"ARM\",\"ABW\",\"AUS\",\"AUT\",\"AZE\",\"BHS\",\"BHR\",\"BGD\",\"BRB\",\"BLR\",\"BEL\",\"BLZ\",\"BEN\",\"BTN\",\"BOL\",\"BIH\",\"BWA\",\"BRA\",\"BRN\",\"BGR\",\"BFA\",\"BDI\",\"KHM\",\"CMR\",\"CAN\",\"CPV\",\"CAF\",\"TCD\",\"CHL\",\"CHN\",\"COL\",\"COM\",\"COG\",\"CRI\",\"CIV\",\"HRV\",\"CUB\",\"CYP\",\"CZE\",\"COD\",\"DNK\",\"DJI\",\"DOM\",\"ECU\",\"EGY\",\"SLV\",\"GNQ\",\"ERI\",\"EST\",\"ETH\",\"FJI\",\"FIN\",\"FRA\",\"PYF\",\"GAB\",\"GMB\",\"GEO\",\"DEU\",\"GHA\",\"GRC\",\"GRD\",\"GUM\",\"GTM\",\"GIN\",\"GNB\",\"GUY\",\"HTI\",\"HND\",\"HKG\",\"HUN\",\"ISL\",\"IND\",\"IDN\",\"IRN\",\"IRQ\",\"IRL\",\"ISR\",\"ITA\",\"JAM\",\"JPN\",\"JOR\",\"KAZ\",\"KEN\",\"KIR\",\"KWT\",\"KGZ\",\"LAO\",\"LVA\",\"LBN\",\"LSO\",\"LBR\",\"LBY\",\"LTU\",\"LUX\",\"MAC\",\"MKD\",\"MDG\",\"MWI\",\"MYS\",\"MDV\",\"MLI\",\"MLT\",\"MRT\",\"MUS\",\"MEX\",\"FSM\",\"MDA\",\"MNG\",\"MNE\",\"MAR\",\"MOZ\",\"MMR\",\"NAM\",\"NPL\",\"NLD\",\"NCL\",\"NZL\",\"NIC\",\"NER\",\"NGA\",\"NOR\",\"OMN\",\"PAK\",\"PSE\",\"PAN\",\"PNG\",\"PRY\",\"PER\",\"PHL\",\"POL\",\"PRT\",\"QAT\",\"ROU\",\"RUS\",\"RWA\",\"LCA\",\"VCT\",\"WSM\",\"STP\",\"SAU\",\"SEN\",\"SYC\",\"SLE\",\"SGP\",\"SVK\",\"SVN\",\"SLB\",\"SOM\",\"ZAF\",\"KOR\",\"SSD\",\"ESP\",\"LKA\",null,\"SDN\",\"SUR\",\"SWZ\",\"SWE\",\"CHE\",\"TJK\",\"TZA\",\"THA\",\"TLS\",\"TGO\",\"TON\",\"TTO\",\"TUN\",\"TUR\",\"TKM\",\"UGA\",\"UKR\",\"ARE\",\"GBR\",\"USA\",\"VIR\",\"URY\",\"UZB\",\"VUT\",\"VEN\",\"VNM\",\"OWID_WRL\",\"YEM\",\"ZMB\",\"ZWE\"],\"marker\":{\"color\":\"#636efa\",\"size\":[2293061,1755386,11538427,2745888,67017,27809040,1587459,86959,19718721,6992548,7127830,293964,1209481,22157334,212992,5597959,9536287,136106,617203,235264,3654507,1780067,796837,111400310,283129,4007568,1653082,136507,2137911,3606172,31018839,211944,162554,393514,10763792,665862876,25124208,53005,346335,2521515,4342744,2919390,3325561,798896,7867467,2211686,5436791,97693,5159217,7250291,31119506,1555330,213009,46986,1110606,7497242,331291,4724315,53759659,167164,714107,298418,1756632,70235938,6880236,7120433,54882,111502,3726113,755553,57295,244286,1205261,1680798,5746029,7424102,322415,271710452,43729473,30854765,4624303,3912712,5957407,33152548,1156361,114201877,4069899,11541934,7594001,13531,2976788,1634202,937794,1528828,4090394,472073,237539,1101850,2136380,526664,410851,1413943,872823,995113,19244796,201184,1187399,311390,434839,563275,55141968,30840,2726859,583096,382881,19492671,2513421,5981666,351855,4373108,15481910,185848,3904529,1058463,239099,37056705,4950119,2781362,22265551,2435236,1753671,504126,2817611,12451288,49650716,25503178,6763327,2172356,10801256,101380524,1202608,70039,51835,40765,46688,19916742,2574662,47797,428806,4305783,4345186,1482518,51795,220264,26724390,44115997,520756,35444980,5320880,138535761,9298622,219610,338992,8964611,7192696,1462644,3656441,23870612,212242,412048,38033,881775,5144028,39316433,666881,6562834,20752290,8200064,59560870,231934709,52629,2101653,10827364,48664,17520875,37943415,2902737310,5918547,2967985,2522081],\"sizemode\":\"area\",\"sizeref\":534280.94703125,\"symbol\":\"circle\"},\"mode\":\"markers\",\"name\":\"\",\"showlegend\":false,\"type\":\"scattergeo\"}],\"name\":\"2014\"},{\"data\":[{\"geo\":\"geo\",\"hovertemplate\":\"\\u003cb\\u003e%{hovertext}\\u003c\\u002fb\\u003e\\u003cbr\\u003e\\u003cbr\\u003eYear=2015\\u003cbr\\u003eNumber of internet users (users)=%{marker.size}\\u003cbr\\u003eCode=%{location}\\u003cextra\\u003e\\u003c\\u002fextra\\u003e\",\"hovertext\":[\"Afghanistan\",\"Albania\",\"Algeria\",\"Angola\",\"Antigua and Barbuda\",\"Argentina\",\"Armenia\",\"Aruba\",\"Australia\",\"Austria\",\"Azerbaijan\",\"Bahamas\",\"Bahrain\",\"Bangladesh\",\"Barbados\",\"Belarus\",\"Belgium\",\"Belize\",\"Benin\",\"Bhutan\",\"Bolivia\",\"Bosnia and Herzegovina\",\"Botswana\",\"Brazil\",\"Brunei\",\"Bulgaria\",\"Burkina Faso\",\"Burundi\",\"Cambodia\",\"Cameroon\",\"Canada\",\"Cape Verde\",\"Central African Republic\",\"Chad\",\"Chile\",\"China\",\"Colombia\",\"Comoros\",\"Congo\",\"Costa Rica\",\"Cote d'Ivoire\",\"Croatia\",\"Cuba\",\"Cyprus\",\"Czech Republic\",\"Democratic Republic of Congo\",\"Denmark\",\"Djibouti\",\"Dominican Republic\",\"Ecuador\",\"Egypt\",\"El Salvador\",\"Equatorial Guinea\",\"Eritrea\",\"Estonia\",\"Ethiopia\",\"Fiji\",\"Finland\",\"France\",\"French Polynesia\",\"Gabon\",\"Gambia\",\"Georgia\",\"Germany\",\"Ghana\",\"Greece\",\"Grenada\",\"Guam\",\"Guatemala\",\"Guinea\",\"Guinea-Bissau\",\"Guyana\",\"Haiti\",\"Honduras\",\"Hong Kong\",\"Hungary\",\"Iceland\",\"India\",\"Indonesia\",\"Iran\",\"Iraq\",\"Ireland\",\"Israel\",\"Italy\",\"Jamaica\",\"Japan\",\"Jordan\",\"Kazakhstan\",\"Kenya\",\"Kiribati\",\"Kuwait\",\"Kyrgyzstan\",\"Laos\",\"Latvia\",\"Lebanon\",\"Lesotho\",\"Liberia\",\"Libya\",\"Lithuania\",\"Luxembourg\",\"Macao\",\"Macedonia\",\"Madagascar\",\"Malawi\",\"Malaysia\",\"Maldives\",\"Mali\",\"Malta\",\"Mauritania\",\"Mauritius\",\"Mexico\",\"Micronesia (country)\",\"Moldova\",\"Mongolia\",\"Montenegro\",\"Morocco\",\"Mozambique\",\"Myanmar\",\"Namibia\",\"Nepal\",\"Netherlands\",\"New Caledonia\",\"New Zealand\",\"Nicaragua\",\"Niger\",\"Nigeria\",\"Norway\",\"Oman\",\"Pakistan\",\"Palestine\",\"Panama\",\"Papua New Guinea\",\"Paraguay\",\"Peru\",\"Philippines\",\"Poland\",\"Portugal\",\"Puerto Rico\",\"Qatar\",\"Romania\",\"Russia\",\"Rwanda\",\"Saint Lucia\",\"Saint Vincent and the Grenadines\",\"Samoa\",\"Sao Tome and Principe\",\"Saudi Arabia\",\"Senegal\",\"Seychelles\",\"Sierra Leone\",\"Singapore\",\"Slovakia\",\"Slovenia\",\"Solomon Islands\",\"Somalia\",\"South Africa\",\"South Korea\",\"South Sudan\",\"Spain\",\"Sri Lanka\",\"Sub-Saharan Africa\",\"Sudan\",\"Suriname\",\"Swaziland\",\"Sweden\",\"Switzerland\",\"Tajikistan\",\"Tanzania\",\"Thailand\",\"Timor\",\"Togo\",\"Tonga\",\"Trinidad and Tobago\",\"Tunisia\",\"Turkey\",\"Turkmenistan\",\"Uganda\",\"Ukraine\",\"United Arab Emirates\",\"United Kingdom\",\"United States\",\"United States Virgin Islands\",\"Uruguay\",\"Uzbekistan\",\"Vanuatu\",\"Venezuela\",\"Vietnam\",\"World\",\"Yemen\",\"Zambia\",\"Zimbabwe\"],\"legendgroup\":\"\",\"locations\":[\"AFG\",\"ALB\",\"DZA\",\"AGO\",\"ATG\",\"ARG\",\"ARM\",\"ABW\",\"AUS\",\"AUT\",\"AZE\",\"BHS\",\"BHR\",\"BGD\",\"BRB\",\"BLR\",\"BEL\",\"BLZ\",\"BEN\",\"BTN\",\"BOL\",\"BIH\",\"BWA\",\"BRA\",\"BRN\",\"BGR\",\"BFA\",\"BDI\",\"KHM\",\"CMR\",\"CAN\",\"CPV\",\"CAF\",\"TCD\",\"CHL\",\"CHN\",\"COL\",\"COM\",\"COG\",\"CRI\",\"CIV\",\"HRV\",\"CUB\",\"CYP\",\"CZE\",\"COD\",\"DNK\",\"DJI\",\"DOM\",\"ECU\",\"EGY\",\"SLV\",\"GNQ\",\"ERI\",\"EST\",\"ETH\",\"FJI\",\"FIN\",\"FRA\",\"PYF\",\"GAB\",\"GMB\",\"GEO\",\"DEU\",\"GHA\",\"GRC\",\"GRD\",\"GUM\",\"GTM\",\"GIN\",\"GNB\",\"GUY\",\"HTI\",\"HND\",\"HKG\",\"HUN\",\"ISL\",\"IND\",\"IDN\",\"IRN\",\"IRQ\",\"IRL\",\"ISR\",\"ITA\",\"JAM\",\"JPN\",\"JOR\",\"KAZ\",\"KEN\",\"KIR\",\"KWT\",\"KGZ\",\"LAO\",\"LVA\",\"LBN\",\"LSO\",\"LBR\",\"LBY\",\"LTU\",\"LUX\",\"MAC\",\"MKD\",\"MDG\",\"MWI\",\"MYS\",\"MDV\",\"MLI\",\"MLT\",\"MRT\",\"MUS\",\"MEX\",\"FSM\",\"MDA\",\"MNG\",\"MNE\",\"MAR\",\"MOZ\",\"MMR\",\"NAM\",\"NPL\",\"NLD\",\"NCL\",\"NZL\",\"NIC\",\"NER\",\"NGA\",\"NOR\",\"OMN\",\"PAK\",\"PSE\",\"PAN\",\"PNG\",\"PRY\",\"PER\",\"PHL\",\"POL\",\"PRT\",\"PRI\",\"QAT\",\"ROU\",\"RUS\",\"RWA\",\"LCA\",\"VCT\",\"WSM\",\"STP\",\"SAU\",\"SEN\",\"SYC\",\"SLE\",\"SGP\",\"SVK\",\"SVN\",\"SLB\",\"SOM\",\"ZAF\",\"KOR\",\"SSD\",\"ESP\",\"LKA\",null,\"SDN\",\"SUR\",\"SWZ\",\"SWE\",\"CHE\",\"TJK\",\"TZA\",\"THA\",\"TLS\",\"TGO\",\"TON\",\"TTO\",\"TUN\",\"TUR\",\"TKM\",\"UGA\",\"UKR\",\"ARE\",\"GBR\",\"USA\",\"VIR\",\"URY\",\"UZB\",\"VUT\",\"VEN\",\"VNM\",\"OWID_WRL\",\"YEM\",\"ZMB\",\"ZWE\"],\"marker\":{\"color\":\"#636efa\",\"size\":[2786634,1849106,15230924,3454554,69946,29542778,1723987,92510,20125028,7284877,7405463,301734,1282387,23212928,216318,6383925,9600720,149428,1190322,313380,3813949,1859915,824297,120133479,297290,4066447,2062374,496319,3464690,4722213,31804708,227447,172752,490329,13611542,702705362,26962240,57989,380467,2873314,8882897,2956870,4275698,832611,8023744,2895471,5479948,110570,5708049,7901124,35466326,1691909,250593,52528,1162899,13837584,379163,4737632,50283063,179277,883722,326302,1879730,71567689,8674205,7497417,57481,118338,4681665,991506,62689,261295,1306503,2474964,6155104,7126092,324299,340354035,56733881,35978058,6219115,3924345,6238096,34596781,1212566,116531474,5506058,12572064,7841219,14610,3051156,1774110,1212842,1578201,4330094,543661,265652,1185644,2092750,546225,466332,1463421,1011524,1634020,21833124,227870,1804435,324817,635679,631483,72300485,32898,2805526,669797,427912,19865736,4743200,11385134,623075,5038238,15536692,199132,4071073,1198422,492693,44389527,5033977,3088120,26513272,2677623,2032471,625666,3300970,12833058,54621685,26019206,7150500,2331715,2304973,11083840,100865491,2093320,75367,56665,49228,50492,21968896,3248550,50864,459147,4373574,4222798,1516643,58751,244783,28706715,45483702,653517,36510136,6211879,175112830,10284180,236573,338235,8846786,7278055,1622534,5387996,26993509,285425,528076,41111,941163,5242252,42066986,834613,7159781,21830759,8284643,60165510,238520635,57568,2216783,13257737,59142,19275447,40703632,3175188441,6482879,3381123,3588237],\"sizemode\":\"area\",\"sizeref\":534280.94703125,\"symbol\":\"circle\"},\"mode\":\"markers\",\"name\":\"\",\"showlegend\":false,\"type\":\"scattergeo\"}],\"name\":\"2015\"},{\"data\":[{\"geo\":\"geo\",\"hovertemplate\":\"\\u003cb\\u003e%{hovertext}\\u003c\\u002fb\\u003e\\u003cbr\\u003e\\u003cbr\\u003eYear=2016\\u003cbr\\u003eNumber of internet users (users)=%{marker.size}\\u003cbr\\u003eCode=%{location}\\u003cextra\\u003e\\u003c\\u002fextra\\u003e\",\"hovertext\":[\"Afghanistan\",\"Albania\",\"Algeria\",\"Angola\",\"Antigua and Barbuda\",\"Argentina\",\"Armenia\",\"Aruba\",\"Australia\",\"Austria\",\"Azerbaijan\",\"Bahamas\",\"Bahrain\",\"Bangladesh\",\"Barbados\",\"Belarus\",\"Belgium\",\"Belize\",\"Benin\",\"Bhutan\",\"Bolivia\",\"Bosnia and Herzegovina\",\"Botswana\",\"Brazil\",\"Brunei\",\"Bulgaria\",\"Burkina Faso\",\"Burundi\",\"Cambodia\",\"Cameroon\",\"Canada\",\"Cape Verde\",\"Central African Republic\",\"Chad\",\"Chile\",\"China\",\"Colombia\",\"Comoros\",\"Congo\",\"Costa Rica\",\"Cote d'Ivoire\",\"Croatia\",\"Cuba\",\"Curacao\",\"Cyprus\",\"Czech Republic\",\"Democratic Republic of Congo\",\"Denmark\",\"Djibouti\",\"Dominican Republic\",\"Ecuador\",\"Egypt\",\"El Salvador\",\"Equatorial Guinea\",\"Eritrea\",\"Estonia\",\"Ethiopia\",\"Fiji\",\"Finland\",\"France\",\"French Polynesia\",\"Gabon\",\"Gambia\",\"Georgia\",\"Germany\",\"Ghana\",\"Greece\",\"Grenada\",\"Guam\",\"Guatemala\",\"Guinea\",\"Guinea-Bissau\",\"Guyana\",\"Haiti\",\"Honduras\",\"Hong Kong\",\"Hungary\",\"Iceland\",\"India\",\"Indonesia\",\"Iran\",\"Iraq\",\"Ireland\",\"Israel\",\"Italy\",\"Jamaica\",\"Japan\",\"Jordan\",\"Kazakhstan\",\"Kenya\",\"Kiribati\",\"Kuwait\",\"Kyrgyzstan\",\"Laos\",\"Latvia\",\"Lebanon\",\"Lesotho\",\"Liberia\",\"Libya\",\"Lithuania\",\"Luxembourg\",\"Macao\",\"Macedonia\",\"Madagascar\",\"Malawi\",\"Malaysia\",\"Maldives\",\"Mali\",\"Malta\",\"Mauritania\",\"Mauritius\",\"Mexico\",\"Micronesia (country)\",\"Moldova\",\"Mongolia\",\"Montenegro\",\"Morocco\",\"Mozambique\",\"Myanmar\",\"Namibia\",\"Nepal\",\"Netherlands\",\"New Zealand\",\"Nicaragua\",\"Niger\",\"Nigeria\",\"Norway\",\"Oman\",\"Pakistan\",\"Palestine\",\"Panama\",\"Papua New Guinea\",\"Paraguay\",\"Peru\",\"Philippines\",\"Poland\",\"Portugal\",\"Puerto Rico\",\"Qatar\",\"Romania\",\"Russia\",\"Rwanda\",\"Saint Lucia\",\"Saint Vincent and the Grenadines\",\"Samoa\",\"Sao Tome and Principe\",\"Saudi Arabia\",\"Senegal\",\"Seychelles\",\"Sierra Leone\",\"Singapore\",\"Slovakia\",\"Slovenia\",\"Solomon Islands\",\"Somalia\",\"South Africa\",\"South Korea\",\"South Sudan\",\"Spain\",\"Sri Lanka\",\"Sub-Saharan Africa\",\"Sudan\",\"Suriname\",\"Swaziland\",\"Sweden\",\"Switzerland\",\"Tajikistan\",\"Tanzania\",\"Thailand\",\"Timor\",\"Togo\",\"Tonga\",\"Trinidad and Tobago\",\"Tunisia\",\"Turkey\",\"Turkmenistan\",\"Uganda\",\"Ukraine\",\"United Arab Emirates\",\"United Kingdom\",\"United States\",\"United States Virgin Islands\",\"Uruguay\",\"Uzbekistan\",\"Vanuatu\",\"Venezuela\",\"Vietnam\",\"World\",\"Yemen\",\"Zambia\",\"Zimbabwe\"],\"legendgroup\":\"\",\"locations\":[\"AFG\",\"ALB\",\"DZA\",\"AGO\",\"ATG\",\"ARG\",\"ARM\",\"ABW\",\"AUS\",\"AUT\",\"AZE\",\"BHS\",\"BHR\",\"BGD\",\"BRB\",\"BLR\",\"BEL\",\"BLZ\",\"BEN\",\"BTN\",\"BOL\",\"BIH\",\"BWA\",\"BRA\",\"BRN\",\"BGR\",\"BFA\",\"BDI\",\"KHM\",\"CMR\",\"CAN\",\"CPV\",\"CAF\",\"TCD\",\"CHL\",\"CHN\",\"COL\",\"COM\",\"COG\",\"CRI\",\"CIV\",\"HRV\",\"CUB\",\"CUW\",\"CYP\",\"CZE\",\"COD\",\"DNK\",\"DJI\",\"DOM\",\"ECU\",\"EGY\",\"SLV\",\"GNQ\",\"ERI\",\"EST\",\"ETH\",\"FJI\",\"FIN\",\"FRA\",\"PYF\",\"GAB\",\"GMB\",\"GEO\",\"DEU\",\"GHA\",\"GRC\",\"GRD\",\"GUM\",\"GTM\",\"GIN\",\"GNB\",\"GUY\",\"HTI\",\"HND\",\"HKG\",\"HUN\",\"ISL\",\"IND\",\"IDN\",\"IRN\",\"IRQ\",\"IRL\",\"ISR\",\"ITA\",\"JAM\",\"JPN\",\"JOR\",\"KAZ\",\"KEN\",\"KIR\",\"KWT\",\"KGZ\",\"LAO\",\"LVA\",\"LBN\",\"LSO\",\"LBR\",\"LBY\",\"LTU\",\"LUX\",\"MAC\",\"MKD\",\"MDG\",\"MWI\",\"MYS\",\"MDV\",\"MLI\",\"MLT\",\"MRT\",\"MUS\",\"MEX\",\"FSM\",\"MDA\",\"MNG\",\"MNE\",\"MAR\",\"MOZ\",\"MMR\",\"NAM\",\"NPL\",\"NLD\",\"NZL\",\"NIC\",\"NER\",\"NGA\",\"NOR\",\"OMN\",\"PAK\",\"PSE\",\"PAN\",\"PNG\",\"PRY\",\"PER\",\"PHL\",\"POL\",\"PRT\",\"PRI\",\"QAT\",\"ROU\",\"RUS\",\"RWA\",\"LCA\",\"VCT\",\"WSM\",\"STP\",\"SAU\",\"SEN\",\"SYC\",\"SLE\",\"SGP\",\"SVK\",\"SVN\",\"SLB\",\"SOM\",\"ZAF\",\"KOR\",\"SSD\",\"ESP\",\"LKA\",null,\"SDN\",\"SUR\",\"SWZ\",\"SWE\",\"CHE\",\"TJK\",\"TZA\",\"THA\",\"TLS\",\"TGO\",\"TON\",\"TTO\",\"TUN\",\"TUR\",\"TKM\",\"UGA\",\"UKR\",\"ARE\",\"GBR\",\"USA\",\"VIR\",\"URY\",\"UZB\",\"VUT\",\"VEN\",\"VNM\",\"OWID_WRL\",\"YEM\",\"ZMB\",\"ZWE\"],\"marker\":{\"color\":\"#636efa\",\"size\":[3672058,1942025,17438483,3745750,73703,31118074,1882003,98053,21288325,7346364,7605244,312986,1396667,29733670,226713,6741547,9826872,163572,1304029,333248,4322219,2119233,885770,126403573,380876,4266455,2603042,544479,5106764,5859797,33081802,271522,183785,722627,14965390,746662194,28285392,63157,416317,3207196,9765088,3062930,4932377,98580,888129,8115380,4889495,5538674,123775,6801383,8858247,39469731,1839784,290470,58322,1144939,15736221,417986,4826448,51304091,191776,951332,377123,2326195,73434128,9778145,7726596,59943,125446,5722498,1214801,68296,275760,1326911,2733860,6388370,7730392,326623,391255067,66453884,42729084,7898106,4017692,6525047,36444965,1278367,119039541,5891172,13416643,8044620,15672,3175904,2054728,1478052,1573312,4571675,602965,337691,1275778,2163058,565019,499791,1501732,1173445,2075104,24571919,252772,1999620,331851,774183,658723,75938137,34999,2882322,674073,439287,20556219,5051281,13260073,769538,5706349,15358408,4123448,1511150,893643,47743541,5112723,3400430,29974665,2930876,2178424,776284,3591314,14444940,57342723,28018760,7304070,2517649,2423097,11768741,105225728,2383502,83185,60934,57390,55975,24168034,3955355,53253,870767,4748163,4381283,1568755,65941,269178,30248355,47156754,816980,37338225,6666125,197652432,11082072,253499,383770,8819442,7488864,1788044,7224386,32713589,320292,860281,42795,1000475,5656011,46393699,1018710,9075978,23552471,8398269,62351648,245425910,62537,2286820,14714360,64896,18940907,43974618,3419398061,6779981,4231896,3733962],\"sizemode\":\"area\",\"sizeref\":534280.94703125,\"symbol\":\"circle\"},\"mode\":\"markers\",\"name\":\"\",\"showlegend\":false,\"type\":\"scattergeo\"}],\"name\":\"2016\"},{\"data\":[{\"geo\":\"geo\",\"hovertemplate\":\"\\u003cb\\u003e%{hovertext}\\u003c\\u002fb\\u003e\\u003cbr\\u003e\\u003cbr\\u003eYear=1995\\u003cbr\\u003eNumber of internet users (users)=%{marker.size}\\u003cbr\\u003eCode=%{location}\\u003cextra\\u003e\\u003c\\u002fextra\\u003e\",\"hovertext\":[\"Albania\",\"Algeria\",\"Antigua and Barbuda\",\"Argentina\",\"Armenia\",\"Australia\",\"Austria\",\"Azerbaijan\",\"Bahamas\",\"Bahrain\",\"Barbados\",\"Belarus\",\"Belgium\",\"Belize\",\"Bolivia\",\"Botswana\",\"Brazil\",\"Brunei\",\"Bulgaria\",\"Burundi\",\"Canada\",\"Chile\",\"China\",\"Colombia\",\"Costa Rica\",\"Cote d'Ivoire\",\"Croatia\",\"Cuba\",\"Cyprus\",\"Czech Republic\",\"Denmark\",\"Djibouti\",\"Dominican Republic\",\"Ecuador\",\"Egypt\",\"Eritrea\",\"Estonia\",\"Ethiopia\",\"Fiji\",\"Finland\",\"France\",\"Gambia\",\"Georgia\",\"Germany\",\"Ghana\",\"Greece\",\"Grenada\",\"Guam\",\"Guatemala\",\"Guinea\",\"Honduras\",\"Hong Kong\",\"Hungary\",\"Iceland\",\"India\",\"Indonesia\",\"Iran\",\"Ireland\",\"Israel\",\"Italy\",\"Jamaica\",\"Japan\",\"Jordan\",\"Kazakhstan\",\"Kenya\",\"Kuwait\",\"Lebanon\",\"Luxembourg\",\"Macao\",\"Macedonia\",\"Malaysia\",\"Maldives\",\"Malta\",\"Mexico\",\"Moldova\",\"Mongolia\",\"Morocco\",\"Namibia\",\"Nepal\",\"Netherlands\",\"New Caledonia\",\"New Zealand\",\"Nicaragua\",\"Norway\",\"Pakistan\",\"Panama\",\"Peru\",\"Philippines\",\"Poland\",\"Portugal\",\"Puerto Rico\",\"Qatar\",\"Romania\",\"Russia\",\"Saint Lucia\",\"Saint Vincent and the Grenadines\",\"Saudi Arabia\",\"Senegal\",\"Sierra Leone\",\"Singapore\",\"Slovakia\",\"Slovenia\",\"Solomon Islands\",\"Somalia\",\"South Africa\",\"South Korea\",\"Spain\",\"Sri Lanka\",\"Sudan\",\"Suriname\",\"Swaziland\",\"Sweden\",\"Switzerland\",\"Thailand\",\"Togo\",\"Tonga\",\"Trinidad and Tobago\",\"Tunisia\",\"Turkey\",\"Uganda\",\"Ukraine\",\"United Arab Emirates\",\"United Kingdom\",\"United States\",\"United States Virgin Islands\",\"Uruguay\",\"Uzbekistan\",\"Venezuela\",\"World\",\"Zambia\",\"Zimbabwe\"],\"legendgroup\":\"\",\"locations\":[\"ALB\",\"DZA\",\"ATG\",\"ARG\",\"ARM\",\"AUS\",\"AUT\",\"AZE\",\"BHS\",\"BHR\",\"BRB\",\"BLR\",\"BEL\",\"BLZ\",\"BOL\",\"BWA\",\"BRA\",\"BRN\",\"BGR\",\"BDI\",\"CAN\",\"CHL\",\"CHN\",\"COL\",\"CRI\",\"CIV\",\"HRV\",\"CUB\",\"CYP\",\"CZE\",\"DNK\",\"DJI\",\"DOM\",\"ECU\",\"EGY\",\"ERI\",\"EST\",\"ETH\",\"FJI\",\"FIN\",\"FRA\",\"GMB\",\"GEO\",\"DEU\",\"GHA\",\"GRC\",\"GRD\",\"GUM\",\"GTM\",\"GIN\",\"HND\",\"HKG\",\"HUN\",\"ISL\",\"IND\",\"IDN\",\"IRN\",\"IRL\",\"ISR\",\"ITA\",\"JAM\",\"JPN\",\"JOR\",\"KAZ\",\"KEN\",\"KWT\",\"LBN\",\"LUX\",\"MAC\",\"MKD\",\"MYS\",\"MDV\",\"MLT\",\"MEX\",\"MDA\",\"MNG\",\"MAR\",\"NAM\",\"NPL\",\"NLD\",\"NCL\",\"NZL\",\"NIC\",\"NOR\",\"PAK\",\"PAN\",\"PER\",\"PHL\",\"POL\",\"PRT\",\"PRI\",\"QAT\",\"ROU\",\"RUS\",\"LCA\",\"VCT\",\"SAU\",\"SEN\",\"SLE\",\"SGP\",\"SVK\",\"SVN\",\"SLB\",\"SOM\",\"ZAF\",\"KOR\",\"ESP\",\"LKA\",\"SDN\",\"SUR\",\"SWZ\",\"SWE\",\"CHE\",\"THA\",\"TGO\",\"TON\",\"TTO\",\"TUN\",\"TUR\",\"UGA\",\"UKR\",\"ARE\",\"GBR\",\"USA\",\"VIR\",\"URY\",\"UZB\",\"VEN\",\"OWID_WRL\",\"ZMB\",\"ZWE\"],\"marker\":{\"color\":\"#636efa\",\"size\":[347,511,1620,30193,1697,498856,151030,160,2690,1952,21,296,101014,94,5055,1012,170636,3023,10027,0,1221165,49606,61435,70408,14635,29,23731,10,3508,150568,200185,101,1360,5015,19955,0,39823,10,71,711557,953970,98,594,1492989,58,80879,0,960,312,53,2100,197627,70119,30017,251924,51425,2532,40473,49626,300254,2778,2014884,1062,1812,199,3268,2172,6493,1080,808,29857,0,856,96457,150,202,1005,102,198,1001258,10,179493,1386,280502,151,1538,8032,19963,249078,151671,4985,977,17213,219691,449,139,2053,61,0,99960,28125,57732,89,0,284827,371307,151903,1001,0,509,10,450483,249299,44515,0,118,1985,1020,47778,588,21932,2521,1098787,24539142,3009,10001,349,27118,44714405,803,870],\"sizemode\":\"area\",\"sizeref\":534280.94703125,\"symbol\":\"circle\"},\"mode\":\"markers\",\"name\":\"\",\"showlegend\":false,\"type\":\"scattergeo\"}],\"name\":\"1995\"},{\"data\":[{\"geo\":\"geo\",\"hovertemplate\":\"\\u003cb\\u003e%{hovertext}\\u003c\\u002fb\\u003e\\u003cbr\\u003e\\u003cbr\\u003eYear=1996\\u003cbr\\u003eNumber of internet users (users)=%{marker.size}\\u003cbr\\u003eCode=%{location}\\u003cextra\\u003e\\u003c\\u002fextra\\u003e\",\"hovertext\":[\"Albania\",\"Algeria\",\"Angola\",\"Antigua and Barbuda\",\"Argentina\",\"Armenia\",\"Aruba\",\"Australia\",\"Austria\",\"Azerbaijan\",\"Bahamas\",\"Bahrain\",\"Barbados\",\"Belarus\",\"Belgium\",\"Belize\",\"Benin\",\"Bolivia\",\"Bosnia and Herzegovina\",\"Botswana\",\"Brazil\",\"Brunei\",\"Bulgaria\",\"Burkina Faso\",\"Burundi\",\"Canada\",\"Central African Republic\",\"Chile\",\"China\",\"Colombia\",\"Congo\",\"Costa Rica\",\"Cote d'Ivoire\",\"Croatia\",\"Cuba\",\"Cyprus\",\"Czech Republic\",\"Democratic Republic of Congo\",\"Denmark\",\"Djibouti\",\"Dominican Republic\",\"Ecuador\",\"Egypt\",\"El Salvador\",\"Eritrea\",\"Estonia\",\"Ethiopia\",\"Fiji\",\"Finland\",\"France\",\"French Polynesia\",\"Gabon\",\"Gambia\",\"Georgia\",\"Germany\",\"Ghana\",\"Greece\",\"Grenada\",\"Guam\",\"Guatemala\",\"Guinea\",\"Guyana\",\"Haiti\",\"Honduras\",\"Hong Kong\",\"Hungary\",\"Iceland\",\"India\",\"Indonesia\",\"Iran\",\"Ireland\",\"Israel\",\"Italy\",\"Jamaica\",\"Japan\",\"Jordan\",\"Kazakhstan\",\"Kenya\",\"Kuwait\",\"Latvia\",\"Lebanon\",\"Lesotho\",\"Lithuania\",\"Luxembourg\",\"Macao\",\"Macedonia\",\"Madagascar\",\"Malaysia\",\"Maldives\",\"Mali\",\"Malta\",\"Mauritius\",\"Mexico\",\"Micronesia (country)\",\"Moldova\",\"Mongolia\",\"Morocco\",\"Mozambique\",\"Namibia\",\"Nepal\",\"Netherlands\",\"New Caledonia\",\"New Zealand\",\"Nicaragua\",\"Niger\",\"Nigeria\",\"Norway\",\"Oman\",\"Pakistan\",\"Panama\",\"Papua New Guinea\",\"Paraguay\",\"Peru\",\"Philippines\",\"Poland\",\"Portugal\",\"Puerto Rico\",\"Qatar\",\"Romania\",\"Russia\",\"Rwanda\",\"Saint Lucia\",\"Saint Vincent and the Grenadines\",\"Saudi Arabia\",\"Senegal\",\"Seychelles\",\"Sierra Leone\",\"Singapore\",\"Slovakia\",\"Slovenia\",\"Solomon Islands\",\"Somalia\",\"South Africa\",\"South Korea\",\"Spain\",\"Sri Lanka\",\"Sub-Saharan Africa\",\"Sudan\",\"Suriname\",\"Swaziland\",\"Sweden\",\"Switzerland\",\"Tanzania\",\"Thailand\",\"Togo\",\"Tonga\",\"Trinidad and Tobago\",\"Tunisia\",\"Turkey\",\"Uganda\",\"Ukraine\",\"United Arab Emirates\",\"United Kingdom\",\"United States\",\"United States Virgin Islands\",\"Uruguay\",\"Uzbekistan\",\"Vanuatu\",\"Venezuela\",\"Vietnam\",\"World\",\"Yemen\",\"Zambia\",\"Zimbabwe\"],\"legendgroup\":\"\",\"locations\":[\"ALB\",\"DZA\",\"AGO\",\"ATG\",\"ARG\",\"ARM\",\"ABW\",\"AUS\",\"AUT\",\"AZE\",\"BHS\",\"BHR\",\"BRB\",\"BLR\",\"BEL\",\"BLZ\",\"BEN\",\"BOL\",\"BIH\",\"BWA\",\"BRA\",\"BRN\",\"BGR\",\"BFA\",\"BDI\",\"CAN\",\"CAF\",\"CHL\",\"CHN\",\"COL\",\"COG\",\"CRI\",\"CIV\",\"HRV\",\"CUB\",\"CYP\",\"CZE\",\"COD\",\"DNK\",\"DJI\",\"DOM\",\"ECU\",\"EGY\",\"SLV\",\"ERI\",\"EST\",\"ETH\",\"FJI\",\"FIN\",\"FRA\",\"PYF\",\"GAB\",\"GMB\",\"GEO\",\"DEU\",\"GHA\",\"GRC\",\"GRD\",\"GUM\",\"GTM\",\"GIN\",\"GUY\",\"HTI\",\"HND\",\"HKG\",\"HUN\",\"ISL\",\"IND\",\"IDN\",\"IRN\",\"IRL\",\"ISR\",\"ITA\",\"JAM\",\"JPN\",\"JOR\",\"KAZ\",\"KEN\",\"KWT\",\"LVA\",\"LBN\",\"LSO\",\"LTU\",\"LUX\",\"MAC\",\"MKD\",\"MDG\",\"MYS\",\"MDV\",\"MLI\",\"MLT\",\"MUS\",\"MEX\",\"FSM\",\"MDA\",\"MNG\",\"MAR\",\"MOZ\",\"NAM\",\"NPL\",\"NLD\",\"NCL\",\"NZL\",\"NIC\",\"NER\",\"NGA\",\"NOR\",\"OMN\",\"PAK\",\"PAN\",\"PNG\",\"PRY\",\"PER\",\"PHL\",\"POL\",\"PRT\",\"PRI\",\"QAT\",\"ROU\",\"RUS\",\"RWA\",\"LCA\",\"VCT\",\"SAU\",\"SEN\",\"SYC\",\"SLE\",\"SGP\",\"SVK\",\"SVN\",\"SLB\",\"SOM\",\"ZAF\",\"KOR\",\"ESP\",\"LKA\",null,\"SDN\",\"SUR\",\"SWZ\",\"SWE\",\"CHE\",\"TZA\",\"THA\",\"TGO\",\"TON\",\"TTO\",\"TUN\",\"TUR\",\"UGA\",\"UKR\",\"ARE\",\"GBR\",\"USA\",\"VIR\",\"URY\",\"UZB\",\"VUT\",\"VEN\",\"VNM\",\"OWID_WRL\",\"YEM\",\"ZMB\",\"ZWE\"],\"marker\":{\"color\":\"#636efa\",\"size\":[996,511,114,2162,50280,2996,2303,598443,553967,499,4958,4880,1036,2962,303024,1886,103,15132,572,2526,743411,10065,60137,100,49,2002527,201,99089,163519,125569,102,30251,1261,39297,3502,5881,200840,46,300315,201,6021,10067,39913,4900,0,49977,1008,505,861989,1511652,199,0,389,1981,2487416,971,151828,300,2008,2080,158,502,596,2565,296413,100151,40000,453560,113200,9746,80931,119002,585625,15145,5538558,2119,5035,2488,13962,20146,4304,51,9998,22984,2862,1512,514,179128,588,203,4035,2099,191764,301,200,421,1559,494,154,988,1501709,494,298945,3953,102,9781,801774,0,3768,6152,104,992,60182,39971,498699,303823,9974,4858,50539,399434,54,999,522,5114,1009,506,107,297771,42179,100887,993,119,361155,743208,532863,10006,405593,0,1018,495,801190,321259,500,69458,481,158,4946,2556,114523,981,49864,9651,2398181,44135783,5016,60007,998,98,56231,103,77323781,99,852,1934],\"sizemode\":\"area\",\"sizeref\":534280.94703125,\"symbol\":\"circle\"},\"mode\":\"markers\",\"name\":\"\",\"showlegend\":false,\"type\":\"scattergeo\"}],\"name\":\"1996\"},{\"data\":[{\"geo\":\"geo\",\"hovertemplate\":\"\\u003cb\\u003e%{hovertext}\\u003c\\u002fb\\u003e\\u003cbr\\u003e\\u003cbr\\u003eYear=1997\\u003cbr\\u003eNumber of internet users (users)=%{marker.size}\\u003cbr\\u003eCode=%{location}\\u003cextra\\u003e\\u003c\\u002fextra\\u003e\",\"hovertext\":[\"Albania\",\"Algeria\",\"Angola\",\"Antigua and Barbuda\",\"Argentina\",\"Armenia\",\"Australia\",\"Austria\",\"Azerbaijan\",\"Bahamas\",\"Bahrain\",\"Bangladesh\",\"Barbados\",\"Belarus\",\"Belgium\",\"Belize\",\"Benin\",\"Bolivia\",\"Bosnia and Herzegovina\",\"Botswana\",\"Brazil\",\"Brunei\",\"Bulgaria\",\"Burkina Faso\",\"Burundi\",\"Cambodia\",\"Cameroon\",\"Canada\",\"Cape Verde\",\"Central African Republic\",\"Chad\",\"Chile\",\"China\",\"Colombia\",\"Comoros\",\"Congo\",\"Costa Rica\",\"Cote d'Ivoire\",\"Croatia\",\"Cuba\",\"Cyprus\",\"Czech Republic\",\"Democratic Republic of Congo\",\"Denmark\",\"Djibouti\",\"Dominican Republic\",\"Ecuador\",\"Egypt\",\"El Salvador\",\"Equatorial Guinea\",\"Eritrea\",\"Estonia\",\"Ethiopia\",\"Fiji\",\"Finland\",\"France\",\"French Polynesia\",\"Gabon\",\"Gambia\",\"Georgia\",\"Germany\",\"Ghana\",\"Greece\",\"Grenada\",\"Guam\",\"Guatemala\",\"Guinea\",\"Guinea-Bissau\",\"Guyana\",\"Honduras\",\"Hong Kong\",\"Hungary\",\"Iceland\",\"India\",\"Indonesia\",\"Iran\",\"Ireland\",\"Israel\",\"Italy\",\"Jamaica\",\"Japan\",\"Jordan\",\"Kazakhstan\",\"Kenya\",\"Kuwait\",\"Latvia\",\"Lebanon\",\"Lesotho\",\"Liberia\",\"Lithuania\",\"Luxembourg\",\"Macao\",\"Macedonia\",\"Madagascar\",\"Malawi\",\"Malaysia\",\"Maldives\",\"Mali\",\"Malta\",\"Mauritania\",\"Mauritius\",\"Mexico\",\"Micronesia (country)\",\"Moldova\",\"Mongolia\",\"Morocco\",\"Mozambique\",\"Namibia\",\"Nepal\",\"Netherlands\",\"New Caledonia\",\"New Zealand\",\"Nicaragua\",\"Niger\",\"Nigeria\",\"North Korea\",\"Norway\",\"Oman\",\"Pakistan\",\"Panama\",\"Papua New Guinea\",\"Paraguay\",\"Peru\",\"Philippines\",\"Poland\",\"Portugal\",\"Puerto Rico\",\"Qatar\",\"Romania\",\"Russia\",\"Rwanda\",\"Saint Lucia\",\"Saint Vincent and the Grenadines\",\"Samoa\",\"Saudi Arabia\",\"Senegal\",\"Seychelles\",\"Sierra Leone\",\"Singapore\",\"Slovakia\",\"Slovenia\",\"Solomon Islands\",\"Somalia\",\"South Africa\",\"South Korea\",\"Spain\",\"Sri Lanka\",\"Sub-Saharan Africa\",\"Sudan\",\"Suriname\",\"Swaziland\",\"Sweden\",\"Switzerland\",\"Tanzania\",\"Thailand\",\"Togo\",\"Tonga\",\"Trinidad and Tobago\",\"Tunisia\",\"Turkey\",\"Uganda\",\"Ukraine\",\"United Arab Emirates\",\"United Kingdom\",\"United States\",\"United States Virgin Islands\",\"Uruguay\",\"Uzbekistan\",\"Vanuatu\",\"Venezuela\",\"Vietnam\",\"World\",\"Yemen\",\"Zambia\",\"Zimbabwe\"],\"legendgroup\":\"\",\"locations\":[\"ALB\",\"DZA\",\"AGO\",\"ATG\",\"ARG\",\"ARM\",\"AUS\",\"AUT\",\"AZE\",\"BHS\",\"BHR\",\"BGD\",\"BRB\",\"BLR\",\"BEL\",\"BLZ\",\"BEN\",\"BOL\",\"BIH\",\"BWA\",\"BRA\",\"BRN\",\"BGR\",\"BFA\",\"BDI\",\"KHM\",\"CMR\",\"CAN\",\"CPV\",\"CAF\",\"TCD\",\"CHL\",\"CHN\",\"COL\",\"COM\",\"COG\",\"CRI\",\"CIV\",\"HRV\",\"CUB\",\"CYP\",\"CZE\",\"COD\",\"DNK\",\"DJI\",\"DOM\",\"ECU\",\"EGY\",\"SLV\",\"GNQ\",\"ERI\",\"EST\",\"ETH\",\"FJI\",\"FIN\",\"FRA\",\"PYF\",\"GAB\",\"GMB\",\"GEO\",\"DEU\",\"GHA\",\"GRC\",\"GRD\",\"GUM\",\"GTM\",\"GIN\",\"GNB\",\"GUY\",\"HND\",\"HKG\",\"HUN\",\"ISL\",\"IND\",\"IDN\",\"IRN\",\"IRL\",\"ISR\",\"ITA\",\"JAM\",\"JPN\",\"JOR\",\"KAZ\",\"KEN\",\"KWT\",\"LVA\",\"LBN\",\"LSO\",\"LBR\",\"LTU\",\"LUX\",\"MAC\",\"MKD\",\"MDG\",\"MWI\",\"MYS\",\"MDV\",\"MLI\",\"MLT\",\"MRT\",\"MUS\",\"MEX\",\"FSM\",\"MDA\",\"MNG\",\"MAR\",\"MOZ\",\"NAM\",\"NPL\",\"NLD\",\"NCL\",\"NZL\",\"NIC\",\"NER\",\"NGA\",\"PRK\",\"NOR\",\"OMN\",\"PAK\",\"PAN\",\"PNG\",\"PRY\",\"PER\",\"PHL\",\"POL\",\"PRT\",\"PRI\",\"QAT\",\"ROU\",\"RUS\",\"RWA\",\"LCA\",\"VCT\",\"WSM\",\"SAU\",\"SEN\",\"SYC\",\"SLE\",\"SGP\",\"SVK\",\"SVN\",\"SLB\",\"SOM\",\"ZAF\",\"KOR\",\"ESP\",\"LKA\",null,\"SDN\",\"SUR\",\"SWZ\",\"SWE\",\"CHE\",\"TZA\",\"THA\",\"TGO\",\"TON\",\"TTO\",\"TUN\",\"TUR\",\"UGA\",\"UKR\",\"ARE\",\"GBR\",\"USA\",\"VIR\",\"URY\",\"UZB\",\"VUT\",\"VEN\",\"VNM\",\"OWID_WRL\",\"YEM\",\"ZMB\",\"ZWE\"],\"marker\":{\"color\":\"#636efa\",\"size\":[1503,3069,856,2706,100457,3498,3023026,765852,1996,3911,9794,930,2091,4938,504859,2856,1548,35249,2230,5040,1317038,15075,100168,1993,488,660,959,4507110,984,502,49,155338,407873,212751,0,103,60405,2908,78393,7514,39019,301442,93,600709,548,11648,13143,59854,14718,226,285,80440,3029,1772,1002462,2500385,480,548,579,2974,5469527,4849,202741,1002,3524,10395,317,193,1003,10309,668622,200248,74937,705842,395330,29321,151775,247754,1301950,20638,11628186,28962,10065,9962,37300,50377,38383,101,106,35027,29998,9493,10078,2057,485,497597,818,1020,15180,103,5489,610260,619,1205,2633,6020,1978,1033,4926,2202023,1976,547902,9871,204,19568,0,902524,9894,35562,15385,5185,4959,100161,100035,799087,506835,49895,16486,100817,698891,106,1499,1001,301,10162,2515,1007,215,491598,63259,150924,1489,240,712524,1663664,1125016,30018,781014,313,4574,889,2104397,1070857,2499,219426,9574,494,14790,4097,285982,2256,99787,88981,4309135,58826128,7526,110012,2499,244,90351,3084,120719713,2465,902,3874],\"sizemode\":\"area\",\"sizeref\":534280.94703125,\"symbol\":\"circle\"},\"mode\":\"markers\",\"name\":\"\",\"showlegend\":false,\"type\":\"scattergeo\"}],\"name\":\"1997\"},{\"data\":[{\"geo\":\"geo\",\"hovertemplate\":\"\\u003cb\\u003e%{hovertext}\\u003c\\u002fb\\u003e\\u003cbr\\u003e\\u003cbr\\u003eYear=1998\\u003cbr\\u003eNumber of internet users (users)=%{marker.size}\\u003cbr\\u003eCode=%{location}\\u003cextra\\u003e\\u003c\\u002fextra\\u003e\",\"hovertext\":[\"Albania\",\"Algeria\",\"Angola\",\"Antigua and Barbuda\",\"Argentina\",\"Armenia\",\"Australia\",\"Austria\",\"Azerbaijan\",\"Bahamas\",\"Bahrain\",\"Bangladesh\",\"Barbados\",\"Belarus\",\"Belgium\",\"Belize\",\"Benin\",\"Bolivia\",\"Bosnia and Herzegovina\",\"Botswana\",\"Brazil\",\"Brunei\",\"Bulgaria\",\"Burkina Faso\",\"Burundi\",\"Cambodia\",\"Cameroon\",\"Canada\",\"Cape Verde\",\"Central African Republic\",\"Chad\",\"Chile\",\"China\",\"Colombia\",\"Comoros\",\"Congo\",\"Costa Rica\",\"Cote d'Ivoire\",\"Croatia\",\"Cuba\",\"Cyprus\",\"Czech Republic\",\"Democratic Republic of Congo\",\"Denmark\",\"Djibouti\",\"Dominican Republic\",\"Ecuador\",\"Egypt\",\"El Salvador\",\"Equatorial Guinea\",\"Eritrea\",\"Estonia\",\"Ethiopia\",\"Fiji\",\"Finland\",\"France\",\"French Polynesia\",\"Gabon\",\"Gambia\",\"Georgia\",\"Germany\",\"Ghana\",\"Greece\",\"Grenada\",\"Guam\",\"Guatemala\",\"Guinea\",\"Guinea-Bissau\",\"Guyana\",\"Haiti\",\"Honduras\",\"Hong Kong\",\"Hungary\",\"Iceland\",\"India\",\"Indonesia\",\"Iran\",\"Ireland\",\"Israel\",\"Italy\",\"Jamaica\",\"Japan\",\"Jordan\",\"Kazakhstan\",\"Kenya\",\"Kiribati\",\"Kuwait\",\"Kyrgyzstan\",\"Laos\",\"Latvia\",\"Lebanon\",\"Lesotho\",\"Liberia\",\"Lithuania\",\"Luxembourg\",\"Macao\",\"Macedonia\",\"Madagascar\",\"Malawi\",\"Malaysia\",\"Maldives\",\"Mali\",\"Malta\",\"Mauritania\",\"Mauritius\",\"Mexico\",\"Micronesia (country)\",\"Moldova\",\"Mongolia\",\"Morocco\",\"Mozambique\",\"Namibia\",\"Nepal\",\"Netherlands\",\"New Caledonia\",\"New Zealand\",\"Nicaragua\",\"Niger\",\"Nigeria\",\"North Korea\",\"Norway\",\"Oman\",\"Pakistan\",\"Panama\",\"Papua New Guinea\",\"Paraguay\",\"Peru\",\"Philippines\",\"Poland\",\"Portugal\",\"Puerto Rico\",\"Qatar\",\"Romania\",\"Russia\",\"Rwanda\",\"Saint Lucia\",\"Saint Vincent and the Grenadines\",\"Samoa\",\"Sao Tome and Principe\",\"Saudi Arabia\",\"Senegal\",\"Seychelles\",\"Sierra Leone\",\"Singapore\",\"Slovakia\",\"Slovenia\",\"Solomon Islands\",\"Somalia\",\"South Africa\",\"South Korea\",\"Spain\",\"Sri Lanka\",\"Sub-Saharan Africa\",\"Sudan\",\"Suriname\",\"Swaziland\",\"Sweden\",\"Switzerland\",\"Tanzania\",\"Thailand\",\"Togo\",\"Tonga\",\"Trinidad and Tobago\",\"Tunisia\",\"Turkey\",\"Uganda\",\"Ukraine\",\"United Arab Emirates\",\"United Kingdom\",\"United States\",\"United States Virgin Islands\",\"Uruguay\",\"Uzbekistan\",\"Vanuatu\",\"Venezuela\",\"Vietnam\",\"World\",\"Yemen\",\"Zambia\",\"Zimbabwe\"],\"legendgroup\":\"\",\"locations\":[\"ALB\",\"DZA\",\"AGO\",\"ATG\",\"ARG\",\"ARM\",\"AUS\",\"AUT\",\"AZE\",\"BHS\",\"BHR\",\"BGD\",\"BRB\",\"BLR\",\"BEL\",\"BLZ\",\"BEN\",\"BOL\",\"BIH\",\"BWA\",\"BRA\",\"BRN\",\"BGR\",\"BFA\",\"BDI\",\"KHM\",\"CMR\",\"CAN\",\"CPV\",\"CAF\",\"TCD\",\"CHL\",\"CHN\",\"COL\",\"COM\",\"COG\",\"CRI\",\"CIV\",\"HRV\",\"CUB\",\"CYP\",\"CZE\",\"COD\",\"DNK\",\"DJI\",\"DOM\",\"ECU\",\"EGY\",\"SLV\",\"GNQ\",\"ERI\",\"EST\",\"ETH\",\"FJI\",\"FIN\",\"FRA\",\"PYF\",\"GAB\",\"GMB\",\"GEO\",\"DEU\",\"GHA\",\"GRC\",\"GRD\",\"GUM\",\"GTM\",\"GIN\",\"GNB\",\"GUY\",\"HTI\",\"HND\",\"HKG\",\"HUN\",\"ISL\",\"IND\",\"IDN\",\"IRN\",\"IRL\",\"ISR\",\"ITA\",\"JAM\",\"JPN\",\"JOR\",\"KAZ\",\"KEN\",\"KIR\",\"KWT\",\"KGZ\",\"LAO\",\"LVA\",\"LBN\",\"LSO\",\"LBR\",\"LTU\",\"LUX\",\"MAC\",\"MKD\",\"MDG\",\"MWI\",\"MYS\",\"MDV\",\"MLI\",\"MLT\",\"MRT\",\"MUS\",\"MEX\",\"FSM\",\"MDA\",\"MNG\",\"MAR\",\"MOZ\",\"NAM\",\"NPL\",\"NLD\",\"NCL\",\"NZL\",\"NIC\",\"NER\",\"NGA\",\"PRK\",\"NOR\",\"OMN\",\"PAK\",\"PAN\",\"PNG\",\"PRY\",\"PER\",\"PHL\",\"POL\",\"PRT\",\"PRI\",\"QAT\",\"ROU\",\"RUS\",\"RWA\",\"LCA\",\"VCT\",\"WSM\",\"STP\",\"SAU\",\"SEN\",\"SYC\",\"SLE\",\"SGP\",\"SVK\",\"SVN\",\"SLB\",\"SOM\",\"ZAF\",\"KOR\",\"ESP\",\"LKA\",null,\"SDN\",\"SUR\",\"SWZ\",\"SWE\",\"CHE\",\"TZA\",\"THA\",\"TGO\",\"TON\",\"TTO\",\"TUN\",\"TUR\",\"UGA\",\"UKR\",\"ARE\",\"GBR\",\"USA\",\"VIR\",\"URY\",\"UZB\",\"VUT\",\"VEN\",\"VNM\",\"OWID_WRL\",\"YEM\",\"ZMB\",\"ZWE\"],\"marker\":{\"color\":\"#636efa\",\"size\":[2018,6140,2861,3251,301083,4000,5751305,1240028,2995,6775,19750,4659,5279,7411,807377,4816,3098,50283,5388,10058,2514909,20062,150135,4982,980,1893,1919,7513571,1973,1003,331,247482,2136150,441864,195,104,100452,9686,147030,25082,80789,402193,185,1201529,645,19406,15238,99711,24574,535,283,151830,6068,5067,1314430,3730876,3006,1993,2393,4962,8050374,5815,355380,1504,6854,51948,527,289,2002,1982,18653,941683,400375,99834,1412482,525205,63783,303647,594224,2605356,51672,17052903,64353,20119,14963,503,56053,3485,497,80579,84773,201,105,70109,50016,28702,20178,9265,1933,1493050,1533,2055,25392,1035,29893,1250865,2012,11093,3435,40094,3461,5192,14718,3502435,3953,1197108,14794,307,29366,0,1003358,19427,58122,80108,12432,9919,299973,824175,1581756,1013920,99799,19375,502533,1197831,830,1999,2001,398,395,20167,7523,2000,645,731018,145122,200877,1986,603,1289552,3162187,1757522,55034,1457807,1249,7709,986,2968852,1764551,3000,672161,14298,743,34402,10254,428574,14724,149781,196068,8003083,82919577,10036,230024,5004,488,326199,10260,188144724,3941,3008,9711],\"sizemode\":\"area\",\"sizeref\":534280.94703125,\"symbol\":\"circle\"},\"mode\":\"markers\",\"name\":\"\",\"showlegend\":false,\"type\":\"scattergeo\"}],\"name\":\"1998\"},{\"data\":[{\"geo\":\"geo\",\"hovertemplate\":\"\\u003cb\\u003e%{hovertext}\\u003c\\u002fb\\u003e\\u003cbr\\u003e\\u003cbr\\u003eYear=1999\\u003cbr\\u003eNumber of internet users (users)=%{marker.size}\\u003cbr\\u003eCode=%{location}\\u003cextra\\u003e\\u003c\\u002fextra\\u003e\",\"hovertext\":[\"Albania\",\"Algeria\",\"Angola\",\"Antigua and Barbuda\",\"Argentina\",\"Armenia\",\"Aruba\",\"Australia\",\"Austria\",\"Azerbaijan\",\"Bahamas\",\"Bahrain\",\"Bangladesh\",\"Barbados\",\"Belarus\",\"Belgium\",\"Belize\",\"Benin\",\"Bhutan\",\"Bolivia\",\"Bosnia and Herzegovina\",\"Botswana\",\"Brazil\",\"Brunei\",\"Bulgaria\",\"Burkina Faso\",\"Burundi\",\"Cambodia\",\"Cameroon\",\"Canada\",\"Cape Verde\",\"Central African Republic\",\"Chad\",\"Chile\",\"China\",\"Colombia\",\"Comoros\",\"Congo\",\"Costa Rica\",\"Cote d'Ivoire\",\"Croatia\",\"Cuba\",\"Cyprus\",\"Czech Republic\",\"Democratic Republic of Congo\",\"Denmark\",\"Djibouti\",\"Dominican Republic\",\"Ecuador\",\"Egypt\",\"El Salvador\",\"Equatorial Guinea\",\"Eritrea\",\"Estonia\",\"Ethiopia\",\"Fiji\",\"Finland\",\"France\",\"French Polynesia\",\"Gabon\",\"Gambia\",\"Georgia\",\"Germany\",\"Ghana\",\"Greece\",\"Grenada\",\"Guam\",\"Guatemala\",\"Guinea\",\"Guinea-Bissau\",\"Guyana\",\"Haiti\",\"Honduras\",\"Hong Kong\",\"Hungary\",\"Iceland\",\"India\",\"Indonesia\",\"Iran\",\"Ireland\",\"Israel\",\"Italy\",\"Jamaica\",\"Japan\",\"Jordan\",\"Kazakhstan\",\"Kenya\",\"Kiribati\",\"Kuwait\",\"Kyrgyzstan\",\"Laos\",\"Latvia\",\"Lebanon\",\"Lesotho\",\"Liberia\",\"Libya\",\"Lithuania\",\"Luxembourg\",\"Macao\",\"Macedonia\",\"Madagascar\",\"Malawi\",\"Malaysia\",\"Maldives\",\"Mali\",\"Malta\",\"Mauritania\",\"Mauritius\",\"Mexico\",\"Micronesia (country)\",\"Moldova\",\"Mongolia\",\"Morocco\",\"Mozambique\",\"Myanmar\",\"Namibia\",\"Nepal\",\"Netherlands\",\"New Caledonia\",\"New Zealand\",\"Nicaragua\",\"Niger\",\"Nigeria\",\"North Korea\",\"Norway\",\"Oman\",\"Pakistan\",\"Panama\",\"Papua New Guinea\",\"Paraguay\",\"Peru\",\"Philippines\",\"Poland\",\"Portugal\",\"Puerto Rico\",\"Qatar\",\"Romania\",\"Russia\",\"Rwanda\",\"Saint Lucia\",\"Saint Vincent and the Grenadines\",\"Samoa\",\"Sao Tome and Principe\",\"Saudi Arabia\",\"Senegal\",\"Seychelles\",\"Sierra Leone\",\"Singapore\",\"Slovakia\",\"Slovenia\",\"Solomon Islands\",\"Somalia\",\"South Africa\",\"South Korea\",\"Spain\",\"Sri Lanka\",\"Sub-Saharan Africa\",\"Sudan\",\"Suriname\",\"Swaziland\",\"Sweden\",\"Switzerland\",\"Tajikistan\",\"Tanzania\",\"Thailand\",\"Togo\",\"Tonga\",\"Trinidad and Tobago\",\"Tunisia\",\"Turkey\",\"Turkmenistan\",\"Uganda\",\"Ukraine\",\"United Arab Emirates\",\"United Kingdom\",\"United States\",\"United States Virgin Islands\",\"Uruguay\",\"Uzbekistan\",\"Vanuatu\",\"Venezuela\",\"Vietnam\",\"World\",\"Yemen\",\"Zambia\",\"Zimbabwe\"],\"legendgroup\":\"\",\"locations\":[\"ALB\",\"DZA\",\"AGO\",\"ATG\",\"ARG\",\"ARM\",\"ABW\",\"AUS\",\"AUT\",\"AZE\",\"BHS\",\"BHR\",\"BGD\",\"BRB\",\"BLR\",\"BEL\",\"BLZ\",\"BEN\",\"BTN\",\"BOL\",\"BIH\",\"BWA\",\"BRA\",\"BRN\",\"BGR\",\"BFA\",\"BDI\",\"KHM\",\"CMR\",\"CAN\",\"CPV\",\"CAF\",\"TCD\",\"CHL\",\"CHN\",\"COL\",\"COM\",\"COG\",\"CRI\",\"CIV\",\"HRV\",\"CUB\",\"CYP\",\"CZE\",\"COD\",\"DNK\",\"DJI\",\"DOM\",\"ECU\",\"EGY\",\"SLV\",\"GNQ\",\"ERI\",\"EST\",\"ETH\",\"FJI\",\"FIN\",\"FRA\",\"PYF\",\"GAB\",\"GMB\",\"GEO\",\"DEU\",\"GHA\",\"GRC\",\"GRD\",\"GUM\",\"GTM\",\"GIN\",\"GNB\",\"GUY\",\"HTI\",\"HND\",\"HKG\",\"HUN\",\"ISL\",\"IND\",\"IDN\",\"IRN\",\"IRL\",\"ISR\",\"ITA\",\"JAM\",\"JPN\",\"JOR\",\"KAZ\",\"KEN\",\"KIR\",\"KWT\",\"KGZ\",\"LAO\",\"LVA\",\"LBN\",\"LSO\",\"LBR\",\"LBY\",\"LTU\",\"LUX\",\"MAC\",\"MKD\",\"MDG\",\"MWI\",\"MYS\",\"MDV\",\"MLI\",\"MLT\",\"MRT\",\"MUS\",\"MEX\",\"FSM\",\"MDA\",\"MNG\",\"MAR\",\"MOZ\",\"MMR\",\"NAM\",\"NPL\",\"NLD\",\"NCL\",\"NZL\",\"NIC\",\"NER\",\"NGA\",\"PRK\",\"NOR\",\"OMN\",\"PAK\",\"PAN\",\"PNG\",\"PRY\",\"PER\",\"PHL\",\"POL\",\"PRT\",\"PRI\",\"QAT\",\"ROU\",\"RUS\",\"RWA\",\"LCA\",\"VCT\",\"WSM\",\"STP\",\"SAU\",\"SEN\",\"SYC\",\"SLE\",\"SGP\",\"SVK\",\"SVN\",\"SLB\",\"SOM\",\"ZAF\",\"KOR\",\"ESP\",\"LKA\",null,\"SDN\",\"SUR\",\"SWZ\",\"SWE\",\"CHE\",\"TJK\",\"TZA\",\"THA\",\"TGO\",\"TON\",\"TTO\",\"TUN\",\"TUR\",\"TKM\",\"UGA\",\"UKR\",\"ARE\",\"GBR\",\"USA\",\"VIR\",\"URY\",\"UZB\",\"VUT\",\"VEN\",\"VNM\",\"OWID_WRL\",\"YEM\",\"ZMB\",\"ZWE\"],\"marker\":{\"color\":\"#636efa\",\"size\":[2537,61385,11478,4338,1203699,29986,4011,7693499,1855324,7992,11052,30047,46671,6390,49423,1412363,9744,10323,767,80339,7307,19079,3522098,25030,234597,6970,2462,3799,19221,11020176,4945,1503,991,618671,9032277,676024,784,527,150267,19346,196322,34962,105036,704233,463,1628039,740,93120,102087,199323,49248,575,842,203562,8107,7601,1671570,5412783,8034,2990,8557,19873,16985643,19382,762710,2509,13082,67487,5262,1437,29957,5938,36463,1396886,600426,114745,2826612,927107,246307,415014,791625,8221573,62070,27238783,126725,70410,34963,1005,93082,9951,1980,105653,169727,996,310,7047,103160,74988,38562,30312,25768,9639,2787970,3074,6495,30558,3114,54690,1863019,3016,25375,12082,50071,9892,69,6247,34183,6203726,11864,1584314,24644,3080,48970,0,1789602,56726,74957,114001,36227,19834,499084,1092830,2104097,1520320,199389,23181,601238,1497090,5101,2998,3001,496,494,100170,30008,4986,2152,922366,293514,250746,1986,1213,1854732,11075156,2872255,65046,2299787,2340,8835,4922,3676372,2427078,2005,25012,1511710,28489,993,73537,153899,1427699,2011,24563,199818,446512,12509316,99968569,12036,330031,7516,976,682373,102357,281428387,9841,15058,19505],\"sizemode\":\"area\",\"sizeref\":534280.94703125,\"symbol\":\"circle\"},\"mode\":\"markers\",\"name\":\"\",\"showlegend\":false,\"type\":\"scattergeo\"}],\"name\":\"1999\"},{\"data\":[{\"geo\":\"geo\",\"hovertemplate\":\"\\u003cb\\u003e%{hovertext}\\u003c\\u002fb\\u003e\\u003cbr\\u003e\\u003cbr\\u003eYear=2000\\u003cbr\\u003eNumber of internet users (users)=%{marker.size}\\u003cbr\\u003eCode=%{location}\\u003cextra\\u003e\\u003c\\u002fextra\\u003e\",\"hovertext\":[\"Albania\",\"Algeria\",\"Angola\",\"Antigua and Barbuda\",\"Argentina\",\"Armenia\",\"Aruba\",\"Australia\",\"Austria\",\"Azerbaijan\",\"Bahamas\",\"Bahrain\",\"Bangladesh\",\"Barbados\",\"Belarus\",\"Belgium\",\"Belize\",\"Benin\",\"Bhutan\",\"Bolivia\",\"Bosnia and Herzegovina\",\"Botswana\",\"Brazil\",\"Brunei\",\"Bulgaria\",\"Burkina Faso\",\"Burundi\",\"Cambodia\",\"Cameroon\",\"Canada\",\"Cape Verde\",\"Central African Republic\",\"Chad\",\"Chile\",\"China\",\"Colombia\",\"Comoros\",\"Congo\",\"Costa Rica\",\"Cote d'Ivoire\",\"Croatia\",\"Cuba\",\"Cyprus\",\"Czech Republic\",\"Democratic Republic of Congo\",\"Denmark\",\"Djibouti\",\"Dominican Republic\",\"Ecuador\",\"Egypt\",\"El Salvador\",\"Equatorial Guinea\",\"Eritrea\",\"Estonia\",\"Ethiopia\",\"Fiji\",\"Finland\",\"France\",\"French Polynesia\",\"Gabon\",\"Gambia\",\"Georgia\",\"Germany\",\"Ghana\",\"Greece\",\"Grenada\",\"Guam\",\"Guatemala\",\"Guinea\",\"Guinea-Bissau\",\"Guyana\",\"Haiti\",\"Honduras\",\"Hong Kong\",\"Hungary\",\"Iceland\",\"India\",\"Indonesia\",\"Iran\",\"Ireland\",\"Israel\",\"Italy\",\"Jamaica\",\"Japan\",\"Jordan\",\"Kazakhstan\",\"Kenya\",\"Kiribati\",\"Kuwait\",\"Kyrgyzstan\",\"Laos\",\"Latvia\",\"Lebanon\",\"Lesotho\",\"Liberia\",\"Libya\",\"Lithuania\",\"Luxembourg\",\"Macao\",\"Macedonia\",\"Madagascar\",\"Malawi\",\"Malaysia\",\"Maldives\",\"Mali\",\"Malta\",\"Mauritania\",\"Mauritius\",\"Mexico\",\"Micronesia (country)\",\"Moldova\",\"Mongolia\",\"Morocco\",\"Mozambique\",\"Namibia\",\"Nepal\",\"Netherlands\",\"New Caledonia\",\"New Zealand\",\"Nicaragua\",\"Niger\",\"Nigeria\",\"North Korea\",\"Norway\",\"Oman\",\"Palestine\",\"Panama\",\"Papua New Guinea\",\"Paraguay\",\"Peru\",\"Philippines\",\"Poland\",\"Portugal\",\"Puerto Rico\",\"Qatar\",\"Romania\",\"Russia\",\"Rwanda\",\"Saint Lucia\",\"Saint Vincent and the Grenadines\",\"Samoa\",\"Sao Tome and Principe\",\"Saudi Arabia\",\"Senegal\",\"Seychelles\",\"Sierra Leone\",\"Singapore\",\"Slovakia\",\"Slovenia\",\"Solomon Islands\",\"Somalia\",\"South Africa\",\"South Korea\",\"Spain\",\"Sri Lanka\",\"Sub-Saharan Africa\",\"Sudan\",\"Suriname\",\"Swaziland\",\"Sweden\",\"Switzerland\",\"Tajikistan\",\"Tanzania\",\"Thailand\",\"Togo\",\"Tonga\",\"Trinidad and Tobago\",\"Tunisia\",\"Turkey\",\"Turkmenistan\",\"Uganda\",\"Ukraine\",\"United Arab Emirates\",\"United Kingdom\",\"United States\",\"United States Virgin Islands\",\"Uruguay\",\"Uzbekistan\",\"Vanuatu\",\"Venezuela\",\"Vietnam\",\"World\",\"Yemen\",\"Zambia\",\"Zimbabwe\"],\"legendgroup\":\"\",\"locations\":[\"ALB\",\"DZA\",\"AGO\",\"ATG\",\"ARG\",\"ARM\",\"ABW\",\"AUS\",\"AUT\",\"AZE\",\"BHS\",\"BHR\",\"BGD\",\"BRB\",\"BLR\",\"BEL\",\"BLZ\",\"BEN\",\"BTN\",\"BOL\",\"BIH\",\"BWA\",\"BRA\",\"BRN\",\"BGR\",\"BFA\",\"BDI\",\"KHM\",\"CMR\",\"CAN\",\"CPV\",\"CAF\",\"TCD\",\"CHL\",\"CHN\",\"COL\",\"COM\",\"COG\",\"CRI\",\"CIV\",\"HRV\",\"CUB\",\"CYP\",\"CZE\",\"COD\",\"DNK\",\"DJI\",\"DOM\",\"ECU\",\"EGY\",\"SLV\",\"GNQ\",\"ERI\",\"EST\",\"ETH\",\"FJI\",\"FIN\",\"FRA\",\"PYF\",\"GAB\",\"GMB\",\"GEO\",\"DEU\",\"GHA\",\"GRC\",\"GRD\",\"GUM\",\"GTM\",\"GIN\",\"GNB\",\"GUY\",\"HTI\",\"HND\",\"HKG\",\"HUN\",\"ISL\",\"IND\",\"IDN\",\"IRN\",\"IRL\",\"ISR\",\"ITA\",\"JAM\",\"JPN\",\"JOR\",\"KAZ\",\"KEN\",\"KIR\",\"KWT\",\"KGZ\",\"LAO\",\"LVA\",\"LBN\",\"LSO\",\"LBR\",\"LBY\",\"LTU\",\"LUX\",\"MAC\",\"MKD\",\"MDG\",\"MWI\",\"MYS\",\"MDV\",\"MLI\",\"MLT\",\"MRT\",\"MUS\",\"MEX\",\"FSM\",\"MDA\",\"MNG\",\"MAR\",\"MOZ\",\"NAM\",\"NPL\",\"NLD\",\"NCL\",\"NZL\",\"NIC\",\"NER\",\"NGA\",\"PRK\",\"NOR\",\"OMN\",\"PSE\",\"PAN\",\"PNG\",\"PRY\",\"PER\",\"PHL\",\"POL\",\"PRT\",\"PRI\",\"QAT\",\"ROU\",\"RUS\",\"RWA\",\"LCA\",\"VCT\",\"WSM\",\"STP\",\"SAU\",\"SEN\",\"SYC\",\"SLE\",\"SGP\",\"SVK\",\"SVN\",\"SLB\",\"SOM\",\"ZAF\",\"KOR\",\"ESP\",\"LKA\",null,\"SDN\",\"SUR\",\"SWZ\",\"SWE\",\"CHE\",\"TJK\",\"TZA\",\"THA\",\"TGO\",\"TON\",\"TTO\",\"TUN\",\"TUR\",\"TKM\",\"UGA\",\"UKR\",\"ARE\",\"GBR\",\"USA\",\"VIR\",\"URY\",\"UZB\",\"VUT\",\"VEN\",\"VNM\",\"OWID_WRL\",\"YEM\",\"ZMB\",\"ZWE\"],\"marker\":{\"color\":\"#636efa\",\"size\":[3562,153332,17270,5418,2608357,39919,14030,8914445,2721778,12002,23831,40899,93475,10723,184805,3026176,14749,15465,2299,120319,40792,50168,5031955,29979,429555,8947,4944,5714,38509,15767452,7929,2005,2979,2533617,22788500,891931,1474,850,227686,38623,294240,60346,143902,1006377,2779,2092276,1396,317219,184654,448283,69085,813,4638,399824,10156,12143,1932433,8528696,15083,14972,11355,22890,24622623,29093,1018260,4130,25028,82992,8406,2861,49804,19772,78543,1854346,715440,124711,5555185,1957942,617797,687024,1255296,13241080,82782,38248371,133869,100673,100031,1507,138043,51244,5918,150657,257300,3958,511,10018,225065,99812,58242,50577,30965,14423,4958180,6179,15634,52018,5203,86297,5168767,4012,53894,30103,200156,19801,31238,48586,7005030,29673,1828377,49273,4117,78404,0,2339671,79843,35817,198633,46542,39645,797253,1545990,2808569,1701394,397720,28806,799648,2894596,5043,7989,3501,989,6429,459035,39928,6002,5397,1409026,508973,300467,1986,1802,2445806,21181681,5573115,121596,3284011,7027,11840,9831,4057813,3375775,3021,40055,2322547,39763,2388,97906,266800,2378894,6019,39356,349785,745361,15811652,121475820,15020,350028,120355,3902,822710,204125,414371966,14747,20122,49064],\"sizemode\":\"area\",\"sizeref\":534280.94703125,\"symbol\":\"circle\"},\"mode\":\"markers\",\"name\":\"\",\"showlegend\":false,\"type\":\"scattergeo\"}],\"name\":\"2000\"},{\"data\":[{\"geo\":\"geo\",\"hovertemplate\":\"\\u003cb\\u003e%{hovertext}\\u003c\\u002fb\\u003e\\u003cbr\\u003e\\u003cbr\\u003eYear=1994\\u003cbr\\u003eNumber of internet users (users)=%{marker.size}\\u003cbr\\u003eCode=%{location}\\u003cextra\\u003e\\u003c\\u002fextra\\u003e\",\"hovertext\":[\"Algeria\",\"Argentina\",\"Armenia\",\"Australia\",\"Austria\",\"Azerbaijan\",\"Belarus\",\"Belgium\",\"Brazil\",\"Bulgaria\",\"Burundi\",\"Canada\",\"Chile\",\"China\",\"Colombia\",\"Costa Rica\",\"Croatia\",\"Cyprus\",\"Czech Republic\",\"Denmark\",\"Ecuador\",\"Egypt\",\"Eritrea\",\"Estonia\",\"Fiji\",\"Finland\",\"France\",\"Germany\",\"Greece\",\"Grenada\",\"Guam\",\"Guinea\",\"Hong Kong\",\"Hungary\",\"Iceland\",\"India\",\"Indonesia\",\"Iran\",\"Ireland\",\"Israel\",\"Italy\",\"Jamaica\",\"Japan\",\"Kazakhstan\",\"Kuwait\",\"Luxembourg\",\"Macao\",\"Malaysia\",\"Maldives\",\"Mexico\",\"Moldova\",\"Nepal\",\"Netherlands\",\"New Zealand\",\"Nicaragua\",\"Norway\",\"Panama\",\"Peru\",\"Philippines\",\"Poland\",\"Portugal\",\"Puerto Rico\",\"Romania\",\"Russia\",\"Sierra Leone\",\"Singapore\",\"Slovakia\",\"Slovenia\",\"South Africa\",\"South Korea\",\"Spain\",\"Sri Lanka\",\"Sudan\",\"Sweden\",\"Switzerland\",\"Thailand\",\"Togo\",\"Tunisia\",\"Turkey\",\"Ukraine\",\"United Kingdom\",\"United States\",\"United States Virgin Islands\",\"Uruguay\",\"Venezuela\",\"World\",\"Zambia\",\"Zimbabwe\"],\"legendgroup\":\"\",\"locations\":[\"DZA\",\"ARG\",\"ARM\",\"AUS\",\"AUT\",\"AZE\",\"BLR\",\"BEL\",\"BRA\",\"BGR\",\"BDI\",\"CAN\",\"CHL\",\"CHN\",\"COL\",\"CRI\",\"HRV\",\"CYP\",\"CZE\",\"DNK\",\"ECU\",\"EGY\",\"ERI\",\"EST\",\"FJI\",\"FIN\",\"FRA\",\"DEU\",\"GRC\",\"GRD\",\"GUM\",\"GIN\",\"HKG\",\"HUN\",\"ISL\",\"IND\",\"IDN\",\"IRN\",\"IRL\",\"ISR\",\"ITA\",\"JAM\",\"JPN\",\"KAZ\",\"KWT\",\"LUX\",\"MAC\",\"MYS\",\"MDV\",\"MEX\",\"MDA\",\"NPL\",\"NLD\",\"NZL\",\"NIC\",\"NOR\",\"PAN\",\"PER\",\"PHL\",\"POL\",\"PRT\",\"PRI\",\"ROU\",\"RUS\",\"SLE\",\"SGP\",\"SVK\",\"SVN\",\"ZAF\",\"KOR\",\"ESP\",\"LKA\",\"SDN\",\"SWE\",\"CHE\",\"THA\",\"TGO\",\"TUN\",\"TUR\",\"UKR\",\"GBR\",\"USA\",\"VIR\",\"URY\",\"VEN\",\"OWID_WRL\",\"ZMB\",\"ZWE\"],\"marker\":{\"color\":\"#636efa\",\"size\":[102,15104,299,399161,110738,110,49,70685,60165,1655,0,690444,19881,14356,39465,9589,12498,929,130471,70056,3900,3989,0,16899,61,250527,521839,746622,40407,0,498,10,168586,50090,18016,10077,2055,244,20251,29807,110097,925,1008107,85,2449,1998,140,19908,0,40023,36,0,500620,114812,595,180283,205,2009,3988,149350,72634,997,6080,79872,0,40123,17081,21384,101772,139570,111369,501,0,300267,189347,22744,0,661,28707,6977,599272,12776546,1003,2000,12055,25348069,603,193],\"sizemode\":\"area\",\"sizeref\":534280.94703125,\"symbol\":\"circle\"},\"mode\":\"markers\",\"name\":\"\",\"showlegend\":false,\"type\":\"scattergeo\"}],\"name\":\"1994\"},{\"data\":[{\"geo\":\"geo\",\"hovertemplate\":\"\\u003cb\\u003e%{hovertext}\\u003c\\u002fb\\u003e\\u003cbr\\u003e\\u003cbr\\u003eYear=1992\\u003cbr\\u003eNumber of internet users (users)=%{marker.size}\\u003cbr\\u003eCode=%{location}\\u003cextra\\u003e\\u003c\\u002fextra\\u003e\",\"hovertext\":[\"Argentina\",\"Australia\",\"Austria\",\"Belgium\",\"Brazil\",\"Burundi\",\"Canada\",\"Chile\",\"Costa Rica\",\"Cyprus\",\"Denmark\",\"Ecuador\",\"Estonia\",\"Finland\",\"France\",\"Germany\",\"Greece\",\"Grenada\",\"Hong Kong\",\"Hungary\",\"Iceland\",\"India\",\"Ireland\",\"Israel\",\"Italy\",\"Japan\",\"Luxembourg\",\"Malaysia\",\"Maldives\",\"Mexico\",\"Nepal\",\"Netherlands\",\"New Zealand\",\"Norway\",\"Poland\",\"Portugal\",\"Russia\",\"Singapore\",\"South Africa\",\"South Korea\",\"Spain\",\"Sweden\",\"Switzerland\",\"Thailand\",\"Togo\",\"United Kingdom\",\"United States\",\"Venezuela\"],\"legendgroup\":\"\",\"locations\":[\"ARG\",\"AUS\",\"AUT\",\"BEL\",\"BRA\",\"BDI\",\"CAN\",\"CHL\",\"CRI\",\"CYP\",\"DNK\",\"ECU\",\"EST\",\"FIN\",\"FRA\",\"DEU\",\"GRC\",\"GRD\",\"HKG\",\"HUN\",\"ISL\",\"IND\",\"IRL\",\"ISR\",\"ITA\",\"JPN\",\"LUX\",\"MYS\",\"MDV\",\"MEX\",\"NPL\",\"NLD\",\"NZL\",\"NOR\",\"POL\",\"PRT\",\"RUS\",\"SGP\",\"ZAF\",\"KOR\",\"ESP\",\"SWE\",\"CHE\",\"THA\",\"TGO\",\"GBR\",\"USA\",\"VEN\"],\"marker\":{\"color\":\"#636efa\",\"size\":[1007,309285,50339,10082,20010,0,259995,4997,36,401,20010,548,996,95192,160445,348429,5047,0,50286,5009,4004,1008,6089,14935,40063,121178,600,199,0,15374,0,200191,10017,95142,19908,25067,997,15034,15299,43154,30366,130116,119386,199,0,149839,4439033,2513],\"sizemode\":\"area\",\"sizeref\":534280.94703125,\"symbol\":\"circle\"},\"mode\":\"markers\",\"name\":\"\",\"showlegend\":false,\"type\":\"scattergeo\"}],\"name\":\"1992\"},{\"data\":[{\"geo\":\"geo\",\"hovertemplate\":\"\\u003cb\\u003e%{hovertext}\\u003c\\u002fb\\u003e\\u003cbr\\u003e\\u003cbr\\u003eYear=1993\\u003cbr\\u003eNumber of internet users (users)=%{marker.size}\\u003cbr\\u003eCode=%{location}\\u003cextra\\u003e\\u003c\\u002fextra\\u003e\",\"hovertext\":[\"Argentina\",\"Australia\",\"Austria\",\"Belgium\",\"Brazil\",\"Bulgaria\",\"Burundi\",\"Canada\",\"Chile\",\"China\",\"Costa Rica\",\"Croatia\",\"Cyprus\",\"Czech Republic\",\"Denmark\",\"Ecuador\",\"Egypt\",\"Eritrea\",\"Estonia\",\"Fiji\",\"Finland\",\"France\",\"Germany\",\"Greece\",\"Grenada\",\"Hong Kong\",\"Hungary\",\"Iceland\",\"India\",\"Ireland\",\"Israel\",\"Italy\",\"Japan\",\"Kuwait\",\"Luxembourg\",\"Malaysia\",\"Maldives\",\"Mexico\",\"Nepal\",\"Netherlands\",\"New Zealand\",\"Norway\",\"Poland\",\"Portugal\",\"Romania\",\"Russia\",\"Sierra Leone\",\"Singapore\",\"Slovakia\",\"Slovenia\",\"South Africa\",\"South Korea\",\"Spain\",\"Sweden\",\"Switzerland\",\"Thailand\",\"Togo\",\"Turkey\",\"Ukraine\",\"United Kingdom\",\"United States\",\"Venezuela\",\"World\"],\"legendgroup\":\"\",\"locations\":[\"ARG\",\"AUS\",\"AUT\",\"BEL\",\"BRA\",\"BGR\",\"BDI\",\"CAN\",\"CHL\",\"CHN\",\"CRI\",\"HRV\",\"CYP\",\"CZE\",\"DNK\",\"ECU\",\"EGY\",\"ERI\",\"EST\",\"FJI\",\"FIN\",\"FRA\",\"DEU\",\"GRC\",\"GRD\",\"HKG\",\"HUN\",\"ISL\",\"IND\",\"IRL\",\"ISR\",\"ITA\",\"JPN\",\"KWT\",\"LUX\",\"MYS\",\"MDV\",\"MEX\",\"NPL\",\"NLD\",\"NZL\",\"NOR\",\"POL\",\"PRT\",\"ROU\",\"RUS\",\"SLE\",\"SGP\",\"SVK\",\"SVN\",\"ZAF\",\"KOR\",\"ESP\",\"SWE\",\"CHE\",\"THA\",\"TGO\",\"TUR\",\"UKR\",\"GBR\",\"USA\",\"VEN\",\"OWID_WRL\"],\"marker\":{\"color\":\"#636efa\",\"size\":[10072,349259,60402,20181,40066,201,0,340102,9965,2053,2723,4567,462,60219,30020,1796,598,0,4475,50,130267,341052,373319,20194,0,79852,20037,7007,2016,10137,19893,70081,504476,1619,1199,4979,0,25644,0,300335,22499,120179,49769,45264,861,19960,0,25093,6835,8199,45840,110828,50614,150127,149360,7927,0,4792,399,299645,5906809,8843,14073444],\"sizemode\":\"area\",\"sizeref\":534280.94703125,\"symbol\":\"circle\"},\"mode\":\"markers\",\"name\":\"\",\"showlegend\":false,\"type\":\"scattergeo\"}],\"name\":\"1993\"},{\"data\":[{\"geo\":\"geo\",\"hovertemplate\":\"\\u003cb\\u003e%{hovertext}\\u003c\\u002fb\\u003e\\u003cbr\\u003e\\u003cbr\\u003eYear=1991\\u003cbr\\u003eNumber of internet users (users)=%{marker.size}\\u003cbr\\u003eCode=%{location}\\u003cextra\\u003e\\u003c\\u002fextra\\u003e\",\"hovertext\":[\"Australia\",\"Austria\",\"Belgium\",\"Botswana\",\"Brazil\",\"Burundi\",\"Canada\",\"Denmark\",\"Finland\",\"France\",\"Germany\",\"Greece\",\"Grenada\",\"Hong Kong\",\"Hungary\",\"Iceland\",\"Ireland\",\"Israel\",\"Italy\",\"Japan\",\"Maldives\",\"Mexico\",\"Nepal\",\"Netherlands\",\"Norway\",\"Poland\",\"Portugal\",\"Singapore\",\"South Africa\",\"South Korea\",\"Spain\",\"Sweden\",\"Switzerland\",\"Thailand\",\"Togo\",\"United Kingdom\",\"United States\"],\"legendgroup\":\"\",\"locations\":[\"AUS\",\"AUT\",\"BEL\",\"BWA\",\"BRA\",\"BDI\",\"CAN\",\"DNK\",\"FIN\",\"FRA\",\"DEU\",\"GRC\",\"GRD\",\"HKG\",\"HUN\",\"ISL\",\"IRL\",\"ISR\",\"ITA\",\"JPN\",\"MDV\",\"MEX\",\"NPL\",\"NLD\",\"NOR\",\"POL\",\"PRT\",\"SGP\",\"ZAF\",\"KOR\",\"ESP\",\"SWE\",\"CHE\",\"THA\",\"TGO\",\"GBR\",\"USA\"],\"marker\":{\"color\":\"#636efa\",\"size\":[189508,20138,2015,0,4997,0,159962,10003,70139,80198,199129,5046,0,7081,351,1301,2031,9965,20040,50523,0,5120,0,80067,60088,1991,9997,5001,5106,20008,10121,100096,79542,30,0,99903,2965851],\"sizemode\":\"area\",\"sizeref\":534280.94703125,\"symbol\":\"circle\"},\"mode\":\"markers\",\"name\":\"\",\"showlegend\":false,\"type\":\"scattergeo\"}],\"name\":\"1991\"},{\"data\":[{\"geo\":\"geo\",\"hovertemplate\":\"\\u003cb\\u003e%{hovertext}\\u003c\\u002fb\\u003e\\u003cbr\\u003e\\u003cbr\\u003eYear=2017\\u003cbr\\u003eNumber of internet users (users)=%{marker.size}\\u003cbr\\u003eCode=%{location}\\u003cextra\\u003e\\u003c\\u002fextra\\u003e\",\"hovertext\":[\"Australia\",\"Austria\",\"Azerbaijan\",\"Bahrain\",\"Belarus\",\"Belgium\",\"Bosnia and Herzegovina\",\"Bulgaria\",\"Cambodia\",\"Cameroon\",\"Cape Verde\",\"Chile\",\"China\",\"Colombia\",\"Costa Rica\",\"Cote d'Ivoire\",\"Croatia\",\"Cyprus\",\"Czech Republic\",\"Denmark\",\"Djibouti\",\"Ecuador\",\"Egypt\",\"Estonia\",\"Finland\",\"France\",\"Georgia\",\"Germany\",\"Hong Kong\",\"Hungary\",\"Indonesia\",\"Iran\",\"Iraq\",\"Ireland\",\"Israel\",\"Italy\",\"Japan\",\"Kazakhstan\",\"Kuwait\",\"Latvia\",\"Lithuania\",\"Luxembourg\",\"Macao\",\"Madagascar\",\"Malaysia\",\"Malta\",\"Mexico\",\"Montenegro\",\"Morocco\",\"Netherlands\",\"Niger\",\"Norway\",\"Paraguay\",\"Peru\",\"Poland\",\"Portugal\",\"Romania\",\"Russia\",\"Saint Vincent and the Grenadines\",\"Saudi Arabia\",\"Singapore\",\"Slovakia\",\"Slovenia\",\"South Korea\",\"Spain\",\"Sweden\",\"Switzerland\",\"Thailand\",\"Togo\",\"Tunisia\",\"Turkey\",\"United Arab Emirates\"],\"legendgroup\":\"\",\"locations\":[\"AUS\",\"AUT\",\"AZE\",\"BHR\",\"BLR\",\"BEL\",\"BIH\",\"BGR\",\"KHM\",\"CMR\",\"CPV\",\"CHL\",\"CHN\",\"COL\",\"CRI\",\"CIV\",\"HRV\",\"CYP\",\"CZE\",\"DNK\",\"DJI\",\"ECU\",\"EGY\",\"EST\",\"FIN\",\"FRA\",\"GEO\",\"DEU\",\"HKG\",\"HUN\",\"IDN\",\"IRN\",\"IRQ\",\"IRL\",\"ISR\",\"ITA\",\"JPN\",\"KAZ\",\"KWT\",\"LVA\",\"LTU\",\"LUX\",\"MAC\",\"MDG\",\"MYS\",\"MLT\",\"MEX\",\"MNE\",\"MAR\",\"NLD\",\"NER\",\"NOR\",\"PRY\",\"PER\",\"POL\",\"PRT\",\"ROU\",\"RUS\",\"VCT\",\"SAU\",\"SGP\",\"SVK\",\"SVN\",\"KOR\",\"ESP\",\"SWE\",\"CHE\",\"THA\",\"TGO\",\"TUN\",\"TUR\",\"ARE\"],\"marker\":{\"color\":\"#636efa\",\"size\":[21160670,7681572,7763795,1431062,7047894,10021205,2437067,4492334,5441827,5581180,312327,14864002,765367947,30548193,3511631,10650799,2810896,952407,8358640,5567241,532863,9521429,43850341,1153818,4831111,52308536,2366455,69300711,6585380,7461350,85249263,49035599,18892351,4024333,6788835,36388297,115848998,13913107,4053797,1585391,2243311,570780,517814,2505948,25343837,344976,82473657,448274,22073555,15877031,2195911,5120147,4160051,15673479,29004155,7622268,12545023,109443932,72048,26375524,4821092,4446690,1640798,48482630,39216797,9554872,7943192,36515273,963813,6400330,52229607,8913210],\"sizemode\":\"area\",\"sizeref\":534280.94703125,\"symbol\":\"circle\"},\"mode\":\"markers\",\"name\":\"\",\"showlegend\":false,\"type\":\"scattergeo\"}],\"name\":\"2017\"}]);\n",
       "                        }).then(function(){\n",
       "                            \n",
       "var gd = document.getElementById('0cb574b8-e27c-411b-9cb3-1b9d86e3a3bb');\n",
       "var x = new MutationObserver(function (mutations, observer) {{\n",
       "        var display = window.getComputedStyle(gd).display;\n",
       "        if (!display || display === 'none') {{\n",
       "            console.log([gd, 'removed!']);\n",
       "            Plotly.purge(gd);\n",
       "            observer.disconnect();\n",
       "        }}\n",
       "}});\n",
       "\n",
       "// Listen for the removal of the full notebook cells\n",
       "var notebookContainer = gd.closest('#notebook-container');\n",
       "if (notebookContainer) {{\n",
       "    x.observe(notebookContainer, {childList: true});\n",
       "}}\n",
       "\n",
       "// Listen for the clearing of the current output cell\n",
       "var outputEl = gd.closest('.output');\n",
       "if (outputEl) {{\n",
       "    x.observe(outputEl, {childList: true});\n",
       "}}\n",
       "\n",
       "                        })                };                });            </script>        </div>"
      ]
     },
     "metadata": {},
     "output_type": "display_data"
    }
   ],
   "source": [
    "# Crear el gráfico de burbujas animado\n",
    "fig = px.scatter_geo(df_int,\n",
    "                     locations=\"Code\",  # Columna con los códigos de país\n",
    "                     size=\"Number of internet users (users)\",  # Tamaño de las burbujas según el número de usuarios\n",
    "                     hover_name=\"Country\",  # Mostrar el nombre del país al pasar el cursor\n",
    "                     size_max=80,  # Máximo tamaño de las burbujas\n",
    "                     animation_frame=\"Year\",  # Añadir animación por año\n",
    "                     color_continuous_scale=px.colors.sequential.Plasma)\n",
    "\n",
    "# Configurar el diseño del mapa\n",
    "fig.update_layout(\n",
    "    title_text='Usuarios de Internet en el mundo a lo largo de los años',\n",
    "    geo=dict(projection={'type': 'natural earth'})  # Usar la proyección 'natural earth'\n",
    ")\n",
    "\n",
    "# Mostrar el gráfico\n",
    "fig.show()\n"
   ]
  },
  {
   "cell_type": "markdown",
   "metadata": {},
   "source": [
    "Este gráfico muestra la evolución del número de usuarios de Internet en el mundo a lo largo del tiempo. Las burbujas crecen a medida que aumenta el número de usuarios en cada país."
   ]
  },
  {
   "cell_type": "markdown",
   "metadata": {},
   "source": [
    "### **Construcción de gráficos de líneas en un mapa geográfico**\n",
    "\n",
    "En este ejemplo, generaremos un gráfico de dispersión para mostrar la ubicación de los aeropuertos de Estados Unidos y luego dibujaremos líneas que representen vuelos retrasados entre los aeropuertos de origen y destino el 1 de enero de 2015."
   ]
  },
  {
   "cell_type": "markdown",
   "metadata": {},
   "source": [
    "1. **Cargar y visualizar los aeropuertos de EE.UU.**\n",
    "\n",
    "    Cargamos el conjunto de datos de los aeropuertos y creamos un gráfico de dispersión que muestre la ubicación de los aeropuertos en EE.UU."
   ]
  },
  {
   "cell_type": "code",
   "execution_count": null,
   "metadata": {},
   "outputs": [],
   "source": [
    "import pandas as pd\n",
    "import plotly.graph_objects as go\n",
    "\n",
    "# Cargar los datos de los aeropuertos de EE.UU.\n",
    "filename = \"C:/Users/cdeor/OneDrive/Documentos/MachineLearningDipSerfinanzas/jbook_ml202430/docs/_data/dataviz/airports.csv\"\n",
    "df_air = pd.read_csv(filename)\n",
    "\n",
    "# Crear un gráfico de dispersión para mostrar los aeropuertos\n",
    "fig = go.Figure()\n",
    "fig.add_trace(go.Scattergeo(\n",
    "    locationmode='USA-states',\n",
    "    lon=# TU CODIGO,  # Longitudes de los aeropuertos\n",
    "    lat=# TU CODIGO,  # Latitudes de los aeropuertos\n",
    "    hoverinfo='text',  # Información al pasar el cursor\n",
    "    text=df_air['AIRPORT'],  # Nombre del aeropuerto\n",
    "    mode='markers',  # Modo marcador\n",
    "    marker=dict(size=5, color='black')  # Configurar los marcadores\n",
    "))\n",
    "\n",
    "# Actualizar el diseño del gráfico\n",
    "fig.update_layout(\n",
    "    title_text='Aeropuertos en EE.UU.',  # Título del gráfico\n",
    "    showlegend=False,  # Ocultar leyenda\n",
    "    geo=go.layout.Geo(scope='usa')  # Limitar el gráfico a EE.UU.\n",
    ")\n",
    "\n",
    "# Mostrar el gráfico\n",
    "fig.show()"
   ]
  },
  {
   "cell_type": "markdown",
   "metadata": {},
   "source": [
    "2. **Cargar y fusionar los datos de vuelos**\n",
    "\n",
    "    A continuación, cargamos los datos de vuelos retrasados el 1 de enero de 2015, y combinamos estos datos con la información de los aeropuertos para obtener las latitudes y longitudes de los aeropuertos de origen y destino."
   ]
  },
  {
   "cell_type": "code",
   "execution_count": 367,
   "metadata": {},
   "outputs": [],
   "source": [
    "# Cargar los datos de vuelos retrasados del 1 de enero de 2015\n",
    "filename= \"C:/Users/cdeor/OneDrive/Documentos/MachineLearningDipSerfinanzas/jbook_ml202430/docs/_data/dataviz/new_year_day_2015_delayed_flights.csv\"\n",
    "new_year_2015_flights_df = pd.read_csv(filename)\n",
    "\n",
    "# Fusionar los datos de vuelos con los aeropuertos de origen para obtener latitud y longitud\n",
    "new_year_2015_flights_df = new_year_2015_flights_df.merge(\n",
    "    df_air[['IATA_CODE', 'LATITUDE', 'LONGITUDE']],\n",
    "    left_on='ORIGIN_AIRPORT',\n",
    "    right_on='IATA_CODE',\n",
    "    how='inner'\n",
    ")\n",
    "\n",
    "# Renombrar las columnas para reflejar que son del aeropuerto de origen\n",
    "new_year_2015_flights_df.rename(\n",
    "    columns={'LATITUDE': 'ORIGIN_AIRPORT_LATITUDE', 'LONGITUDE': 'ORIGIN_AIRPORT_LONGITUDE'},\n",
    "    inplace=True\n",
    ")\n",
    "\n",
    "# Fusionar los datos de vuelos con los aeropuertos de destino\n",
    "new_year_2015_flights_df = new_year_2015_flights_df.merge(\n",
    "    df_air[['IATA_CODE', 'LATITUDE', 'LONGITUDE']],\n",
    "    left_on='DESTINATION_AIRPORT',\n",
    "    right_on='IATA_CODE',\n",
    "    how='inner'\n",
    ")\n",
    "\n",
    "# Renombrar las columnas para reflejar que son del aeropuerto de destino\n",
    "new_year_2015_flights_df.rename(\n",
    "    columns={'LATITUDE': 'DESTINATION_AIRPORT_LATITUDE', 'LONGITUDE': 'DESTINATION_AIRPORT_LONGITUDE'},\n",
    "    inplace=True\n",
    ")\n"
   ]
  },
  {
   "cell_type": "markdown",
   "metadata": {},
   "source": [
    "Este código fusiona los datos de vuelos con las latitudes y longitudes de los aeropuertos de origen y destino."
   ]
  },
  {
   "cell_type": "markdown",
   "metadata": {},
   "source": [
    "3. **Trazar las líneas que representan los vuelos retrasados**\n",
    "\n",
    "    Ahora dibujaremos líneas que representen los vuelos retrasados entre los aeropuertos de origen y destino."
   ]
  },
  {
   "cell_type": "code",
   "execution_count": null,
   "metadata": {},
   "outputs": [],
   "source": [
    "# Dibujar líneas para los vuelos retrasados entre los aeropuertos de origen y destino\n",
    "for i in range(len(new_year_2015_flights_df)):\n",
    "    fig.add_trace(go.Scattergeo(\n",
    "        locationmode='USA-states',\n",
    "        lon=[new_year_2015_flights_df['ORIGIN_AIRPORT_LONGITUDE'][i], new_year_2015_flights_df['DESTINATION_AIRPORT_LONGITUDE'][i]],  # Longitudes de origen y destino\n",
    "        lat=[new_year_2015_flights_df['ORIGIN_AIRPORT_LATITUDE'][i], new_year_2015_flights_df['DESTINATION_AIRPORT_LATITUDE'][i]],  # Latitudes de origen y destino\n",
    "        mode='lines',  # Dibujar líneas en lugar de marcadores\n",
    "        line=dict(width=1, color='red')  # Configurar el estilo de la línea (color y ancho)\n",
    "    ))\n",
    "\n",
    "# Actualizar el diseño del gráfico\n",
    "fig.update_layout(\n",
    "    title_text='Vuelos retrasados el 1 de enero de 2015 en EE.UU.',  # Título del gráfico\n",
    "    showlegend=False,  # Ocultar la leyenda\n",
    "    geo=go.layout.Geo(scope='usa')  # Limitar el gráfico a EE.UU.\n",
    ")\n",
    "\n",
    "# Mostrar el gráfico\n",
    "fig.show()\n"
   ]
  }
 ],
 "metadata": {
  "kernelspec": {
   "display_name": "ml_venv",
   "language": "python",
   "name": "python3"
  },
  "language_info": {
   "codemirror_mode": {
    "name": "ipython",
    "version": 3
   },
   "file_extension": ".py",
   "mimetype": "text/x-python",
   "name": "python",
   "nbconvert_exporter": "python",
   "pygments_lexer": "ipython3",
   "version": "3.9.19"
  }
 },
 "nbformat": 4,
 "nbformat_minor": 2
}
