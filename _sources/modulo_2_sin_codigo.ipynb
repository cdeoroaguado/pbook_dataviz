{
 "cells": [
  {
   "cell_type": "markdown",
   "metadata": {},
   "source": [
    "## **Manipulación de datos con pandas**"
   ]
  },
  {
   "cell_type": "markdown",
   "metadata": {},
   "source": [
    "### **Pandas**\n",
    "\n",
    "En este módulo, profundizaremos en la creación de `DataFrames`, una de las estructuras de datos más versátiles y poderosas para la manipulación de información financiera. Exploraremos tres métodos distintos para construir DataFrames, cada uno con aplicaciones específicas en la industria bancaria.\n",
    "\n",
    "Un `DataFrame` es una estructura bidimensional, similar a una tabla, que nos permite organizar y manipular datos con facilidad. En el contexto bancario, los DataFrames son ideales para manejar información de clientes, transacciones, productos financieros, y otros tipos de datos críticos."
   ]
  },
  {
   "cell_type": "markdown",
   "metadata": {},
   "source": [
    "Ahora carguemos el conjunto de datos de **marketing del banco** `bank-full`. \n",
    "\n",
    "Los datos están relacionados con `campañas de marketing directo` (llamadas telefónicas) de una institución bancaria portuguesa.\n",
    "\n",
    "Este conjunto de datos tiene 4521 observaciones y 17 variables. Las variables son:\n",
    "\n",
    "* **age:** Edad del cliente.\n",
    "* **job**: Profesión del cliente (por ejemplo, desempleado, servicios, gestión).\n",
    "* **marital**: Estado civil del cliente (soltero, casado, divorciado).\n",
    "* **education**: Nivel educativo del cliente (primaria, secundaria, terciaria).\n",
    "* **default** : Indica si el cliente tiene crédito en incumplimiento (sí o no).\n",
    "* **balance**: Saldo promedio anual de la cuenta bancaria del cliente.\n",
    "* **housing**: Indica si el cliente tiene un préstamo hipotecario (sí o no).\n",
    "* **loan**: Indica si el cliente tiene un préstamo personal (sí o no).\n",
    "* **contact**: Tipo de comunicación de contacto (teléfono celular, teléfono fijo).\n",
    "* **day**: Día del mes en que se realizó el último contacto con el cliente.\n",
    "* **month**: Mes en que se realizó el último contacto con el cliente.\n",
    "* **duration**: Duración del último contacto en segundos.\n",
    "* **campaign**: Número de contactos realizados durante esta campaña de marketing.\n",
    "* **pdays**: Días que han pasado desde que el cliente fue contactado por última vez en una campaña anterior (valores -1 indican que el cliente no fue contactado previamente).\n",
    "* **previous**: Número de contactos realizados antes de esta campaña.\n",
    "* **poutcome**: Resultado de una campaña de marketing anterior (éxito, fracaso, desconocido).\n",
    "* **y**: Resultado de la campaña actual (si el cliente suscribió o no un depósito a plazo fijo)."
   ]
  },
  {
   "cell_type": "code",
   "execution_count": null,
   "metadata": {},
   "outputs": [],
   "source": [
    "# importar librerias\n",
    "import pandas as pd\n",
    "import numpy as np\n",
    "\n",
    "# Asignar la URL del archivo: url\n",
    "url ='https://raw.githubusercontent.com/cdeoroaguado/Datos/refs/heads/main/datamanip/bank/bank-full.csv'\n",
    "\n",
    "# leer el archivo en u dataframe:df\n",
    "df = pd.read_csv(url,sep=';')\n",
    "\n",
    "# Imprimir el encabezado del dataframe\n",
    "df.head()\n",
    "\n",
    "# Mostrar las 5 ultimas filas de DataFrame\n",
    "df.tail()"
   ]
  },
  {
   "cell_type": "markdown",
   "metadata": {},
   "source": [
    "Las dimensiones del dataset:"
   ]
  },
  {
   "cell_type": "code",
   "execution_count": null,
   "metadata": {},
   "outputs": [],
   "source": [
    "# Obtener las dimensiones del DataFrame\n",
    "df.shape"
   ]
  },
  {
   "cell_type": "markdown",
   "metadata": {},
   "source": [
    "Información de la estructura del dataset de marketing:"
   ]
  },
  {
   "cell_type": "code",
   "execution_count": null,
   "metadata": {},
   "outputs": [],
   "source": [
    "# Obtener información sobre la estructura del DataFrame\n",
    "df.info()"
   ]
  },
  {
   "cell_type": "markdown",
   "metadata": {},
   "source": [
    "El atributo `df.size` en pandas devuelve el número total de elementos en un `DataFrame`. Esto se calcula multiplicando el número de filas por el número de columnas. Es útil para obtener una visión rápida del tamaño total del DataFrame en términos de elementos."
   ]
  },
  {
   "cell_type": "code",
   "execution_count": null,
   "metadata": {},
   "outputs": [],
   "source": [
    "# número total de elementos en el dataframe\n",
    "df.size"
   ]
  },
  {
   "cell_type": "markdown",
   "metadata": {},
   "source": [
    "Puede ocurrir que el conjunto de datos de marketing para la banca tenga duplicados. El método `drop_duplicates()` en pandas se utiliza para eliminar filas duplicadas de un DataFrame. Este método permite identificar y remover filas que contienen los mismos valores en las columnas seleccionadas, o en todas las columnas si no se especifica ninguna."
   ]
  },
  {
   "cell_type": "code",
   "execution_count": null,
   "metadata": {},
   "outputs": [],
   "source": [
    "# Eliminar filas duplicadas\n",
    "df = df.drop_duplicates()\n",
    "df.info()"
   ]
  },
  {
   "cell_type": "markdown",
   "metadata": {},
   "source": [
    "Ahora, el nombres de las variables, el indice, el tipo de dato del dataset de marketing"
   ]
  },
  {
   "cell_type": "code",
   "execution_count": null,
   "metadata": {},
   "outputs": [],
   "source": [
    "# nombre de las variables\n",
    "print(df.columns)\n",
    "\n",
    "# Obtener el índice del DataFrame\n",
    "print(df.index)\n",
    "\n",
    "# tipo de dato\n",
    "print(df.dtypes)"
   ]
  },
  {
   "cell_type": "markdown",
   "metadata": {},
   "source": [
    "Queremos saber los clientes menores de 20 años:"
   ]
  },
  {
   "cell_type": "code",
   "execution_count": null,
   "metadata": {},
   "outputs": [],
   "source": [
    "# Seleccionar solo las filas donde la condición es True\n",
    "df.loc[:,'age'] < 20\n",
    "\n",
    "# Mostrar los clientes menores de 20 años\n",
    "dfm20 = df[df.loc[:,'age'] < 20]\n",
    "\n",
    "# imprimir el dataframe las 5 primeras\n",
    "dfm20.head()"
   ]
  },
  {
   "cell_type": "markdown",
   "metadata": {},
   "source": [
    "Escojamos las columnas `age`, `marital`, `balance`, `y` de los clientes menores de 20"
   ]
  },
  {
   "cell_type": "code",
   "execution_count": null,
   "metadata": {},
   "outputs": [],
   "source": [
    "# seleccionemos las columnas\n",
    "new_dfm20 = dfm20[['age','marital','balance','y']]\n",
    "\n",
    "# imprimir\n",
    "print(new_dfm20.head())"
   ]
  },
  {
   "cell_type": "markdown",
   "metadata": {},
   "source": [
    "Para saber quien tiene mayor balance en la cuenta de los menores de 20, debo ordenarlo usando el método `sort_values`: "
   ]
  },
  {
   "cell_type": "code",
   "execution_count": null,
   "metadata": {},
   "outputs": [],
   "source": [
    "# ordenar\n",
    "new_dfm20.sort_values(by='balance',ascending=False)"
   ]
  },
  {
   "cell_type": "markdown",
   "metadata": {},
   "source": [
    "Puedes aplicar una función personalizada a una columna específica del DataFrame usando el método `apply()` de `pandas`. Supongamos que deseas crear una nueva columna llamada `balance_category` que clasifique el balance de cada cliente en `\"Bajo\"`, `\"Medio\"` o `\"Alto\"` según ciertos umbrales."
   ]
  },
  {
   "cell_type": "code",
   "execution_count": 25,
   "metadata": {},
   "outputs": [],
   "source": [
    "# Definir una función para categorizar el balance\n",
    "def categorizar_balance(balance):\n",
    "    if balance < 500:\n",
    "        return 'Bajo'\n",
    "    elif 500 <= balance < 1500:\n",
    "        return 'Medio'\n",
    "    else:\n",
    "        return 'Alto'"
   ]
  },
  {
   "cell_type": "code",
   "execution_count": null,
   "metadata": {},
   "outputs": [],
   "source": [
    "# Aplicar la función 'categorizar_balance' a la columna 'balance'\n",
    "# y crear la nueva columna 'balance_category'\n",
    "new_dfm20.loc[:,'balance_category'] = new_dfm20['balance'].apply(categorizar_balance)\n",
    "\n",
    "# Mostrar el DataFrame actualizado\n",
    "print(new_dfm20.head())"
   ]
  },
  {
   "cell_type": "markdown",
   "metadata": {},
   "source": [
    ":::{admonition} **Observación**\n",
    ":class: warning\n",
    "\n",
    "Podemos aplicar funciones que ya tienen implementadas python o podemos usar la función `lambda`\n",
    "\n",
    "1. Con una función que tiene implementada `python`\n",
    "\n",
    "```python\n",
    "import math\n",
    "\n",
    "new_dfm20['rounded_balance'] = new_dfm20['balance'].apply(math.ceil)\n",
    "```\n",
    "\n",
    "2. Con la función `lambda`\n",
    "\n",
    "```python\n",
    "new_dfm20['rounded_balance_to_100'] = new_dfm20['balance'].apply(lambda x: 100*math.ceil(x))\n",
    "```\n",
    ":::"
   ]
  },
  {
   "cell_type": "markdown",
   "metadata": {},
   "source": [
    "Ahora, debemos obtener los clientes menores de 20 que si se suscribieron. Ademas los que se suscribieron con balance bajo."
   ]
  },
  {
   "cell_type": "code",
   "execution_count": null,
   "metadata": {},
   "outputs": [],
   "source": [
    "# menores de 20 que se suscribieron\n",
    "# TU CODIGO\n",
    "\n",
    "# Otra forma de seleccionarlos\n",
    "# TU CODIGO\n",
    "\n",
    "# menores de 20 que se suscribieron con balance bajo\n",
    "# TU CODIGO"
   ]
  },
  {
   "cell_type": "markdown",
   "metadata": {},
   "source": [
    "##### **Adición de nuevas columnas al DataFrame**\n",
    "\n",
    "* Anade una columna `balance_por_age` al `DataFrame`. Del mismo modo, también podemos utilizar la suma, la resta y otros operadores matemáticos sobre dos columnas numéricas. "
   ]
  },
  {
   "cell_type": "code",
   "execution_count": null,
   "metadata": {},
   "outputs": [],
   "source": [
    "new_dfm20.loc[:,'balance_por_age'] = # TU CODIGO\n",
    "print(new_dfm20.head())"
   ]
  },
  {
   "cell_type": "markdown",
   "metadata": {},
   "source": [
    "* Ahora, veremos la adición condicional de columnas. Vamos a intentar añadir una columna basada en el valor de la edad, digamos que todo lo que sea más de 17 como mayor de edad (codificado como 1) y todo lo que sea inferior a 17 como menor de edad (codificado como 0)."
   ]
  },
  {
   "cell_type": "code",
   "execution_count": null,
   "metadata": {},
   "outputs": [],
   "source": [
    "new_dfm20.loc[:,'age_cat'] = # TU CODIGO\n",
    "print(new_dfm20.tail())"
   ]
  },
  {
   "cell_type": "markdown",
   "metadata": {},
   "source": [
    "#### **Descripción estadística**\n",
    "\n",
    "Exploraremos cómo obtener estadísticas de resumen detalladas para columnas específicas de un DataFrame, así como cómo realizar análisis estadísticos avanzados mediante agrupaciones y tablas dinámicas. Comenzaremos con el cálculo de métricas descriptivas básicas, tales como medias, medianas, y desviaciones estándar, para evaluar la distribución y variabilidad de los datos. A continuación, abordaremos técnicas para aplicar estas estadísticas a subconjuntos de datos mediante agrupaciones, permitiendo un análisis más granular y enfocado. \n",
    "\n",
    "Finalmente, dominaremos el uso de tablas dinámicas para sintetizar, visualizar y resumir datos complejos, facilitando la extracción de insights clave y patrones significativos en grandes volúmenes de información. Este enfoque integral fortalecerá tu capacidad para extraer, interpretar y comunicar hallazgos estadísticos de manera efectiva en el análisis de datos."
   ]
  },
  {
   "cell_type": "markdown",
   "metadata": {},
   "source": [
    "##### **Resumen estadístico univariado**\n",
    "\n",
    "Calculemos las medidas descriptivas fundamentales, incluyendo la media, mediana, moda, varianza, desviación estándar y cuartiles, para proporcionar una visión general de la distribución de los datos. Usaremos el conjunto de datos.\n",
    "\n",
    "1. Si la variable es *numérica* \n"
   ]
  },
  {
   "cell_type": "code",
   "execution_count": null,
   "metadata": {},
   "outputs": [],
   "source": [
    "# Descriptivo de una sola variable numérica solo promedio\n",
    "# TU CODIGO\n",
    "\n",
    "# Resumen descriptivo de una sola variable numérica\n",
    "print(df['age'].agg(# TU CODIGO))"
   ]
  },
  {
   "cell_type": "code",
   "execution_count": null,
   "metadata": {},
   "outputs": [],
   "source": [
    "# Descriptivo de una varias variable numérica solo promedio\n",
    "# TU CODIGO\n",
    "              \n",
    "# Resumen descriptivo de varias variable numérica\n",
    "result = pd.DataFrame({\n",
    "    'Promedio': # TU CODIGO.mean(),\n",
    "    'Desv. Estandar': # TU CODIGO.std(),\n",
    "    'minimo': # TU CODIGO.min(),\n",
    "    'maximo': # TU CODIGO.max(),\n",
    "    'mediana': # TU CODIGO.median(),\n",
    "    'Cuantil 1': # TU CODIGO.quantile(0.25),\n",
    "    'Cuantil 3': # TU CODIGO.quantile(0.75)\n",
    "})\n",
    "\n",
    "# Mostrar los resultados\n",
    "print(result.T)"
   ]
  },
  {
   "cell_type": "markdown",
   "metadata": {},
   "source": [
    "2. Si la variable es *catégorica* "
   ]
  },
  {
   "cell_type": "code",
   "execution_count": null,
   "metadata": {},
   "outputs": [],
   "source": [
    "# Descriptivo de una sola variable categórica solo conteo\n",
    "conteo = # TU CODIGO\n",
    "print(conteo)\n",
    "\n",
    "# Descriptivo de una sola variable categórica solo proporcion\n",
    "proporciones = # TU CODIGO\n",
    "print(proporciones)\n",
    "\n",
    "# Combinar los resultados en un solo DataFrame\n",
    "resultado = pd.DataFrame({\n",
    "    'Conteo': conteo,\n",
    "    'Proporción': proporciones\n",
    "})\n",
    "\n",
    "# imprimir\n",
    "print(resultado)\n"
   ]
  },
  {
   "cell_type": "code",
   "execution_count": null,
   "metadata": {},
   "outputs": [],
   "source": [
    "# Descriptivo de varias variable categórica solo conteo\n",
    "conteo = # TU CODIGO\n",
    "# print(conteo)\n",
    "\n",
    "# Descriptivo de varias variable categórica solo proporcion\n",
    "proporciones = # TU CODIGO\n",
    "# print(proporciones)\n",
    "\n",
    "# Combinar los resultados en un solo DataFrame\n",
    "resultado = pd.DataFrame({\n",
    "    'Conteo': conteo,\n",
    "    'Proporción': proporciones\n",
    "})\n",
    "\n",
    "# imprimir\n",
    "print(resultado)"
   ]
  },
  {
   "cell_type": "markdown",
   "metadata": {},
   "source": [
    "##### **Resumen estadístico bivariado**\n",
    "\n",
    "El resumen estadístico bivariado se refiere al estudio de dos variables simultáneamente para determinar si existe alguna relación o asociación entre ellas. Solo realizaremos las tablas para dicho análisis estadístico."
   ]
  },
  {
   "cell_type": "markdown",
   "metadata": {},
   "source": [
    "1. **Variable categórica vs variable numérica**"
   ]
  },
  {
   "cell_type": "code",
   "execution_count": null,
   "metadata": {},
   "outputs": [],
   "source": [
    "# descriptivo edad según la suscripcion solo una variable\n",
    "# TU CODIGO\n",
    "\n",
    "var_num_cat = # TU CODIGO\n",
    "\n",
    "# Mostrar los resultados\n",
    "print(var_num_cat)"
   ]
  },
  {
   "cell_type": "code",
   "execution_count": null,
   "metadata": {},
   "outputs": [],
   "source": [
    "# descriptivo edad según la suscripcion varias variable\n",
    "# TU CODIGO\n",
    "\n",
    "# Resumen descriptivo  de edad según la suscripcion solo una variable\n",
    "var_num_cat = # TU CODIGO\n",
    "\n",
    "# Renombrar las columnas resultantes\n",
    "var_num_cat.columns = [\n",
    "    'Edad_Promedio', 'Edad_Desviacion_Estandar', 'Edad_Minimo', 'Edad_Maximo', 'Edad_Mediana', 'Edad_Cuantil_1', 'Edad_Cuantil_3',\n",
    "    'Balance_Promedio', 'Balance_Desviacion_Estandar', 'Balance_Minimo', 'Balance_Maximo', 'Balance_Mediana', 'Balance_Cuantil_1', 'Balance_Cuantil_3'\n",
    "]\n",
    "\n",
    "# imprimir\n",
    "print(var_num_cat)"
   ]
  },
  {
   "cell_type": "markdown",
   "metadata": {},
   "source": [
    "Para crear una **tabla de contigencia**, basta con tener dos variables categóricas. Por ejemplo"
   ]
  },
  {
   "cell_type": "code",
   "execution_count": null,
   "metadata": {},
   "outputs": [],
   "source": [
    "# Otra forma de crear una tabla de contingencia\n",
    "crosstab = # TU CODIGO\n",
    "print(crosstab)"
   ]
  },
  {
   "cell_type": "markdown",
   "metadata": {},
   "source": [
    "#### **Indices explicitos**\n",
    "\n",
    "En Python, los **índices** son utilizados para acceder a elementos en estructuras de datos como listas, tuplas, y matrices (arrays). Un índice explícito se refiere a la práctica de definir de manera específica el índice que se va a utilizar para acceder a un elemento, en lugar de depender de la indexación automática por la posición.\n",
    "\n",
    ":::{admonition} **Características de los Índices Explícitos**\n",
    ":class: note\n",
    "* **Flexibilidad**: Permiten el acceso a elementos específicos de una estructura de datos sin necesidad de recorrer secuencialmente todos los elementos.\n",
    "\n",
    "* **Claridad**: Facilitan la lectura y comprensión del código al hacer evidente qué elementos se están accediendo o modificando.\n",
    "\n",
    "* **Manipulación de Datos**: Hacen más sencillo realizar operaciones como reordenar elementos, filtrar,seleccionar, agrupar o acceder a subconjuntos de datos.\n",
    "\n",
    "* **Compatibilidad con Pandas**: En bibliotecas como pandas, los índices explícitos son fundamentales para trabajar con Series y DataFrames, permitiendo indexar tanto por números como por etiquetas.\n",
    "\n",
    "* **Precisión**: Al especificar el índice, reduces el riesgo de errores al manipular datos.\n",
    "\n",
    "* **Eficiencia**: Mejoran la eficiencia al permitir operaciones directas sobre los elementos deseados.\n",
    "\n",
    ":::\n"
   ]
  },
  {
   "cell_type": "markdown",
   "metadata": {},
   "source": [
    "Visualicemos nuevamente el dataframe de marketing para la banca."
   ]
  },
  {
   "cell_type": "code",
   "execution_count": null,
   "metadata": {},
   "outputs": [],
   "source": [
    "# marco de datos\n",
    "df.head()"
   ]
  },
  {
   "cell_type": "markdown",
   "metadata": {},
   "source": [
    "Analicemos algunas funciones utiles de la indexación explicita:\n",
    "\n",
    "* `df.set_index()`; Este método se usa para establecer una o más columnas del DataFrame como su índice. "
   ]
  },
  {
   "cell_type": "code",
   "execution_count": null,
   "metadata": {},
   "outputs": [],
   "source": [
    "# Establecer la columna 'job' como índice\n",
    "# TU CODIGO"
   ]
  },
  {
   "cell_type": "markdown",
   "metadata": {},
   "source": [
    "* `df.reset_index()`:Este método se usa para restablecer el índice del DataFrame, devolviendo los índices actuales a columnas y creando un nuevo índice numérico predeterminado. Si usas el parámetro `drop=True` indica que se debe eliminar la columna de índice original en lugar de moverla a una columna."
   ]
  },
  {
   "cell_type": "code",
   "execution_count": null,
   "metadata": {},
   "outputs": [],
   "source": [
    "# TU CODIGO"
   ]
  },
  {
   "cell_type": "markdown",
   "metadata": {},
   "source": [
    "* `df.sort_index()`: Este método ordena las filas del DataFrame en función del índice."
   ]
  },
  {
   "cell_type": "code",
   "execution_count": null,
   "metadata": {},
   "outputs": [],
   "source": [
    "# orden de los indices\n",
    "# TU CODIGO"
   ]
  },
  {
   "cell_type": "markdown",
   "metadata": {},
   "source": [
    "En conclusión, el uso de índices explícitos en Python es una técnica poderosa que permite un control detallado sobre la manipulación de datos. Ya sea en estructuras simples como listas o en análisis más complejos utilizando pandas, el conocimiento y uso adecuado de índices explícitos puede mejorar significativamente la eficiencia y claridad de tu código."
   ]
  },
  {
   "cell_type": "markdown",
   "metadata": {},
   "source": [
    "## **Visualización sencilla de datos**"
   ]
  },
  {
   "cell_type": "markdown",
   "metadata": {},
   "source": [
    "Para el desarrollo de las visualización trabajaremos con datos sobre los almacenes Walmart, que es un cadena de grande almacenes de Ewa. \n",
    "\n",
    "   ```{figure} /_image/walmart.png\n",
    "   :align: center\n",
    "   :name: Walmart\n",
    "   :scale: 50\n",
    "   ```"
   ]
  },
  {
   "cell_type": "markdown",
   "metadata": {},
   "source": [
    "El conjunto de datos completos lo puede encontrar este [link](https://www.kaggle.com/datasets/yasserh/walmart-dataset/data). Trabajaremos un subconjunto de datos contiene las ventas semanales en dolares, cada tienda tiene un número de identificación y un tipo de tienda específico, las ventas estan separadas por ID de departamento. Junto con las ventas hay variables como si fue de vacaciones o no, la temperatura media durante la semana en esa localidad, el tiempo medio del combustible en dolares por litro esa semana y la tasa de desempleo de esa semana"
   ]
  },
  {
   "cell_type": "markdown",
   "metadata": {},
   "source": [
    "Aquí tienes una explicación de las variables en el conjunto de datos de ventas proporcionado:\n",
    "\n",
    "* **Unnamed**: Columna de índice que parece haber sido incluida al guardar el archivo. No es una variable significativa.\n",
    "\n",
    "* **store**: Identificador del número de la tienda.\n",
    "\n",
    "* **type**: Tipo de tienda, representado por una letra (por ejemplo, \"A\", \"B\", etc.).\n",
    "\n",
    "* **department**: Identificador del número de departamento dentro de la tienda.\n",
    "\n",
    "* **date**: Fecha en la que se registró la venta.\n",
    "\n",
    "* **weekly_sales**: Ventas semanales en USD registradas en esa tienda y departamento específicos.\n",
    "\n",
    "* **is_holiday**: Variable booleana que indica si la fecha corresponde a un día festivo o no. Los valores son \"True\" o \"False\".\n",
    "\n",
    "* **temperature_c**: Temperatura en grados Celsius en la fecha registrada.\n",
    "\n",
    "* **fuel_price_usd_per_l**: Precio del combustible en dólares estadounidenses por litro en la fecha registrada.\n",
    "\n",
    "* **unemployment**: Tasa de desempleo en la fecha registrada.\n",
    "\n",
    "Carguemos el conjunto de datos:"
   ]
  },
  {
   "cell_type": "code",
   "execution_count": null,
   "metadata": {},
   "outputs": [],
   "source": [
    "df = # TU CODIGO\n",
    "df.head()"
   ]
  },
  {
   "cell_type": "code",
   "execution_count": null,
   "metadata": {},
   "outputs": [],
   "source": [
    "# Renombrar una columna\n",
    "df.rename(columns={'Unnamed: 0': 'id'}, inplace=True)\n",
    "df.head()"
   ]
  },
  {
   "cell_type": "code",
   "execution_count": null,
   "metadata": {},
   "outputs": [],
   "source": [
    "# Informacion del conjunto de datos\n",
    "# TU CODIGO"
   ]
  },
  {
   "cell_type": "markdown",
   "metadata": {},
   "source": [
    "### **Histograma**\n",
    "\n",
    "Un **histograma** es una representación gráfica que muestra la distribución de una variable continua. Se divide el rango de valores en intervalos (`bins`) y se cuenta cuántos valores caen en cada intervalo.\n",
    "\n",
    ":::{admonition} **Características del histograma**\n",
    ":class: note\n",
    "* Ideal para visualizar la forma de la distribución de los datos.\n",
    "* Ayuda a identificar la simetría, la dispersión, y la presencia de outliers.\n",
    "* El número de `bins` afecta la interpretación; demasiados o muy pocos `bins` pueden ocultar patrones importantes.\n",
    "* Permite una fácil visualización de la distribución de datos.\n",
    "* Útil para identificar la presencia de sesgos en los datos.\n",
    "* No es útil para datos categóricos.\n",
    ":::"
   ]
  },
  {
   "cell_type": "code",
   "execution_count": null,
   "metadata": {},
   "outputs": [],
   "source": [
    "# importar matplotlib\n",
    "# TU CODIGO\n",
    "\n",
    "# Histograma de las ventas semanales\n",
    "# TU CODIGO"
   ]
  },
  {
   "cell_type": "code",
   "execution_count": null,
   "metadata": {},
   "outputs": [],
   "source": [
    "# Otra forma\n",
    "# TU CODIGO"
   ]
  },
  {
   "cell_type": "code",
   "execution_count": 34,
   "metadata": {},
   "outputs": [],
   "source": [
    "import warnings\n",
    "warnings.filterwarnings(\"ignore\")"
   ]
  },
  {
   "cell_type": "code",
   "execution_count": null,
   "metadata": {},
   "outputs": [],
   "source": [
    "# Importar seaborn\n",
    "# TU CODIGO\n",
    "\n",
    "# Histograma de las ventas semanales con Seaborn\n",
    "# TU CODIGO"
   ]
  },
  {
   "cell_type": "markdown",
   "metadata": {},
   "source": [
    "### **Densidad**\n",
    "\n",
    "Una **gráfica de densidad** es una representación gráfica suave de la distribución de una variable continua. Se basa en la estimación de la función de densidad de probabilidad (KDE, por sus siglas en inglés), lo que permite visualizar la forma general de la distribución sin depender de intervalos rígidos como en los histogramas.\n",
    "\n",
    "\n"
   ]
  },
  {
   "cell_type": "code",
   "execution_count": null,
   "metadata": {},
   "outputs": [],
   "source": [
    "import seaborn as sns\n",
    "import matplotlib.pyplot as plt\n",
    "\n",
    "# Gráfico de densidad\n",
    "# TU CODIGO\n",
    "# TU CODIGO\n",
    "plt.title('Gráfica de densidad de precio del combustible (Seaborn)')\n",
    "plt.xlabel('Precio USD por litro')\n",
    "plt.ylabel('Densidad')\n",
    "plt.legend()\n",
    "plt.grid(True)\n",
    "plt.show()\n"
   ]
  },
  {
   "cell_type": "markdown",
   "metadata": {},
   "source": [
    "### **Histograma con función de densidad**\n",
    "\n",
    "Un **histograma con función de densidad** combina la representación clásica del histograma (que agrupa los datos en intervalos) con una **curva de densidad suave** (estimación KDE). Esta combinación permite visualizar tanto la frecuencia aproximada de los valores como la forma general de la distribución de los datos.\n",
    "\n",
    "\n"
   ]
  },
  {
   "cell_type": "code",
   "execution_count": null,
   "metadata": {},
   "outputs": [],
   "source": [
    "# Gráfico\n",
    "plt.figure(figsize=(8, 4))\n",
    "# TU CODIGO\n",
    "plt.title('Histograma con curva de densidad (Seaborn)')\n",
    "plt.xlabel('Precio USD por litro')\n",
    "plt.ylabel('Densidad')\n",
    "plt.grid(True)\n",
    "plt.show()"
   ]
  },
  {
   "cell_type": "markdown",
   "metadata": {},
   "source": [
    "* Una **transformación logarítmica** ayuda a identificar más tendencias. Por ejemplo, en el siguiente gráfico, el eje \n",
    "muestra los valores transformados en logaritmos de la variable del precio, y vemos que hay dos o más picos que indican el precio de la gasolina por litro"
   ]
  },
  {
   "cell_type": "code",
   "execution_count": null,
   "metadata": {},
   "outputs": [],
   "source": [
    "# Datos transformados\n",
    "log_data = # TU CODIGO\n",
    "\n",
    "# Gráfico\n",
    "plt.figure(figsize=(8, 4))\n",
    "sns.histplot(log_data, kde=True, bins=30, color='lightgreen', edgecolor='black')\n",
    "plt.title('Histograma con Curva de Densidad (Log Precios)')\n",
    "plt.xlabel('Log(Precio USD por litro)')\n",
    "plt.ylabel('Densidad')\n",
    "plt.grid(True)\n",
    "plt.show()\n"
   ]
  },
  {
   "cell_type": "markdown",
   "metadata": {},
   "source": [
    "### **Cajas y bigotes**\n",
    "\n",
    "Un gráfico de cajas y bigotes visualiza la distribución de un conjunto de datos, mostrando la mediana y los cuartiles, así como los posibles outliers.\n"
   ]
  },
  {
   "cell_type": "code",
   "execution_count": null,
   "metadata": {},
   "outputs": [],
   "source": [
    "# diagrama de cajas y bigotes de la temperatura\n",
    "# TU CODIGO\n",
    "\n",
    "# Remover el nombre de la columna del eje X\n",
    "plt.xticks([1], [''])  \n",
    "\n",
    "# Agregar título y etiquetas\n",
    "plt.title('Gráfico de Cajas y Bigotes')\n",
    "plt.ylabel('Temperatura (°F)')\n",
    "\n",
    "# Mostrar el gráfico\n",
    "plt.show()"
   ]
  },
  {
   "cell_type": "code",
   "execution_count": null,
   "metadata": {},
   "outputs": [
    {
     "data": {
      "text/plain": [
       "Text(0, 0.5, 'Temperatura (°C)')"
      ]
     },
     "execution_count": 18,
     "metadata": {},
     "output_type": "execute_result"
    },
    {
     "data": {
      "image/png": "[encoded data removed]",
      "text/plain": [
       "<Figure size 640x480 with 1 Axes>"
      ]
     },
     "metadata": {},
     "output_type": "display_data"
    }
   ],
   "source": [
    "# Crear un diagrama de cajas y bigotes con Seaborn\n",
    "# TU CODIGO\n",
    "\n",
    "# Remover el nombre de la columna del eje X\n",
    "plt.xticks([0], [''])\n",
    "\n",
    "# Agregar título y etiquetas\n",
    "plt.title('Gráfico de Cajas y Bigotes')\n",
    "plt.ylabel('Temperatura (°C)')"
   ]
  },
  {
   "cell_type": "markdown",
   "metadata": {},
   "source": [
    "### **Barras**\n",
    "\n",
    "Una gráfica de barras se utiliza para mostrar y comparar cantidades entre diferentes categorías. Cada barra representa una categoría, y su altura es proporcional al valor que representa.\n"
   ]
  },
  {
   "cell_type": "code",
   "execution_count": null,
   "metadata": {},
   "outputs": [],
   "source": [
    "# Contar el tipo de tienda\n",
    "tipo = # TU CODIGO\n",
    "\n",
    "# Graficar el conteo de tipos de tienda en un gráfico de barras verticales\n",
    "# TU CODIGO\n",
    "plt.show()"
   ]
  },
  {
   "cell_type": "code",
   "execution_count": null,
   "metadata": {},
   "outputs": [],
   "source": [
    "# Graficar el conteo de tipos de tienda en un gráfico de barras con Seaborn\n",
    "# TU CODIGO\n",
    "\n",
    "# Agregar título y etiquetas si lo deseas\n",
    "plt.title('Conteo de tipos de tienda')\n",
    "plt.xlabel('Tipo de tienda')\n",
    "plt.ylabel('Frecuencia')\n",
    "\n",
    "# Mostrar el gráfico\n",
    "plt.show()"
   ]
  },
  {
   "cell_type": "code",
   "execution_count": null,
   "metadata": {},
   "outputs": [],
   "source": [
    "# Convertir is_holiday en categorica\n",
    "festivo = # TU CODIGO\n",
    "\n",
    "# Contar el tipo de tienda\n",
    "conteo_festivo = # TU CODIGO\n",
    "\n",
    "#Graficar el conteo de festivos en un gráfico de barras verticales\n",
    "plt.barh(conteo_festivo.index, conteo_festivo.values)\n",
    "plt.show()"
   ]
  },
  {
   "cell_type": "code",
   "execution_count": null,
   "metadata": {},
   "outputs": [],
   "source": [
    "# Contar el tipo de festividad\n",
    "conteo_festivo = # TU CODIGO\n",
    "conteo_festivo.columns = ['Festivo', 'Conteo']\n",
    "\n",
    "# Graficar el conteo de festividades en un gráfico de barras horizontal con Seaborn\n",
    "# TU CODIGO\n",
    "\n",
    "# Agregar título y etiquetas si lo deseas\n",
    "plt.title('Conteo de festividades')\n",
    "plt.xlabel('Conteo')\n",
    "plt.ylabel('Festivo')\n",
    "\n",
    "# Mostrar el gráfico\n",
    "plt.show()"
   ]
  },
  {
   "cell_type": "markdown",
   "metadata": {},
   "source": [
    "### **Otras forma de realizar gráficos de barras**\n",
    "\n",
    "Aprenderemos a crear una tabla utilizando la función `pandas crosstab`. Utilizaremos una tabla para generar un gráfico de barras. A continuación, exploraremos un gráfico de barras generado con la biblioteca `seaborn` y calcularemos la distribución del promedio de `weekly_sales` según el `store`. Para ello, vamos a realizar los siguientes pasos:\n"
   ]
  },
  {
   "cell_type": "code",
   "execution_count": null,
   "metadata": {},
   "outputs": [],
   "source": [
    "from numpy import median, mean\n",
    "\n",
    "sns.set(style = \"whitegrid\")\n",
    "ax = sns.barplot(# TU CODIGO);"
   ]
  },
  {
   "cell_type": "markdown",
   "metadata": {},
   "source": [
    "* Ahora, veamos un gráfico de barras agrupada. Utilice el parámetro `hue` para trazar grupos anidados:"
   ]
  },
  {
   "cell_type": "code",
   "execution_count": null,
   "metadata": {},
   "outputs": [],
   "source": [
    "ax = sns.barplot(# TU CODIGO);"
   ]
  },
  {
   "cell_type": "markdown",
   "metadata": {},
   "source": [
    "* Si deseamos poner notas en diagrama de barras."
   ]
  },
  {
   "cell_type": "code",
   "execution_count": null,
   "metadata": {},
   "outputs": [],
   "source": [
    "from numpy import mean\n",
    "import seaborn as sns\n",
    "import matplotlib.pyplot as plt\n",
    "\n",
    "sns.set(style=\"whitegrid\")\n",
    "\n",
    "plt.figure(figsize=(10, 5))\n",
    "ax = sns.barplot(\n",
    "    x=\"store\",\n",
    "    y=\"weekly_sales\",\n",
    "    data=df,\n",
    "    estimator=mean,\n",
    "    color=\"#8FD694\"\n",
    ")\n",
    "\n",
    "# Encuentra la tienda con mayores ventas promedio\n",
    "mean_sales = df.groupby(\"store\")[\"weekly_sales\"].mean()\n",
    "top_store = mean_sales.idxmax()\n",
    "top_value = mean_sales.max()\n",
    "x = list(mean_sales.index).index(top_store)  # posición de la barra en el eje x\n",
    "y = top_value  # altura de la barra\n",
    "\n",
    "# Anotación con nota visual\n",
    "plt.annotate(\n",
    "    'Excelente desempeño máximas ventas promedio',\n",
    "    xy=(x, y),\n",
    "    xytext=(x + 0.5, y + 2000),\n",
    "    bbox=dict(boxstyle='round,pad=0.5', fc='lightyellow', ec='gold', lw=1.5),\n",
    "    fontsize=10,\n",
    "    arrowprops=dict(arrowstyle='->', color='red',linewidth=2),\n",
    ")\n",
    "\n",
    "plt.title(\"Promedio de ventas semanales por tienda\")\n",
    "plt.xlabel(\"Tienda\")\n",
    "plt.ylabel(\"Weekly Sales\")\n",
    "plt.show()\n"
   ]
  },
  {
   "cell_type": "markdown",
   "metadata": {},
   "source": [
    "### **Circulares**\n",
    "\n",
    "Un diagrama circular (o gráfico de pastel) es una representación gráfica que muestra la proporción de diferentes categorías dentro de un conjunto de datos como segmentos de un círculo. Cada segmento del círculo representa una categoría y su tamaño es proporcional a su frecuencia o porcentaje en relación con el total."
   ]
  },
  {
   "cell_type": "code",
   "execution_count": null,
   "metadata": {},
   "outputs": [],
   "source": [
    "tipo = # TU CODIGO\n",
    "\n",
    "# Graficar el conteo de tipos de tienda en un diagrama circular\n",
    "plt.pie(tipo, labels=tipo.index, autopct='%1.1f%%', startangle=140, colors=plt.cm.Paired(range(len(tipo))))\n",
    "plt.title('Distribución de tipos de tienda')\n",
    "plt.show()"
   ]
  },
  {
   "cell_type": "markdown",
   "metadata": {},
   "source": [
    "Ahora haremos unas gráficas bivariadas."
   ]
  },
  {
   "cell_type": "markdown",
   "metadata": {},
   "source": [
    "### **Lineas**\n",
    "\n",
    "Una gráfica de líneas conecta una serie de puntos de datos con líneas, generalmente utilizada para mostrar cambios o tendencias a lo largo del tiempo.\n"
   ]
  },
  {
   "cell_type": "code",
   "execution_count": null,
   "metadata": {},
   "outputs": [],
   "source": [
    "# Convertir la columna date a formato de fecha\n",
    "df['date'] =# TU CODIGO\n",
    "\n",
    "# Agrupar las ventas por fecha, sumando las ventas semanales en las fechas repetidas\n",
    "df_grouped = # TU CODIGO\n",
    "\n",
    "df_grouped.head()"
   ]
  },
  {
   "cell_type": "code",
   "execution_count": null,
   "metadata": {},
   "outputs": [
    {
     "data": {
      "image/png": "[encoded data removed]",
      "text/plain": [
       "<Figure size 640x480 with 1 Axes>"
      ]
     },
     "metadata": {},
     "output_type": "display_data"
    }
   ],
   "source": [
    "# Crear un gráfico de líneas con las fechas agrupadas\n",
    "# TU CODIGO\n",
    "\n",
    "# Rotar las etiquetas del eje X para que se muestren en vertical\n",
    "plt.xticks(rotation=90)\n",
    "# Mostrar el gráfico\n",
    "plt.show()"
   ]
  },
  {
   "cell_type": "code",
   "execution_count": null,
   "metadata": {},
   "outputs": [],
   "source": [
    "# Crear un gráfico de líneas con las fechas agrupadas utilizando Seaborn\n",
    "plt.figure(figsize=(12, 6))  # Ajustar el tamaño del gráfico\n",
    "# TU CODIGO\n",
    "\n",
    "# Rotar las etiquetas del eje X para que se muestren en vertical\n",
    "plt.xticks(rotation=90)\n",
    "\n",
    "# Agregar título y etiquetas si lo deseas\n",
    "plt.title('Ventas semanales agrupadas por fecha')\n",
    "plt.xlabel('Fecha')\n",
    "plt.ylabel('Ventas semanales')\n",
    "\n",
    "# Mostrar el gráfico\n",
    "plt.show()"
   ]
  },
  {
   "cell_type": "markdown",
   "metadata": {},
   "source": [
    "### **Dispersión (Scatter Plots)**\n",
    "\n",
    "Una gráfica de dispersión muestra la relación entre dos variables numéricas mediante puntos dispersos en un plano cartesiano."
   ]
  },
  {
   "cell_type": "code",
   "execution_count": null,
   "metadata": {},
   "outputs": [],
   "source": [
    "# Crear una gráfica de dispersión de ventas semanales vs. precio de la gasolina utilizando Seaborn\n",
    "plt.figure(figsize=(10, 6))  # Ajustar el tamaño del gráfico\n",
    "# TU CODIGO\n",
    "\n",
    "# Agregar título y etiquetas\n",
    "plt.title('Relación entre ventas semanales y precio de la gasolina')\n",
    "plt.xlabel('Ventas semanales ($)')\n",
    "plt.ylabel('Precio de la gasolina (USD por litro)')\n",
    "\n",
    "# Mostrar el gráfico\n",
    "plt.show()"
   ]
  },
  {
   "cell_type": "markdown",
   "metadata": {},
   "source": [
    "### **Histogramas con variable categórica**\n",
    "\n",
    "Para hacer estos histogramas debemos tener una variable numérica según una variable categórica"
   ]
  },
  {
   "cell_type": "code",
   "execution_count": null,
   "metadata": {},
   "outputs": [],
   "source": [
    "# Crear una superposición de histogramas de las ventas semanales según el tipo de tienda utilizando Seaborn\n",
    "plt.figure(figsize=(10, 6))  # Ajustar el tamaño del gráfico\n",
    "\n",
    "# Histograma para el tipo 'A'\n",
    "sns.histplot(# TU CODIGO, color='blue', label='A', kde=False, alpha=0.7)\n",
    "\n",
    "# Histograma para el tipo 'B'\n",
    "sns.histplot(# TU CODIGO, color='red', label='B', kde=False, alpha=0.7)\n",
    "\n",
    "# Agregar título y etiquetas\n",
    "plt.title('Distribución de las ventas semanales según el tipo')\n",
    "plt.xlabel('Ventas semanales ($)')\n",
    "plt.ylabel('Frecuencia')\n",
    "\n",
    "# Mostrar la leyenda\n",
    "plt.legend()"
   ]
  },
  {
   "cell_type": "markdown",
   "metadata": {},
   "source": [
    "### **Cajas y bigotes con variable categórica**\n",
    "\n",
    "Para hacer estos diagramas de cajas y bigotes debemos tener una variable numérica según una variable categórica"
   ]
  },
  {
   "cell_type": "code",
   "execution_count": null,
   "metadata": {},
   "outputs": [],
   "source": [
    "# Separar los datos por sexo\n",
    "u_a = # TU CODIGO\n",
    "u_b = # TU CODIGO\n",
    "\n",
    "# Crear un diagrama de cajas y bigotes para 'height_cm' vs 'sex' usando pandas\n",
    "plt.boxplot([u_a, u_b], labels=['A', 'B'])\n",
    "\n",
    "# Agregar título y etiquetas\n",
    "plt.title('Diagrama de cajas y bigotes: tasa de desempleo según el tipo')\n",
    "plt.xlabel('Sexo')\n",
    "plt.ylabel('Altura (cm)')\n",
    "\n",
    "# Mostrar el gráfico\n",
    "plt.show()"
   ]
  },
  {
   "cell_type": "code",
   "execution_count": null,
   "metadata": {},
   "outputs": [],
   "source": [
    "# Crear un diagrama de cajas y bigotes para 'unemployment' vs 'type' usando Seaborn\n",
    "plt.figure(figsize=(10, 6))  # Ajustar el tamaño del gráfico\n",
    "\n",
    "# TU CODIGO\n",
    "\n",
    "# Agregar título y etiquetas\n",
    "plt.title('Diagrama de cajas y bigotes: tasa de desempleo según el tipo')\n",
    "plt.xlabel('Tipo de tienda')\n",
    "plt.ylabel('Tasa de desempleo')\n",
    "\n",
    "# Mostrar el gráfico\n",
    "plt.show()"
   ]
  },
  {
   "cell_type": "markdown",
   "metadata": {},
   "source": [
    "* ¿Y si pudiéramos obtener una pista sobre la distribución completa de una característica numérica específica agrupada por otras características categóricas? El tipo de técnica de visualización adecuada en este caso es un **gráfico de violín**. Un gráfico de violín es similar a un grafico de caja pero incluye más detalles sobre las variaciones de los datos."
   ]
  },
  {
   "cell_type": "code",
   "execution_count": 123,
   "metadata": {},
   "outputs": [
    {
     "data": {
      "image/png": "[encoded data removed]",
      "text/plain": [
       "<Figure size 1000x600 with 1 Axes>"
      ]
     },
     "metadata": {},
     "output_type": "display_data"
    }
   ],
   "source": [
    "# Crear un diagrama de violín para 'unemployment' vs 'type'\n",
    "plt.figure(figsize=(10, 6))  # Tamaño del gráfico\n",
    "\n",
    "sns.violinplot(x='type', y='unemployment', data=df, inner='box', palette='pastel')\n",
    "\n",
    "# Agregar título y etiquetas\n",
    "plt.title('Distribución de la tasa de desempleo según el tipo de tienda')\n",
    "plt.xlabel('Tipo de tienda')\n",
    "plt.ylabel('Tasa de desempleo')\n",
    "\n",
    "# Mostrar el gráfico\n",
    "plt.show()"
   ]
  },
  {
   "cell_type": "markdown",
   "metadata": {},
   "source": [
    "### **Diagrama de barras con variables categóricas**\n",
    "\n",
    "Realizaremos un diagrama de barras con dos variables categóricas\n",
    "\n"
   ]
  },
  {
   "cell_type": "code",
   "execution_count": null,
   "metadata": {},
   "outputs": [],
   "source": [
    "# Convertimos 'is_holiday' a categoría con valores 'Holiday' y 'Non-Holiday'\n",
    "df['is_holiday'] = # TU CODIGO"
   ]
  },
  {
   "cell_type": "code",
   "execution_count": null,
   "metadata": {},
   "outputs": [],
   "source": [
    "# Contar la frecuencia de cada combinación de 'type' y 'is_holiday' y desapilamos\n",
    "grouped_data = # TU CODIGO\n",
    "\n",
    "# Crear el gráfico de barras sin apilar\n",
    "grouped_data.plot(kind='bar', stacked=False)\n",
    "\n",
    "# Personalización del gráfico\n",
    "plt.title('Frecuencia de tipo en función de los dias feriados o no')\n",
    "plt.xlabel('Tipo')\n",
    "plt.ylabel('Frecuencia')\n",
    "plt.xticks(rotation=0)\n",
    "\n",
    "# Mostrar el gráfico\n",
    "plt.show()"
   ]
  },
  {
   "cell_type": "markdown",
   "metadata": {},
   "source": [
    "Para exportar las gráficas en formato png. Usamos `savefig`:"
   ]
  },
  {
   "cell_type": "code",
   "execution_count": null,
   "metadata": {},
   "outputs": [],
   "source": [
    "# Contar la frecuencia de cada combinación de 'type' y 'is_holiday' y desapilamos\n",
    "grouped_data = df.groupby(['type', 'is_holiday'], observed=True).size().unstack()\n",
    "\n",
    "# Crear el gráfico de barras sin apilar\n",
    "grouped_data.plot(kind='bar', stacked=False)\n",
    "\n",
    "# Personalización del gráfico\n",
    "plt.title('Frecuencia de tipo en función de los dias feriados o no')\n",
    "plt.xlabel('Tipo')\n",
    "plt.ylabel('Frecuencia')\n",
    "plt.xticks(rotation=0)\n",
    "\n",
    "# exportar la figura\n",
    "plt.savefig('_image/grafica_1.png',transparent=False)\n",
    "\n",
    "# exportar la figura con transparencia\n",
    "plt.savefig('_image/grafica_2.png', transparent=True)\n",
    "\n"
   ]
  },
  {
   "cell_type": "markdown",
   "metadata": {},
   "source": [
    "### **Diagrama hexagonal**\n",
    "\n",
    "Existe una versión más elegante de los gráficos de dispersión, llamada `hexagonal binning plot` (`hexbin plot`). En este ejercicio, utilizaremos `Seaborn` para crear una gráfica de dispersión hexagonal (`Hexbin Plot`) que muestre la relación entre las **ventas semanales** (`weekly_sales`) y el precio de la gasolina en **USD por litro** (`fuel_price_usd_per_l`). Este gráfico es útil para representar la densidad de datos cuando estos se superponen.\n"
   ]
  },
  {
   "cell_type": "markdown",
   "metadata": {},
   "source": [
    "1. Importemos las bibliotecas necesarias:"
   ]
  },
  {
   "cell_type": "code",
   "execution_count": 11,
   "metadata": {},
   "outputs": [],
   "source": [
    "import seaborn as sns\n",
    "import matplotlib.pyplot as plt"
   ]
  },
  {
   "cell_type": "markdown",
   "metadata": {},
   "source": [
    "2.  Usaremos `sns.scatterplot` para crear una gráfica de dispersión, y añadiremos un esquema de color personalizado para mejorar la visualización."
   ]
  },
  {
   "cell_type": "code",
   "execution_count": null,
   "metadata": {},
   "outputs": [],
   "source": [
    "import warnings\n",
    "warnings.filterwarnings(\"ignore\", category=FutureWarning)\n",
    "\n",
    "# Establecer el estilo de los gráficos\n",
    "sns.set(style=\"ticks\")\n",
    "\n",
    "# Crear el gráfico hexbin\n",
    "# TU CODIGO\n",
    "\n",
    "# Mostrar el gráfico\n",
    "plt.show()"
   ]
  },
  {
   "cell_type": "markdown",
   "metadata": {},
   "source": [
    "### **Diagrama de contorno**\n",
    "\n",
    "Los gráficos de contorno son útiles cuando los puntos de datos están densamente poblados en ciertas áreas, ya que muestran la concentración de los datos mediante líneas de contorno. En este ejercicio, crearemos un gráfico de contorno para analizar la relación entre las **ventas semanales** (`weekly_sales`) y el **precio de la gasolina en USD por litro** (`fuel_price_usd_per_l`)."
   ]
  },
  {
   "cell_type": "markdown",
   "metadata": {},
   "source": [
    "1.  Importar las bibliotecas necesarias:"
   ]
  },
  {
   "cell_type": "code",
   "execution_count": null,
   "metadata": {},
   "outputs": [],
   "source": [
    "import seaborn as sns\n",
    "import matplotlib.pyplot as plt"
   ]
  },
  {
   "cell_type": "markdown",
   "metadata": {},
   "source": [
    "2. Utilizaremos el método `sns.kdeplot()` para generar un gráfico de contorno con las ventas semanales y el precio de la gasolina, y rellenar las áreas con gradientes de color para reflejar la densidad de puntos."
   ]
  },
  {
   "cell_type": "code",
   "execution_count": null,
   "metadata": {},
   "outputs": [],
   "source": [
    "import warnings\n",
    "warnings.filterwarnings(\"ignore\", category=FutureWarning)\n",
    "\n",
    "# Establecer el estilo de los gráficos\n",
    "sns.set_style(\"white\")\n",
    "\n",
    "# Crear el gráfico de contorno con densidad del núcleo (KDE)\n",
    "# TU CODIGO\n",
    "\n",
    "# Añadir título y etiquetas descriptivas\n",
    "plt.title('Relación entre ventas semanales y precio de la gasolina')\n",
    "plt.xlabel('Ventas semanales ($)')\n",
    "plt.ylabel('Precio de la gasolina (USD por litro)')\n",
    "\n",
    "# Mostrar el gráfico\n",
    "plt.show()\n"
   ]
  },
  {
   "cell_type": "markdown",
   "metadata": {},
   "source": [
    "## **Exploración de Datos con `ydata-profiling`**\n",
    "\n",
    "### **¿Qué es `ydata-profiling`?**\n",
    "\n",
    "`ydata-profiling` es una herramienta de Python que genera **informes exploratorios automáticos y visuales** a partir de un DataFrame de `pandas`.\n",
    "\n",
    "Su objetivo es facilitar la **exploración inicial de datos (EDA)**, mostrando estadísticas, valores nulos, duplicados, correlaciones y más, todo en un informe HTML.\n",
    "\n",
    "### **¿Qué incluye el informe?**\n",
    "\n",
    "- Estadísticas descriptivas (media, mediana, desvío estándar, etc.)\n",
    "- Detección de valores faltantes y duplicados\n",
    "- Tipos de datos por variable\n",
    "- Distribuciones y gráficos por variable\n",
    "- Matriz de correlaciones\n",
    "- Alertas de calidad de datos\n",
    "- Recomendaciones para limpieza"
   ]
  },
  {
   "cell_type": "markdown",
   "metadata": {},
   "source": [
    ":::{admonition} **Ventajas**\n",
    ":class: note\n",
    "\n",
    "- Rápido y automático\n",
    "- Visual e interactivo\n",
    "- Exportable como HTML\n",
    "- Ideal para auditoría de datos\n",
    "- Muy útil en las primeras etapas de un análisis\n",
    "- `ydata-profiling` es ideal para **ahorrar tiempo** en la etapa de análisis exploratorio y para generar documentación de tus datos que sea clara y compartible.\n",
    "\n",
    ":::"
   ]
  },
  {
   "cell_type": "code",
   "execution_count": null,
   "metadata": {},
   "outputs": [],
   "source": [
    "import pandas as pd\n",
    "from ydata_profiling import ProfileReport\n",
    "\n",
    "filename = 'C:/GitHub/Datos/datamanip/bank/bank-full.csv'\n",
    "df = pd.read_csv(filename,sep=';')\n",
    "\n",
    "profile = ProfileReport(df,title='Informe de los datos', explorative = True)\n",
    "profile.to_notebook_iframe()"
   ]
  }
 ],
 "metadata": {
  "kernelspec": {
   "display_name": "profilereport-venv",
   "language": "python",
   "name": "python3"
  },
  "language_info": {
   "codemirror_mode": {
    "name": "ipython",
    "version": 3
   },
   "file_extension": ".py",
   "mimetype": "text/x-python",
   "name": "python",
   "nbconvert_exporter": "python",
   "pygments_lexer": "ipython3",
   "version": "3.9.21"
  }
 },
 "nbformat": 4,
 "nbformat_minor": 2
}
